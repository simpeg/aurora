{
 "cells": [
  {
   "cell_type": "markdown",
   "id": "be52e5c1-7dd9-44ca-9579-e565d630351e",
   "metadata": {},
   "source": [
    "Based on:\n",
    "    mth5/docs/examples/notebooks/make_mth5_driver_v0.2.0.ipynb"
   ]
  },
  {
   "cell_type": "code",
   "execution_count": 1,
   "id": "501df394-e7da-4661-8fac-9de6ccede73d",
   "metadata": {},
   "outputs": [
    {
     "name": "stderr",
     "output_type": "stream",
     "text": [
      "2023-04-15 17:55:19,128 [line 135] mth5.setup_logger - INFO: Logging file can be found /home/kkappler/software/irismt/mth5/logs/mth5_debug.log\n"
     ]
    }
   ],
   "source": [
    "import pathlib\n",
    "import numpy as np\n",
    "import pandas as pd\n",
    "import time\n",
    "\n",
    "from aurora.test_utils.earthscope.helpers import DATA_AVAILABILITY_CSV\n",
    "from mth5.mth5 import MTH5\n",
    "from mth5.clients.make_mth5 import FDSN\n",
    "\n",
    "# from matplotlib import pyplot as plt\n",
    "# %matplotlib widget"
   ]
  },
  {
   "cell_type": "code",
   "execution_count": 2,
   "id": "41b10283-6c36-48b3-81c4-c48082c15418",
   "metadata": {},
   "outputs": [],
   "source": [
    "data_dir = pathlib.Path.home().joinpath(\".cache\").joinpath(\"earthscope\")\n",
    "data_dir.mkdir(parents=True, exist_ok=True)"
   ]
  },
  {
   "cell_type": "code",
   "execution_count": 3,
   "id": "d0eb4768-0b22-4ef2-93c7-3f5e2910e530",
   "metadata": {},
   "outputs": [],
   "source": [
    "def request_df_from_network_station(network, station):\n",
    "    fdsn_object = FDSN(mth5_version='0.2.0')\n",
    "    channels = [\"LFE\", \"LFN\", \"LFZ\", \"LQE\", \"LQN\"]\n",
    "    station_1 = [network, station,  '2000-03-02T06:00:00', '2023-01-01T00:00:00'] \n",
    "    #NVR08 = [\"8P\", \"NVR08\", '2020-06-02T19:00:00', '2020-07-13T19:00:00']\n",
    "\n",
    "    request_list = []\n",
    "    for entry in [station_1,]:#[CAS04, NVR08,]\n",
    "        for channel in channels:\n",
    "            request_list.append(\n",
    "                [entry[0], entry[1], \"\", channel, entry[2], entry[3]]\n",
    "            )\n",
    "\n",
    "    # Turn list into dataframe\n",
    "    request_df =  pd.DataFrame(request_list, columns=fdsn_object.request_columns) \n",
    "    return request_df"
   ]
  },
  {
   "cell_type": "code",
   "execution_count": 4,
   "id": "fd3313bb-ae21-4db4-a013-9cfbf58d0681",
   "metadata": {},
   "outputs": [],
   "source": [
    "data_availability_df = pd.read_csv(DATA_AVAILABILITY_CSV)\n",
    "data_availability_df[\"fail\"] = \"\""
   ]
  },
  {
   "cell_type": "code",
   "execution_count": 9,
   "id": "d453b038-cbca-4d1c-ae46-2dd7fd6c5829",
   "metadata": {},
   "outputs": [
    {
     "name": "stdout",
     "output_type": "stream",
     "text": [
      "0\n",
      "1\n",
      "2\n",
      "3\n",
      "4\n",
      "5\n",
      "6\n",
      "7\n",
      "8\n",
      "9\n",
      "10\n",
      "11\n",
      "12\n",
      "13\n",
      "14\n",
      "15\n",
      "16\n",
      "17\n",
      "18\n",
      "19\n",
      "20\n",
      "21\n",
      "22\n",
      "23\n",
      "24\n",
      "25\n",
      "26\n",
      "27\n",
      "28\n",
      "29\n",
      "30\n",
      "31\n",
      "32\n",
      "33\n",
      "34\n",
      "35\n",
      "36\n",
      "37\n",
      "38\n",
      "39\n",
      "40\n",
      "41\n",
      "42\n",
      "43\n",
      "44\n",
      "45\n",
      "46\n",
      "47\n",
      "48\n",
      "48 row network       8P\n",
      "station    CAX11\n",
      "Name: 48, dtype: object\n",
      "request_df   network station location channel                start                  end\n",
      "0      8P   CAX11              LFE  2000-03-02T06:00:00  2023-01-01T00:00:00\n",
      "1      8P   CAX11              LFN  2000-03-02T06:00:00  2023-01-01T00:00:00\n",
      "2      8P   CAX11              LFZ  2000-03-02T06:00:00  2023-01-01T00:00:00\n",
      "3      8P   CAX11              LQE  2000-03-02T06:00:00  2023-01-01T00:00:00\n",
      "4      8P   CAX11              LQN  2000-03-02T06:00:00  2023-01-01T00:00:00\n",
      "inventory Inventory created at 2023-04-16T20:09:40.694795Z\n",
      "\tCreated by: ObsPy 1.4.0\n",
      "\t\t    https://www.obspy.org\n",
      "\tSending institution: MTH5\n",
      "\tContains:\n",
      "\t\tNetworks (1):\n",
      "\t\t\t8P\n",
      "\t\tStations (1):\n",
      "\t\t\t8P.CAX11 (Amboy, CA, USA)\n",
      "\t\tChannels (5):\n",
      "\t\t\t8P.CAX11..LFZ, 8P.CAX11..LFN, 8P.CAX11..LFE, 8P.CAX11..LQN, \n",
      "\t\t\t8P.CAX11..LQE\n"
     ]
    },
    {
     "name": "stderr",
     "output_type": "stream",
     "text": [
      "2023-04-16 13:09:51,301 [line 607] mth5.mth5.MTH5.open_mth5 - WARNING: 8P_CAX11.h5 will be overwritten in 'w' mode\n",
      "2023-04-16 13:09:51,616 [line 674] mth5.mth5.MTH5._initialize_file - INFO: Initialized MTH5 0.2.0 file /home/kkappler/.cache/earthscope/8P_CAX11.h5 in mode w\n"
     ]
    },
    {
     "name": "stdout",
     "output_type": "stream",
     "text": [
      "2023-04-16T13:10:08 [line 134] obspy_stages.create_filter_from_stage - INFO: Converting PoleZerosResponseStage electric_si_units to a CoefficientFilter\n",
      "2023-04-16T13:10:08 [line 134] obspy_stages.create_filter_from_stage - INFO: Converting PoleZerosResponseStage electric_dipole_100.000 to a CoefficientFilter\n",
      "2023-04-16T13:10:08 [line 134] obspy_stages.create_filter_from_stage - INFO: Converting PoleZerosResponseStage electric_si_units to a CoefficientFilter\n",
      "2023-04-16T13:10:08 [line 134] obspy_stages.create_filter_from_stage - INFO: Converting PoleZerosResponseStage electric_dipole_100.000 to a CoefficientFilter\n",
      "More or less runs have been requested by the user than are defined in the metadata. Runs will be defined but only the requested run extents contain time series data based on the users request.\n"
     ]
    },
    {
     "name": "stderr",
     "output_type": "stream",
     "text": [
      "2023-04-16 13:10:10,867 [line 1631] mth5.groups.base.Run.from_runts - WARNING: Channel run.id sr1_001 !=  group run.id a\n",
      "2023-04-16 13:10:11,484 [line 1631] mth5.groups.base.Run.from_runts - WARNING: Channel run.id sr1_001 !=  group run.id a\n",
      "2023-04-16 13:10:12,104 [line 1631] mth5.groups.base.Run.from_runts - WARNING: Channel run.id sr1_001 !=  group run.id a\n",
      "2023-04-16 13:10:12,716 [line 1631] mth5.groups.base.Run.from_runts - WARNING: Channel run.id sr1_001 !=  group run.id a\n",
      "2023-04-16 13:10:13,328 [line 1631] mth5.groups.base.Run.from_runts - WARNING: Channel run.id sr1_001 !=  group run.id a\n",
      "2023-04-16 13:10:14,662 [line 1631] mth5.groups.base.Run.from_runts - WARNING: Channel run.id sr1_001 !=  group run.id b\n",
      "2023-04-16 13:10:15,284 [line 1631] mth5.groups.base.Run.from_runts - WARNING: Channel run.id sr1_001 !=  group run.id b\n",
      "2023-04-16 13:10:15,899 [line 1631] mth5.groups.base.Run.from_runts - WARNING: Channel run.id sr1_001 !=  group run.id b\n",
      "2023-04-16 13:10:16,501 [line 1631] mth5.groups.base.Run.from_runts - WARNING: Channel run.id sr1_001 !=  group run.id b\n",
      "2023-04-16 13:10:17,134 [line 1631] mth5.groups.base.Run.from_runts - WARNING: Channel run.id sr1_001 !=  group run.id b\n",
      "2023-04-16 13:10:17,295 [line 755] mth5.mth5.MTH5.close_mth5 - INFO: Flushing and closing /home/kkappler/.cache/earthscope/8P_CAX11.h5\n"
     ]
    },
    {
     "name": "stdout",
     "output_type": "stream",
     "text": [
      "49\n",
      "49 row network       8P\n",
      "station    CAY11\n",
      "Name: 49, dtype: object\n",
      "request_df   network station location channel                start                  end\n",
      "0      8P   CAY11              LFE  2000-03-02T06:00:00  2023-01-01T00:00:00\n",
      "1      8P   CAY11              LFN  2000-03-02T06:00:00  2023-01-01T00:00:00\n",
      "2      8P   CAY11              LFZ  2000-03-02T06:00:00  2023-01-01T00:00:00\n",
      "3      8P   CAY11              LQE  2000-03-02T06:00:00  2023-01-01T00:00:00\n",
      "4      8P   CAY11              LQN  2000-03-02T06:00:00  2023-01-01T00:00:00\n",
      "inventory Inventory created at 2023-04-16T20:10:27.336244Z\n",
      "\tCreated by: ObsPy 1.4.0\n",
      "\t\t    https://www.obspy.org\n",
      "\tSending institution: MTH5\n",
      "\tContains:\n",
      "\t\tNetworks (1):\n",
      "\t\t\t8P\n",
      "\t\tStations (1):\n",
      "\t\t\t8P.CAY11 (Joshua Tree, CA, USA)\n",
      "\t\tChannels (5):\n",
      "\t\t\t8P.CAY11..LFZ, 8P.CAY11..LFN, 8P.CAY11..LFE, 8P.CAY11..LQN, \n",
      "\t\t\t8P.CAY11..LQE\n"
     ]
    },
    {
     "name": "stderr",
     "output_type": "stream",
     "text": [
      "2023-04-16 13:10:38,083 [line 607] mth5.mth5.MTH5.open_mth5 - WARNING: 8P_CAY11.h5 will be overwritten in 'w' mode\n",
      "2023-04-16 13:10:38,376 [line 674] mth5.mth5.MTH5._initialize_file - INFO: Initialized MTH5 0.2.0 file /home/kkappler/.cache/earthscope/8P_CAY11.h5 in mode w\n"
     ]
    },
    {
     "name": "stdout",
     "output_type": "stream",
     "text": [
      "BAD REQUEST network       8P\n",
      "station    CAY11\n",
      "Name: 49, dtype: object\n",
      "50\n",
      "50 row network       8P\n",
      "station    NVT11\n",
      "Name: 50, dtype: object\n",
      "request_df   network station location channel                start                  end\n",
      "0      8P   NVT11              LFE  2000-03-02T06:00:00  2023-01-01T00:00:00\n",
      "1      8P   NVT11              LFN  2000-03-02T06:00:00  2023-01-01T00:00:00\n",
      "2      8P   NVT11              LFZ  2000-03-02T06:00:00  2023-01-01T00:00:00\n",
      "3      8P   NVT11              LQE  2000-03-02T06:00:00  2023-01-01T00:00:00\n",
      "4      8P   NVT11              LQN  2000-03-02T06:00:00  2023-01-01T00:00:00\n",
      "inventory Inventory created at 2023-04-16T20:11:00.073791Z\n",
      "\tCreated by: ObsPy 1.4.0\n",
      "\t\t    https://www.obspy.org\n",
      "\tSending institution: MTH5\n",
      "\tContains:\n",
      "\t\tNetworks (1):\n",
      "\t\t\t8P\n",
      "\t\tStations (1):\n",
      "\t\t\t8P.NVT11 (Indian Springs Valley, NV, USA)\n",
      "\t\tChannels (5):\n",
      "\t\t\t8P.NVT11..LFZ, 8P.NVT11..LFN, 8P.NVT11..LFE, 8P.NVT11..LQN, \n",
      "\t\t\t8P.NVT11..LQE\n"
     ]
    },
    {
     "name": "stderr",
     "output_type": "stream",
     "text": [
      "2023-04-16 13:11:10,802 [line 607] mth5.mth5.MTH5.open_mth5 - WARNING: 8P_NVT11.h5 will be overwritten in 'w' mode\n",
      "2023-04-16 13:11:11,096 [line 674] mth5.mth5.MTH5._initialize_file - INFO: Initialized MTH5 0.2.0 file /home/kkappler/.cache/earthscope/8P_NVT11.h5 in mode w\n"
     ]
    },
    {
     "name": "stdout",
     "output_type": "stream",
     "text": [
      "2023-04-16T13:11:44 [line 134] obspy_stages.create_filter_from_stage - INFO: Converting PoleZerosResponseStage electric_si_units to a CoefficientFilter\n",
      "2023-04-16T13:11:44 [line 134] obspy_stages.create_filter_from_stage - INFO: Converting PoleZerosResponseStage electric_dipole_100.000 to a CoefficientFilter\n",
      "2023-04-16T13:11:44 [line 134] obspy_stages.create_filter_from_stage - INFO: Converting PoleZerosResponseStage electric_si_units to a CoefficientFilter\n",
      "2023-04-16T13:11:44 [line 134] obspy_stages.create_filter_from_stage - INFO: Converting PoleZerosResponseStage electric_dipole_100.000 to a CoefficientFilter\n",
      "More or less runs have been requested by the user than are defined in the metadata. Runs will be defined but only the requested run extents contain time series data based on the users request.\n"
     ]
    },
    {
     "name": "stderr",
     "output_type": "stream",
     "text": [
      "2023-04-16 13:11:46,362 [line 1631] mth5.groups.base.Run.from_runts - WARNING: Channel run.id sr1_001 !=  group run.id a\n",
      "2023-04-16 13:11:46,814 [line 1631] mth5.groups.base.Run.from_runts - WARNING: Channel run.id sr1_001 !=  group run.id a\n",
      "2023-04-16 13:11:47,266 [line 1631] mth5.groups.base.Run.from_runts - WARNING: Channel run.id sr1_001 !=  group run.id a\n",
      "2023-04-16 13:11:47,724 [line 1631] mth5.groups.base.Run.from_runts - WARNING: Channel run.id sr1_001 !=  group run.id a\n",
      "2023-04-16 13:11:48,167 [line 1631] mth5.groups.base.Run.from_runts - WARNING: Channel run.id sr1_001 !=  group run.id a\n",
      "2023-04-16 13:11:48,322 [line 755] mth5.mth5.MTH5.close_mth5 - INFO: Flushing and closing /home/kkappler/.cache/earthscope/8P_NVT11.h5\n"
     ]
    },
    {
     "name": "stdout",
     "output_type": "stream",
     "text": [
      "51\n",
      "51 row network       EM\n",
      "station    AB114\n",
      "Name: 51, dtype: object\n",
      "request_df   network station location channel                start                  end\n",
      "0      EM   AB114              LFE  2000-03-02T06:00:00  2023-01-01T00:00:00\n",
      "1      EM   AB114              LFN  2000-03-02T06:00:00  2023-01-01T00:00:00\n",
      "2      EM   AB114              LFZ  2000-03-02T06:00:00  2023-01-01T00:00:00\n",
      "3      EM   AB114              LQE  2000-03-02T06:00:00  2023-01-01T00:00:00\n",
      "4      EM   AB114              LQN  2000-03-02T06:00:00  2023-01-01T00:00:00\n",
      "inventory Inventory created at 2023-04-16T20:11:58.367175Z\n",
      "\tCreated by: ObsPy 1.4.0\n",
      "\t\t    https://www.obspy.org\n",
      "\tSending institution: MTH5\n",
      "\tContains:\n",
      "\t\tNetworks (1):\n",
      "\t\t\tEM\n",
      "\t\tStations (1):\n",
      "\t\t\tEM.AB114 (Cardston, Canada)\n",
      "\t\tChannels (5):\n",
      "\t\t\tEM.AB114..LFZ, EM.AB114..LFN, EM.AB114..LFE, EM.AB114..LQN, \n",
      "\t\t\tEM.AB114..LQE\n"
     ]
    },
    {
     "name": "stderr",
     "output_type": "stream",
     "text": [
      "2023-04-16 13:12:09,227 [line 674] mth5.mth5.MTH5._initialize_file - INFO: Initialized MTH5 0.2.0 file /home/kkappler/.cache/earthscope/EM_AB114.h5 in mode w\n",
      "2023-04-16 13:12:18,507 [line 498] mt_metadata.timeseries.stationxml.utils.XMLChannelMTChannel._xml_response_to_mt - INFO: Found an unnamed filter, named it: 'zpk_00'\n"
     ]
    },
    {
     "name": "stdout",
     "output_type": "stream",
     "text": [
      "2023-04-16T13:12:18 [line 134] obspy_stages.create_filter_from_stage - INFO: Converting PoleZerosResponseStage None to a CoefficientFilter\n"
     ]
    },
    {
     "name": "stderr",
     "output_type": "stream",
     "text": [
      "2023-04-16 13:12:18,541 [line 498] mt_metadata.timeseries.stationxml.utils.XMLChannelMTChannel._xml_response_to_mt - INFO: Found an unnamed filter, named it: 'coefficient_00'\n",
      "2023-04-16 13:12:18,552 [line 498] mt_metadata.timeseries.stationxml.utils.XMLChannelMTChannel._xml_response_to_mt - INFO: Found an unnamed filter, named it: 'zpk_01'\n"
     ]
    },
    {
     "name": "stdout",
     "output_type": "stream",
     "text": [
      "2023-04-16T13:12:18 [line 134] obspy_stages.create_filter_from_stage - INFO: Converting PoleZerosResponseStage None to a CoefficientFilter\n"
     ]
    },
    {
     "name": "stderr",
     "output_type": "stream",
     "text": [
      "2023-04-16 13:12:18,566 [line 498] mt_metadata.timeseries.stationxml.utils.XMLChannelMTChannel._xml_response_to_mt - INFO: Found an unnamed filter, named it: 'coefficient_01'\n"
     ]
    },
    {
     "name": "stdout",
     "output_type": "stream",
     "text": [
      "BAD REQUEST network       EM\n",
      "station    AB114\n",
      "Name: 51, dtype: object\n",
      "52\n",
      "52 row network       EM\n",
      "station    AB115\n",
      "Name: 52, dtype: object\n",
      "request_df   network station location channel                start                  end\n",
      "0      EM   AB115              LFE  2000-03-02T06:00:00  2023-01-01T00:00:00\n",
      "1      EM   AB115              LFN  2000-03-02T06:00:00  2023-01-01T00:00:00\n",
      "2      EM   AB115              LFZ  2000-03-02T06:00:00  2023-01-01T00:00:00\n",
      "3      EM   AB115              LQE  2000-03-02T06:00:00  2023-01-01T00:00:00\n",
      "4      EM   AB115              LQN  2000-03-02T06:00:00  2023-01-01T00:00:00\n",
      "inventory Inventory created at 2023-04-16T20:12:29.080452Z\n",
      "\tCreated by: ObsPy 1.4.0\n",
      "\t\t    https://www.obspy.org\n",
      "\tSending institution: MTH5\n",
      "\tContains:\n",
      "\t\tNetworks (1):\n",
      "\t\t\tEM\n",
      "\t\tStations (1):\n",
      "\t\t\tEM.AB115 (Milk River Bridge, Canada)\n",
      "\t\tChannels (5):\n",
      "\t\t\tEM.AB115..LFZ, EM.AB115..LFN, EM.AB115..LFE, EM.AB115..LQN, \n",
      "\t\t\tEM.AB115..LQE\n"
     ]
    },
    {
     "name": "stderr",
     "output_type": "stream",
     "text": [
      "2023-04-16 13:12:39,850 [line 674] mth5.mth5.MTH5._initialize_file - INFO: Initialized MTH5 0.2.0 file /home/kkappler/.cache/earthscope/EM_AB115.h5 in mode w\n",
      "2023-04-16 13:12:48,170 [line 498] mt_metadata.timeseries.stationxml.utils.XMLChannelMTChannel._xml_response_to_mt - INFO: Found an unnamed filter, named it: 'zpk_00'\n"
     ]
    },
    {
     "name": "stdout",
     "output_type": "stream",
     "text": [
      "2023-04-16T13:12:48 [line 134] obspy_stages.create_filter_from_stage - INFO: Converting PoleZerosResponseStage None to a CoefficientFilter\n"
     ]
    },
    {
     "name": "stderr",
     "output_type": "stream",
     "text": [
      "2023-04-16 13:12:48,206 [line 498] mt_metadata.timeseries.stationxml.utils.XMLChannelMTChannel._xml_response_to_mt - INFO: Found an unnamed filter, named it: 'coefficient_00'\n",
      "2023-04-16 13:12:48,214 [line 498] mt_metadata.timeseries.stationxml.utils.XMLChannelMTChannel._xml_response_to_mt - INFO: Found an unnamed filter, named it: 'zpk_01'\n"
     ]
    },
    {
     "name": "stdout",
     "output_type": "stream",
     "text": [
      "2023-04-16T13:12:48 [line 134] obspy_stages.create_filter_from_stage - INFO: Converting PoleZerosResponseStage None to a CoefficientFilter\n"
     ]
    },
    {
     "name": "stderr",
     "output_type": "stream",
     "text": [
      "2023-04-16 13:12:48,227 [line 498] mt_metadata.timeseries.stationxml.utils.XMLChannelMTChannel._xml_response_to_mt - INFO: Found an unnamed filter, named it: 'coefficient_01'\n"
     ]
    },
    {
     "name": "stdout",
     "output_type": "stream",
     "text": [
      "BAD REQUEST network       EM\n",
      "station    AB115\n",
      "Name: 52, dtype: object\n",
      "53\n",
      "53 row network       EM\n",
      "station    AB116\n",
      "Name: 53, dtype: object\n",
      "request_df   network station location channel                start                  end\n",
      "0      EM   AB116              LFE  2000-03-02T06:00:00  2023-01-01T00:00:00\n",
      "1      EM   AB116              LFN  2000-03-02T06:00:00  2023-01-01T00:00:00\n",
      "2      EM   AB116              LFZ  2000-03-02T06:00:00  2023-01-01T00:00:00\n",
      "3      EM   AB116              LQE  2000-03-02T06:00:00  2023-01-01T00:00:00\n",
      "4      EM   AB116              LQN  2000-03-02T06:00:00  2023-01-01T00:00:00\n",
      "inventory Inventory created at 2023-04-16T20:12:58.758524Z\n",
      "\tCreated by: ObsPy 1.4.0\n",
      "\t\t    https://www.obspy.org\n",
      "\tSending institution: MTH5\n",
      "\tContains:\n",
      "\t\tNetworks (1):\n",
      "\t\t\tEM\n",
      "\t\tStations (1):\n",
      "\t\t\tEM.AB116 (Allerston, Canada)\n",
      "\t\tChannels (5):\n",
      "\t\t\tEM.AB116..LFZ, EM.AB116..LFN, EM.AB116..LFE, EM.AB116..LQN, \n",
      "\t\t\tEM.AB116..LQE\n"
     ]
    },
    {
     "name": "stderr",
     "output_type": "stream",
     "text": [
      "2023-04-16 13:13:09,562 [line 674] mth5.mth5.MTH5._initialize_file - INFO: Initialized MTH5 0.2.0 file /home/kkappler/.cache/earthscope/EM_AB116.h5 in mode w\n",
      "2023-04-16 13:13:19,827 [line 498] mt_metadata.timeseries.stationxml.utils.XMLChannelMTChannel._xml_response_to_mt - INFO: Found an unnamed filter, named it: 'zpk_00'\n"
     ]
    },
    {
     "name": "stdout",
     "output_type": "stream",
     "text": [
      "2023-04-16T13:13:19 [line 134] obspy_stages.create_filter_from_stage - INFO: Converting PoleZerosResponseStage None to a CoefficientFilter\n"
     ]
    },
    {
     "name": "stderr",
     "output_type": "stream",
     "text": [
      "2023-04-16 13:13:19,859 [line 498] mt_metadata.timeseries.stationxml.utils.XMLChannelMTChannel._xml_response_to_mt - INFO: Found an unnamed filter, named it: 'coefficient_00'\n",
      "2023-04-16 13:13:19,867 [line 498] mt_metadata.timeseries.stationxml.utils.XMLChannelMTChannel._xml_response_to_mt - INFO: Found an unnamed filter, named it: 'zpk_01'\n"
     ]
    },
    {
     "name": "stdout",
     "output_type": "stream",
     "text": [
      "2023-04-16T13:13:19 [line 134] obspy_stages.create_filter_from_stage - INFO: Converting PoleZerosResponseStage None to a CoefficientFilter\n"
     ]
    },
    {
     "name": "stderr",
     "output_type": "stream",
     "text": [
      "2023-04-16 13:13:19,878 [line 498] mt_metadata.timeseries.stationxml.utils.XMLChannelMTChannel._xml_response_to_mt - INFO: Found an unnamed filter, named it: 'coefficient_01'\n"
     ]
    },
    {
     "name": "stdout",
     "output_type": "stream",
     "text": [
      "BAD REQUEST network       EM\n",
      "station    AB116\n",
      "Name: 53, dtype: object\n",
      "54\n",
      "54 row network       EM\n",
      "station    AB117\n",
      "Name: 54, dtype: object\n",
      "request_df   network station location channel                start                  end\n",
      "0      EM   AB117              LFE  2000-03-02T06:00:00  2023-01-01T00:00:00\n",
      "1      EM   AB117              LFN  2000-03-02T06:00:00  2023-01-01T00:00:00\n",
      "2      EM   AB117              LFZ  2000-03-02T06:00:00  2023-01-01T00:00:00\n",
      "3      EM   AB117              LQE  2000-03-02T06:00:00  2023-01-01T00:00:00\n",
      "4      EM   AB117              LQN  2000-03-02T06:00:00  2023-01-01T00:00:00\n",
      "inventory Inventory created at 2023-04-16T20:13:30.425408Z\n",
      "\tCreated by: ObsPy 1.4.0\n",
      "\t\t    https://www.obspy.org\n",
      "\tSending institution: MTH5\n",
      "\tContains:\n",
      "\t\tNetworks (1):\n",
      "\t\t\tEM\n",
      "\t\tStations (1):\n",
      "\t\t\tEM.AB117 (Manyberries, Alberta, Canada)\n",
      "\t\tChannels (5):\n",
      "\t\t\tEM.AB117..LFZ, EM.AB117..LFN, EM.AB117..LFE, EM.AB117..LQN, \n",
      "\t\t\tEM.AB117..LQE\n"
     ]
    },
    {
     "name": "stderr",
     "output_type": "stream",
     "text": [
      "2023-04-16 13:13:41,353 [line 674] mth5.mth5.MTH5._initialize_file - INFO: Initialized MTH5 0.2.0 file /home/kkappler/.cache/earthscope/EM_AB117.h5 in mode w\n",
      "2023-04-16 13:13:49,020 [line 498] mt_metadata.timeseries.stationxml.utils.XMLChannelMTChannel._xml_response_to_mt - INFO: Found an unnamed filter, named it: 'zpk_00'\n"
     ]
    },
    {
     "name": "stdout",
     "output_type": "stream",
     "text": [
      "2023-04-16T13:13:49 [line 134] obspy_stages.create_filter_from_stage - INFO: Converting PoleZerosResponseStage None to a CoefficientFilter\n"
     ]
    },
    {
     "name": "stderr",
     "output_type": "stream",
     "text": [
      "2023-04-16 13:13:49,052 [line 498] mt_metadata.timeseries.stationxml.utils.XMLChannelMTChannel._xml_response_to_mt - INFO: Found an unnamed filter, named it: 'coefficient_00'\n",
      "2023-04-16 13:13:49,060 [line 498] mt_metadata.timeseries.stationxml.utils.XMLChannelMTChannel._xml_response_to_mt - INFO: Found an unnamed filter, named it: 'zpk_01'\n"
     ]
    },
    {
     "name": "stdout",
     "output_type": "stream",
     "text": [
      "2023-04-16T13:13:49 [line 134] obspy_stages.create_filter_from_stage - INFO: Converting PoleZerosResponseStage None to a CoefficientFilter\n"
     ]
    },
    {
     "name": "stderr",
     "output_type": "stream",
     "text": [
      "2023-04-16 13:13:49,071 [line 498] mt_metadata.timeseries.stationxml.utils.XMLChannelMTChannel._xml_response_to_mt - INFO: Found an unnamed filter, named it: 'coefficient_01'\n"
     ]
    },
    {
     "name": "stdout",
     "output_type": "stream",
     "text": [
      "BAD REQUEST network       EM\n",
      "station    AB117\n",
      "Name: 54, dtype: object\n",
      "55\n",
      "55 row network       EM\n",
      "station    AB213\n",
      "Name: 55, dtype: object\n",
      "request_df   network station location channel                start                  end\n",
      "0      EM   AB213              LFE  2000-03-02T06:00:00  2023-01-01T00:00:00\n",
      "1      EM   AB213              LFN  2000-03-02T06:00:00  2023-01-01T00:00:00\n",
      "2      EM   AB213              LFZ  2000-03-02T06:00:00  2023-01-01T00:00:00\n",
      "3      EM   AB213              LQE  2000-03-02T06:00:00  2023-01-01T00:00:00\n",
      "4      EM   AB213              LQN  2000-03-02T06:00:00  2023-01-01T00:00:00\n",
      "inventory Inventory created at 2023-04-16T20:13:59.572225Z\n",
      "\tCreated by: ObsPy 1.4.0\n",
      "\t\t    https://www.obspy.org\n",
      "\tSending institution: MTH5\n",
      "\tContains:\n",
      "\t\tNetworks (1):\n",
      "\t\t\tEM\n",
      "\t\tStations (1):\n",
      "\t\t\tEM.AB213 (Lundbreck, Alberta, Canada)\n",
      "\t\tChannels (5):\n",
      "\t\t\tEM.AB213..LFZ, EM.AB213..LFN, EM.AB213..LFE, EM.AB213..LQN, \n",
      "\t\t\tEM.AB213..LQE\n"
     ]
    },
    {
     "name": "stderr",
     "output_type": "stream",
     "text": [
      "2023-04-16 13:14:10,371 [line 674] mth5.mth5.MTH5._initialize_file - INFO: Initialized MTH5 0.2.0 file /home/kkappler/.cache/earthscope/EM_AB213.h5 in mode w\n",
      "2023-04-16 13:14:19,543 [line 498] mt_metadata.timeseries.stationxml.utils.XMLChannelMTChannel._xml_response_to_mt - INFO: Found an unnamed filter, named it: 'zpk_00'\n"
     ]
    },
    {
     "name": "stdout",
     "output_type": "stream",
     "text": [
      "2023-04-16T13:14:19 [line 134] obspy_stages.create_filter_from_stage - INFO: Converting PoleZerosResponseStage None to a CoefficientFilter\n"
     ]
    },
    {
     "name": "stderr",
     "output_type": "stream",
     "text": [
      "2023-04-16 13:14:19,578 [line 498] mt_metadata.timeseries.stationxml.utils.XMLChannelMTChannel._xml_response_to_mt - INFO: Found an unnamed filter, named it: 'coefficient_00'\n",
      "2023-04-16 13:14:19,586 [line 498] mt_metadata.timeseries.stationxml.utils.XMLChannelMTChannel._xml_response_to_mt - INFO: Found an unnamed filter, named it: 'zpk_01'\n"
     ]
    },
    {
     "name": "stdout",
     "output_type": "stream",
     "text": [
      "2023-04-16T13:14:19 [line 134] obspy_stages.create_filter_from_stage - INFO: Converting PoleZerosResponseStage None to a CoefficientFilter\n"
     ]
    },
    {
     "name": "stderr",
     "output_type": "stream",
     "text": [
      "2023-04-16 13:14:19,599 [line 498] mt_metadata.timeseries.stationxml.utils.XMLChannelMTChannel._xml_response_to_mt - INFO: Found an unnamed filter, named it: 'coefficient_01'\n"
     ]
    },
    {
     "name": "stdout",
     "output_type": "stream",
     "text": [
      "BAD REQUEST network       EM\n",
      "station    AB213\n",
      "Name: 55, dtype: object\n",
      "56\n",
      "56 row network       EM\n",
      "station    AB313\n",
      "Name: 56, dtype: object\n",
      "request_df   network station location channel                start                  end\n",
      "0      EM   AB313              LFE  2000-03-02T06:00:00  2023-01-01T00:00:00\n",
      "1      EM   AB313              LFN  2000-03-02T06:00:00  2023-01-01T00:00:00\n",
      "2      EM   AB313              LFZ  2000-03-02T06:00:00  2023-01-01T00:00:00\n",
      "3      EM   AB313              LQE  2000-03-02T06:00:00  2023-01-01T00:00:00\n",
      "4      EM   AB313              LQN  2000-03-02T06:00:00  2023-01-01T00:00:00\n",
      "inventory Inventory created at 2023-04-16T20:14:30.107885Z\n",
      "\tCreated by: ObsPy 1.4.0\n",
      "\t\t    https://www.obspy.org\n",
      "\tSending institution: MTH5\n",
      "\tContains:\n",
      "\t\tNetworks (1):\n",
      "\t\t\tEM\n",
      "\t\tStations (1):\n",
      "\t\t\tEM.AB313 (Chain Lakes, Canada)\n",
      "\t\tChannels (5):\n",
      "\t\t\tEM.AB313..LFZ, EM.AB313..LFN, EM.AB313..LFE, EM.AB313..LQN, \n",
      "\t\t\tEM.AB313..LQE\n"
     ]
    },
    {
     "name": "stderr",
     "output_type": "stream",
     "text": [
      "2023-04-16 13:14:41,093 [line 674] mth5.mth5.MTH5._initialize_file - INFO: Initialized MTH5 0.2.0 file /home/kkappler/.cache/earthscope/EM_AB313.h5 in mode w\n",
      "2023-04-16 13:14:48,618 [line 498] mt_metadata.timeseries.stationxml.utils.XMLChannelMTChannel._xml_response_to_mt - INFO: Found an unnamed filter, named it: 'zpk_00'\n"
     ]
    },
    {
     "name": "stdout",
     "output_type": "stream",
     "text": [
      "2023-04-16T13:14:48 [line 134] obspy_stages.create_filter_from_stage - INFO: Converting PoleZerosResponseStage None to a CoefficientFilter\n"
     ]
    },
    {
     "name": "stderr",
     "output_type": "stream",
     "text": [
      "2023-04-16 13:14:48,650 [line 498] mt_metadata.timeseries.stationxml.utils.XMLChannelMTChannel._xml_response_to_mt - INFO: Found an unnamed filter, named it: 'coefficient_00'\n",
      "2023-04-16 13:14:48,659 [line 498] mt_metadata.timeseries.stationxml.utils.XMLChannelMTChannel._xml_response_to_mt - INFO: Found an unnamed filter, named it: 'zpk_01'\n"
     ]
    },
    {
     "name": "stdout",
     "output_type": "stream",
     "text": [
      "2023-04-16T13:14:48 [line 134] obspy_stages.create_filter_from_stage - INFO: Converting PoleZerosResponseStage None to a CoefficientFilter\n"
     ]
    },
    {
     "name": "stderr",
     "output_type": "stream",
     "text": [
      "2023-04-16 13:14:48,670 [line 498] mt_metadata.timeseries.stationxml.utils.XMLChannelMTChannel._xml_response_to_mt - INFO: Found an unnamed filter, named it: 'coefficient_01'\n"
     ]
    },
    {
     "name": "stdout",
     "output_type": "stream",
     "text": [
      "BAD REQUEST network       EM\n",
      "station    AB313\n",
      "Name: 56, dtype: object\n",
      "57\n",
      "57 row network       EM\n",
      "station    AB314\n",
      "Name: 57, dtype: object\n",
      "request_df   network station location channel                start                  end\n",
      "0      EM   AB314              LFE  2000-03-02T06:00:00  2023-01-01T00:00:00\n",
      "1      EM   AB314              LFN  2000-03-02T06:00:00  2023-01-01T00:00:00\n",
      "2      EM   AB314              LFZ  2000-03-02T06:00:00  2023-01-01T00:00:00\n",
      "3      EM   AB314              LQE  2000-03-02T06:00:00  2023-01-01T00:00:00\n",
      "4      EM   AB314              LQN  2000-03-02T06:00:00  2023-01-01T00:00:00\n",
      "inventory Inventory created at 2023-04-16T20:14:59.167295Z\n",
      "\tCreated by: ObsPy 1.4.0\n",
      "\t\t    https://www.obspy.org\n",
      "\tSending institution: MTH5\n",
      "\tContains:\n",
      "\t\tNetworks (1):\n",
      "\t\t\tEM\n",
      "\t\tStations (1):\n",
      "\t\t\tEM.AB314 (Vulcan, Canada)\n",
      "\t\tChannels (5):\n",
      "\t\t\tEM.AB314..LFZ, EM.AB314..LFN, EM.AB314..LFE, EM.AB314..LQN, \n",
      "\t\t\tEM.AB314..LQE\n"
     ]
    },
    {
     "name": "stderr",
     "output_type": "stream",
     "text": [
      "2023-04-16 13:15:10,003 [line 674] mth5.mth5.MTH5._initialize_file - INFO: Initialized MTH5 0.2.0 file /home/kkappler/.cache/earthscope/EM_AB314.h5 in mode w\n",
      "2023-04-16 13:15:23,173 [line 498] mt_metadata.timeseries.stationxml.utils.XMLChannelMTChannel._xml_response_to_mt - INFO: Found an unnamed filter, named it: 'zpk_00'\n"
     ]
    },
    {
     "name": "stdout",
     "output_type": "stream",
     "text": [
      "2023-04-16T13:15:23 [line 134] obspy_stages.create_filter_from_stage - INFO: Converting PoleZerosResponseStage None to a CoefficientFilter\n"
     ]
    },
    {
     "name": "stderr",
     "output_type": "stream",
     "text": [
      "2023-04-16 13:15:23,205 [line 498] mt_metadata.timeseries.stationxml.utils.XMLChannelMTChannel._xml_response_to_mt - INFO: Found an unnamed filter, named it: 'coefficient_00'\n",
      "2023-04-16 13:15:23,213 [line 498] mt_metadata.timeseries.stationxml.utils.XMLChannelMTChannel._xml_response_to_mt - INFO: Found an unnamed filter, named it: 'zpk_01'\n"
     ]
    },
    {
     "name": "stdout",
     "output_type": "stream",
     "text": [
      "2023-04-16T13:15:23 [line 134] obspy_stages.create_filter_from_stage - INFO: Converting PoleZerosResponseStage None to a CoefficientFilter\n"
     ]
    },
    {
     "name": "stderr",
     "output_type": "stream",
     "text": [
      "2023-04-16 13:15:23,224 [line 498] mt_metadata.timeseries.stationxml.utils.XMLChannelMTChannel._xml_response_to_mt - INFO: Found an unnamed filter, named it: 'coefficient_01'\n"
     ]
    },
    {
     "name": "stdout",
     "output_type": "stream",
     "text": [
      "BAD REQUEST network       EM\n",
      "station    AB314\n",
      "Name: 57, dtype: object\n",
      "58\n",
      "58 row network       EM\n",
      "station    AB315\n",
      "Name: 58, dtype: object\n",
      "request_df   network station location channel                start                  end\n",
      "0      EM   AB315              LFE  2000-03-02T06:00:00  2023-01-01T00:00:00\n",
      "1      EM   AB315              LFN  2000-03-02T06:00:00  2023-01-01T00:00:00\n",
      "2      EM   AB315              LFZ  2000-03-02T06:00:00  2023-01-01T00:00:00\n",
      "3      EM   AB315              LQE  2000-03-02T06:00:00  2023-01-01T00:00:00\n",
      "4      EM   AB315              LQN  2000-03-02T06:00:00  2023-01-01T00:00:00\n",
      "inventory Inventory created at 2023-04-16T20:15:33.723421Z\n",
      "\tCreated by: ObsPy 1.4.0\n",
      "\t\t    https://www.obspy.org\n",
      "\tSending institution: MTH5\n",
      "\tContains:\n",
      "\t\tNetworks (1):\n",
      "\t\t\tEM\n",
      "\t\tStations (1):\n",
      "\t\t\tEM.AB315 (Lomond, Canada)\n",
      "\t\tChannels (5):\n",
      "\t\t\tEM.AB315..LFZ, EM.AB315..LFN, EM.AB315..LFE, EM.AB315..LQN, \n",
      "\t\t\tEM.AB315..LQE\n"
     ]
    },
    {
     "name": "stderr",
     "output_type": "stream",
     "text": [
      "2023-04-16 13:15:44,517 [line 674] mth5.mth5.MTH5._initialize_file - INFO: Initialized MTH5 0.2.0 file /home/kkappler/.cache/earthscope/EM_AB315.h5 in mode w\n",
      "2023-04-16 13:15:52,937 [line 498] mt_metadata.timeseries.stationxml.utils.XMLChannelMTChannel._xml_response_to_mt - INFO: Found an unnamed filter, named it: 'zpk_00'\n"
     ]
    },
    {
     "name": "stdout",
     "output_type": "stream",
     "text": [
      "2023-04-16T13:15:52 [line 134] obspy_stages.create_filter_from_stage - INFO: Converting PoleZerosResponseStage None to a CoefficientFilter\n"
     ]
    },
    {
     "name": "stderr",
     "output_type": "stream",
     "text": [
      "2023-04-16 13:15:52,970 [line 498] mt_metadata.timeseries.stationxml.utils.XMLChannelMTChannel._xml_response_to_mt - INFO: Found an unnamed filter, named it: 'coefficient_00'\n",
      "2023-04-16 13:15:52,978 [line 498] mt_metadata.timeseries.stationxml.utils.XMLChannelMTChannel._xml_response_to_mt - INFO: Found an unnamed filter, named it: 'zpk_01'\n"
     ]
    },
    {
     "name": "stdout",
     "output_type": "stream",
     "text": [
      "2023-04-16T13:15:52 [line 134] obspy_stages.create_filter_from_stage - INFO: Converting PoleZerosResponseStage None to a CoefficientFilter\n"
     ]
    },
    {
     "name": "stderr",
     "output_type": "stream",
     "text": [
      "2023-04-16 13:15:52,989 [line 498] mt_metadata.timeseries.stationxml.utils.XMLChannelMTChannel._xml_response_to_mt - INFO: Found an unnamed filter, named it: 'coefficient_01'\n"
     ]
    },
    {
     "name": "stdout",
     "output_type": "stream",
     "text": [
      "BAD REQUEST network       EM\n",
      "station    AB315\n",
      "Name: 58, dtype: object\n",
      "59\n",
      "59 row network       EM\n",
      "station    AB316\n",
      "Name: 59, dtype: object\n",
      "request_df   network station location channel                start                  end\n",
      "0      EM   AB316              LFE  2000-03-02T06:00:00  2023-01-01T00:00:00\n",
      "1      EM   AB316              LFN  2000-03-02T06:00:00  2023-01-01T00:00:00\n",
      "2      EM   AB316              LFZ  2000-03-02T06:00:00  2023-01-01T00:00:00\n",
      "3      EM   AB316              LQE  2000-03-02T06:00:00  2023-01-01T00:00:00\n",
      "4      EM   AB316              LQN  2000-03-02T06:00:00  2023-01-01T00:00:00\n",
      "inventory Inventory created at 2023-04-16T20:16:03.485562Z\n",
      "\tCreated by: ObsPy 1.4.0\n",
      "\t\t    https://www.obspy.org\n",
      "\tSending institution: MTH5\n",
      "\tContains:\n",
      "\t\tNetworks (1):\n",
      "\t\t\tEM\n",
      "\t\tStations (1):\n",
      "\t\t\tEM.AB316 (Tilley, Alberta, Canada)\n",
      "\t\tChannels (5):\n",
      "\t\t\tEM.AB316..LFZ, EM.AB316..LFN, EM.AB316..LFE, EM.AB316..LQN, \n",
      "\t\t\tEM.AB316..LQE\n"
     ]
    },
    {
     "name": "stderr",
     "output_type": "stream",
     "text": [
      "2023-04-16 13:16:14,262 [line 674] mth5.mth5.MTH5._initialize_file - INFO: Initialized MTH5 0.2.0 file /home/kkappler/.cache/earthscope/EM_AB316.h5 in mode w\n",
      "2023-04-16 13:16:22,319 [line 498] mt_metadata.timeseries.stationxml.utils.XMLChannelMTChannel._xml_response_to_mt - INFO: Found an unnamed filter, named it: 'zpk_00'\n"
     ]
    },
    {
     "name": "stdout",
     "output_type": "stream",
     "text": [
      "2023-04-16T13:16:22 [line 134] obspy_stages.create_filter_from_stage - INFO: Converting PoleZerosResponseStage None to a CoefficientFilter\n"
     ]
    },
    {
     "name": "stderr",
     "output_type": "stream",
     "text": [
      "2023-04-16 13:16:22,351 [line 498] mt_metadata.timeseries.stationxml.utils.XMLChannelMTChannel._xml_response_to_mt - INFO: Found an unnamed filter, named it: 'coefficient_00'\n",
      "2023-04-16 13:16:22,359 [line 498] mt_metadata.timeseries.stationxml.utils.XMLChannelMTChannel._xml_response_to_mt - INFO: Found an unnamed filter, named it: 'zpk_01'\n"
     ]
    },
    {
     "name": "stdout",
     "output_type": "stream",
     "text": [
      "2023-04-16T13:16:22 [line 134] obspy_stages.create_filter_from_stage - INFO: Converting PoleZerosResponseStage None to a CoefficientFilter\n"
     ]
    },
    {
     "name": "stderr",
     "output_type": "stream",
     "text": [
      "2023-04-16 13:16:22,369 [line 498] mt_metadata.timeseries.stationxml.utils.XMLChannelMTChannel._xml_response_to_mt - INFO: Found an unnamed filter, named it: 'coefficient_01'\n"
     ]
    },
    {
     "name": "stdout",
     "output_type": "stream",
     "text": [
      "BAD REQUEST network       EM\n",
      "station    AB316\n",
      "Name: 59, dtype: object\n",
      "60\n",
      "60 row network       EM\n",
      "station    AB317\n",
      "Name: 60, dtype: object\n",
      "request_df   network station location channel                start                  end\n",
      "0      EM   AB317              LFE  2000-03-02T06:00:00  2023-01-01T00:00:00\n",
      "1      EM   AB317              LFN  2000-03-02T06:00:00  2023-01-01T00:00:00\n",
      "2      EM   AB317              LFZ  2000-03-02T06:00:00  2023-01-01T00:00:00\n",
      "3      EM   AB317              LQE  2000-03-02T06:00:00  2023-01-01T00:00:00\n",
      "4      EM   AB317              LQN  2000-03-02T06:00:00  2023-01-01T00:00:00\n",
      "inventory Inventory created at 2023-04-16T20:16:32.871771Z\n",
      "\tCreated by: ObsPy 1.4.0\n",
      "\t\t    https://www.obspy.org\n",
      "\tSending institution: MTH5\n",
      "\tContains:\n",
      "\t\tNetworks (1):\n",
      "\t\t\tEM\n",
      "\t\tStations (1):\n",
      "\t\t\tEM.AB317 (Redcliff, Canada)\n",
      "\t\tChannels (5):\n",
      "\t\t\tEM.AB317..LFZ, EM.AB317..LFN, EM.AB317..LFE, EM.AB317..LQN, \n",
      "\t\t\tEM.AB317..LQE\n"
     ]
    },
    {
     "name": "stderr",
     "output_type": "stream",
     "text": [
      "2023-04-16 13:16:43,685 [line 674] mth5.mth5.MTH5._initialize_file - INFO: Initialized MTH5 0.2.0 file /home/kkappler/.cache/earthscope/EM_AB317.h5 in mode w\n",
      "2023-04-16 13:16:51,866 [line 498] mt_metadata.timeseries.stationxml.utils.XMLChannelMTChannel._xml_response_to_mt - INFO: Found an unnamed filter, named it: 'zpk_00'\n"
     ]
    },
    {
     "name": "stdout",
     "output_type": "stream",
     "text": [
      "2023-04-16T13:16:51 [line 134] obspy_stages.create_filter_from_stage - INFO: Converting PoleZerosResponseStage None to a CoefficientFilter\n"
     ]
    },
    {
     "name": "stderr",
     "output_type": "stream",
     "text": [
      "2023-04-16 13:16:51,898 [line 498] mt_metadata.timeseries.stationxml.utils.XMLChannelMTChannel._xml_response_to_mt - INFO: Found an unnamed filter, named it: 'coefficient_00'\n",
      "2023-04-16 13:16:51,906 [line 498] mt_metadata.timeseries.stationxml.utils.XMLChannelMTChannel._xml_response_to_mt - INFO: Found an unnamed filter, named it: 'zpk_01'\n"
     ]
    },
    {
     "name": "stdout",
     "output_type": "stream",
     "text": [
      "2023-04-16T13:16:51 [line 134] obspy_stages.create_filter_from_stage - INFO: Converting PoleZerosResponseStage None to a CoefficientFilter\n"
     ]
    },
    {
     "name": "stderr",
     "output_type": "stream",
     "text": [
      "2023-04-16 13:16:51,917 [line 498] mt_metadata.timeseries.stationxml.utils.XMLChannelMTChannel._xml_response_to_mt - INFO: Found an unnamed filter, named it: 'coefficient_01'\n"
     ]
    },
    {
     "name": "stdout",
     "output_type": "stream",
     "text": [
      "BAD REQUEST network       EM\n",
      "station    AB317\n",
      "Name: 60, dtype: object\n",
      "61\n",
      "61 row network       EM\n",
      "station    AB415\n",
      "Name: 61, dtype: object\n",
      "request_df   network station location channel                start                  end\n",
      "0      EM   AB415              LFE  2000-03-02T06:00:00  2023-01-01T00:00:00\n",
      "1      EM   AB415              LFN  2000-03-02T06:00:00  2023-01-01T00:00:00\n",
      "2      EM   AB415              LFZ  2000-03-02T06:00:00  2023-01-01T00:00:00\n",
      "3      EM   AB415              LQE  2000-03-02T06:00:00  2023-01-01T00:00:00\n",
      "4      EM   AB415              LQN  2000-03-02T06:00:00  2023-01-01T00:00:00\n",
      "inventory Inventory created at 2023-04-16T20:17:02.416788Z\n",
      "\tCreated by: ObsPy 1.4.0\n",
      "\t\t    https://www.obspy.org\n",
      "\tSending institution: MTH5\n",
      "\tContains:\n",
      "\t\tNetworks (1):\n",
      "\t\t\tEM\n",
      "\t\tStations (1):\n",
      "\t\t\tEM.AB415 (Makepeace, Alberta, Canada)\n",
      "\t\tChannels (5):\n",
      "\t\t\tEM.AB415..LFZ, EM.AB415..LFN, EM.AB415..LFE, EM.AB415..LQN, \n",
      "\t\t\tEM.AB415..LQE\n"
     ]
    },
    {
     "name": "stderr",
     "output_type": "stream",
     "text": [
      "2023-04-16 13:17:13,215 [line 674] mth5.mth5.MTH5._initialize_file - INFO: Initialized MTH5 0.2.0 file /home/kkappler/.cache/earthscope/EM_AB415.h5 in mode w\n",
      "2023-04-16 13:17:19,999 [line 498] mt_metadata.timeseries.stationxml.utils.XMLChannelMTChannel._xml_response_to_mt - INFO: Found an unnamed filter, named it: 'zpk_00'\n"
     ]
    },
    {
     "name": "stdout",
     "output_type": "stream",
     "text": [
      "2023-04-16T13:17:20 [line 134] obspy_stages.create_filter_from_stage - INFO: Converting PoleZerosResponseStage None to a CoefficientFilter\n"
     ]
    },
    {
     "name": "stderr",
     "output_type": "stream",
     "text": [
      "2023-04-16 13:17:20,036 [line 498] mt_metadata.timeseries.stationxml.utils.XMLChannelMTChannel._xml_response_to_mt - INFO: Found an unnamed filter, named it: 'coefficient_00'\n",
      "2023-04-16 13:17:20,045 [line 498] mt_metadata.timeseries.stationxml.utils.XMLChannelMTChannel._xml_response_to_mt - INFO: Found an unnamed filter, named it: 'zpk_01'\n"
     ]
    },
    {
     "name": "stdout",
     "output_type": "stream",
     "text": [
      "2023-04-16T13:17:20 [line 134] obspy_stages.create_filter_from_stage - INFO: Converting PoleZerosResponseStage None to a CoefficientFilter\n"
     ]
    },
    {
     "name": "stderr",
     "output_type": "stream",
     "text": [
      "2023-04-16 13:17:20,057 [line 498] mt_metadata.timeseries.stationxml.utils.XMLChannelMTChannel._xml_response_to_mt - INFO: Found an unnamed filter, named it: 'coefficient_01'\n"
     ]
    },
    {
     "name": "stdout",
     "output_type": "stream",
     "text": [
      "BAD REQUEST network       EM\n",
      "station    AB415\n",
      "Name: 61, dtype: object\n",
      "62\n",
      "62 row network       EM\n",
      "station    AB513\n",
      "Name: 62, dtype: object\n",
      "request_df   network station location channel                start                  end\n",
      "0      EM   AB513              LFE  2000-03-02T06:00:00  2023-01-01T00:00:00\n",
      "1      EM   AB513              LFN  2000-03-02T06:00:00  2023-01-01T00:00:00\n",
      "2      EM   AB513              LFZ  2000-03-02T06:00:00  2023-01-01T00:00:00\n",
      "3      EM   AB513              LQE  2000-03-02T06:00:00  2023-01-01T00:00:00\n",
      "4      EM   AB513              LQN  2000-03-02T06:00:00  2023-01-01T00:00:00\n",
      "inventory Inventory created at 2023-04-16T20:17:30.576503Z\n",
      "\tCreated by: ObsPy 1.4.0\n",
      "\t\t    https://www.obspy.org\n",
      "\tSending institution: MTH5\n",
      "\tContains:\n",
      "\t\tNetworks (1):\n",
      "\t\t\tEM\n",
      "\t\tStations (1):\n",
      "\t\t\tEM.AB513 (Carstairs, Canada)\n",
      "\t\tChannels (5):\n",
      "\t\t\tEM.AB513..LFZ, EM.AB513..LFN, EM.AB513..LFE, EM.AB513..LQN, \n",
      "\t\t\tEM.AB513..LQE\n"
     ]
    },
    {
     "name": "stderr",
     "output_type": "stream",
     "text": [
      "2023-04-16 13:17:41,363 [line 674] mth5.mth5.MTH5._initialize_file - INFO: Initialized MTH5 0.2.0 file /home/kkappler/.cache/earthscope/EM_AB513.h5 in mode w\n",
      "2023-04-16 13:17:48,400 [line 498] mt_metadata.timeseries.stationxml.utils.XMLChannelMTChannel._xml_response_to_mt - INFO: Found an unnamed filter, named it: 'zpk_00'\n"
     ]
    },
    {
     "name": "stdout",
     "output_type": "stream",
     "text": [
      "2023-04-16T13:17:48 [line 134] obspy_stages.create_filter_from_stage - INFO: Converting PoleZerosResponseStage None to a CoefficientFilter\n"
     ]
    },
    {
     "name": "stderr",
     "output_type": "stream",
     "text": [
      "2023-04-16 13:17:48,433 [line 498] mt_metadata.timeseries.stationxml.utils.XMLChannelMTChannel._xml_response_to_mt - INFO: Found an unnamed filter, named it: 'coefficient_00'\n",
      "2023-04-16 13:17:48,441 [line 498] mt_metadata.timeseries.stationxml.utils.XMLChannelMTChannel._xml_response_to_mt - INFO: Found an unnamed filter, named it: 'zpk_01'\n"
     ]
    },
    {
     "name": "stdout",
     "output_type": "stream",
     "text": [
      "2023-04-16T13:17:48 [line 134] obspy_stages.create_filter_from_stage - INFO: Converting PoleZerosResponseStage None to a CoefficientFilter\n"
     ]
    },
    {
     "name": "stderr",
     "output_type": "stream",
     "text": [
      "2023-04-16 13:17:48,451 [line 498] mt_metadata.timeseries.stationxml.utils.XMLChannelMTChannel._xml_response_to_mt - INFO: Found an unnamed filter, named it: 'coefficient_01'\n"
     ]
    },
    {
     "name": "stdout",
     "output_type": "stream",
     "text": [
      "BAD REQUEST network       EM\n",
      "station    AB513\n",
      "Name: 62, dtype: object\n",
      "63\n",
      "63 row network       EM\n",
      "station    AB613\n",
      "Name: 63, dtype: object\n",
      "request_df   network station location channel                start                  end\n",
      "0      EM   AB613              LFE  2000-03-02T06:00:00  2023-01-01T00:00:00\n",
      "1      EM   AB613              LFN  2000-03-02T06:00:00  2023-01-01T00:00:00\n",
      "2      EM   AB613              LFZ  2000-03-02T06:00:00  2023-01-01T00:00:00\n",
      "3      EM   AB613              LQE  2000-03-02T06:00:00  2023-01-01T00:00:00\n",
      "4      EM   AB613              LQN  2000-03-02T06:00:00  2023-01-01T00:00:00\n",
      "inventory Inventory created at 2023-04-16T20:17:58.945715Z\n",
      "\tCreated by: ObsPy 1.4.0\n",
      "\t\t    https://www.obspy.org\n",
      "\tSending institution: MTH5\n",
      "\tContains:\n",
      "\t\tNetworks (1):\n",
      "\t\t\tEM\n",
      "\t\tStations (1):\n",
      "\t\t\tEM.AB613 (Red Deer, Canada)\n",
      "\t\tChannels (5):\n",
      "\t\t\tEM.AB613..LFZ, EM.AB613..LFN, EM.AB613..LFE, EM.AB613..LQN, \n",
      "\t\t\tEM.AB613..LQE\n"
     ]
    },
    {
     "name": "stderr",
     "output_type": "stream",
     "text": [
      "2023-04-16 13:18:09,718 [line 674] mth5.mth5.MTH5._initialize_file - INFO: Initialized MTH5 0.2.0 file /home/kkappler/.cache/earthscope/EM_AB613.h5 in mode w\n",
      "2023-04-16 13:18:18,564 [line 498] mt_metadata.timeseries.stationxml.utils.XMLChannelMTChannel._xml_response_to_mt - INFO: Found an unnamed filter, named it: 'zpk_00'\n"
     ]
    },
    {
     "name": "stdout",
     "output_type": "stream",
     "text": [
      "2023-04-16T13:18:18 [line 134] obspy_stages.create_filter_from_stage - INFO: Converting PoleZerosResponseStage None to a CoefficientFilter\n"
     ]
    },
    {
     "name": "stderr",
     "output_type": "stream",
     "text": [
      "2023-04-16 13:18:18,598 [line 498] mt_metadata.timeseries.stationxml.utils.XMLChannelMTChannel._xml_response_to_mt - INFO: Found an unnamed filter, named it: 'coefficient_00'\n",
      "2023-04-16 13:18:18,606 [line 498] mt_metadata.timeseries.stationxml.utils.XMLChannelMTChannel._xml_response_to_mt - INFO: Found an unnamed filter, named it: 'zpk_01'\n"
     ]
    },
    {
     "name": "stdout",
     "output_type": "stream",
     "text": [
      "2023-04-16T13:18:18 [line 134] obspy_stages.create_filter_from_stage - INFO: Converting PoleZerosResponseStage None to a CoefficientFilter\n"
     ]
    },
    {
     "name": "stderr",
     "output_type": "stream",
     "text": [
      "2023-04-16 13:18:18,617 [line 498] mt_metadata.timeseries.stationxml.utils.XMLChannelMTChannel._xml_response_to_mt - INFO: Found an unnamed filter, named it: 'coefficient_01'\n"
     ]
    },
    {
     "name": "stdout",
     "output_type": "stream",
     "text": [
      "BAD REQUEST network       EM\n",
      "station    AB613\n",
      "Name: 63, dtype: object\n",
      "64\n",
      "64 row network       EM\n",
      "station    AB614\n",
      "Name: 64, dtype: object\n",
      "request_df   network station location channel                start                  end\n",
      "0      EM   AB614              LFE  2000-03-02T06:00:00  2023-01-01T00:00:00\n",
      "1      EM   AB614              LFN  2000-03-02T06:00:00  2023-01-01T00:00:00\n",
      "2      EM   AB614              LFZ  2000-03-02T06:00:00  2023-01-01T00:00:00\n",
      "3      EM   AB614              LQE  2000-03-02T06:00:00  2023-01-01T00:00:00\n",
      "4      EM   AB614              LQN  2000-03-02T06:00:00  2023-01-01T00:00:00\n",
      "inventory Inventory created at 2023-04-16T20:18:29.143107Z\n",
      "\tCreated by: ObsPy 1.4.0\n",
      "\t\t    https://www.obspy.org\n",
      "\tSending institution: MTH5\n",
      "\tContains:\n",
      "\t\tNetworks (1):\n",
      "\t\t\tEM\n",
      "\t\tStations (1):\n",
      "\t\t\tEM.AB614 (Coghill, Canada)\n",
      "\t\tChannels (5):\n",
      "\t\t\tEM.AB614..LFZ, EM.AB614..LFN, EM.AB614..LFE, EM.AB614..LQN, \n",
      "\t\t\tEM.AB614..LQE\n"
     ]
    },
    {
     "name": "stderr",
     "output_type": "stream",
     "text": [
      "2023-04-16 13:18:39,960 [line 674] mth5.mth5.MTH5._initialize_file - INFO: Initialized MTH5 0.2.0 file /home/kkappler/.cache/earthscope/EM_AB614.h5 in mode w\n",
      "2023-04-16 13:18:46,956 [line 498] mt_metadata.timeseries.stationxml.utils.XMLChannelMTChannel._xml_response_to_mt - INFO: Found an unnamed filter, named it: 'zpk_00'\n"
     ]
    },
    {
     "name": "stdout",
     "output_type": "stream",
     "text": [
      "2023-04-16T13:18:46 [line 134] obspy_stages.create_filter_from_stage - INFO: Converting PoleZerosResponseStage None to a CoefficientFilter\n"
     ]
    },
    {
     "name": "stderr",
     "output_type": "stream",
     "text": [
      "2023-04-16 13:18:46,997 [line 498] mt_metadata.timeseries.stationxml.utils.XMLChannelMTChannel._xml_response_to_mt - INFO: Found an unnamed filter, named it: 'coefficient_00'\n",
      "2023-04-16 13:18:47,006 [line 498] mt_metadata.timeseries.stationxml.utils.XMLChannelMTChannel._xml_response_to_mt - INFO: Found an unnamed filter, named it: 'zpk_01'\n"
     ]
    },
    {
     "name": "stdout",
     "output_type": "stream",
     "text": [
      "2023-04-16T13:18:47 [line 134] obspy_stages.create_filter_from_stage - INFO: Converting PoleZerosResponseStage None to a CoefficientFilter\n"
     ]
    },
    {
     "name": "stderr",
     "output_type": "stream",
     "text": [
      "2023-04-16 13:18:47,017 [line 498] mt_metadata.timeseries.stationxml.utils.XMLChannelMTChannel._xml_response_to_mt - INFO: Found an unnamed filter, named it: 'coefficient_01'\n"
     ]
    },
    {
     "name": "stdout",
     "output_type": "stream",
     "text": [
      "BAD REQUEST network       EM\n",
      "station    AB614\n",
      "Name: 64, dtype: object\n",
      "65\n",
      "65 row network       EM\n",
      "station    AB713\n",
      "Name: 65, dtype: object\n",
      "request_df   network station location channel                start                  end\n",
      "0      EM   AB713              LFE  2000-03-02T06:00:00  2023-01-01T00:00:00\n",
      "1      EM   AB713              LFN  2000-03-02T06:00:00  2023-01-01T00:00:00\n",
      "2      EM   AB713              LFZ  2000-03-02T06:00:00  2023-01-01T00:00:00\n",
      "3      EM   AB713              LQE  2000-03-02T06:00:00  2023-01-01T00:00:00\n",
      "4      EM   AB713              LQN  2000-03-02T06:00:00  2023-01-01T00:00:00\n",
      "inventory Inventory created at 2023-04-16T20:18:57.564342Z\n",
      "\tCreated by: ObsPy 1.4.0\n",
      "\t\t    https://www.obspy.org\n",
      "\tSending institution: MTH5\n",
      "\tContains:\n",
      "\t\tNetworks (1):\n",
      "\t\t\tEM\n",
      "\t\tStations (1):\n",
      "\t\t\tEM.AB713 (Falun, Canada)\n",
      "\t\tChannels (5):\n",
      "\t\t\tEM.AB713..LFZ, EM.AB713..LFN, EM.AB713..LFE, EM.AB713..LQN, \n",
      "\t\t\tEM.AB713..LQE\n"
     ]
    },
    {
     "name": "stderr",
     "output_type": "stream",
     "text": [
      "2023-04-16 13:19:08,325 [line 674] mth5.mth5.MTH5._initialize_file - INFO: Initialized MTH5 0.2.0 file /home/kkappler/.cache/earthscope/EM_AB713.h5 in mode w\n",
      "2023-04-16 13:19:17,737 [line 498] mt_metadata.timeseries.stationxml.utils.XMLChannelMTChannel._xml_response_to_mt - INFO: Found an unnamed filter, named it: 'zpk_00'\n"
     ]
    },
    {
     "name": "stdout",
     "output_type": "stream",
     "text": [
      "2023-04-16T13:19:17 [line 134] obspy_stages.create_filter_from_stage - INFO: Converting PoleZerosResponseStage None to a CoefficientFilter\n"
     ]
    },
    {
     "name": "stderr",
     "output_type": "stream",
     "text": [
      "2023-04-16 13:19:17,770 [line 498] mt_metadata.timeseries.stationxml.utils.XMLChannelMTChannel._xml_response_to_mt - INFO: Found an unnamed filter, named it: 'coefficient_00'\n",
      "2023-04-16 13:19:17,778 [line 498] mt_metadata.timeseries.stationxml.utils.XMLChannelMTChannel._xml_response_to_mt - INFO: Found an unnamed filter, named it: 'zpk_01'\n"
     ]
    },
    {
     "name": "stdout",
     "output_type": "stream",
     "text": [
      "2023-04-16T13:19:17 [line 134] obspy_stages.create_filter_from_stage - INFO: Converting PoleZerosResponseStage None to a CoefficientFilter\n"
     ]
    },
    {
     "name": "stderr",
     "output_type": "stream",
     "text": [
      "2023-04-16 13:19:17,789 [line 498] mt_metadata.timeseries.stationxml.utils.XMLChannelMTChannel._xml_response_to_mt - INFO: Found an unnamed filter, named it: 'coefficient_01'\n"
     ]
    },
    {
     "name": "stdout",
     "output_type": "stream",
     "text": [
      "BAD REQUEST network       EM\n",
      "station    AB713\n",
      "Name: 65, dtype: object\n",
      "66\n",
      "66 row network       EM\n",
      "station    AB714\n",
      "Name: 66, dtype: object\n",
      "request_df   network station location channel                start                  end\n",
      "0      EM   AB714              LFE  2000-03-02T06:00:00  2023-01-01T00:00:00\n",
      "1      EM   AB714              LFN  2000-03-02T06:00:00  2023-01-01T00:00:00\n",
      "2      EM   AB714              LFZ  2000-03-02T06:00:00  2023-01-01T00:00:00\n",
      "3      EM   AB714              LQE  2000-03-02T06:00:00  2023-01-01T00:00:00\n",
      "4      EM   AB714              LQN  2000-03-02T06:00:00  2023-01-01T00:00:00\n",
      "inventory Inventory created at 2023-04-16T20:19:28.301500Z\n",
      "\tCreated by: ObsPy 1.4.0\n",
      "\t\t    https://www.obspy.org\n",
      "\tSending institution: MTH5\n",
      "\tContains:\n",
      "\t\tNetworks (1):\n",
      "\t\t\tEM\n",
      "\t\tStations (1):\n",
      "\t\t\tEM.AB714 (Lindholm, Canada)\n",
      "\t\tChannels (5):\n",
      "\t\t\tEM.AB714..LFZ, EM.AB714..LFN, EM.AB714..LFE, EM.AB714..LQN, \n",
      "\t\t\tEM.AB714..LQE\n"
     ]
    },
    {
     "name": "stderr",
     "output_type": "stream",
     "text": [
      "2023-04-16 13:19:39,063 [line 674] mth5.mth5.MTH5._initialize_file - INFO: Initialized MTH5 0.2.0 file /home/kkappler/.cache/earthscope/EM_AB714.h5 in mode w\n",
      "2023-04-16 13:19:46,171 [line 498] mt_metadata.timeseries.stationxml.utils.XMLChannelMTChannel._xml_response_to_mt - INFO: Found an unnamed filter, named it: 'zpk_00'\n"
     ]
    },
    {
     "name": "stdout",
     "output_type": "stream",
     "text": [
      "2023-04-16T13:19:46 [line 134] obspy_stages.create_filter_from_stage - INFO: Converting PoleZerosResponseStage None to a CoefficientFilter\n"
     ]
    },
    {
     "name": "stderr",
     "output_type": "stream",
     "text": [
      "2023-04-16 13:19:46,205 [line 498] mt_metadata.timeseries.stationxml.utils.XMLChannelMTChannel._xml_response_to_mt - INFO: Found an unnamed filter, named it: 'coefficient_00'\n",
      "2023-04-16 13:19:46,213 [line 498] mt_metadata.timeseries.stationxml.utils.XMLChannelMTChannel._xml_response_to_mt - INFO: Found an unnamed filter, named it: 'zpk_01'\n"
     ]
    },
    {
     "name": "stdout",
     "output_type": "stream",
     "text": [
      "2023-04-16T13:19:46 [line 134] obspy_stages.create_filter_from_stage - INFO: Converting PoleZerosResponseStage None to a CoefficientFilter\n"
     ]
    },
    {
     "name": "stderr",
     "output_type": "stream",
     "text": [
      "2023-04-16 13:19:46,224 [line 498] mt_metadata.timeseries.stationxml.utils.XMLChannelMTChannel._xml_response_to_mt - INFO: Found an unnamed filter, named it: 'coefficient_01'\n"
     ]
    },
    {
     "name": "stdout",
     "output_type": "stream",
     "text": [
      "BAD REQUEST network       EM\n",
      "station    AB714\n",
      "Name: 66, dtype: object\n",
      "67\n",
      "67 row network       EM\n",
      "station    AB715\n",
      "Name: 67, dtype: object\n",
      "request_df   network station location channel                start                  end\n",
      "0      EM   AB715              LFE  2000-03-02T06:00:00  2023-01-01T00:00:00\n",
      "1      EM   AB715              LFN  2000-03-02T06:00:00  2023-01-01T00:00:00\n",
      "2      EM   AB715              LFZ  2000-03-02T06:00:00  2023-01-01T00:00:00\n",
      "3      EM   AB715              LQE  2000-03-02T06:00:00  2023-01-01T00:00:00\n",
      "4      EM   AB715              LQN  2000-03-02T06:00:00  2023-01-01T00:00:00\n",
      "inventory Inventory created at 2023-04-16T20:19:56.724714Z\n",
      "\tCreated by: ObsPy 1.4.0\n",
      "\t\t    https://www.obspy.org\n",
      "\tSending institution: MTH5\n",
      "\tContains:\n",
      "\t\tNetworks (1):\n",
      "\t\t\tEM\n",
      "\t\tStations (1):\n",
      "\t\t\tEM.AB715 (Black Nugget Lake, Canada)\n",
      "\t\tChannels (5):\n",
      "\t\t\tEM.AB715..LFZ, EM.AB715..LFN, EM.AB715..LFE, EM.AB715..LQN, \n",
      "\t\t\tEM.AB715..LQE\n"
     ]
    },
    {
     "name": "stderr",
     "output_type": "stream",
     "text": [
      "2023-04-16 13:20:07,445 [line 674] mth5.mth5.MTH5._initialize_file - INFO: Initialized MTH5 0.2.0 file /home/kkappler/.cache/earthscope/EM_AB715.h5 in mode w\n",
      "2023-04-16 13:20:17,154 [line 498] mt_metadata.timeseries.stationxml.utils.XMLChannelMTChannel._xml_response_to_mt - INFO: Found an unnamed filter, named it: 'zpk_00'\n"
     ]
    },
    {
     "name": "stdout",
     "output_type": "stream",
     "text": [
      "2023-04-16T13:20:17 [line 134] obspy_stages.create_filter_from_stage - INFO: Converting PoleZerosResponseStage None to a CoefficientFilter\n"
     ]
    },
    {
     "name": "stderr",
     "output_type": "stream",
     "text": [
      "2023-04-16 13:20:17,186 [line 498] mt_metadata.timeseries.stationxml.utils.XMLChannelMTChannel._xml_response_to_mt - INFO: Found an unnamed filter, named it: 'coefficient_00'\n",
      "2023-04-16 13:20:17,194 [line 498] mt_metadata.timeseries.stationxml.utils.XMLChannelMTChannel._xml_response_to_mt - INFO: Found an unnamed filter, named it: 'zpk_01'\n"
     ]
    },
    {
     "name": "stdout",
     "output_type": "stream",
     "text": [
      "2023-04-16T13:20:17 [line 134] obspy_stages.create_filter_from_stage - INFO: Converting PoleZerosResponseStage None to a CoefficientFilter\n"
     ]
    },
    {
     "name": "stderr",
     "output_type": "stream",
     "text": [
      "2023-04-16 13:20:17,207 [line 498] mt_metadata.timeseries.stationxml.utils.XMLChannelMTChannel._xml_response_to_mt - INFO: Found an unnamed filter, named it: 'coefficient_01'\n"
     ]
    },
    {
     "name": "stdout",
     "output_type": "stream",
     "text": [
      "BAD REQUEST network       EM\n",
      "station    AB715\n",
      "Name: 67, dtype: object\n",
      "68\n",
      "68 row network       EM\n",
      "station    AB716\n",
      "Name: 68, dtype: object\n",
      "request_df   network station location channel                start                  end\n",
      "0      EM   AB716              LFE  2000-03-02T06:00:00  2023-01-01T00:00:00\n",
      "1      EM   AB716              LFN  2000-03-02T06:00:00  2023-01-01T00:00:00\n",
      "2      EM   AB716              LFZ  2000-03-02T06:00:00  2023-01-01T00:00:00\n",
      "3      EM   AB716              LQE  2000-03-02T06:00:00  2023-01-01T00:00:00\n",
      "4      EM   AB716              LQN  2000-03-02T06:00:00  2023-01-01T00:00:00\n",
      "inventory Inventory created at 2023-04-16T20:20:27.729346Z\n",
      "\tCreated by: ObsPy 1.4.0\n",
      "\t\t    https://www.obspy.org\n",
      "\tSending institution: MTH5\n",
      "\tContains:\n",
      "\t\tNetworks (1):\n",
      "\t\t\tEM\n",
      "\t\tStations (1):\n",
      "\t\t\tEM.AB716 (Camrose, Canada)\n",
      "\t\tChannels (5):\n",
      "\t\t\tEM.AB716..LFZ, EM.AB716..LFN, EM.AB716..LFE, EM.AB716..LQN, \n",
      "\t\t\tEM.AB716..LQE\n"
     ]
    },
    {
     "name": "stderr",
     "output_type": "stream",
     "text": [
      "2023-04-16 13:20:38,489 [line 674] mth5.mth5.MTH5._initialize_file - INFO: Initialized MTH5 0.2.0 file /home/kkappler/.cache/earthscope/EM_AB716.h5 in mode w\n",
      "2023-04-16 13:20:49,308 [line 498] mt_metadata.timeseries.stationxml.utils.XMLChannelMTChannel._xml_response_to_mt - INFO: Found an unnamed filter, named it: 'zpk_00'\n"
     ]
    },
    {
     "name": "stdout",
     "output_type": "stream",
     "text": [
      "2023-04-16T13:20:49 [line 134] obspy_stages.create_filter_from_stage - INFO: Converting PoleZerosResponseStage None to a CoefficientFilter\n"
     ]
    },
    {
     "name": "stderr",
     "output_type": "stream",
     "text": [
      "2023-04-16 13:20:49,340 [line 498] mt_metadata.timeseries.stationxml.utils.XMLChannelMTChannel._xml_response_to_mt - INFO: Found an unnamed filter, named it: 'coefficient_00'\n",
      "2023-04-16 13:20:49,348 [line 498] mt_metadata.timeseries.stationxml.utils.XMLChannelMTChannel._xml_response_to_mt - INFO: Found an unnamed filter, named it: 'zpk_01'\n"
     ]
    },
    {
     "name": "stdout",
     "output_type": "stream",
     "text": [
      "2023-04-16T13:20:49 [line 134] obspy_stages.create_filter_from_stage - INFO: Converting PoleZerosResponseStage None to a CoefficientFilter\n"
     ]
    },
    {
     "name": "stderr",
     "output_type": "stream",
     "text": [
      "2023-04-16 13:20:49,360 [line 498] mt_metadata.timeseries.stationxml.utils.XMLChannelMTChannel._xml_response_to_mt - INFO: Found an unnamed filter, named it: 'coefficient_01'\n"
     ]
    },
    {
     "name": "stdout",
     "output_type": "stream",
     "text": [
      "BAD REQUEST network       EM\n",
      "station    AB716\n",
      "Name: 68, dtype: object\n",
      "69\n",
      "69 row network       EM\n",
      "station    AB717\n",
      "Name: 69, dtype: object\n",
      "request_df   network station location channel                start                  end\n",
      "0      EM   AB717              LFE  2000-03-02T06:00:00  2023-01-01T00:00:00\n",
      "1      EM   AB717              LFN  2000-03-02T06:00:00  2023-01-01T00:00:00\n",
      "2      EM   AB717              LFZ  2000-03-02T06:00:00  2023-01-01T00:00:00\n",
      "3      EM   AB717              LQE  2000-03-02T06:00:00  2023-01-01T00:00:00\n",
      "4      EM   AB717              LQN  2000-03-02T06:00:00  2023-01-01T00:00:00\n",
      "inventory Inventory created at 2023-04-16T20:20:59.864037Z\n",
      "\tCreated by: ObsPy 1.4.0\n",
      "\t\t    https://www.obspy.org\n",
      "\tSending institution: MTH5\n",
      "\tContains:\n",
      "\t\tNetworks (1):\n",
      "\t\t\tEM\n",
      "\t\tStations (1):\n",
      "\t\t\tEM.AB717 (Viking, Canada)\n",
      "\t\tChannels (5):\n",
      "\t\t\tEM.AB717..LFZ, EM.AB717..LFN, EM.AB717..LFE, EM.AB717..LQN, \n",
      "\t\t\tEM.AB717..LQE\n"
     ]
    },
    {
     "name": "stderr",
     "output_type": "stream",
     "text": [
      "2023-04-16 13:21:10,847 [line 674] mth5.mth5.MTH5._initialize_file - INFO: Initialized MTH5 0.2.0 file /home/kkappler/.cache/earthscope/EM_AB717.h5 in mode w\n",
      "2023-04-16 13:21:27,908 [line 498] mt_metadata.timeseries.stationxml.utils.XMLChannelMTChannel._xml_response_to_mt - INFO: Found an unnamed filter, named it: 'zpk_00'\n"
     ]
    },
    {
     "name": "stdout",
     "output_type": "stream",
     "text": [
      "2023-04-16T13:21:27 [line 134] obspy_stages.create_filter_from_stage - INFO: Converting PoleZerosResponseStage None to a CoefficientFilter\n"
     ]
    },
    {
     "name": "stderr",
     "output_type": "stream",
     "text": [
      "2023-04-16 13:21:27,939 [line 498] mt_metadata.timeseries.stationxml.utils.XMLChannelMTChannel._xml_response_to_mt - INFO: Found an unnamed filter, named it: 'coefficient_00'\n",
      "2023-04-16 13:21:27,948 [line 498] mt_metadata.timeseries.stationxml.utils.XMLChannelMTChannel._xml_response_to_mt - INFO: Found an unnamed filter, named it: 'zpk_01'\n"
     ]
    },
    {
     "name": "stdout",
     "output_type": "stream",
     "text": [
      "2023-04-16T13:21:27 [line 134] obspy_stages.create_filter_from_stage - INFO: Converting PoleZerosResponseStage None to a CoefficientFilter\n"
     ]
    },
    {
     "name": "stderr",
     "output_type": "stream",
     "text": [
      "2023-04-16 13:21:27,959 [line 498] mt_metadata.timeseries.stationxml.utils.XMLChannelMTChannel._xml_response_to_mt - INFO: Found an unnamed filter, named it: 'coefficient_01'\n"
     ]
    },
    {
     "name": "stdout",
     "output_type": "stream",
     "text": [
      "BAD REQUEST network       EM\n",
      "station    AB717\n",
      "Name: 69, dtype: object\n",
      "70\n",
      "70 row network       EM\n",
      "station    AB813\n",
      "Name: 70, dtype: object\n",
      "request_df   network station location channel                start                  end\n",
      "0      EM   AB813              LFE  2000-03-02T06:00:00  2023-01-01T00:00:00\n",
      "1      EM   AB813              LFN  2000-03-02T06:00:00  2023-01-01T00:00:00\n",
      "2      EM   AB813              LFZ  2000-03-02T06:00:00  2023-01-01T00:00:00\n",
      "3      EM   AB813              LQE  2000-03-02T06:00:00  2023-01-01T00:00:00\n",
      "4      EM   AB813              LQN  2000-03-02T06:00:00  2023-01-01T00:00:00\n",
      "inventory Inventory created at 2023-04-16T20:21:38.471721Z\n",
      "\tCreated by: ObsPy 1.4.0\n",
      "\t\t    https://www.obspy.org\n",
      "\tSending institution: MTH5\n",
      "\tContains:\n",
      "\t\tNetworks (1):\n",
      "\t\t\tEM\n",
      "\t\tStations (1):\n",
      "\t\t\tEM.AB813 (Stony Plain, Canada)\n",
      "\t\tChannels (5):\n",
      "\t\t\tEM.AB813..LFZ, EM.AB813..LFN, EM.AB813..LFE, EM.AB813..LQN, \n",
      "\t\t\tEM.AB813..LQE\n"
     ]
    },
    {
     "name": "stderr",
     "output_type": "stream",
     "text": [
      "2023-04-16 13:21:49,258 [line 674] mth5.mth5.MTH5._initialize_file - INFO: Initialized MTH5 0.2.0 file /home/kkappler/.cache/earthscope/EM_AB813.h5 in mode w\n",
      "2023-04-16 13:22:00,398 [line 498] mt_metadata.timeseries.stationxml.utils.XMLChannelMTChannel._xml_response_to_mt - INFO: Found an unnamed filter, named it: 'zpk_00'\n"
     ]
    },
    {
     "name": "stdout",
     "output_type": "stream",
     "text": [
      "2023-04-16T13:22:00 [line 134] obspy_stages.create_filter_from_stage - INFO: Converting PoleZerosResponseStage None to a CoefficientFilter\n"
     ]
    },
    {
     "name": "stderr",
     "output_type": "stream",
     "text": [
      "2023-04-16 13:22:00,438 [line 498] mt_metadata.timeseries.stationxml.utils.XMLChannelMTChannel._xml_response_to_mt - INFO: Found an unnamed filter, named it: 'coefficient_00'\n",
      "2023-04-16 13:22:00,446 [line 498] mt_metadata.timeseries.stationxml.utils.XMLChannelMTChannel._xml_response_to_mt - INFO: Found an unnamed filter, named it: 'zpk_01'\n"
     ]
    },
    {
     "name": "stdout",
     "output_type": "stream",
     "text": [
      "2023-04-16T13:22:00 [line 134] obspy_stages.create_filter_from_stage - INFO: Converting PoleZerosResponseStage None to a CoefficientFilter\n"
     ]
    },
    {
     "name": "stderr",
     "output_type": "stream",
     "text": [
      "2023-04-16 13:22:00,458 [line 498] mt_metadata.timeseries.stationxml.utils.XMLChannelMTChannel._xml_response_to_mt - INFO: Found an unnamed filter, named it: 'coefficient_01'\n"
     ]
    },
    {
     "name": "stdout",
     "output_type": "stream",
     "text": [
      "BAD REQUEST network       EM\n",
      "station    AB813\n",
      "Name: 70, dtype: object\n",
      "71\n",
      "71 row network       EM\n",
      "station    BC009\n",
      "Name: 71, dtype: object\n",
      "request_df   network station location channel                start                  end\n",
      "0      EM   BC009              LFE  2000-03-02T06:00:00  2023-01-01T00:00:00\n",
      "1      EM   BC009              LFN  2000-03-02T06:00:00  2023-01-01T00:00:00\n",
      "2      EM   BC009              LFZ  2000-03-02T06:00:00  2023-01-01T00:00:00\n",
      "3      EM   BC009              LQE  2000-03-02T06:00:00  2023-01-01T00:00:00\n",
      "4      EM   BC009              LQN  2000-03-02T06:00:00  2023-01-01T00:00:00\n",
      "inventory Inventory created at 2023-04-16T20:22:10.981960Z\n",
      "\tCreated by: ObsPy 1.4.0\n",
      "\t\t    https://www.obspy.org\n",
      "\tSending institution: MTH5\n",
      "\tContains:\n",
      "\t\tNetworks (1):\n",
      "\t\t\tEM\n",
      "\t\tStations (1):\n",
      "\t\t\tEM.BC009 (Castlegar, Canada)\n",
      "\t\tChannels (5):\n",
      "\t\t\tEM.BC009..LFZ, EM.BC009..LFN, EM.BC009..LFE, EM.BC009..LQN, \n",
      "\t\t\tEM.BC009..LQE\n"
     ]
    },
    {
     "name": "stderr",
     "output_type": "stream",
     "text": [
      "2023-04-16 13:22:21,730 [line 674] mth5.mth5.MTH5._initialize_file - INFO: Initialized MTH5 0.2.0 file /home/kkappler/.cache/earthscope/EM_BC009.h5 in mode w\n",
      "2023-04-16 13:22:34,179 [line 498] mt_metadata.timeseries.stationxml.utils.XMLChannelMTChannel._xml_response_to_mt - INFO: Found an unnamed filter, named it: 'zpk_00'\n"
     ]
    },
    {
     "name": "stdout",
     "output_type": "stream",
     "text": [
      "2023-04-16T13:22:34 [line 134] obspy_stages.create_filter_from_stage - INFO: Converting PoleZerosResponseStage None to a CoefficientFilter\n"
     ]
    },
    {
     "name": "stderr",
     "output_type": "stream",
     "text": [
      "2023-04-16 13:22:34,211 [line 498] mt_metadata.timeseries.stationxml.utils.XMLChannelMTChannel._xml_response_to_mt - INFO: Found an unnamed filter, named it: 'coefficient_00'\n",
      "2023-04-16 13:22:34,220 [line 498] mt_metadata.timeseries.stationxml.utils.XMLChannelMTChannel._xml_response_to_mt - INFO: Found an unnamed filter, named it: 'zpk_01'\n"
     ]
    },
    {
     "name": "stdout",
     "output_type": "stream",
     "text": [
      "2023-04-16T13:22:34 [line 134] obspy_stages.create_filter_from_stage - INFO: Converting PoleZerosResponseStage None to a CoefficientFilter\n"
     ]
    },
    {
     "name": "stderr",
     "output_type": "stream",
     "text": [
      "2023-04-16 13:22:34,231 [line 498] mt_metadata.timeseries.stationxml.utils.XMLChannelMTChannel._xml_response_to_mt - INFO: Found an unnamed filter, named it: 'coefficient_01'\n"
     ]
    },
    {
     "name": "stdout",
     "output_type": "stream",
     "text": [
      "BAD REQUEST network       EM\n",
      "station    BC009\n",
      "Name: 71, dtype: object\n",
      "72\n",
      "72 row network       EM\n",
      "station    BC010\n",
      "Name: 72, dtype: object\n",
      "request_df   network station location channel                start                  end\n",
      "0      EM   BC010              LFE  2000-03-02T06:00:00  2023-01-01T00:00:00\n",
      "1      EM   BC010              LFN  2000-03-02T06:00:00  2023-01-01T00:00:00\n",
      "2      EM   BC010              LFZ  2000-03-02T06:00:00  2023-01-01T00:00:00\n",
      "3      EM   BC010              LQE  2000-03-02T06:00:00  2023-01-01T00:00:00\n",
      "4      EM   BC010              LQN  2000-03-02T06:00:00  2023-01-01T00:00:00\n",
      "inventory Inventory created at 2023-04-16T20:22:44.744219Z\n",
      "\tCreated by: ObsPy 1.4.0\n",
      "\t\t    https://www.obspy.org\n",
      "\tSending institution: MTH5\n",
      "\tContains:\n",
      "\t\tNetworks (1):\n",
      "\t\t\tEM\n",
      "\t\tStations (1):\n",
      "\t\t\tEM.BC010 (Creston, Canada)\n",
      "\t\tChannels (5):\n",
      "\t\t\tEM.BC010..LFZ, EM.BC010..LFN, EM.BC010..LFE, EM.BC010..LQN, \n",
      "\t\t\tEM.BC010..LQE\n"
     ]
    },
    {
     "name": "stderr",
     "output_type": "stream",
     "text": [
      "2023-04-16 13:22:55,521 [line 674] mth5.mth5.MTH5._initialize_file - INFO: Initialized MTH5 0.2.0 file /home/kkappler/.cache/earthscope/EM_BC010.h5 in mode w\n",
      "2023-04-16 13:23:10,166 [line 498] mt_metadata.timeseries.stationxml.utils.XMLChannelMTChannel._xml_response_to_mt - INFO: Found an unnamed filter, named it: 'zpk_00'\n"
     ]
    },
    {
     "name": "stdout",
     "output_type": "stream",
     "text": [
      "2023-04-16T13:23:10 [line 134] obspy_stages.create_filter_from_stage - INFO: Converting PoleZerosResponseStage None to a CoefficientFilter\n"
     ]
    },
    {
     "name": "stderr",
     "output_type": "stream",
     "text": [
      "2023-04-16 13:23:10,202 [line 498] mt_metadata.timeseries.stationxml.utils.XMLChannelMTChannel._xml_response_to_mt - INFO: Found an unnamed filter, named it: 'coefficient_00'\n",
      "2023-04-16 13:23:10,212 [line 498] mt_metadata.timeseries.stationxml.utils.XMLChannelMTChannel._xml_response_to_mt - INFO: Found an unnamed filter, named it: 'zpk_01'\n"
     ]
    },
    {
     "name": "stdout",
     "output_type": "stream",
     "text": [
      "2023-04-16T13:23:10 [line 134] obspy_stages.create_filter_from_stage - INFO: Converting PoleZerosResponseStage None to a CoefficientFilter\n"
     ]
    },
    {
     "name": "stderr",
     "output_type": "stream",
     "text": [
      "2023-04-16 13:23:10,225 [line 498] mt_metadata.timeseries.stationxml.utils.XMLChannelMTChannel._xml_response_to_mt - INFO: Found an unnamed filter, named it: 'coefficient_01'\n"
     ]
    },
    {
     "name": "stdout",
     "output_type": "stream",
     "text": [
      "BAD REQUEST network       EM\n",
      "station    BC010\n",
      "Name: 72, dtype: object\n",
      "73\n",
      "73 row network       EM\n",
      "station    BC109\n",
      "Name: 73, dtype: object\n",
      "request_df   network station location channel                start                  end\n",
      "0      EM   BC109              LFE  2000-03-02T06:00:00  2023-01-01T00:00:00\n",
      "1      EM   BC109              LFN  2000-03-02T06:00:00  2023-01-01T00:00:00\n",
      "2      EM   BC109              LFZ  2000-03-02T06:00:00  2023-01-01T00:00:00\n",
      "3      EM   BC109              LQE  2000-03-02T06:00:00  2023-01-01T00:00:00\n",
      "4      EM   BC109              LQN  2000-03-02T06:00:00  2023-01-01T00:00:00\n",
      "inventory Inventory created at 2023-04-16T20:23:20.734069Z\n",
      "\tCreated by: ObsPy 1.4.0\n",
      "\t\t    https://www.obspy.org\n",
      "\tSending institution: MTH5\n",
      "\tContains:\n",
      "\t\tNetworks (1):\n",
      "\t\t\tEM\n",
      "\t\tStations (1):\n",
      "\t\t\tEM.BC109 (Slocan, Canada)\n",
      "\t\tChannels (5):\n",
      "\t\t\tEM.BC109..LFZ, EM.BC109..LFN, EM.BC109..LFE, EM.BC109..LQN, \n",
      "\t\t\tEM.BC109..LQE\n"
     ]
    },
    {
     "name": "stderr",
     "output_type": "stream",
     "text": [
      "2023-04-16 13:23:31,479 [line 674] mth5.mth5.MTH5._initialize_file - INFO: Initialized MTH5 0.2.0 file /home/kkappler/.cache/earthscope/EM_BC109.h5 in mode w\n",
      "2023-04-16 13:23:37,776 [line 498] mt_metadata.timeseries.stationxml.utils.XMLChannelMTChannel._xml_response_to_mt - INFO: Found an unnamed filter, named it: 'zpk_00'\n"
     ]
    },
    {
     "name": "stdout",
     "output_type": "stream",
     "text": [
      "2023-04-16T13:23:37 [line 134] obspy_stages.create_filter_from_stage - INFO: Converting PoleZerosResponseStage None to a CoefficientFilter\n"
     ]
    },
    {
     "name": "stderr",
     "output_type": "stream",
     "text": [
      "2023-04-16 13:23:37,812 [line 498] mt_metadata.timeseries.stationxml.utils.XMLChannelMTChannel._xml_response_to_mt - INFO: Found an unnamed filter, named it: 'coefficient_00'\n",
      "2023-04-16 13:23:37,821 [line 498] mt_metadata.timeseries.stationxml.utils.XMLChannelMTChannel._xml_response_to_mt - INFO: Found an unnamed filter, named it: 'zpk_01'\n"
     ]
    },
    {
     "name": "stdout",
     "output_type": "stream",
     "text": [
      "2023-04-16T13:23:37 [line 134] obspy_stages.create_filter_from_stage - INFO: Converting PoleZerosResponseStage None to a CoefficientFilter\n"
     ]
    },
    {
     "name": "stderr",
     "output_type": "stream",
     "text": [
      "2023-04-16 13:23:37,834 [line 498] mt_metadata.timeseries.stationxml.utils.XMLChannelMTChannel._xml_response_to_mt - INFO: Found an unnamed filter, named it: 'coefficient_01'\n"
     ]
    },
    {
     "name": "stdout",
     "output_type": "stream",
     "text": [
      "BAD REQUEST network       EM\n",
      "station    BC109\n",
      "Name: 73, dtype: object\n",
      "74\n",
      "74 row network       EM\n",
      "station    BC110\n",
      "Name: 74, dtype: object\n",
      "request_df   network station location channel                start                  end\n",
      "0      EM   BC110              LFE  2000-03-02T06:00:00  2023-01-01T00:00:00\n",
      "1      EM   BC110              LFN  2000-03-02T06:00:00  2023-01-01T00:00:00\n",
      "2      EM   BC110              LFZ  2000-03-02T06:00:00  2023-01-01T00:00:00\n",
      "3      EM   BC110              LQE  2000-03-02T06:00:00  2023-01-01T00:00:00\n",
      "4      EM   BC110              LQN  2000-03-02T06:00:00  2023-01-01T00:00:00\n",
      "inventory Inventory created at 2023-04-16T20:23:48.352004Z\n",
      "\tCreated by: ObsPy 1.4.0\n",
      "\t\t    https://www.obspy.org\n",
      "\tSending institution: MTH5\n",
      "\tContains:\n",
      "\t\tNetworks (1):\n",
      "\t\t\tEM\n",
      "\t\tStations (1):\n",
      "\t\t\tEM.BC110 (Crawford Bay, Canada)\n",
      "\t\tChannels (5):\n",
      "\t\t\tEM.BC110..LFZ, EM.BC110..LFN, EM.BC110..LFE, EM.BC110..LQN, \n",
      "\t\t\tEM.BC110..LQE\n"
     ]
    },
    {
     "name": "stderr",
     "output_type": "stream",
     "text": [
      "2023-04-16 13:23:59,157 [line 674] mth5.mth5.MTH5._initialize_file - INFO: Initialized MTH5 0.2.0 file /home/kkappler/.cache/earthscope/EM_BC110.h5 in mode w\n",
      "2023-04-16 13:24:10,027 [line 498] mt_metadata.timeseries.stationxml.utils.XMLChannelMTChannel._xml_response_to_mt - INFO: Found an unnamed filter, named it: 'zpk_00'\n"
     ]
    },
    {
     "name": "stdout",
     "output_type": "stream",
     "text": [
      "2023-04-16T13:24:10 [line 134] obspy_stages.create_filter_from_stage - INFO: Converting PoleZerosResponseStage None to a CoefficientFilter\n"
     ]
    },
    {
     "name": "stderr",
     "output_type": "stream",
     "text": [
      "2023-04-16 13:24:10,060 [line 498] mt_metadata.timeseries.stationxml.utils.XMLChannelMTChannel._xml_response_to_mt - INFO: Found an unnamed filter, named it: 'coefficient_00'\n",
      "2023-04-16 13:24:10,071 [line 498] mt_metadata.timeseries.stationxml.utils.XMLChannelMTChannel._xml_response_to_mt - INFO: Found an unnamed filter, named it: 'zpk_01'\n"
     ]
    },
    {
     "name": "stdout",
     "output_type": "stream",
     "text": [
      "2023-04-16T13:24:10 [line 134] obspy_stages.create_filter_from_stage - INFO: Converting PoleZerosResponseStage None to a CoefficientFilter\n"
     ]
    },
    {
     "name": "stderr",
     "output_type": "stream",
     "text": [
      "2023-04-16 13:24:10,083 [line 498] mt_metadata.timeseries.stationxml.utils.XMLChannelMTChannel._xml_response_to_mt - INFO: Found an unnamed filter, named it: 'coefficient_01'\n"
     ]
    },
    {
     "name": "stdout",
     "output_type": "stream",
     "text": [
      "BAD REQUEST network       EM\n",
      "station    BC110\n",
      "Name: 74, dtype: object\n",
      "75\n",
      "75 row network       EM\n",
      "station    BC210\n",
      "Name: 75, dtype: object\n",
      "request_df   network station location channel                start                  end\n",
      "0      EM   BC210              LFE  2000-03-02T06:00:00  2023-01-01T00:00:00\n",
      "1      EM   BC210              LFN  2000-03-02T06:00:00  2023-01-01T00:00:00\n",
      "2      EM   BC210              LFZ  2000-03-02T06:00:00  2023-01-01T00:00:00\n",
      "3      EM   BC210              LQE  2000-03-02T06:00:00  2023-01-01T00:00:00\n",
      "4      EM   BC210              LQN  2000-03-02T06:00:00  2023-01-01T00:00:00\n",
      "inventory Inventory created at 2023-04-16T20:24:20.635918Z\n",
      "\tCreated by: ObsPy 1.4.0\n",
      "\t\t    https://www.obspy.org\n",
      "\tSending institution: MTH5\n",
      "\tContains:\n",
      "\t\tNetworks (1):\n",
      "\t\t\tEM\n",
      "\t\tStations (1):\n",
      "\t\t\tEM.BC210 (Kaslo, Canada)\n",
      "\t\tChannels (5):\n",
      "\t\t\tEM.BC210..LFZ, EM.BC210..LFN, EM.BC210..LFE, EM.BC210..LQN, \n",
      "\t\t\tEM.BC210..LQE\n"
     ]
    },
    {
     "name": "stderr",
     "output_type": "stream",
     "text": [
      "2023-04-16 13:24:31,446 [line 674] mth5.mth5.MTH5._initialize_file - INFO: Initialized MTH5 0.2.0 file /home/kkappler/.cache/earthscope/EM_BC210.h5 in mode w\n",
      "2023-04-16 13:24:42,026 [line 498] mt_metadata.timeseries.stationxml.utils.XMLChannelMTChannel._xml_response_to_mt - INFO: Found an unnamed filter, named it: 'zpk_00'\n"
     ]
    },
    {
     "name": "stdout",
     "output_type": "stream",
     "text": [
      "2023-04-16T13:24:42 [line 134] obspy_stages.create_filter_from_stage - INFO: Converting PoleZerosResponseStage None to a CoefficientFilter\n"
     ]
    },
    {
     "name": "stderr",
     "output_type": "stream",
     "text": [
      "2023-04-16 13:24:42,059 [line 498] mt_metadata.timeseries.stationxml.utils.XMLChannelMTChannel._xml_response_to_mt - INFO: Found an unnamed filter, named it: 'coefficient_00'\n",
      "2023-04-16 13:24:42,067 [line 498] mt_metadata.timeseries.stationxml.utils.XMLChannelMTChannel._xml_response_to_mt - INFO: Found an unnamed filter, named it: 'zpk_01'\n"
     ]
    },
    {
     "name": "stdout",
     "output_type": "stream",
     "text": [
      "2023-04-16T13:24:42 [line 134] obspy_stages.create_filter_from_stage - INFO: Converting PoleZerosResponseStage None to a CoefficientFilter\n"
     ]
    },
    {
     "name": "stderr",
     "output_type": "stream",
     "text": [
      "2023-04-16 13:24:42,079 [line 498] mt_metadata.timeseries.stationxml.utils.XMLChannelMTChannel._xml_response_to_mt - INFO: Found an unnamed filter, named it: 'coefficient_01'\n"
     ]
    },
    {
     "name": "stdout",
     "output_type": "stream",
     "text": [
      "BAD REQUEST network       EM\n",
      "station    BC210\n",
      "Name: 75, dtype: object\n",
      "76\n",
      "76 row network       EM\n",
      "station    BC309\n",
      "Name: 76, dtype: object\n",
      "request_df   network station location channel                start                  end\n",
      "0      EM   BC309              LFE  2000-03-02T06:00:00  2023-01-01T00:00:00\n",
      "1      EM   BC309              LFN  2000-03-02T06:00:00  2023-01-01T00:00:00\n",
      "2      EM   BC309              LFZ  2000-03-02T06:00:00  2023-01-01T00:00:00\n",
      "3      EM   BC309              LQE  2000-03-02T06:00:00  2023-01-01T00:00:00\n",
      "4      EM   BC309              LQN  2000-03-02T06:00:00  2023-01-01T00:00:00\n",
      "inventory Inventory created at 2023-04-16T20:24:52.589288Z\n",
      "\tCreated by: ObsPy 1.4.0\n",
      "\t\t    https://www.obspy.org\n",
      "\tSending institution: MTH5\n",
      "\tContains:\n",
      "\t\tNetworks (1):\n",
      "\t\t\tEM\n",
      "\t\tStations (1):\n",
      "\t\t\tEM.BC309 (Upper Arrow Lake, Canada)\n",
      "\t\tChannels (5):\n",
      "\t\t\tEM.BC309..LFZ, EM.BC309..LFN, EM.BC309..LFE, EM.BC309..LQN, \n",
      "\t\t\tEM.BC309..LQE\n"
     ]
    },
    {
     "name": "stderr",
     "output_type": "stream",
     "text": [
      "2023-04-16 13:25:03,382 [line 674] mth5.mth5.MTH5._initialize_file - INFO: Initialized MTH5 0.2.0 file /home/kkappler/.cache/earthscope/EM_BC309.h5 in mode w\n",
      "2023-04-16 13:25:11,565 [line 498] mt_metadata.timeseries.stationxml.utils.XMLChannelMTChannel._xml_response_to_mt - INFO: Found an unnamed filter, named it: 'zpk_00'\n"
     ]
    },
    {
     "name": "stdout",
     "output_type": "stream",
     "text": [
      "2023-04-16T13:25:11 [line 134] obspy_stages.create_filter_from_stage - INFO: Converting PoleZerosResponseStage None to a CoefficientFilter\n"
     ]
    },
    {
     "name": "stderr",
     "output_type": "stream",
     "text": [
      "2023-04-16 13:25:11,601 [line 498] mt_metadata.timeseries.stationxml.utils.XMLChannelMTChannel._xml_response_to_mt - INFO: Found an unnamed filter, named it: 'coefficient_00'\n",
      "2023-04-16 13:25:11,610 [line 498] mt_metadata.timeseries.stationxml.utils.XMLChannelMTChannel._xml_response_to_mt - INFO: Found an unnamed filter, named it: 'zpk_01'\n"
     ]
    },
    {
     "name": "stdout",
     "output_type": "stream",
     "text": [
      "2023-04-16T13:25:11 [line 134] obspy_stages.create_filter_from_stage - INFO: Converting PoleZerosResponseStage None to a CoefficientFilter\n"
     ]
    },
    {
     "name": "stderr",
     "output_type": "stream",
     "text": [
      "2023-04-16 13:25:11,621 [line 498] mt_metadata.timeseries.stationxml.utils.XMLChannelMTChannel._xml_response_to_mt - INFO: Found an unnamed filter, named it: 'coefficient_01'\n"
     ]
    },
    {
     "name": "stdout",
     "output_type": "stream",
     "text": [
      "BAD REQUEST network       EM\n",
      "station    BC309\n",
      "Name: 76, dtype: object\n",
      "77\n",
      "77 row network       EM\n",
      "station    BC310\n",
      "Name: 77, dtype: object\n",
      "request_df   network station location channel                start                  end\n",
      "0      EM   BC310              LFE  2000-03-02T06:00:00  2023-01-01T00:00:00\n",
      "1      EM   BC310              LFN  2000-03-02T06:00:00  2023-01-01T00:00:00\n",
      "2      EM   BC310              LFZ  2000-03-02T06:00:00  2023-01-01T00:00:00\n",
      "3      EM   BC310              LQE  2000-03-02T06:00:00  2023-01-01T00:00:00\n",
      "4      EM   BC310              LQN  2000-03-02T06:00:00  2023-01-01T00:00:00\n",
      "inventory Inventory created at 2023-04-16T20:25:22.154828Z\n",
      "\tCreated by: ObsPy 1.4.0\n",
      "\t\t    https://www.obspy.org\n",
      "\tSending institution: MTH5\n",
      "\tContains:\n",
      "\t\tNetworks (1):\n",
      "\t\t\tEM\n",
      "\t\tStations (1):\n",
      "\t\t\tEM.BC310 (Howser, Canada)\n",
      "\t\tChannels (5):\n",
      "\t\t\tEM.BC310..LFZ, EM.BC310..LFN, EM.BC310..LFE, EM.BC310..LQN, \n",
      "\t\t\tEM.BC310..LQE\n"
     ]
    },
    {
     "name": "stderr",
     "output_type": "stream",
     "text": [
      "2023-04-16 13:25:32,975 [line 674] mth5.mth5.MTH5._initialize_file - INFO: Initialized MTH5 0.2.0 file /home/kkappler/.cache/earthscope/EM_BC310.h5 in mode w\n",
      "2023-04-16 13:25:42,952 [line 498] mt_metadata.timeseries.stationxml.utils.XMLChannelMTChannel._xml_response_to_mt - INFO: Found an unnamed filter, named it: 'zpk_00'\n"
     ]
    },
    {
     "name": "stdout",
     "output_type": "stream",
     "text": [
      "2023-04-16T13:25:42 [line 134] obspy_stages.create_filter_from_stage - INFO: Converting PoleZerosResponseStage None to a CoefficientFilter\n"
     ]
    },
    {
     "name": "stderr",
     "output_type": "stream",
     "text": [
      "2023-04-16 13:25:42,984 [line 498] mt_metadata.timeseries.stationxml.utils.XMLChannelMTChannel._xml_response_to_mt - INFO: Found an unnamed filter, named it: 'coefficient_00'\n",
      "2023-04-16 13:25:42,993 [line 498] mt_metadata.timeseries.stationxml.utils.XMLChannelMTChannel._xml_response_to_mt - INFO: Found an unnamed filter, named it: 'zpk_01'\n"
     ]
    },
    {
     "name": "stdout",
     "output_type": "stream",
     "text": [
      "2023-04-16T13:25:42 [line 134] obspy_stages.create_filter_from_stage - INFO: Converting PoleZerosResponseStage None to a CoefficientFilter\n"
     ]
    },
    {
     "name": "stderr",
     "output_type": "stream",
     "text": [
      "2023-04-16 13:25:43,004 [line 498] mt_metadata.timeseries.stationxml.utils.XMLChannelMTChannel._xml_response_to_mt - INFO: Found an unnamed filter, named it: 'coefficient_01'\n"
     ]
    },
    {
     "name": "stdout",
     "output_type": "stream",
     "text": [
      "BAD REQUEST network       EM\n",
      "station    BC310\n",
      "Name: 77, dtype: object\n",
      "78\n",
      "78 row network       EM\n",
      "station    BC409\n",
      "Name: 78, dtype: object\n",
      "request_df   network station location channel                start                  end\n",
      "0      EM   BC409              LFE  2000-03-02T06:00:00  2023-01-01T00:00:00\n",
      "1      EM   BC409              LFN  2000-03-02T06:00:00  2023-01-01T00:00:00\n",
      "2      EM   BC409              LFZ  2000-03-02T06:00:00  2023-01-01T00:00:00\n",
      "3      EM   BC409              LQE  2000-03-02T06:00:00  2023-01-01T00:00:00\n",
      "4      EM   BC409              LQN  2000-03-02T06:00:00  2023-01-01T00:00:00\n",
      "inventory Inventory created at 2023-04-16T20:25:53.540538Z\n",
      "\tCreated by: ObsPy 1.4.0\n",
      "\t\t    https://www.obspy.org\n",
      "\tSending institution: MTH5\n",
      "\tContains:\n",
      "\t\tNetworks (1):\n",
      "\t\t\tEM\n",
      "\t\tStations (1):\n",
      "\t\t\tEM.BC409 (Beaton, Canada)\n",
      "\t\tChannels (5):\n",
      "\t\t\tEM.BC409..LFZ, EM.BC409..LFN, EM.BC409..LFE, EM.BC409..LQN, \n",
      "\t\t\tEM.BC409..LQE\n"
     ]
    },
    {
     "name": "stderr",
     "output_type": "stream",
     "text": [
      "2023-04-16 13:26:04,420 [line 674] mth5.mth5.MTH5._initialize_file - INFO: Initialized MTH5 0.2.0 file /home/kkappler/.cache/earthscope/EM_BC409.h5 in mode w\n",
      "2023-04-16 13:26:12,686 [line 498] mt_metadata.timeseries.stationxml.utils.XMLChannelMTChannel._xml_response_to_mt - INFO: Found an unnamed filter, named it: 'zpk_00'\n"
     ]
    },
    {
     "name": "stdout",
     "output_type": "stream",
     "text": [
      "2023-04-16T13:26:12 [line 134] obspy_stages.create_filter_from_stage - INFO: Converting PoleZerosResponseStage None to a CoefficientFilter\n"
     ]
    },
    {
     "name": "stderr",
     "output_type": "stream",
     "text": [
      "2023-04-16 13:26:12,723 [line 498] mt_metadata.timeseries.stationxml.utils.XMLChannelMTChannel._xml_response_to_mt - INFO: Found an unnamed filter, named it: 'coefficient_00'\n",
      "2023-04-16 13:26:12,734 [line 498] mt_metadata.timeseries.stationxml.utils.XMLChannelMTChannel._xml_response_to_mt - INFO: Found an unnamed filter, named it: 'zpk_01'\n"
     ]
    },
    {
     "name": "stdout",
     "output_type": "stream",
     "text": [
      "2023-04-16T13:26:12 [line 134] obspy_stages.create_filter_from_stage - INFO: Converting PoleZerosResponseStage None to a CoefficientFilter\n"
     ]
    },
    {
     "name": "stderr",
     "output_type": "stream",
     "text": [
      "2023-04-16 13:26:12,747 [line 498] mt_metadata.timeseries.stationxml.utils.XMLChannelMTChannel._xml_response_to_mt - INFO: Found an unnamed filter, named it: 'coefficient_01'\n"
     ]
    },
    {
     "name": "stdout",
     "output_type": "stream",
     "text": [
      "BAD REQUEST network       EM\n",
      "station    BC409\n",
      "Name: 78, dtype: object\n",
      "79\n",
      "79 row network       EM\n",
      "station    BC410\n",
      "Name: 79, dtype: object\n",
      "request_df   network station location channel                start                  end\n",
      "0      EM   BC410              LFE  2000-03-02T06:00:00  2023-01-01T00:00:00\n",
      "1      EM   BC410              LFN  2000-03-02T06:00:00  2023-01-01T00:00:00\n",
      "2      EM   BC410              LFZ  2000-03-02T06:00:00  2023-01-01T00:00:00\n",
      "3      EM   BC410              LQE  2000-03-02T06:00:00  2023-01-01T00:00:00\n",
      "4      EM   BC410              LQN  2000-03-02T06:00:00  2023-01-01T00:00:00\n",
      "inventory Inventory created at 2023-04-16T20:26:23.310953Z\n",
      "\tCreated by: ObsPy 1.4.0\n",
      "\t\t    https://www.obspy.org\n",
      "\tSending institution: MTH5\n",
      "\tContains:\n",
      "\t\tNetworks (1):\n",
      "\t\t\tEM\n",
      "\t\tStations (1):\n",
      "\t\t\tEM.BC410 (Duncan River, Canada)\n",
      "\t\tChannels (5):\n",
      "\t\t\tEM.BC410..LFZ, EM.BC410..LFN, EM.BC410..LFE, EM.BC410..LQN, \n",
      "\t\t\tEM.BC410..LQE\n"
     ]
    },
    {
     "name": "stderr",
     "output_type": "stream",
     "text": [
      "2023-04-16 13:26:34,075 [line 674] mth5.mth5.MTH5._initialize_file - INFO: Initialized MTH5 0.2.0 file /home/kkappler/.cache/earthscope/EM_BC410.h5 in mode w\n",
      "2023-04-16 13:26:44,253 [line 498] mt_metadata.timeseries.stationxml.utils.XMLChannelMTChannel._xml_response_to_mt - INFO: Found an unnamed filter, named it: 'zpk_00'\n"
     ]
    },
    {
     "name": "stdout",
     "output_type": "stream",
     "text": [
      "2023-04-16T13:26:44 [line 134] obspy_stages.create_filter_from_stage - INFO: Converting PoleZerosResponseStage None to a CoefficientFilter\n"
     ]
    },
    {
     "name": "stderr",
     "output_type": "stream",
     "text": [
      "2023-04-16 13:26:44,285 [line 498] mt_metadata.timeseries.stationxml.utils.XMLChannelMTChannel._xml_response_to_mt - INFO: Found an unnamed filter, named it: 'coefficient_00'\n",
      "2023-04-16 13:26:44,294 [line 498] mt_metadata.timeseries.stationxml.utils.XMLChannelMTChannel._xml_response_to_mt - INFO: Found an unnamed filter, named it: 'zpk_01'\n"
     ]
    },
    {
     "name": "stdout",
     "output_type": "stream",
     "text": [
      "2023-04-16T13:26:44 [line 134] obspy_stages.create_filter_from_stage - INFO: Converting PoleZerosResponseStage None to a CoefficientFilter\n",
      "BAD REQUEST network       EM\n",
      "station    BC410\n",
      "Name: 79, dtype: object\n",
      "80\n",
      "80 row network       EM\n",
      "station    CAM02\n",
      "Name: 80, dtype: object\n",
      "request_df   network station location channel                start                  end\n",
      "0      EM   CAM02              LFE  2000-03-02T06:00:00  2023-01-01T00:00:00\n",
      "1      EM   CAM02              LFN  2000-03-02T06:00:00  2023-01-01T00:00:00\n",
      "2      EM   CAM02              LFZ  2000-03-02T06:00:00  2023-01-01T00:00:00\n",
      "3      EM   CAM02              LQE  2000-03-02T06:00:00  2023-01-01T00:00:00\n",
      "4      EM   CAM02              LQN  2000-03-02T06:00:00  2023-01-01T00:00:00\n",
      "inventory Inventory created at 2023-04-16T20:26:54.810396Z\n",
      "\tCreated by: ObsPy 1.4.0\n",
      "\t\t    https://www.obspy.org\n",
      "\tSending institution: MTH5\n",
      "\tContains:\n",
      "\t\tNetworks (1):\n",
      "\t\t\tEM\n",
      "\t\tStations (1):\n",
      "\t\t\tEM.CAM02 (Klamath Falls, CA, USA)\n",
      "\t\tChannels (5):\n",
      "\t\t\tEM.CAM02..LFZ, EM.CAM02..LFN, EM.CAM02..LFE, EM.CAM02..LQN, \n",
      "\t\t\tEM.CAM02..LQE\n"
     ]
    },
    {
     "name": "stderr",
     "output_type": "stream",
     "text": [
      "2023-04-16 13:27:05,638 [line 674] mth5.mth5.MTH5._initialize_file - INFO: Initialized MTH5 0.2.0 file /home/kkappler/.cache/earthscope/EM_CAM02.h5 in mode w\n",
      "2023-04-16 13:27:13,739 [line 498] mt_metadata.timeseries.stationxml.utils.XMLChannelMTChannel._xml_response_to_mt - INFO: Found an unnamed filter, named it: 'zpk_00'\n"
     ]
    },
    {
     "name": "stdout",
     "output_type": "stream",
     "text": [
      "2023-04-16T13:27:13 [line 134] obspy_stages.create_filter_from_stage - INFO: Converting PoleZerosResponseStage None to a CoefficientFilter\n"
     ]
    },
    {
     "name": "stderr",
     "output_type": "stream",
     "text": [
      "2023-04-16 13:27:13,771 [line 498] mt_metadata.timeseries.stationxml.utils.XMLChannelMTChannel._xml_response_to_mt - INFO: Found an unnamed filter, named it: 'coefficient_00'\n",
      "2023-04-16 13:27:13,781 [line 498] mt_metadata.timeseries.stationxml.utils.XMLChannelMTChannel._xml_response_to_mt - INFO: Found an unnamed filter, named it: 'zpk_01'\n"
     ]
    },
    {
     "name": "stdout",
     "output_type": "stream",
     "text": [
      "2023-04-16T13:27:13 [line 134] obspy_stages.create_filter_from_stage - INFO: Converting PoleZerosResponseStage None to a CoefficientFilter\n",
      "More or less runs have been requested by the user than are defined in the metadata. Runs will be defined but only the requested run extents contain time series data based on the users request.\n"
     ]
    },
    {
     "name": "stderr",
     "output_type": "stream",
     "text": [
      "2023-04-16 13:27:15,362 [line 1631] mth5.groups.base.Run.from_runts - WARNING: Channel run.id sr1_001 !=  group run.id 001\n",
      "2023-04-16 13:27:15,804 [line 1631] mth5.groups.base.Run.from_runts - WARNING: Channel run.id sr1_001 !=  group run.id 001\n",
      "2023-04-16 13:27:16,242 [line 1631] mth5.groups.base.Run.from_runts - WARNING: Channel run.id sr1_001 !=  group run.id 001\n",
      "2023-04-16 13:27:16,662 [line 1631] mth5.groups.base.Run.from_runts - WARNING: Channel run.id sr1_001 !=  group run.id 001\n",
      "2023-04-16 13:27:17,095 [line 1631] mth5.groups.base.Run.from_runts - WARNING: Channel run.id sr1_001 !=  group run.id 001\n",
      "2023-04-16 13:27:17,331 [line 755] mth5.mth5.MTH5.close_mth5 - INFO: Flushing and closing /home/kkappler/.cache/earthscope/EM_CAM02.h5\n"
     ]
    },
    {
     "name": "stdout",
     "output_type": "stream",
     "text": [
      "81\n",
      "81 row network       EM\n",
      "station    CAM06\n",
      "Name: 81, dtype: object\n",
      "request_df   network station location channel                start                  end\n",
      "0      EM   CAM06              LFE  2000-03-02T06:00:00  2023-01-01T00:00:00\n",
      "1      EM   CAM06              LFN  2000-03-02T06:00:00  2023-01-01T00:00:00\n",
      "2      EM   CAM06              LFZ  2000-03-02T06:00:00  2023-01-01T00:00:00\n",
      "3      EM   CAM06              LQE  2000-03-02T06:00:00  2023-01-01T00:00:00\n",
      "4      EM   CAM06              LQN  2000-03-02T06:00:00  2023-01-01T00:00:00\n",
      "inventory Inventory created at 2023-04-16T20:27:27.360501Z\n",
      "\tCreated by: ObsPy 1.4.0\n",
      "\t\t    https://www.obspy.org\n",
      "\tSending institution: MTH5\n",
      "\tContains:\n",
      "\t\tNetworks (1):\n",
      "\t\t\tEM\n",
      "\t\tStations (1):\n",
      "\t\t\tEM.CAM06 (Surprise Valley, CA, USA)\n",
      "\t\tChannels (5):\n",
      "\t\t\tEM.CAM06..LFZ, EM.CAM06..LFN, EM.CAM06..LFE, EM.CAM06..LQN, \n",
      "\t\t\tEM.CAM06..LQE\n"
     ]
    },
    {
     "name": "stderr",
     "output_type": "stream",
     "text": [
      "2023-04-16 13:27:38,189 [line 674] mth5.mth5.MTH5._initialize_file - INFO: Initialized MTH5 0.2.0 file /home/kkappler/.cache/earthscope/EM_CAM06.h5 in mode w\n",
      "2023-04-16 13:27:49,632 [line 498] mt_metadata.timeseries.stationxml.utils.XMLChannelMTChannel._xml_response_to_mt - INFO: Found an unnamed filter, named it: 'zpk_00'\n"
     ]
    },
    {
     "name": "stdout",
     "output_type": "stream",
     "text": [
      "2023-04-16T13:27:49 [line 134] obspy_stages.create_filter_from_stage - INFO: Converting PoleZerosResponseStage None to a CoefficientFilter\n"
     ]
    },
    {
     "name": "stderr",
     "output_type": "stream",
     "text": [
      "2023-04-16 13:27:49,665 [line 498] mt_metadata.timeseries.stationxml.utils.XMLChannelMTChannel._xml_response_to_mt - INFO: Found an unnamed filter, named it: 'coefficient_00'\n",
      "2023-04-16 13:27:49,673 [line 498] mt_metadata.timeseries.stationxml.utils.XMLChannelMTChannel._xml_response_to_mt - INFO: Found an unnamed filter, named it: 'zpk_01'\n"
     ]
    },
    {
     "name": "stdout",
     "output_type": "stream",
     "text": [
      "2023-04-16T13:27:49 [line 134] obspy_stages.create_filter_from_stage - INFO: Converting PoleZerosResponseStage None to a CoefficientFilter\n",
      "More or less runs have been requested by the user than are defined in the metadata. Runs will be defined but only the requested run extents contain time series data based on the users request.\n"
     ]
    },
    {
     "name": "stderr",
     "output_type": "stream",
     "text": [
      "2023-04-16 13:27:51,367 [line 1631] mth5.groups.base.Run.from_runts - WARNING: Channel run.id sr1_001 !=  group run.id 001\n",
      "2023-04-16 13:27:51,811 [line 1631] mth5.groups.base.Run.from_runts - WARNING: Channel run.id sr1_001 !=  group run.id 001\n",
      "2023-04-16 13:27:52,256 [line 1631] mth5.groups.base.Run.from_runts - WARNING: Channel run.id sr1_001 !=  group run.id 001\n",
      "2023-04-16 13:27:52,690 [line 1631] mth5.groups.base.Run.from_runts - WARNING: Channel run.id sr1_001 !=  group run.id 001\n",
      "2023-04-16 13:27:53,124 [line 1631] mth5.groups.base.Run.from_runts - WARNING: Channel run.id sr1_001 !=  group run.id 001\n",
      "2023-04-16 13:27:53,371 [line 755] mth5.mth5.MTH5.close_mth5 - INFO: Flushing and closing /home/kkappler/.cache/earthscope/EM_CAM06.h5\n"
     ]
    },
    {
     "name": "stdout",
     "output_type": "stream",
     "text": [
      "82\n",
      "82 row network       EM\n",
      "station    CAN06\n",
      "Name: 82, dtype: object\n",
      "request_df   network station location channel                start                  end\n",
      "0      EM   CAN06              LFE  2000-03-02T06:00:00  2023-01-01T00:00:00\n",
      "1      EM   CAN06              LFN  2000-03-02T06:00:00  2023-01-01T00:00:00\n",
      "2      EM   CAN06              LFZ  2000-03-02T06:00:00  2023-01-01T00:00:00\n",
      "3      EM   CAN06              LQE  2000-03-02T06:00:00  2023-01-01T00:00:00\n",
      "4      EM   CAN06              LQN  2000-03-02T06:00:00  2023-01-01T00:00:00\n",
      "inventory Inventory created at 2023-04-16T20:28:03.399903Z\n",
      "\tCreated by: ObsPy 1.4.0\n",
      "\t\t    https://www.obspy.org\n",
      "\tSending institution: MTH5\n",
      "\tContains:\n",
      "\t\tNetworks (1):\n",
      "\t\t\tEM\n",
      "\t\tStations (1):\n",
      "\t\t\tEM.CAN06 (Painters Creek, CA, USA)\n",
      "\t\tChannels (5):\n",
      "\t\t\tEM.CAN06..LFZ, EM.CAN06..LFN, EM.CAN06..LFE, EM.CAN06..LQN, \n",
      "\t\t\tEM.CAN06..LQE\n"
     ]
    },
    {
     "name": "stderr",
     "output_type": "stream",
     "text": [
      "2023-04-16 13:28:14,242 [line 674] mth5.mth5.MTH5._initialize_file - INFO: Initialized MTH5 0.2.0 file /home/kkappler/.cache/earthscope/EM_CAN06.h5 in mode w\n",
      "2023-04-16 13:28:21,740 [line 498] mt_metadata.timeseries.stationxml.utils.XMLChannelMTChannel._xml_response_to_mt - INFO: Found an unnamed filter, named it: 'zpk_00'\n"
     ]
    },
    {
     "name": "stdout",
     "output_type": "stream",
     "text": [
      "2023-04-16T13:28:21 [line 134] obspy_stages.create_filter_from_stage - INFO: Converting PoleZerosResponseStage None to a CoefficientFilter\n"
     ]
    },
    {
     "name": "stderr",
     "output_type": "stream",
     "text": [
      "2023-04-16 13:28:21,772 [line 498] mt_metadata.timeseries.stationxml.utils.XMLChannelMTChannel._xml_response_to_mt - INFO: Found an unnamed filter, named it: 'coefficient_00'\n",
      "2023-04-16 13:28:21,781 [line 498] mt_metadata.timeseries.stationxml.utils.XMLChannelMTChannel._xml_response_to_mt - INFO: Found an unnamed filter, named it: 'zpk_01'\n"
     ]
    },
    {
     "name": "stdout",
     "output_type": "stream",
     "text": [
      "2023-04-16T13:28:21 [line 134] obspy_stages.create_filter_from_stage - INFO: Converting PoleZerosResponseStage None to a CoefficientFilter\n",
      "More or less runs have been requested by the user than are defined in the metadata. Runs will be defined but only the requested run extents contain time series data based on the users request.\n"
     ]
    },
    {
     "name": "stderr",
     "output_type": "stream",
     "text": [
      "2023-04-16 13:28:23,408 [line 1631] mth5.groups.base.Run.from_runts - WARNING: Channel run.id sr1_001 !=  group run.id 001\n",
      "2023-04-16 13:28:23,844 [line 1631] mth5.groups.base.Run.from_runts - WARNING: Channel run.id sr1_001 !=  group run.id 001\n",
      "2023-04-16 13:28:24,290 [line 1631] mth5.groups.base.Run.from_runts - WARNING: Channel run.id sr1_001 !=  group run.id 001\n",
      "2023-04-16 13:28:24,735 [line 1631] mth5.groups.base.Run.from_runts - WARNING: Channel run.id sr1_001 !=  group run.id 001\n",
      "2023-04-16 13:28:25,170 [line 1631] mth5.groups.base.Run.from_runts - WARNING: Channel run.id sr1_001 !=  group run.id 001\n",
      "2023-04-16 13:28:25,413 [line 755] mth5.mth5.MTH5.close_mth5 - INFO: Flushing and closing /home/kkappler/.cache/earthscope/EM_CAN06.h5\n"
     ]
    },
    {
     "name": "stdout",
     "output_type": "stream",
     "text": [
      "83\n",
      "83 row network       EM\n",
      "station    CTI60\n",
      "Name: 83, dtype: object\n",
      "request_df   network station location channel                start                  end\n",
      "0      EM   CTI60              LFE  2000-03-02T06:00:00  2023-01-01T00:00:00\n",
      "1      EM   CTI60              LFN  2000-03-02T06:00:00  2023-01-01T00:00:00\n",
      "2      EM   CTI60              LFZ  2000-03-02T06:00:00  2023-01-01T00:00:00\n",
      "3      EM   CTI60              LQE  2000-03-02T06:00:00  2023-01-01T00:00:00\n",
      "4      EM   CTI60              LQN  2000-03-02T06:00:00  2023-01-01T00:00:00\n",
      "inventory Inventory created at 2023-04-16T20:28:35.465959Z\n",
      "\tCreated by: ObsPy 1.4.0\n",
      "\t\t    https://www.obspy.org\n",
      "\tSending institution: MTH5\n",
      "\tContains:\n",
      "\t\tNetworks (1):\n",
      "\t\t\tEM\n",
      "\t\tStations (1):\n",
      "\t\t\tEM.CTI60 (Wyantenock Forest, CT, USA)\n",
      "\t\tChannels (5):\n",
      "\t\t\tEM.CTI60..LFZ, EM.CTI60..LFN, EM.CTI60..LFE, EM.CTI60..LQN, \n",
      "\t\t\tEM.CTI60..LQE\n"
     ]
    },
    {
     "name": "stderr",
     "output_type": "stream",
     "text": [
      "2023-04-16 13:28:46,757 [line 674] mth5.mth5.MTH5._initialize_file - INFO: Initialized MTH5 0.2.0 file /home/kkappler/.cache/earthscope/EM_CTI60.h5 in mode w\n",
      "2023-04-16 13:28:57,966 [line 498] mt_metadata.timeseries.stationxml.utils.XMLChannelMTChannel._xml_response_to_mt - INFO: Found an unnamed filter, named it: 'zpk_00'\n",
      "2023-04-16 13:28:57,996 [line 498] mt_metadata.timeseries.stationxml.utils.XMLChannelMTChannel._xml_response_to_mt - INFO: Found an unnamed filter, named it: 'coefficient_00'\n",
      "2023-04-16 13:28:58,005 [line 498] mt_metadata.timeseries.stationxml.utils.XMLChannelMTChannel._xml_response_to_mt - INFO: Found an unnamed filter, named it: 'coefficient_00'\n",
      "2023-04-16 13:28:58,015 [line 498] mt_metadata.timeseries.stationxml.utils.XMLChannelMTChannel._xml_response_to_mt - INFO: Found an unnamed filter, named it: 'coefficient_01'\n"
     ]
    },
    {
     "name": "stdout",
     "output_type": "stream",
     "text": [
      "More or less runs have been requested by the user than are defined in the metadata. Runs will be defined but only the requested run extents contain time series data based on the users request.\n"
     ]
    },
    {
     "name": "stderr",
     "output_type": "stream",
     "text": [
      "2023-04-16 13:28:59,511 [line 1631] mth5.groups.base.Run.from_runts - WARNING: Channel run.id sr1_001 !=  group run.id 001\n",
      "2023-04-16 13:28:59,947 [line 1631] mth5.groups.base.Run.from_runts - WARNING: Channel run.id sr1_001 !=  group run.id 001\n",
      "2023-04-16 13:29:00,382 [line 1631] mth5.groups.base.Run.from_runts - WARNING: Channel run.id sr1_001 !=  group run.id 001\n",
      "2023-04-16 13:29:00,834 [line 1631] mth5.groups.base.Run.from_runts - WARNING: Channel run.id sr1_001 !=  group run.id 001\n",
      "2023-04-16 13:29:01,286 [line 1631] mth5.groups.base.Run.from_runts - WARNING: Channel run.id sr1_001 !=  group run.id 001\n",
      "2023-04-16 13:29:01,524 [line 755] mth5.mth5.MTH5.close_mth5 - INFO: Flushing and closing /home/kkappler/.cache/earthscope/EM_CTI60.h5\n"
     ]
    },
    {
     "name": "stdout",
     "output_type": "stream",
     "text": [
      "84\n",
      "84 row network       EM\n",
      "station    GAA53\n",
      "Name: 84, dtype: object\n",
      "request_df   network station location channel                start                  end\n",
      "0      EM   GAA53              LFE  2000-03-02T06:00:00  2023-01-01T00:00:00\n",
      "1      EM   GAA53              LFN  2000-03-02T06:00:00  2023-01-01T00:00:00\n",
      "2      EM   GAA53              LFZ  2000-03-02T06:00:00  2023-01-01T00:00:00\n",
      "3      EM   GAA53              LQE  2000-03-02T06:00:00  2023-01-01T00:00:00\n",
      "4      EM   GAA53              LQN  2000-03-02T06:00:00  2023-01-01T00:00:00\n",
      "inventory Inventory created at 2023-04-16T20:29:11.552975Z\n",
      "\tCreated by: ObsPy 1.4.0\n",
      "\t\t    https://www.obspy.org\n",
      "\tSending institution: MTH5\n",
      "\tContains:\n",
      "\t\tNetworks (1):\n",
      "\t\t\tEM\n",
      "\t\tStations (1):\n",
      "\t\t\tEM.GAA53 (WHEATLEY FOREST, GA, USA)\n",
      "\t\tChannels (5):\n",
      "\t\t\tEM.GAA53..LFZ, EM.GAA53..LFN, EM.GAA53..LFE, EM.GAA53..LQN, \n",
      "\t\t\tEM.GAA53..LQE\n"
     ]
    },
    {
     "name": "stderr",
     "output_type": "stream",
     "text": [
      "2023-04-16 13:29:22,337 [line 674] mth5.mth5.MTH5._initialize_file - INFO: Initialized MTH5 0.2.0 file /home/kkappler/.cache/earthscope/EM_GAA53.h5 in mode w\n",
      "2023-04-16 13:29:28,988 [line 498] mt_metadata.timeseries.stationxml.utils.XMLChannelMTChannel._xml_response_to_mt - INFO: Found an unnamed filter, named it: 'zpk_00'\n"
     ]
    },
    {
     "name": "stdout",
     "output_type": "stream",
     "text": [
      "2023-04-16T13:29:29 [line 134] obspy_stages.create_filter_from_stage - INFO: Converting PoleZerosResponseStage None to a CoefficientFilter\n"
     ]
    },
    {
     "name": "stderr",
     "output_type": "stream",
     "text": [
      "2023-04-16 13:29:29,022 [line 498] mt_metadata.timeseries.stationxml.utils.XMLChannelMTChannel._xml_response_to_mt - INFO: Found an unnamed filter, named it: 'coefficient_00'\n",
      "2023-04-16 13:29:29,031 [line 498] mt_metadata.timeseries.stationxml.utils.XMLChannelMTChannel._xml_response_to_mt - INFO: Found an unnamed filter, named it: 'zpk_01'\n"
     ]
    },
    {
     "name": "stdout",
     "output_type": "stream",
     "text": [
      "2023-04-16T13:29:29 [line 134] obspy_stages.create_filter_from_stage - INFO: Converting PoleZerosResponseStage None to a CoefficientFilter\n",
      "More or less runs have been requested by the user than are defined in the metadata. Runs will be defined but only the requested run extents contain time series data based on the users request.\n"
     ]
    },
    {
     "name": "stderr",
     "output_type": "stream",
     "text": [
      "2023-04-16 13:29:30,571 [line 1631] mth5.groups.base.Run.from_runts - WARNING: Channel run.id sr1_001 !=  group run.id 001\n",
      "2023-04-16 13:29:31,022 [line 1631] mth5.groups.base.Run.from_runts - WARNING: Channel run.id sr1_001 !=  group run.id 001\n",
      "2023-04-16 13:29:31,476 [line 1631] mth5.groups.base.Run.from_runts - WARNING: Channel run.id sr1_001 !=  group run.id 001\n",
      "2023-04-16 13:29:31,925 [line 1631] mth5.groups.base.Run.from_runts - WARNING: Channel run.id sr1_001 !=  group run.id 001\n",
      "2023-04-16 13:29:32,378 [line 1631] mth5.groups.base.Run.from_runts - WARNING: Channel run.id sr1_001 !=  group run.id 001\n",
      "2023-04-16 13:29:32,616 [line 755] mth5.mth5.MTH5.close_mth5 - INFO: Flushing and closing /home/kkappler/.cache/earthscope/EM_GAA53.h5\n"
     ]
    },
    {
     "name": "stdout",
     "output_type": "stream",
     "text": [
      "85\n",
      "85 row network       EM\n",
      "station    MC011\n",
      "Name: 85, dtype: object\n",
      "request_df   network station location channel                start                  end\n",
      "0      EM   MC011              LFE  2000-03-02T06:00:00  2023-01-01T00:00:00\n",
      "1      EM   MC011              LFN  2000-03-02T06:00:00  2023-01-01T00:00:00\n",
      "2      EM   MC011              LFZ  2000-03-02T06:00:00  2023-01-01T00:00:00\n",
      "3      EM   MC011              LQE  2000-03-02T06:00:00  2023-01-01T00:00:00\n",
      "4      EM   MC011              LQN  2000-03-02T06:00:00  2023-01-01T00:00:00\n",
      "inventory Inventory created at 2023-04-16T20:29:42.639887Z\n",
      "\tCreated by: ObsPy 1.4.0\n",
      "\t\t    https://www.obspy.org\n",
      "\tSending institution: MTH5\n",
      "\tContains:\n",
      "\t\tNetworks (1):\n",
      "\t\t\tEM\n",
      "\t\tStations (1):\n",
      "\t\t\tEM.MC011 (Little Horn, OR, USA)\n",
      "\t\tChannels (5):\n",
      "\t\t\tEM.MC011..LFZ, EM.MC011..LFN, EM.MC011..LFE, EM.MC011..LQN, \n",
      "\t\t\tEM.MC011..LQE\n"
     ]
    },
    {
     "name": "stderr",
     "output_type": "stream",
     "text": [
      "2023-04-16 13:29:53,371 [line 674] mth5.mth5.MTH5._initialize_file - INFO: Initialized MTH5 0.2.0 file /home/kkappler/.cache/earthscope/EM_MC011.h5 in mode w\n",
      "2023-04-16 13:30:05,392 [line 498] mt_metadata.timeseries.stationxml.utils.XMLChannelMTChannel._xml_response_to_mt - INFO: Found an unnamed filter, named it: 'coefficient_00'\n",
      "2023-04-16 13:30:05,420 [line 498] mt_metadata.timeseries.stationxml.utils.XMLChannelMTChannel._xml_response_to_mt - INFO: Found an unnamed filter, named it: 'coefficient_01'\n",
      "2023-04-16 13:30:05,427 [line 498] mt_metadata.timeseries.stationxml.utils.XMLChannelMTChannel._xml_response_to_mt - INFO: Found an unnamed filter, named it: 'coefficient_01'\n",
      "2023-04-16 13:30:05,437 [line 498] mt_metadata.timeseries.stationxml.utils.XMLChannelMTChannel._xml_response_to_mt - INFO: Found an unnamed filter, named it: 'coefficient_02'\n"
     ]
    },
    {
     "name": "stdout",
     "output_type": "stream",
     "text": [
      "More or less runs have been requested by the user than are defined in the metadata. Runs will be defined but only the requested run extents contain time series data based on the users request.\n"
     ]
    },
    {
     "name": "stderr",
     "output_type": "stream",
     "text": [
      "2023-04-16 13:30:07,275 [line 1631] mth5.groups.base.Run.from_runts - WARNING: Channel run.id sr1_001 !=  group run.id 001\n",
      "2023-04-16 13:30:07,723 [line 1631] mth5.groups.base.Run.from_runts - WARNING: Channel run.id sr1_001 !=  group run.id 001\n",
      "2023-04-16 13:30:08,168 [line 1631] mth5.groups.base.Run.from_runts - WARNING: Channel run.id sr1_001 !=  group run.id 001\n",
      "2023-04-16 13:30:08,628 [line 1631] mth5.groups.base.Run.from_runts - WARNING: Channel run.id sr1_001 !=  group run.id 001\n",
      "2023-04-16 13:30:09,079 [line 1631] mth5.groups.base.Run.from_runts - WARNING: Channel run.id sr1_001 !=  group run.id 001\n",
      "2023-04-16 13:30:09,327 [line 755] mth5.mth5.MTH5.close_mth5 - INFO: Flushing and closing /home/kkappler/.cache/earthscope/EM_MC011.h5\n"
     ]
    },
    {
     "name": "stdout",
     "output_type": "stream",
     "text": [
      "86\n",
      "86 row network       EM\n",
      "station    MC014\n",
      "Name: 86, dtype: object\n",
      "request_df   network station location channel                start                  end\n",
      "0      EM   MC014              LFE  2000-03-02T06:00:00  2023-01-01T00:00:00\n",
      "1      EM   MC014              LFN  2000-03-02T06:00:00  2023-01-01T00:00:00\n",
      "2      EM   MC014              LFZ  2000-03-02T06:00:00  2023-01-01T00:00:00\n",
      "3      EM   MC014              LQE  2000-03-02T06:00:00  2023-01-01T00:00:00\n",
      "4      EM   MC014              LQN  2000-03-02T06:00:00  2023-01-01T00:00:00\n",
      "inventory Inventory created at 2023-04-16T20:30:19.386737Z\n",
      "\tCreated by: ObsPy 1.4.0\n",
      "\t\t    https://www.obspy.org\n",
      "\tSending institution: MTH5\n",
      "\tContains:\n",
      "\t\tNetworks (1):\n",
      "\t\t\tEM\n",
      "\t\tStations (1):\n",
      "\t\t\tEM.MC014 (Blakely Tree Farm, WA, USA)\n",
      "\t\tChannels (5):\n",
      "\t\t\tEM.MC014..LFZ, EM.MC014..LFN, EM.MC014..LFE, EM.MC014..LQN, \n",
      "\t\t\tEM.MC014..LQE\n"
     ]
    },
    {
     "name": "stderr",
     "output_type": "stream",
     "text": [
      "2023-04-16 13:30:30,208 [line 674] mth5.mth5.MTH5._initialize_file - INFO: Initialized MTH5 0.2.0 file /home/kkappler/.cache/earthscope/EM_MC014.h5 in mode w\n",
      "2023-04-16 13:30:42,215 [line 498] mt_metadata.timeseries.stationxml.utils.XMLChannelMTChannel._xml_response_to_mt - INFO: Found an unnamed filter, named it: 'coefficient_00'\n",
      "2023-04-16 13:30:42,248 [line 498] mt_metadata.timeseries.stationxml.utils.XMLChannelMTChannel._xml_response_to_mt - INFO: Found an unnamed filter, named it: 'coefficient_01'\n",
      "2023-04-16 13:30:42,256 [line 498] mt_metadata.timeseries.stationxml.utils.XMLChannelMTChannel._xml_response_to_mt - INFO: Found an unnamed filter, named it: 'coefficient_01'\n",
      "2023-04-16 13:30:42,266 [line 498] mt_metadata.timeseries.stationxml.utils.XMLChannelMTChannel._xml_response_to_mt - INFO: Found an unnamed filter, named it: 'coefficient_02'\n"
     ]
    },
    {
     "name": "stdout",
     "output_type": "stream",
     "text": [
      "More or less runs have been requested by the user than are defined in the metadata. Runs will be defined but only the requested run extents contain time series data based on the users request.\n"
     ]
    },
    {
     "name": "stderr",
     "output_type": "stream",
     "text": [
      "2023-04-16 13:30:43,743 [line 1631] mth5.groups.base.Run.from_runts - WARNING: Channel run.id sr1_001 !=  group run.id 001\n",
      "2023-04-16 13:30:44,184 [line 1631] mth5.groups.base.Run.from_runts - WARNING: Channel run.id sr1_001 !=  group run.id 001\n",
      "2023-04-16 13:30:44,617 [line 1631] mth5.groups.base.Run.from_runts - WARNING: Channel run.id sr1_001 !=  group run.id 001\n",
      "2023-04-16 13:30:45,045 [line 1631] mth5.groups.base.Run.from_runts - WARNING: Channel run.id sr1_001 !=  group run.id 001\n",
      "2023-04-16 13:30:45,483 [line 1631] mth5.groups.base.Run.from_runts - WARNING: Channel run.id sr1_001 !=  group run.id 001\n",
      "2023-04-16 13:30:45,726 [line 755] mth5.mth5.MTH5.close_mth5 - INFO: Flushing and closing /home/kkappler/.cache/earthscope/EM_MC014.h5\n"
     ]
    },
    {
     "name": "stdout",
     "output_type": "stream",
     "text": [
      "87\n",
      "87 row network       EM\n",
      "station    MC016\n",
      "Name: 87, dtype: object\n",
      "request_df   network station location channel                start                  end\n",
      "0      EM   MC016              LFE  2000-03-02T06:00:00  2023-01-01T00:00:00\n",
      "1      EM   MC016              LFN  2000-03-02T06:00:00  2023-01-01T00:00:00\n",
      "2      EM   MC016              LFZ  2000-03-02T06:00:00  2023-01-01T00:00:00\n",
      "3      EM   MC016              LQE  2000-03-02T06:00:00  2023-01-01T00:00:00\n",
      "4      EM   MC016              LQN  2000-03-02T06:00:00  2023-01-01T00:00:00\n",
      "inventory Inventory created at 2023-04-16T20:30:55.753697Z\n",
      "\tCreated by: ObsPy 1.4.0\n",
      "\t\t    https://www.obspy.org\n",
      "\tSending institution: MTH5\n",
      "\tContains:\n",
      "\t\tNetworks (1):\n",
      "\t\t\tEM\n",
      "\t\tStations (1):\n",
      "\t\t\tEM.MC016 (Wet Willy, OR, USA)\n",
      "\t\tChannels (5):\n",
      "\t\t\tEM.MC016..LFZ, EM.MC016..LFN, EM.MC016..LFE, EM.MC016..LQN, \n",
      "\t\t\tEM.MC016..LQE\n"
     ]
    },
    {
     "name": "stderr",
     "output_type": "stream",
     "text": [
      "2023-04-16 13:31:06,554 [line 674] mth5.mth5.MTH5._initialize_file - INFO: Initialized MTH5 0.2.0 file /home/kkappler/.cache/earthscope/EM_MC016.h5 in mode w\n",
      "2023-04-16 13:31:18,080 [line 498] mt_metadata.timeseries.stationxml.utils.XMLChannelMTChannel._xml_response_to_mt - INFO: Found an unnamed filter, named it: 'coefficient_00'\n",
      "2023-04-16 13:31:18,110 [line 498] mt_metadata.timeseries.stationxml.utils.XMLChannelMTChannel._xml_response_to_mt - INFO: Found an unnamed filter, named it: 'coefficient_01'\n",
      "2023-04-16 13:31:18,118 [line 498] mt_metadata.timeseries.stationxml.utils.XMLChannelMTChannel._xml_response_to_mt - INFO: Found an unnamed filter, named it: 'coefficient_01'\n",
      "2023-04-16 13:31:18,127 [line 498] mt_metadata.timeseries.stationxml.utils.XMLChannelMTChannel._xml_response_to_mt - INFO: Found an unnamed filter, named it: 'coefficient_02'\n"
     ]
    },
    {
     "name": "stdout",
     "output_type": "stream",
     "text": [
      "More or less runs have been requested by the user than are defined in the metadata. Runs will be defined but only the requested run extents contain time series data based on the users request.\n"
     ]
    },
    {
     "name": "stderr",
     "output_type": "stream",
     "text": [
      "2023-04-16 13:31:19,917 [line 1631] mth5.groups.base.Run.from_runts - WARNING: Channel run.id sr1_001 !=  group run.id 001\n",
      "2023-04-16 13:31:20,366 [line 1631] mth5.groups.base.Run.from_runts - WARNING: Channel run.id sr1_001 !=  group run.id 001\n",
      "2023-04-16 13:31:20,797 [line 1631] mth5.groups.base.Run.from_runts - WARNING: Channel run.id sr1_001 !=  group run.id 001\n",
      "2023-04-16 13:31:21,255 [line 1631] mth5.groups.base.Run.from_runts - WARNING: Channel run.id sr1_001 !=  group run.id 001\n",
      "2023-04-16 13:31:21,695 [line 1631] mth5.groups.base.Run.from_runts - WARNING: Channel run.id sr1_001 !=  group run.id 001\n",
      "2023-04-16 13:31:21,934 [line 755] mth5.mth5.MTH5.close_mth5 - INFO: Flushing and closing /home/kkappler/.cache/earthscope/EM_MC016.h5\n"
     ]
    },
    {
     "name": "stdout",
     "output_type": "stream",
     "text": [
      "88\n",
      "88 row network       EM\n",
      "station    MD010\n",
      "Name: 88, dtype: object\n",
      "request_df   network station location channel                start                  end\n",
      "0      EM   MD010              LFE  2000-03-02T06:00:00  2023-01-01T00:00:00\n",
      "1      EM   MD010              LFN  2000-03-02T06:00:00  2023-01-01T00:00:00\n",
      "2      EM   MD010              LFZ  2000-03-02T06:00:00  2023-01-01T00:00:00\n",
      "3      EM   MD010              LQE  2000-03-02T06:00:00  2023-01-01T00:00:00\n",
      "4      EM   MD010              LQN  2000-03-02T06:00:00  2023-01-01T00:00:00\n",
      "inventory Inventory created at 2023-04-16T20:31:31.962607Z\n",
      "\tCreated by: ObsPy 1.4.0\n",
      "\t\t    https://www.obspy.org\n",
      "\tSending institution: MTH5\n",
      "\tContains:\n",
      "\t\tNetworks (1):\n",
      "\t\t\tEM\n",
      "\t\tStations (1):\n",
      "\t\t\tEM.MD010 (Roundabout, OR, USA)\n",
      "\t\tChannels (5):\n",
      "\t\t\tEM.MD010..LFZ, EM.MD010..LFN, EM.MD010..LFE, EM.MD010..LQN, \n",
      "\t\t\tEM.MD010..LQE\n"
     ]
    },
    {
     "name": "stderr",
     "output_type": "stream",
     "text": [
      "2023-04-16 13:31:42,743 [line 674] mth5.mth5.MTH5._initialize_file - INFO: Initialized MTH5 0.2.0 file /home/kkappler/.cache/earthscope/EM_MD010.h5 in mode w\n",
      "2023-04-16 13:31:54,808 [line 498] mt_metadata.timeseries.stationxml.utils.XMLChannelMTChannel._xml_response_to_mt - INFO: Found an unnamed filter, named it: 'coefficient_00'\n",
      "2023-04-16 13:31:54,836 [line 498] mt_metadata.timeseries.stationxml.utils.XMLChannelMTChannel._xml_response_to_mt - INFO: Found an unnamed filter, named it: 'coefficient_01'\n",
      "2023-04-16 13:31:54,844 [line 498] mt_metadata.timeseries.stationxml.utils.XMLChannelMTChannel._xml_response_to_mt - INFO: Found an unnamed filter, named it: 'coefficient_01'\n",
      "2023-04-16 13:31:54,853 [line 498] mt_metadata.timeseries.stationxml.utils.XMLChannelMTChannel._xml_response_to_mt - INFO: Found an unnamed filter, named it: 'coefficient_02'\n"
     ]
    },
    {
     "name": "stdout",
     "output_type": "stream",
     "text": [
      "More or less runs have been requested by the user than are defined in the metadata. Runs will be defined but only the requested run extents contain time series data based on the users request.\n"
     ]
    },
    {
     "name": "stderr",
     "output_type": "stream",
     "text": [
      "2023-04-16 13:31:56,729 [line 1631] mth5.groups.base.Run.from_runts - WARNING: Channel run.id sr1_001 !=  group run.id 001\n",
      "2023-04-16 13:31:57,190 [line 1631] mth5.groups.base.Run.from_runts - WARNING: Channel run.id sr1_001 !=  group run.id 001\n",
      "2023-04-16 13:31:57,624 [line 1631] mth5.groups.base.Run.from_runts - WARNING: Channel run.id sr1_001 !=  group run.id 001\n",
      "2023-04-16 13:31:58,079 [line 1631] mth5.groups.base.Run.from_runts - WARNING: Channel run.id sr1_001 !=  group run.id 001\n",
      "2023-04-16 13:31:58,524 [line 1631] mth5.groups.base.Run.from_runts - WARNING: Channel run.id sr1_001 !=  group run.id 001\n",
      "2023-04-16 13:31:58,768 [line 755] mth5.mth5.MTH5.close_mth5 - INFO: Flushing and closing /home/kkappler/.cache/earthscope/EM_MD010.h5\n"
     ]
    },
    {
     "name": "stdout",
     "output_type": "stream",
     "text": [
      "89\n",
      "89 row network       EM\n",
      "station    MD013\n",
      "Name: 89, dtype: object\n",
      "request_df   network station location channel                start                  end\n",
      "0      EM   MD013              LFE  2000-03-02T06:00:00  2023-01-01T00:00:00\n",
      "1      EM   MD013              LFN  2000-03-02T06:00:00  2023-01-01T00:00:00\n",
      "2      EM   MD013              LFZ  2000-03-02T06:00:00  2023-01-01T00:00:00\n",
      "3      EM   MD013              LQE  2000-03-02T06:00:00  2023-01-01T00:00:00\n",
      "4      EM   MD013              LQN  2000-03-02T06:00:00  2023-01-01T00:00:00\n",
      "inventory Inventory created at 2023-04-16T20:32:08.795533Z\n",
      "\tCreated by: ObsPy 1.4.0\n",
      "\t\t    https://www.obspy.org\n",
      "\tSending institution: MTH5\n",
      "\tContains:\n",
      "\t\tNetworks (1):\n",
      "\t\t\tEM\n",
      "\t\tStations (1):\n",
      "\t\t\tEM.MD013 (Winlock, WA, USA)\n",
      "\t\tChannels (5):\n",
      "\t\t\tEM.MD013..LFZ, EM.MD013..LFN, EM.MD013..LFE, EM.MD013..LQN, \n",
      "\t\t\tEM.MD013..LQE\n"
     ]
    },
    {
     "name": "stderr",
     "output_type": "stream",
     "text": [
      "2023-04-16 13:32:19,619 [line 674] mth5.mth5.MTH5._initialize_file - INFO: Initialized MTH5 0.2.0 file /home/kkappler/.cache/earthscope/EM_MD013.h5 in mode w\n",
      "2023-04-16 13:32:29,113 [line 498] mt_metadata.timeseries.stationxml.utils.XMLChannelMTChannel._xml_response_to_mt - INFO: Found an unnamed filter, named it: 'coefficient_00'\n",
      "2023-04-16 13:32:29,145 [line 498] mt_metadata.timeseries.stationxml.utils.XMLChannelMTChannel._xml_response_to_mt - INFO: Found an unnamed filter, named it: 'coefficient_01'\n",
      "2023-04-16 13:32:29,154 [line 498] mt_metadata.timeseries.stationxml.utils.XMLChannelMTChannel._xml_response_to_mt - INFO: Found an unnamed filter, named it: 'coefficient_01'\n",
      "2023-04-16 13:32:29,164 [line 498] mt_metadata.timeseries.stationxml.utils.XMLChannelMTChannel._xml_response_to_mt - INFO: Found an unnamed filter, named it: 'coefficient_02'\n"
     ]
    },
    {
     "name": "stdout",
     "output_type": "stream",
     "text": [
      "More or less runs have been requested by the user than are defined in the metadata. Runs will be defined but only the requested run extents contain time series data based on the users request.\n"
     ]
    },
    {
     "name": "stderr",
     "output_type": "stream",
     "text": [
      "2023-04-16 13:32:30,642 [line 1631] mth5.groups.base.Run.from_runts - WARNING: Channel run.id sr1_001 !=  group run.id 001\n",
      "2023-04-16 13:32:31,086 [line 1631] mth5.groups.base.Run.from_runts - WARNING: Channel run.id sr1_001 !=  group run.id 001\n",
      "2023-04-16 13:32:31,515 [line 1631] mth5.groups.base.Run.from_runts - WARNING: Channel run.id sr1_001 !=  group run.id 001\n",
      "2023-04-16 13:32:31,929 [line 1631] mth5.groups.base.Run.from_runts - WARNING: Channel run.id sr1_001 !=  group run.id 001\n",
      "2023-04-16 13:32:32,352 [line 1631] mth5.groups.base.Run.from_runts - WARNING: Channel run.id sr1_001 !=  group run.id 001\n",
      "2023-04-16 13:32:32,584 [line 755] mth5.mth5.MTH5.close_mth5 - INFO: Flushing and closing /home/kkappler/.cache/earthscope/EM_MD013.h5\n"
     ]
    },
    {
     "name": "stdout",
     "output_type": "stream",
     "text": [
      "90\n",
      "90 row network       EM\n",
      "station    ME011\n",
      "Name: 90, dtype: object\n",
      "request_df   network station location channel                start                  end\n",
      "0      EM   ME011              LFE  2000-03-02T06:00:00  2023-01-01T00:00:00\n",
      "1      EM   ME011              LFN  2000-03-02T06:00:00  2023-01-01T00:00:00\n",
      "2      EM   ME011              LFZ  2000-03-02T06:00:00  2023-01-01T00:00:00\n",
      "3      EM   ME011              LQE  2000-03-02T06:00:00  2023-01-01T00:00:00\n",
      "4      EM   ME011              LQN  2000-03-02T06:00:00  2023-01-01T00:00:00\n",
      "inventory Inventory created at 2023-04-16T20:32:42.611955Z\n",
      "\tCreated by: ObsPy 1.4.0\n",
      "\t\t    https://www.obspy.org\n",
      "\tSending institution: MTH5\n",
      "\tContains:\n",
      "\t\tNetworks (1):\n",
      "\t\t\tEM\n",
      "\t\tStations (1):\n",
      "\t\t\tEM.ME011 (Slide Creek, OR, USA)\n",
      "\t\tChannels (5):\n",
      "\t\t\tEM.ME011..LFZ, EM.ME011..LFN, EM.ME011..LFE, EM.ME011..LQN, \n",
      "\t\t\tEM.ME011..LQE\n"
     ]
    },
    {
     "name": "stderr",
     "output_type": "stream",
     "text": [
      "2023-04-16 13:32:53,431 [line 674] mth5.mth5.MTH5._initialize_file - INFO: Initialized MTH5 0.2.0 file /home/kkappler/.cache/earthscope/EM_ME011.h5 in mode w\n",
      "2023-04-16 13:33:01,597 [line 498] mt_metadata.timeseries.stationxml.utils.XMLChannelMTChannel._xml_response_to_mt - INFO: Found an unnamed filter, named it: 'coefficient_00'\n",
      "2023-04-16 13:33:01,626 [line 498] mt_metadata.timeseries.stationxml.utils.XMLChannelMTChannel._xml_response_to_mt - INFO: Found an unnamed filter, named it: 'coefficient_01'\n",
      "2023-04-16 13:33:01,634 [line 498] mt_metadata.timeseries.stationxml.utils.XMLChannelMTChannel._xml_response_to_mt - INFO: Found an unnamed filter, named it: 'coefficient_01'\n",
      "2023-04-16 13:33:01,644 [line 498] mt_metadata.timeseries.stationxml.utils.XMLChannelMTChannel._xml_response_to_mt - INFO: Found an unnamed filter, named it: 'coefficient_02'\n"
     ]
    },
    {
     "name": "stdout",
     "output_type": "stream",
     "text": [
      "More or less runs have been requested by the user than are defined in the metadata. Runs will be defined but only the requested run extents contain time series data based on the users request.\n"
     ]
    },
    {
     "name": "stderr",
     "output_type": "stream",
     "text": [
      "2023-04-16 13:33:03,110 [line 1631] mth5.groups.base.Run.from_runts - WARNING: Channel run.id sr1_001 !=  group run.id 001\n",
      "2023-04-16 13:33:03,547 [line 1631] mth5.groups.base.Run.from_runts - WARNING: Channel run.id sr1_001 !=  group run.id 001\n",
      "2023-04-16 13:33:03,980 [line 1631] mth5.groups.base.Run.from_runts - WARNING: Channel run.id sr1_001 !=  group run.id 001\n",
      "2023-04-16 13:33:04,424 [line 1631] mth5.groups.base.Run.from_runts - WARNING: Channel run.id sr1_001 !=  group run.id 001\n",
      "2023-04-16 13:33:04,846 [line 1631] mth5.groups.base.Run.from_runts - WARNING: Channel run.id sr1_001 !=  group run.id 001\n",
      "2023-04-16 13:33:05,078 [line 755] mth5.mth5.MTH5.close_mth5 - INFO: Flushing and closing /home/kkappler/.cache/earthscope/EM_ME011.h5\n"
     ]
    },
    {
     "name": "stdout",
     "output_type": "stream",
     "text": [
      "91\n",
      "91 row network       EM\n",
      "station    ME012\n",
      "Name: 91, dtype: object\n",
      "request_df   network station location channel                start                  end\n",
      "0      EM   ME012              LFE  2000-03-02T06:00:00  2023-01-01T00:00:00\n",
      "1      EM   ME012              LFN  2000-03-02T06:00:00  2023-01-01T00:00:00\n",
      "2      EM   ME012              LFZ  2000-03-02T06:00:00  2023-01-01T00:00:00\n",
      "3      EM   ME012              LQE  2000-03-02T06:00:00  2023-01-01T00:00:00\n",
      "4      EM   ME012              LQN  2000-03-02T06:00:00  2023-01-01T00:00:00\n",
      "inventory Inventory created at 2023-04-16T20:33:15.102274Z\n",
      "\tCreated by: ObsPy 1.4.0\n",
      "\t\t    https://www.obspy.org\n",
      "\tSending institution: MTH5\n",
      "\tContains:\n",
      "\t\tNetworks (1):\n",
      "\t\t\tEM\n",
      "\t\tStations (1):\n",
      "\t\t\tEM.ME012 (Mud Pit of Despair, WA, USA)\n",
      "\t\tChannels (5):\n",
      "\t\t\tEM.ME012..LFZ, EM.ME012..LFN, EM.ME012..LFE, EM.ME012..LQN, \n",
      "\t\t\tEM.ME012..LQE\n"
     ]
    },
    {
     "name": "stderr",
     "output_type": "stream",
     "text": [
      "2023-04-16 13:33:25,988 [line 674] mth5.mth5.MTH5._initialize_file - INFO: Initialized MTH5 0.2.0 file /home/kkappler/.cache/earthscope/EM_ME012.h5 in mode w\n",
      "2023-04-16 13:33:37,299 [line 498] mt_metadata.timeseries.stationxml.utils.XMLChannelMTChannel._xml_response_to_mt - INFO: Found an unnamed filter, named it: 'coefficient_00'\n",
      "2023-04-16 13:33:37,329 [line 498] mt_metadata.timeseries.stationxml.utils.XMLChannelMTChannel._xml_response_to_mt - INFO: Found an unnamed filter, named it: 'coefficient_01'\n",
      "2023-04-16 13:33:37,336 [line 498] mt_metadata.timeseries.stationxml.utils.XMLChannelMTChannel._xml_response_to_mt - INFO: Found an unnamed filter, named it: 'coefficient_01'\n",
      "2023-04-16 13:33:37,346 [line 498] mt_metadata.timeseries.stationxml.utils.XMLChannelMTChannel._xml_response_to_mt - INFO: Found an unnamed filter, named it: 'coefficient_02'\n"
     ]
    },
    {
     "name": "stdout",
     "output_type": "stream",
     "text": [
      "More or less runs have been requested by the user than are defined in the metadata. Runs will be defined but only the requested run extents contain time series data based on the users request.\n"
     ]
    },
    {
     "name": "stderr",
     "output_type": "stream",
     "text": [
      "2023-04-16 13:33:39,110 [line 1631] mth5.groups.base.Run.from_runts - WARNING: Channel run.id sr1_001 !=  group run.id 001\n",
      "2023-04-16 13:33:39,551 [line 1631] mth5.groups.base.Run.from_runts - WARNING: Channel run.id sr1_001 !=  group run.id 001\n",
      "2023-04-16 13:33:39,985 [line 1631] mth5.groups.base.Run.from_runts - WARNING: Channel run.id sr1_001 !=  group run.id 001\n",
      "2023-04-16 13:33:40,421 [line 1631] mth5.groups.base.Run.from_runts - WARNING: Channel run.id sr1_001 !=  group run.id 001\n",
      "2023-04-16 13:33:40,848 [line 1631] mth5.groups.base.Run.from_runts - WARNING: Channel run.id sr1_001 !=  group run.id 001\n",
      "2023-04-16 13:33:41,095 [line 755] mth5.mth5.MTH5.close_mth5 - INFO: Flushing and closing /home/kkappler/.cache/earthscope/EM_ME012.h5\n"
     ]
    },
    {
     "name": "stdout",
     "output_type": "stream",
     "text": [
      "92\n",
      "92 row network       EM\n",
      "station    MF012\n",
      "Name: 92, dtype: object\n",
      "request_df   network station location channel                start                  end\n",
      "0      EM   MF012              LFE  2000-03-02T06:00:00  2023-01-01T00:00:00\n",
      "1      EM   MF012              LFN  2000-03-02T06:00:00  2023-01-01T00:00:00\n",
      "2      EM   MF012              LFZ  2000-03-02T06:00:00  2023-01-01T00:00:00\n",
      "3      EM   MF012              LQE  2000-03-02T06:00:00  2023-01-01T00:00:00\n",
      "4      EM   MF012              LQN  2000-03-02T06:00:00  2023-01-01T00:00:00\n",
      "inventory Inventory created at 2023-04-16T20:33:51.121622Z\n",
      "\tCreated by: ObsPy 1.4.0\n",
      "\t\t    https://www.obspy.org\n",
      "\tSending institution: MTH5\n",
      "\tContains:\n",
      "\t\tNetworks (1):\n",
      "\t\t\tEM\n",
      "\t\tStations (1):\n",
      "\t\t\tEM.MF012 (Sleeping Giants, OR, USA)\n",
      "\t\tChannels (5):\n",
      "\t\t\tEM.MF012..LFZ, EM.MF012..LFN, EM.MF012..LFE, EM.MF012..LQN, \n",
      "\t\t\tEM.MF012..LQE\n"
     ]
    },
    {
     "name": "stderr",
     "output_type": "stream",
     "text": [
      "2023-04-16 13:34:01,917 [line 674] mth5.mth5.MTH5._initialize_file - INFO: Initialized MTH5 0.2.0 file /home/kkappler/.cache/earthscope/EM_MF012.h5 in mode w\n",
      "2023-04-16 13:34:11,153 [line 498] mt_metadata.timeseries.stationxml.utils.XMLChannelMTChannel._xml_response_to_mt - INFO: Found an unnamed filter, named it: 'coefficient_00'\n",
      "2023-04-16 13:34:11,185 [line 498] mt_metadata.timeseries.stationxml.utils.XMLChannelMTChannel._xml_response_to_mt - INFO: Found an unnamed filter, named it: 'coefficient_01'\n",
      "2023-04-16 13:34:11,195 [line 498] mt_metadata.timeseries.stationxml.utils.XMLChannelMTChannel._xml_response_to_mt - INFO: Found an unnamed filter, named it: 'coefficient_01'\n",
      "2023-04-16 13:34:11,210 [line 498] mt_metadata.timeseries.stationxml.utils.XMLChannelMTChannel._xml_response_to_mt - INFO: Found an unnamed filter, named it: 'coefficient_02'\n"
     ]
    },
    {
     "name": "stdout",
     "output_type": "stream",
     "text": [
      "More or less runs have been requested by the user than are defined in the metadata. Runs will be defined but only the requested run extents contain time series data based on the users request.\n"
     ]
    },
    {
     "name": "stderr",
     "output_type": "stream",
     "text": [
      "2023-04-16 13:34:12,950 [line 1631] mth5.groups.base.Run.from_runts - WARNING: Channel run.id sr1_001 !=  group run.id 001\n",
      "2023-04-16 13:34:13,401 [line 1631] mth5.groups.base.Run.from_runts - WARNING: Channel run.id sr1_001 !=  group run.id 001\n",
      "2023-04-16 13:34:13,849 [line 1631] mth5.groups.base.Run.from_runts - WARNING: Channel run.id sr1_001 !=  group run.id 001\n",
      "2023-04-16 13:34:14,317 [line 1631] mth5.groups.base.Run.from_runts - WARNING: Channel run.id sr1_001 !=  group run.id 001\n",
      "2023-04-16 13:34:14,759 [line 1631] mth5.groups.base.Run.from_runts - WARNING: Channel run.id sr1_001 !=  group run.id 001\n",
      "2023-04-16 13:34:15,004 [line 755] mth5.mth5.MTH5.close_mth5 - INFO: Flushing and closing /home/kkappler/.cache/earthscope/EM_MF012.h5\n"
     ]
    },
    {
     "name": "stdout",
     "output_type": "stream",
     "text": [
      "93\n",
      "93 row network       EM\n",
      "station    MG012\n",
      "Name: 93, dtype: object\n",
      "request_df   network station location channel                start                  end\n",
      "0      EM   MG012              LFE  2000-03-02T06:00:00  2023-01-01T00:00:00\n",
      "1      EM   MG012              LFN  2000-03-02T06:00:00  2023-01-01T00:00:00\n",
      "2      EM   MG012              LFZ  2000-03-02T06:00:00  2023-01-01T00:00:00\n",
      "3      EM   MG012              LQE  2000-03-02T06:00:00  2023-01-01T00:00:00\n",
      "4      EM   MG012              LQN  2000-03-02T06:00:00  2023-01-01T00:00:00\n",
      "inventory Inventory created at 2023-04-16T20:34:25.032801Z\n",
      "\tCreated by: ObsPy 1.4.0\n",
      "\t\t    https://www.obspy.org\n",
      "\tSending institution: MTH5\n",
      "\tContains:\n",
      "\t\tNetworks (1):\n",
      "\t\t\tEM\n",
      "\t\tStations (1):\n",
      "\t\t\tEM.MG012 (Vernonia, OR, USA)\n",
      "\t\tChannels (5):\n",
      "\t\t\tEM.MG012..LFZ, EM.MG012..LFN, EM.MG012..LFE, EM.MG012..LQN, \n",
      "\t\t\tEM.MG012..LQE\n"
     ]
    },
    {
     "name": "stderr",
     "output_type": "stream",
     "text": [
      "2023-04-16 13:34:35,929 [line 674] mth5.mth5.MTH5._initialize_file - INFO: Initialized MTH5 0.2.0 file /home/kkappler/.cache/earthscope/EM_MG012.h5 in mode w\n",
      "2023-04-16 13:34:47,671 [line 498] mt_metadata.timeseries.stationxml.utils.XMLChannelMTChannel._xml_response_to_mt - INFO: Found an unnamed filter, named it: 'coefficient_00'\n",
      "2023-04-16 13:34:47,701 [line 498] mt_metadata.timeseries.stationxml.utils.XMLChannelMTChannel._xml_response_to_mt - INFO: Found an unnamed filter, named it: 'coefficient_01'\n",
      "2023-04-16 13:34:47,708 [line 498] mt_metadata.timeseries.stationxml.utils.XMLChannelMTChannel._xml_response_to_mt - INFO: Found an unnamed filter, named it: 'coefficient_01'\n",
      "2023-04-16 13:34:47,717 [line 498] mt_metadata.timeseries.stationxml.utils.XMLChannelMTChannel._xml_response_to_mt - INFO: Found an unnamed filter, named it: 'coefficient_02'\n"
     ]
    },
    {
     "name": "stdout",
     "output_type": "stream",
     "text": [
      "More or less runs have been requested by the user than are defined in the metadata. Runs will be defined but only the requested run extents contain time series data based on the users request.\n"
     ]
    },
    {
     "name": "stderr",
     "output_type": "stream",
     "text": [
      "2023-04-16 13:34:49,451 [line 1631] mth5.groups.base.Run.from_runts - WARNING: Channel run.id sr1_001 !=  group run.id 001\n",
      "2023-04-16 13:34:49,905 [line 1631] mth5.groups.base.Run.from_runts - WARNING: Channel run.id sr1_001 !=  group run.id 001\n",
      "2023-04-16 13:34:50,361 [line 1631] mth5.groups.base.Run.from_runts - WARNING: Channel run.id sr1_001 !=  group run.id 001\n",
      "2023-04-16 13:34:50,801 [line 1631] mth5.groups.base.Run.from_runts - WARNING: Channel run.id sr1_001 !=  group run.id 001\n",
      "2023-04-16 13:34:51,256 [line 1631] mth5.groups.base.Run.from_runts - WARNING: Channel run.id sr1_001 !=  group run.id 001\n",
      "2023-04-16 13:34:51,495 [line 755] mth5.mth5.MTH5.close_mth5 - INFO: Flushing and closing /home/kkappler/.cache/earthscope/EM_MG012.h5\n"
     ]
    },
    {
     "name": "stdout",
     "output_type": "stream",
     "text": [
      "94\n",
      "94 row network       EM\n",
      "station    MG014\n",
      "Name: 94, dtype: object\n",
      "request_df   network station location channel                start                  end\n",
      "0      EM   MG014              LFE  2000-03-02T06:00:00  2023-01-01T00:00:00\n",
      "1      EM   MG014              LFN  2000-03-02T06:00:00  2023-01-01T00:00:00\n",
      "2      EM   MG014              LFZ  2000-03-02T06:00:00  2023-01-01T00:00:00\n",
      "3      EM   MG014              LQE  2000-03-02T06:00:00  2023-01-01T00:00:00\n",
      "4      EM   MG014              LQN  2000-03-02T06:00:00  2023-01-01T00:00:00\n",
      "inventory Inventory created at 2023-04-16T20:35:01.523992Z\n",
      "\tCreated by: ObsPy 1.4.0\n",
      "\t\t    https://www.obspy.org\n",
      "\tSending institution: MTH5\n",
      "\tContains:\n",
      "\t\tNetworks (1):\n",
      "\t\t\tEM\n",
      "\t\tStations (1):\n",
      "\t\t\tEM.MG014 (MF cows)\n",
      "\t\tChannels (5):\n",
      "\t\t\tEM.MG014..LFZ, EM.MG014..LFN, EM.MG014..LFE, EM.MG014..LQN, \n",
      "\t\t\tEM.MG014..LQE\n"
     ]
    },
    {
     "name": "stderr",
     "output_type": "stream",
     "text": [
      "2023-04-16 13:35:12,318 [line 674] mth5.mth5.MTH5._initialize_file - INFO: Initialized MTH5 0.2.0 file /home/kkappler/.cache/earthscope/EM_MG014.h5 in mode w\n",
      "2023-04-16 13:35:35,562 [line 498] mt_metadata.timeseries.stationxml.utils.XMLChannelMTChannel._xml_response_to_mt - INFO: Found an unnamed filter, named it: 'coefficient_00'\n",
      "2023-04-16 13:35:35,592 [line 498] mt_metadata.timeseries.stationxml.utils.XMLChannelMTChannel._xml_response_to_mt - INFO: Found an unnamed filter, named it: 'coefficient_01'\n",
      "2023-04-16 13:35:35,600 [line 498] mt_metadata.timeseries.stationxml.utils.XMLChannelMTChannel._xml_response_to_mt - INFO: Found an unnamed filter, named it: 'coefficient_01'\n",
      "2023-04-16 13:35:35,609 [line 498] mt_metadata.timeseries.stationxml.utils.XMLChannelMTChannel._xml_response_to_mt - INFO: Found an unnamed filter, named it: 'coefficient_02'\n"
     ]
    },
    {
     "name": "stdout",
     "output_type": "stream",
     "text": [
      "More or less runs have been requested by the user than are defined in the metadata. Runs will be defined but only the requested run extents contain time series data based on the users request.\n"
     ]
    },
    {
     "name": "stderr",
     "output_type": "stream",
     "text": [
      "2023-04-16 13:35:37,469 [line 1631] mth5.groups.base.Run.from_runts - WARNING: Channel run.id sr1_001 !=  group run.id 001\n",
      "2023-04-16 13:35:37,924 [line 1631] mth5.groups.base.Run.from_runts - WARNING: Channel run.id sr1_001 !=  group run.id 001\n",
      "2023-04-16 13:35:38,382 [line 1631] mth5.groups.base.Run.from_runts - WARNING: Channel run.id sr1_001 !=  group run.id 001\n",
      "2023-04-16 13:35:38,827 [line 1631] mth5.groups.base.Run.from_runts - WARNING: Channel run.id sr1_001 !=  group run.id 001\n",
      "2023-04-16 13:35:39,273 [line 1631] mth5.groups.base.Run.from_runts - WARNING: Channel run.id sr1_001 !=  group run.id 001\n",
      "2023-04-16 13:35:39,524 [line 755] mth5.mth5.MTH5.close_mth5 - INFO: Flushing and closing /home/kkappler/.cache/earthscope/EM_MG014.h5\n"
     ]
    },
    {
     "name": "stdout",
     "output_type": "stream",
     "text": [
      "95\n",
      "95 row network       EM\n",
      "station    MH010\n",
      "Name: 95, dtype: object\n",
      "request_df   network station location channel                start                  end\n",
      "0      EM   MH010              LFE  2000-03-02T06:00:00  2023-01-01T00:00:00\n",
      "1      EM   MH010              LFN  2000-03-02T06:00:00  2023-01-01T00:00:00\n",
      "2      EM   MH010              LFZ  2000-03-02T06:00:00  2023-01-01T00:00:00\n",
      "3      EM   MH010              LQE  2000-03-02T06:00:00  2023-01-01T00:00:00\n",
      "4      EM   MH010              LQN  2000-03-02T06:00:00  2023-01-01T00:00:00\n",
      "inventory Inventory created at 2023-04-16T20:35:49.552759Z\n",
      "\tCreated by: ObsPy 1.4.0\n",
      "\t\t    https://www.obspy.org\n",
      "\tSending institution: MTH5\n",
      "\tContains:\n",
      "\t\tNetworks (1):\n",
      "\t\t\tEM\n",
      "\t\tStations (1):\n",
      "\t\t\tEM.MH010 (WTF ODF aka Stick and forest central, OR, USA)\n",
      "\t\tChannels (5):\n",
      "\t\t\tEM.MH010..LFZ, EM.MH010..LFN, EM.MH010..LFE, EM.MH010..LQN, \n",
      "\t\t\tEM.MH010..LQE\n"
     ]
    },
    {
     "name": "stderr",
     "output_type": "stream",
     "text": [
      "2023-04-16 13:36:00,572 [line 674] mth5.mth5.MTH5._initialize_file - INFO: Initialized MTH5 0.2.0 file /home/kkappler/.cache/earthscope/EM_MH010.h5 in mode w\n",
      "2023-04-16 13:36:11,365 [line 498] mt_metadata.timeseries.stationxml.utils.XMLChannelMTChannel._xml_response_to_mt - INFO: Found an unnamed filter, named it: 'coefficient_00'\n",
      "2023-04-16 13:36:11,395 [line 498] mt_metadata.timeseries.stationxml.utils.XMLChannelMTChannel._xml_response_to_mt - INFO: Found an unnamed filter, named it: 'coefficient_01'\n",
      "2023-04-16 13:36:11,403 [line 498] mt_metadata.timeseries.stationxml.utils.XMLChannelMTChannel._xml_response_to_mt - INFO: Found an unnamed filter, named it: 'coefficient_01'\n",
      "2023-04-16 13:36:11,413 [line 498] mt_metadata.timeseries.stationxml.utils.XMLChannelMTChannel._xml_response_to_mt - INFO: Found an unnamed filter, named it: 'coefficient_02'\n"
     ]
    },
    {
     "name": "stdout",
     "output_type": "stream",
     "text": [
      "More or less runs have been requested by the user than are defined in the metadata. Runs will be defined but only the requested run extents contain time series data based on the users request.\n"
     ]
    },
    {
     "name": "stderr",
     "output_type": "stream",
     "text": [
      "2023-04-16 13:36:13,163 [line 1631] mth5.groups.base.Run.from_runts - WARNING: Channel run.id sr1_001 !=  group run.id 001\n",
      "2023-04-16 13:36:13,604 [line 1631] mth5.groups.base.Run.from_runts - WARNING: Channel run.id sr1_001 !=  group run.id 001\n",
      "2023-04-16 13:36:14,041 [line 1631] mth5.groups.base.Run.from_runts - WARNING: Channel run.id sr1_001 !=  group run.id 001\n",
      "2023-04-16 13:36:14,483 [line 1631] mth5.groups.base.Run.from_runts - WARNING: Channel run.id sr1_001 !=  group run.id 001\n",
      "2023-04-16 13:36:14,912 [line 1631] mth5.groups.base.Run.from_runts - WARNING: Channel run.id sr1_001 !=  group run.id 001\n",
      "2023-04-16 13:36:15,161 [line 755] mth5.mth5.MTH5.close_mth5 - INFO: Flushing and closing /home/kkappler/.cache/earthscope/EM_MH010.h5\n"
     ]
    },
    {
     "name": "stdout",
     "output_type": "stream",
     "text": [
      "96\n",
      "96 row network       EM\n",
      "station    MI010\n",
      "Name: 96, dtype: object\n",
      "request_df   network station location channel                start                  end\n",
      "0      EM   MI010              LFE  2000-03-02T06:00:00  2023-01-01T00:00:00\n",
      "1      EM   MI010              LFN  2000-03-02T06:00:00  2023-01-01T00:00:00\n",
      "2      EM   MI010              LFZ  2000-03-02T06:00:00  2023-01-01T00:00:00\n",
      "3      EM   MI010              LQE  2000-03-02T06:00:00  2023-01-01T00:00:00\n",
      "4      EM   MI010              LQN  2000-03-02T06:00:00  2023-01-01T00:00:00\n",
      "inventory Inventory created at 2023-04-16T20:36:25.187009Z\n",
      "\tCreated by: ObsPy 1.4.0\n",
      "\t\t    https://www.obspy.org\n",
      "\tSending institution: MTH5\n",
      "\tContains:\n",
      "\t\tNetworks (1):\n",
      "\t\t\tEM\n",
      "\t\tStations (1):\n",
      "\t\t\tEM.MI010 (MOI010, OR, USA)\n",
      "\t\tChannels (5):\n",
      "\t\t\tEM.MI010..LFZ, EM.MI010..LFN, EM.MI010..LFE, EM.MI010..LQN, \n",
      "\t\t\tEM.MI010..LQE\n"
     ]
    },
    {
     "name": "stderr",
     "output_type": "stream",
     "text": [
      "2023-04-16 13:36:35,987 [line 674] mth5.mth5.MTH5._initialize_file - INFO: Initialized MTH5 0.2.0 file /home/kkappler/.cache/earthscope/EM_MI010.h5 in mode w\n",
      "2023-04-16 13:36:44,695 [line 498] mt_metadata.timeseries.stationxml.utils.XMLChannelMTChannel._xml_response_to_mt - INFO: Found an unnamed filter, named it: 'coefficient_00'\n",
      "2023-04-16 13:36:44,728 [line 498] mt_metadata.timeseries.stationxml.utils.XMLChannelMTChannel._xml_response_to_mt - INFO: Found an unnamed filter, named it: 'coefficient_01'\n",
      "2023-04-16 13:36:44,737 [line 498] mt_metadata.timeseries.stationxml.utils.XMLChannelMTChannel._xml_response_to_mt - INFO: Found an unnamed filter, named it: 'coefficient_01'\n",
      "2023-04-16 13:36:44,747 [line 498] mt_metadata.timeseries.stationxml.utils.XMLChannelMTChannel._xml_response_to_mt - INFO: Found an unnamed filter, named it: 'coefficient_02'\n"
     ]
    },
    {
     "name": "stdout",
     "output_type": "stream",
     "text": [
      "More or less runs have been requested by the user than are defined in the metadata. Runs will be defined but only the requested run extents contain time series data based on the users request.\n"
     ]
    },
    {
     "name": "stderr",
     "output_type": "stream",
     "text": [
      "2023-04-16 13:36:46,677 [line 1631] mth5.groups.base.Run.from_runts - WARNING: Channel run.id sr1_001 !=  group run.id 001\n",
      "2023-04-16 13:36:47,125 [line 1631] mth5.groups.base.Run.from_runts - WARNING: Channel run.id sr1_001 !=  group run.id 001\n",
      "2023-04-16 13:36:47,573 [line 1631] mth5.groups.base.Run.from_runts - WARNING: Channel run.id sr1_001 !=  group run.id 001\n",
      "2023-04-16 13:36:48,015 [line 1631] mth5.groups.base.Run.from_runts - WARNING: Channel run.id sr1_001 !=  group run.id 001\n",
      "2023-04-16 13:36:48,466 [line 1631] mth5.groups.base.Run.from_runts - WARNING: Channel run.id sr1_001 !=  group run.id 001\n",
      "2023-04-16 13:36:48,714 [line 755] mth5.mth5.MTH5.close_mth5 - INFO: Flushing and closing /home/kkappler/.cache/earthscope/EM_MI010.h5\n"
     ]
    },
    {
     "name": "stdout",
     "output_type": "stream",
     "text": [
      "97\n",
      "97 row network       EM\n",
      "station    MI011\n",
      "Name: 97, dtype: object\n",
      "request_df   network station location channel                start                  end\n",
      "0      EM   MI011              LFE  2000-03-02T06:00:00  2023-01-01T00:00:00\n",
      "1      EM   MI011              LFN  2000-03-02T06:00:00  2023-01-01T00:00:00\n",
      "2      EM   MI011              LFZ  2000-03-02T06:00:00  2023-01-01T00:00:00\n",
      "3      EM   MI011              LQE  2000-03-02T06:00:00  2023-01-01T00:00:00\n",
      "4      EM   MI011              LQN  2000-03-02T06:00:00  2023-01-01T00:00:00\n",
      "inventory Inventory created at 2023-04-16T20:36:58.742543Z\n",
      "\tCreated by: ObsPy 1.4.0\n",
      "\t\t    https://www.obspy.org\n",
      "\tSending institution: MTH5\n",
      "\tContains:\n",
      "\t\tNetworks (1):\n",
      "\t\t\tEM\n",
      "\t\tStations (1):\n",
      "\t\t\tEM.MI011 (Poo on you, OR, USA)\n",
      "\t\tChannels (5):\n",
      "\t\t\tEM.MI011..LFZ, EM.MI011..LFN, EM.MI011..LFE, EM.MI011..LQN, \n",
      "\t\t\tEM.MI011..LQE\n"
     ]
    },
    {
     "name": "stderr",
     "output_type": "stream",
     "text": [
      "2023-04-16 13:37:09,534 [line 674] mth5.mth5.MTH5._initialize_file - INFO: Initialized MTH5 0.2.0 file /home/kkappler/.cache/earthscope/EM_MI011.h5 in mode w\n",
      "2023-04-16 13:37:21,436 [line 498] mt_metadata.timeseries.stationxml.utils.XMLChannelMTChannel._xml_response_to_mt - INFO: Found an unnamed filter, named it: 'coefficient_00'\n",
      "2023-04-16 13:37:21,466 [line 498] mt_metadata.timeseries.stationxml.utils.XMLChannelMTChannel._xml_response_to_mt - INFO: Found an unnamed filter, named it: 'coefficient_01'\n",
      "2023-04-16 13:37:21,473 [line 498] mt_metadata.timeseries.stationxml.utils.XMLChannelMTChannel._xml_response_to_mt - INFO: Found an unnamed filter, named it: 'coefficient_01'\n",
      "2023-04-16 13:37:21,483 [line 498] mt_metadata.timeseries.stationxml.utils.XMLChannelMTChannel._xml_response_to_mt - INFO: Found an unnamed filter, named it: 'coefficient_02'\n"
     ]
    },
    {
     "name": "stdout",
     "output_type": "stream",
     "text": [
      "More or less runs have been requested by the user than are defined in the metadata. Runs will be defined but only the requested run extents contain time series data based on the users request.\n"
     ]
    },
    {
     "name": "stderr",
     "output_type": "stream",
     "text": [
      "2023-04-16 13:37:23,175 [line 1631] mth5.groups.base.Run.from_runts - WARNING: Channel run.id sr1_001 !=  group run.id 001\n",
      "2023-04-16 13:37:23,624 [line 1631] mth5.groups.base.Run.from_runts - WARNING: Channel run.id sr1_001 !=  group run.id 001\n",
      "2023-04-16 13:37:24,051 [line 1631] mth5.groups.base.Run.from_runts - WARNING: Channel run.id sr1_001 !=  group run.id 001\n",
      "2023-04-16 13:37:24,494 [line 1631] mth5.groups.base.Run.from_runts - WARNING: Channel run.id sr1_001 !=  group run.id 001\n",
      "2023-04-16 13:37:24,922 [line 1631] mth5.groups.base.Run.from_runts - WARNING: Channel run.id sr1_001 !=  group run.id 001\n",
      "2023-04-16 13:37:25,168 [line 755] mth5.mth5.MTH5.close_mth5 - INFO: Flushing and closing /home/kkappler/.cache/earthscope/EM_MI011.h5\n"
     ]
    },
    {
     "name": "stdout",
     "output_type": "stream",
     "text": [
      "98\n",
      "98 row network       EM\n",
      "station    MJ011\n",
      "Name: 98, dtype: object\n",
      "request_df   network station location channel                start                  end\n",
      "0      EM   MJ011              LFE  2000-03-02T06:00:00  2023-01-01T00:00:00\n",
      "1      EM   MJ011              LFN  2000-03-02T06:00:00  2023-01-01T00:00:00\n",
      "2      EM   MJ011              LFZ  2000-03-02T06:00:00  2023-01-01T00:00:00\n",
      "3      EM   MJ011              LQE  2000-03-02T06:00:00  2023-01-01T00:00:00\n",
      "4      EM   MJ011              LQN  2000-03-02T06:00:00  2023-01-01T00:00:00\n",
      "inventory Inventory created at 2023-04-16T20:37:35.191808Z\n",
      "\tCreated by: ObsPy 1.4.0\n",
      "\t\t    https://www.obspy.org\n",
      "\tSending institution: MTH5\n",
      "\tContains:\n",
      "\t\tNetworks (1):\n",
      "\t\t\tEM\n",
      "\t\tStations (1):\n",
      "\t\t\tEM.MJ011 (Tyee Extravaganza, OR, USA)\n",
      "\t\tChannels (5):\n",
      "\t\t\tEM.MJ011..LFZ, EM.MJ011..LFN, EM.MJ011..LFE, EM.MJ011..LQN, \n",
      "\t\t\tEM.MJ011..LQE\n"
     ]
    },
    {
     "name": "stderr",
     "output_type": "stream",
     "text": [
      "2023-04-16 13:37:45,990 [line 674] mth5.mth5.MTH5._initialize_file - INFO: Initialized MTH5 0.2.0 file /home/kkappler/.cache/earthscope/EM_MJ011.h5 in mode w\n",
      "2023-04-16 13:37:56,471 [line 498] mt_metadata.timeseries.stationxml.utils.XMLChannelMTChannel._xml_response_to_mt - INFO: Found an unnamed filter, named it: 'coefficient_00'\n",
      "2023-04-16 13:37:56,501 [line 498] mt_metadata.timeseries.stationxml.utils.XMLChannelMTChannel._xml_response_to_mt - INFO: Found an unnamed filter, named it: 'coefficient_01'\n",
      "2023-04-16 13:37:56,509 [line 498] mt_metadata.timeseries.stationxml.utils.XMLChannelMTChannel._xml_response_to_mt - INFO: Found an unnamed filter, named it: 'coefficient_01'\n",
      "2023-04-16 13:37:56,519 [line 498] mt_metadata.timeseries.stationxml.utils.XMLChannelMTChannel._xml_response_to_mt - INFO: Found an unnamed filter, named it: 'coefficient_02'\n"
     ]
    },
    {
     "name": "stdout",
     "output_type": "stream",
     "text": [
      "More or less runs have been requested by the user than are defined in the metadata. Runs will be defined but only the requested run extents contain time series data based on the users request.\n"
     ]
    },
    {
     "name": "stderr",
     "output_type": "stream",
     "text": [
      "2023-04-16 13:37:58,317 [line 1631] mth5.groups.base.Run.from_runts - WARNING: Channel run.id sr1_001 !=  group run.id 001\n",
      "2023-04-16 13:37:58,766 [line 1631] mth5.groups.base.Run.from_runts - WARNING: Channel run.id sr1_001 !=  group run.id 001\n",
      "2023-04-16 13:37:59,218 [line 1631] mth5.groups.base.Run.from_runts - WARNING: Channel run.id sr1_001 !=  group run.id 001\n",
      "2023-04-16 13:37:59,649 [line 1631] mth5.groups.base.Run.from_runts - WARNING: Channel run.id sr1_001 !=  group run.id 001\n",
      "2023-04-16 13:38:00,088 [line 1631] mth5.groups.base.Run.from_runts - WARNING: Channel run.id sr1_001 !=  group run.id 001\n",
      "2023-04-16 13:38:00,336 [line 755] mth5.mth5.MTH5.close_mth5 - INFO: Flushing and closing /home/kkappler/.cache/earthscope/EM_MJ011.h5\n"
     ]
    },
    {
     "name": "stdout",
     "output_type": "stream",
     "text": [
      "99\n",
      "99 row network       EM\n",
      "station    MJ012\n",
      "Name: 99, dtype: object\n",
      "request_df   network station location channel                start                  end\n",
      "0      EM   MJ012              LFE  2000-03-02T06:00:00  2023-01-01T00:00:00\n",
      "1      EM   MJ012              LFN  2000-03-02T06:00:00  2023-01-01T00:00:00\n",
      "2      EM   MJ012              LFZ  2000-03-02T06:00:00  2023-01-01T00:00:00\n",
      "3      EM   MJ012              LQE  2000-03-02T06:00:00  2023-01-01T00:00:00\n",
      "4      EM   MJ012              LQN  2000-03-02T06:00:00  2023-01-01T00:00:00\n",
      "inventory Inventory created at 2023-04-16T20:38:10.365573Z\n",
      "\tCreated by: ObsPy 1.4.0\n",
      "\t\t    https://www.obspy.org\n",
      "\tSending institution: MTH5\n",
      "\tContains:\n",
      "\t\tNetworks (1):\n",
      "\t\t\tEM\n",
      "\t\tStations (1):\n",
      "\t\t\tEM.MJ012 (MOJ012, OR, USA)\n",
      "\t\tChannels (5):\n",
      "\t\t\tEM.MJ012..LFZ, EM.MJ012..LFN, EM.MJ012..LFE, EM.MJ012..LQN, \n",
      "\t\t\tEM.MJ012..LQE\n"
     ]
    },
    {
     "name": "stderr",
     "output_type": "stream",
     "text": [
      "2023-04-16 13:38:21,155 [line 674] mth5.mth5.MTH5._initialize_file - INFO: Initialized MTH5 0.2.0 file /home/kkappler/.cache/earthscope/EM_MJ012.h5 in mode w\n",
      "2023-04-16 13:38:32,632 [line 498] mt_metadata.timeseries.stationxml.utils.XMLChannelMTChannel._xml_response_to_mt - INFO: Found an unnamed filter, named it: 'coefficient_00'\n",
      "2023-04-16 13:38:32,662 [line 498] mt_metadata.timeseries.stationxml.utils.XMLChannelMTChannel._xml_response_to_mt - INFO: Found an unnamed filter, named it: 'coefficient_01'\n",
      "2023-04-16 13:38:32,670 [line 498] mt_metadata.timeseries.stationxml.utils.XMLChannelMTChannel._xml_response_to_mt - INFO: Found an unnamed filter, named it: 'coefficient_01'\n",
      "2023-04-16 13:38:32,680 [line 498] mt_metadata.timeseries.stationxml.utils.XMLChannelMTChannel._xml_response_to_mt - INFO: Found an unnamed filter, named it: 'coefficient_02'\n"
     ]
    },
    {
     "name": "stdout",
     "output_type": "stream",
     "text": [
      "More or less runs have been requested by the user than are defined in the metadata. Runs will be defined but only the requested run extents contain time series data based on the users request.\n"
     ]
    },
    {
     "name": "stderr",
     "output_type": "stream",
     "text": [
      "2023-04-16 13:38:34,443 [line 1631] mth5.groups.base.Run.from_runts - WARNING: Channel run.id sr1_001 !=  group run.id 001\n",
      "2023-04-16 13:38:34,877 [line 1631] mth5.groups.base.Run.from_runts - WARNING: Channel run.id sr1_001 !=  group run.id 001\n",
      "2023-04-16 13:38:35,322 [line 1631] mth5.groups.base.Run.from_runts - WARNING: Channel run.id sr1_001 !=  group run.id 001\n",
      "2023-04-16 13:38:35,762 [line 1631] mth5.groups.base.Run.from_runts - WARNING: Channel run.id sr1_001 !=  group run.id 001\n",
      "2023-04-16 13:38:36,207 [line 1631] mth5.groups.base.Run.from_runts - WARNING: Channel run.id sr1_001 !=  group run.id 001\n",
      "2023-04-16 13:38:36,445 [line 755] mth5.mth5.MTH5.close_mth5 - INFO: Flushing and closing /home/kkappler/.cache/earthscope/EM_MJ012.h5\n"
     ]
    },
    {
     "name": "stdout",
     "output_type": "stream",
     "text": [
      "100\n",
      "100 row network       EM\n",
      "station    ML011\n",
      "Name: 100, dtype: object\n",
      "request_df   network station location channel                start                  end\n",
      "0      EM   ML011              LFE  2000-03-02T06:00:00  2023-01-01T00:00:00\n",
      "1      EM   ML011              LFN  2000-03-02T06:00:00  2023-01-01T00:00:00\n",
      "2      EM   ML011              LFZ  2000-03-02T06:00:00  2023-01-01T00:00:00\n",
      "3      EM   ML011              LQE  2000-03-02T06:00:00  2023-01-01T00:00:00\n",
      "4      EM   ML011              LQN  2000-03-02T06:00:00  2023-01-01T00:00:00\n",
      "inventory Inventory created at 2023-04-16T20:38:46.474024Z\n",
      "\tCreated by: ObsPy 1.4.0\n",
      "\t\t    https://www.obspy.org\n",
      "\tSending institution: MTH5\n",
      "\tContains:\n",
      "\t\tNetworks (1):\n",
      "\t\t\tEM\n",
      "\t\tStations (1):\n",
      "\t\t\tEM.ML011 (MOL011, OR, USA)\n",
      "\t\tChannels (5):\n",
      "\t\t\tEM.ML011..LFZ, EM.ML011..LFN, EM.ML011..LFE, EM.ML011..LQN, \n",
      "\t\t\tEM.ML011..LQE\n"
     ]
    },
    {
     "name": "stderr",
     "output_type": "stream",
     "text": [
      "2023-04-16 13:38:57,306 [line 674] mth5.mth5.MTH5._initialize_file - INFO: Initialized MTH5 0.2.0 file /home/kkappler/.cache/earthscope/EM_ML011.h5 in mode w\n",
      "2023-04-16 13:39:08,545 [line 498] mt_metadata.timeseries.stationxml.utils.XMLChannelMTChannel._xml_response_to_mt - INFO: Found an unnamed filter, named it: 'coefficient_00'\n",
      "2023-04-16 13:39:08,575 [line 498] mt_metadata.timeseries.stationxml.utils.XMLChannelMTChannel._xml_response_to_mt - INFO: Found an unnamed filter, named it: 'coefficient_01'\n",
      "2023-04-16 13:39:08,583 [line 498] mt_metadata.timeseries.stationxml.utils.XMLChannelMTChannel._xml_response_to_mt - INFO: Found an unnamed filter, named it: 'coefficient_01'\n",
      "2023-04-16 13:39:08,593 [line 498] mt_metadata.timeseries.stationxml.utils.XMLChannelMTChannel._xml_response_to_mt - INFO: Found an unnamed filter, named it: 'coefficient_02'\n"
     ]
    },
    {
     "name": "stdout",
     "output_type": "stream",
     "text": [
      "More or less runs have been requested by the user than are defined in the metadata. Runs will be defined but only the requested run extents contain time series data based on the users request.\n"
     ]
    },
    {
     "name": "stderr",
     "output_type": "stream",
     "text": [
      "2023-04-16 13:39:10,292 [line 1631] mth5.groups.base.Run.from_runts - WARNING: Channel run.id sr1_001 !=  group run.id 001\n",
      "2023-04-16 13:39:10,744 [line 1631] mth5.groups.base.Run.from_runts - WARNING: Channel run.id sr1_001 !=  group run.id 001\n",
      "2023-04-16 13:39:11,202 [line 1631] mth5.groups.base.Run.from_runts - WARNING: Channel run.id sr1_001 !=  group run.id 001\n",
      "2023-04-16 13:39:11,638 [line 1631] mth5.groups.base.Run.from_runts - WARNING: Channel run.id sr1_001 !=  group run.id 001\n",
      "2023-04-16 13:39:12,077 [line 1631] mth5.groups.base.Run.from_runts - WARNING: Channel run.id sr1_001 !=  group run.id 001\n",
      "2023-04-16 13:39:12,323 [line 755] mth5.mth5.MTH5.close_mth5 - INFO: Flushing and closing /home/kkappler/.cache/earthscope/EM_ML011.h5\n"
     ]
    },
    {
     "name": "stdout",
     "output_type": "stream",
     "text": [
      "101\n",
      "101 row network       EM\n",
      "station    MM012\n",
      "Name: 101, dtype: object\n",
      "request_df   network station location channel                start                  end\n",
      "0      EM   MM012              LFE  2000-03-02T06:00:00  2023-01-01T00:00:00\n",
      "1      EM   MM012              LFN  2000-03-02T06:00:00  2023-01-01T00:00:00\n",
      "2      EM   MM012              LFZ  2000-03-02T06:00:00  2023-01-01T00:00:00\n",
      "3      EM   MM012              LQE  2000-03-02T06:00:00  2023-01-01T00:00:00\n",
      "4      EM   MM012              LQN  2000-03-02T06:00:00  2023-01-01T00:00:00\n",
      "inventory Inventory created at 2023-04-16T20:39:22.352909Z\n",
      "\tCreated by: ObsPy 1.4.0\n",
      "\t\t    https://www.obspy.org\n",
      "\tSending institution: MTH5\n",
      "\tContains:\n",
      "\t\tNetworks (1):\n",
      "\t\t\tEM\n",
      "\t\tStations (1):\n",
      "\t\t\tEM.MM012 (Siuslaw National Forest, OR, USA)\n",
      "\t\tChannels (5):\n",
      "\t\t\tEM.MM012..LFZ, EM.MM012..LFN, EM.MM012..LFE, EM.MM012..LQN, \n",
      "\t\t\tEM.MM012..LQE\n"
     ]
    },
    {
     "name": "stderr",
     "output_type": "stream",
     "text": [
      "2023-04-16 13:39:33,157 [line 674] mth5.mth5.MTH5._initialize_file - INFO: Initialized MTH5 0.2.0 file /home/kkappler/.cache/earthscope/EM_MM012.h5 in mode w\n",
      "2023-04-16 13:39:40,925 [line 498] mt_metadata.timeseries.stationxml.utils.XMLChannelMTChannel._xml_response_to_mt - INFO: Found an unnamed filter, named it: 'coefficient_00'\n",
      "2023-04-16 13:39:40,955 [line 498] mt_metadata.timeseries.stationxml.utils.XMLChannelMTChannel._xml_response_to_mt - INFO: Found an unnamed filter, named it: 'coefficient_01'\n",
      "2023-04-16 13:39:40,963 [line 498] mt_metadata.timeseries.stationxml.utils.XMLChannelMTChannel._xml_response_to_mt - INFO: Found an unnamed filter, named it: 'coefficient_01'\n",
      "2023-04-16 13:39:40,973 [line 498] mt_metadata.timeseries.stationxml.utils.XMLChannelMTChannel._xml_response_to_mt - INFO: Found an unnamed filter, named it: 'coefficient_02'\n"
     ]
    },
    {
     "name": "stdout",
     "output_type": "stream",
     "text": [
      "More or less runs have been requested by the user than are defined in the metadata. Runs will be defined but only the requested run extents contain time series data based on the users request.\n"
     ]
    },
    {
     "name": "stderr",
     "output_type": "stream",
     "text": [
      "2023-04-16 13:39:42,575 [line 1631] mth5.groups.base.Run.from_runts - WARNING: Channel run.id sr1_001 !=  group run.id 001\n",
      "2023-04-16 13:39:43,011 [line 1631] mth5.groups.base.Run.from_runts - WARNING: Channel run.id sr1_001 !=  group run.id 001\n",
      "2023-04-16 13:39:43,453 [line 1631] mth5.groups.base.Run.from_runts - WARNING: Channel run.id sr1_001 !=  group run.id 001\n",
      "2023-04-16 13:39:43,883 [line 1631] mth5.groups.base.Run.from_runts - WARNING: Channel run.id sr1_001 !=  group run.id 001\n",
      "2023-04-16 13:39:44,335 [line 1631] mth5.groups.base.Run.from_runts - WARNING: Channel run.id sr1_001 !=  group run.id 001\n",
      "2023-04-16 13:39:44,578 [line 755] mth5.mth5.MTH5.close_mth5 - INFO: Flushing and closing /home/kkappler/.cache/earthscope/EM_MM012.h5\n"
     ]
    },
    {
     "name": "stdout",
     "output_type": "stream",
     "text": [
      "102\n",
      "102 row network       EM\n",
      "station    MM013\n",
      "Name: 102, dtype: object\n",
      "request_df   network station location channel                start                  end\n",
      "0      EM   MM013              LFE  2000-03-02T06:00:00  2023-01-01T00:00:00\n",
      "1      EM   MM013              LFN  2000-03-02T06:00:00  2023-01-01T00:00:00\n",
      "2      EM   MM013              LFZ  2000-03-02T06:00:00  2023-01-01T00:00:00\n",
      "3      EM   MM013              LQE  2000-03-02T06:00:00  2023-01-01T00:00:00\n",
      "4      EM   MM013              LQN  2000-03-02T06:00:00  2023-01-01T00:00:00\n",
      "inventory Inventory created at 2023-04-16T20:39:54.638640Z\n",
      "\tCreated by: ObsPy 1.4.0\n",
      "\t\t    https://www.obspy.org\n",
      "\tSending institution: MTH5\n",
      "\tContains:\n",
      "\t\tNetworks (1):\n",
      "\t\t\tEM\n",
      "\t\tStations (1):\n",
      "\t\t\tEM.MM013 (Philomath, OR, USA)\n",
      "\t\tChannels (5):\n",
      "\t\t\tEM.MM013..LFZ, EM.MM013..LFN, EM.MM013..LFE, EM.MM013..LQN, \n",
      "\t\t\tEM.MM013..LQE\n"
     ]
    },
    {
     "name": "stderr",
     "output_type": "stream",
     "text": [
      "2023-04-16 13:40:05,505 [line 674] mth5.mth5.MTH5._initialize_file - INFO: Initialized MTH5 0.2.0 file /home/kkappler/.cache/earthscope/EM_MM013.h5 in mode w\n",
      "2023-04-16 13:40:53,511 [line 498] mt_metadata.timeseries.stationxml.utils.XMLChannelMTChannel._xml_response_to_mt - INFO: Found an unnamed filter, named it: 'coefficient_00'\n",
      "2023-04-16 13:40:53,540 [line 498] mt_metadata.timeseries.stationxml.utils.XMLChannelMTChannel._xml_response_to_mt - INFO: Found an unnamed filter, named it: 'coefficient_01'\n",
      "2023-04-16 13:40:53,547 [line 498] mt_metadata.timeseries.stationxml.utils.XMLChannelMTChannel._xml_response_to_mt - INFO: Found an unnamed filter, named it: 'coefficient_01'\n",
      "2023-04-16 13:40:53,556 [line 498] mt_metadata.timeseries.stationxml.utils.XMLChannelMTChannel._xml_response_to_mt - INFO: Found an unnamed filter, named it: 'coefficient_02'\n"
     ]
    },
    {
     "name": "stdout",
     "output_type": "stream",
     "text": [
      "More or less runs have been requested by the user than are defined in the metadata. Runs will be defined but only the requested run extents contain time series data based on the users request.\n"
     ]
    },
    {
     "name": "stderr",
     "output_type": "stream",
     "text": [
      "2023-04-16 13:40:55,301 [line 1631] mth5.groups.base.Run.from_runts - WARNING: Channel run.id sr1_001 !=  group run.id 001\n",
      "2023-04-16 13:40:55,744 [line 1631] mth5.groups.base.Run.from_runts - WARNING: Channel run.id sr1_001 !=  group run.id 001\n",
      "2023-04-16 13:40:56,204 [line 1631] mth5.groups.base.Run.from_runts - WARNING: Channel run.id sr1_001 !=  group run.id 001\n",
      "2023-04-16 13:40:56,661 [line 1631] mth5.groups.base.Run.from_runts - WARNING: Channel run.id sr1_001 !=  group run.id 001\n",
      "2023-04-16 13:40:57,097 [line 1631] mth5.groups.base.Run.from_runts - WARNING: Channel run.id sr1_001 !=  group run.id 001\n",
      "2023-04-16 13:40:57,345 [line 755] mth5.mth5.MTH5.close_mth5 - INFO: Flushing and closing /home/kkappler/.cache/earthscope/EM_MM013.h5\n"
     ]
    },
    {
     "name": "stdout",
     "output_type": "stream",
     "text": [
      "103\n",
      "103 row network       EM\n",
      "station    MM015\n",
      "Name: 103, dtype: object\n",
      "request_df   network station location channel                start                  end\n",
      "0      EM   MM015              LFE  2000-03-02T06:00:00  2023-01-01T00:00:00\n",
      "1      EM   MM015              LFN  2000-03-02T06:00:00  2023-01-01T00:00:00\n",
      "2      EM   MM015              LFZ  2000-03-02T06:00:00  2023-01-01T00:00:00\n",
      "3      EM   MM015              LQE  2000-03-02T06:00:00  2023-01-01T00:00:00\n",
      "4      EM   MM015              LQN  2000-03-02T06:00:00  2023-01-01T00:00:00\n",
      "inventory Inventory created at 2023-04-16T20:41:07.374820Z\n",
      "\tCreated by: ObsPy 1.4.0\n",
      "\t\t    https://www.obspy.org\n",
      "\tSending institution: MTH5\n",
      "\tContains:\n",
      "\t\tNetworks (1):\n",
      "\t\t\tEM\n",
      "\t\tStations (1):\n",
      "\t\t\tEM.MM015 (McLagan Farms, OR, USA)\n",
      "\t\tChannels (5):\n",
      "\t\t\tEM.MM015..LFZ, EM.MM015..LFN, EM.MM015..LFE, EM.MM015..LQN, \n",
      "\t\t\tEM.MM015..LQE\n"
     ]
    },
    {
     "name": "stderr",
     "output_type": "stream",
     "text": [
      "2023-04-16 13:41:18,406 [line 674] mth5.mth5.MTH5._initialize_file - INFO: Initialized MTH5 0.2.0 file /home/kkappler/.cache/earthscope/EM_MM015.h5 in mode w\n",
      "2023-04-16 13:41:43,593 [line 498] mt_metadata.timeseries.stationxml.utils.XMLChannelMTChannel._xml_response_to_mt - INFO: Found an unnamed filter, named it: 'coefficient_00'\n",
      "2023-04-16 13:41:43,624 [line 498] mt_metadata.timeseries.stationxml.utils.XMLChannelMTChannel._xml_response_to_mt - INFO: Found an unnamed filter, named it: 'coefficient_01'\n",
      "2023-04-16 13:41:43,632 [line 498] mt_metadata.timeseries.stationxml.utils.XMLChannelMTChannel._xml_response_to_mt - INFO: Found an unnamed filter, named it: 'coefficient_01'\n",
      "2023-04-16 13:41:43,642 [line 498] mt_metadata.timeseries.stationxml.utils.XMLChannelMTChannel._xml_response_to_mt - INFO: Found an unnamed filter, named it: 'coefficient_02'\n"
     ]
    },
    {
     "name": "stdout",
     "output_type": "stream",
     "text": [
      "More or less runs have been requested by the user than are defined in the metadata. Runs will be defined but only the requested run extents contain time series data based on the users request.\n"
     ]
    },
    {
     "name": "stderr",
     "output_type": "stream",
     "text": [
      "2023-04-16 13:41:45,151 [line 1631] mth5.groups.base.Run.from_runts - WARNING: Channel run.id sr1_001 !=  group run.id 001\n",
      "2023-04-16 13:41:45,592 [line 1631] mth5.groups.base.Run.from_runts - WARNING: Channel run.id sr1_001 !=  group run.id 001\n",
      "2023-04-16 13:41:46,026 [line 1631] mth5.groups.base.Run.from_runts - WARNING: Channel run.id sr1_001 !=  group run.id 001\n",
      "2023-04-16 13:41:46,477 [line 1631] mth5.groups.base.Run.from_runts - WARNING: Channel run.id sr1_001 !=  group run.id 001\n",
      "2023-04-16 13:41:46,966 [line 1631] mth5.groups.base.Run.from_runts - WARNING: Channel run.id sr1_001 !=  group run.id 001\n",
      "2023-04-16 13:41:47,205 [line 755] mth5.mth5.MTH5.close_mth5 - INFO: Flushing and closing /home/kkappler/.cache/earthscope/EM_MM015.h5\n"
     ]
    },
    {
     "name": "stdout",
     "output_type": "stream",
     "text": [
      "104\n",
      "104 row network       EM\n",
      "station    MN011\n",
      "Name: 104, dtype: object\n",
      "request_df   network station location channel                start                  end\n",
      "0      EM   MN011              LFE  2000-03-02T06:00:00  2023-01-01T00:00:00\n",
      "1      EM   MN011              LFN  2000-03-02T06:00:00  2023-01-01T00:00:00\n",
      "2      EM   MN011              LFZ  2000-03-02T06:00:00  2023-01-01T00:00:00\n",
      "3      EM   MN011              LQE  2000-03-02T06:00:00  2023-01-01T00:00:00\n",
      "4      EM   MN011              LQN  2000-03-02T06:00:00  2023-01-01T00:00:00\n",
      "inventory Inventory created at 2023-04-16T20:41:57.233512Z\n",
      "\tCreated by: ObsPy 1.4.0\n",
      "\t\t    https://www.obspy.org\n",
      "\tSending institution: MTH5\n",
      "\tContains:\n",
      "\t\tNetworks (1):\n",
      "\t\t\tEM\n",
      "\t\tStations (1):\n",
      "\t\t\tEM.MN011 (Dumb Hell Butte, OR, USA)\n",
      "\t\tChannels (5):\n",
      "\t\t\tEM.MN011..LFZ, EM.MN011..LFN, EM.MN011..LFE, EM.MN011..LQN, \n",
      "\t\t\tEM.MN011..LQE\n"
     ]
    },
    {
     "name": "stderr",
     "output_type": "stream",
     "text": [
      "2023-04-16 13:42:08,220 [line 674] mth5.mth5.MTH5._initialize_file - INFO: Initialized MTH5 0.2.0 file /home/kkappler/.cache/earthscope/EM_MN011.h5 in mode w\n",
      "2023-04-16 13:42:17,746 [line 498] mt_metadata.timeseries.stationxml.utils.XMLChannelMTChannel._xml_response_to_mt - INFO: Found an unnamed filter, named it: 'coefficient_00'\n",
      "2023-04-16 13:42:17,776 [line 498] mt_metadata.timeseries.stationxml.utils.XMLChannelMTChannel._xml_response_to_mt - INFO: Found an unnamed filter, named it: 'coefficient_01'\n",
      "2023-04-16 13:42:17,784 [line 498] mt_metadata.timeseries.stationxml.utils.XMLChannelMTChannel._xml_response_to_mt - INFO: Found an unnamed filter, named it: 'coefficient_01'\n",
      "2023-04-16 13:42:17,793 [line 498] mt_metadata.timeseries.stationxml.utils.XMLChannelMTChannel._xml_response_to_mt - INFO: Found an unnamed filter, named it: 'coefficient_02'\n"
     ]
    },
    {
     "name": "stdout",
     "output_type": "stream",
     "text": [
      "More or less runs have been requested by the user than are defined in the metadata. Runs will be defined but only the requested run extents contain time series data based on the users request.\n"
     ]
    },
    {
     "name": "stderr",
     "output_type": "stream",
     "text": [
      "2023-04-16 13:42:19,507 [line 1631] mth5.groups.base.Run.from_runts - WARNING: Channel run.id sr1_001 !=  group run.id 001\n",
      "2023-04-16 13:42:19,936 [line 1631] mth5.groups.base.Run.from_runts - WARNING: Channel run.id sr1_001 !=  group run.id 001\n",
      "2023-04-16 13:42:20,391 [line 1631] mth5.groups.base.Run.from_runts - WARNING: Channel run.id sr1_001 !=  group run.id 001\n",
      "2023-04-16 13:42:20,820 [line 1631] mth5.groups.base.Run.from_runts - WARNING: Channel run.id sr1_001 !=  group run.id 001\n",
      "2023-04-16 13:42:21,271 [line 1631] mth5.groups.base.Run.from_runts - WARNING: Channel run.id sr1_001 !=  group run.id 001\n",
      "2023-04-16 13:42:21,516 [line 755] mth5.mth5.MTH5.close_mth5 - INFO: Flushing and closing /home/kkappler/.cache/earthscope/EM_MN011.h5\n"
     ]
    },
    {
     "name": "stdout",
     "output_type": "stream",
     "text": [
      "105\n",
      "105 row network       EM\n",
      "station    MN014\n",
      "Name: 105, dtype: object\n",
      "request_df   network station location channel                start                  end\n",
      "0      EM   MN014              LFE  2000-03-02T06:00:00  2023-01-01T00:00:00\n",
      "1      EM   MN014              LFN  2000-03-02T06:00:00  2023-01-01T00:00:00\n",
      "2      EM   MN014              LFZ  2000-03-02T06:00:00  2023-01-01T00:00:00\n",
      "3      EM   MN014              LQE  2000-03-02T06:00:00  2023-01-01T00:00:00\n",
      "4      EM   MN014              LQN  2000-03-02T06:00:00  2023-01-01T00:00:00\n",
      "inventory Inventory created at 2023-04-16T20:42:32.269604Z\n",
      "\tCreated by: ObsPy 1.4.0\n",
      "\t\t    https://www.obspy.org\n",
      "\tSending institution: MTH5\n",
      "\tContains:\n",
      "\t\tNetworks (1):\n",
      "\t\t\tEM\n",
      "\t\tStations (1):\n",
      "\t\t\tEM.MN014 (N014, OR, USA)\n",
      "\t\tChannels (5):\n",
      "\t\t\tEM.MN014..LFZ, EM.MN014..LFN, EM.MN014..LFE, EM.MN014..LQN, \n",
      "\t\t\tEM.MN014..LQE\n"
     ]
    },
    {
     "name": "stderr",
     "output_type": "stream",
     "text": [
      "2023-04-16 13:42:43,060 [line 674] mth5.mth5.MTH5._initialize_file - INFO: Initialized MTH5 0.2.0 file /home/kkappler/.cache/earthscope/EM_MN014.h5 in mode w\n",
      "2023-04-16 13:42:52,029 [line 498] mt_metadata.timeseries.stationxml.utils.XMLChannelMTChannel._xml_response_to_mt - INFO: Found an unnamed filter, named it: 'coefficient_00'\n",
      "2023-04-16 13:42:52,061 [line 498] mt_metadata.timeseries.stationxml.utils.XMLChannelMTChannel._xml_response_to_mt - INFO: Found an unnamed filter, named it: 'coefficient_01'\n",
      "2023-04-16 13:42:52,069 [line 498] mt_metadata.timeseries.stationxml.utils.XMLChannelMTChannel._xml_response_to_mt - INFO: Found an unnamed filter, named it: 'coefficient_01'\n",
      "2023-04-16 13:42:52,079 [line 498] mt_metadata.timeseries.stationxml.utils.XMLChannelMTChannel._xml_response_to_mt - INFO: Found an unnamed filter, named it: 'coefficient_02'\n"
     ]
    },
    {
     "name": "stdout",
     "output_type": "stream",
     "text": [
      "More or less runs have been requested by the user than are defined in the metadata. Runs will be defined but only the requested run extents contain time series data based on the users request.\n"
     ]
    },
    {
     "name": "stderr",
     "output_type": "stream",
     "text": [
      "2023-04-16 13:42:53,544 [line 1631] mth5.groups.base.Run.from_runts - WARNING: Channel run.id sr1_001 !=  group run.id 001\n",
      "2023-04-16 13:42:53,979 [line 1631] mth5.groups.base.Run.from_runts - WARNING: Channel run.id sr1_001 !=  group run.id 001\n",
      "2023-04-16 13:42:54,418 [line 1631] mth5.groups.base.Run.from_runts - WARNING: Channel run.id sr1_001 !=  group run.id 001\n",
      "2023-04-16 13:42:54,847 [line 1631] mth5.groups.base.Run.from_runts - WARNING: Channel run.id sr1_001 !=  group run.id 001\n",
      "2023-04-16 13:42:55,296 [line 1631] mth5.groups.base.Run.from_runts - WARNING: Channel run.id sr1_001 !=  group run.id 001\n",
      "2023-04-16 13:42:55,531 [line 755] mth5.mth5.MTH5.close_mth5 - INFO: Flushing and closing /home/kkappler/.cache/earthscope/EM_MN014.h5\n"
     ]
    },
    {
     "name": "stdout",
     "output_type": "stream",
     "text": [
      "106\n",
      "106 row network       EM\n",
      "station    MOB13\n",
      "Name: 106, dtype: object\n",
      "request_df   network station location channel                start                  end\n",
      "0      EM   MOB13              LFE  2000-03-02T06:00:00  2023-01-01T00:00:00\n",
      "1      EM   MOB13              LFN  2000-03-02T06:00:00  2023-01-01T00:00:00\n",
      "2      EM   MOB13              LFZ  2000-03-02T06:00:00  2023-01-01T00:00:00\n",
      "3      EM   MOB13              LQE  2000-03-02T06:00:00  2023-01-01T00:00:00\n",
      "4      EM   MOB13              LQN  2000-03-02T06:00:00  2023-01-01T00:00:00\n",
      "inventory Inventory created at 2023-04-16T20:43:05.671365Z\n",
      "\tCreated by: ObsPy 1.4.0\n",
      "\t\t    https://www.obspy.org\n",
      "\tSending institution: MTH5\n",
      "\tContains:\n",
      "\t\tNetworks (1):\n",
      "\t\t\tEM\n",
      "\t\tStations (1):\n",
      "\t\t\tEM.MOB13 (Beeville Road, WA, USA)\n",
      "\t\tChannels (5):\n",
      "\t\t\tEM.MOB13..LFZ, EM.MOB13..LFN, EM.MOB13..LFE, EM.MOB13..LQN, \n",
      "\t\t\tEM.MOB13..LQE\n"
     ]
    },
    {
     "name": "stderr",
     "output_type": "stream",
     "text": [
      "2023-04-16 13:43:16,494 [line 674] mth5.mth5.MTH5._initialize_file - INFO: Initialized MTH5 0.2.0 file /home/kkappler/.cache/earthscope/EM_MOB13.h5 in mode w\n",
      "2023-04-16 13:43:21,328 [line 498] mt_metadata.timeseries.stationxml.utils.XMLChannelMTChannel._xml_response_to_mt - INFO: Found an unnamed filter, named it: 'coefficient_00'\n",
      "2023-04-16 13:43:21,357 [line 498] mt_metadata.timeseries.stationxml.utils.XMLChannelMTChannel._xml_response_to_mt - INFO: Found an unnamed filter, named it: 'coefficient_01'\n",
      "2023-04-16 13:43:21,365 [line 498] mt_metadata.timeseries.stationxml.utils.XMLChannelMTChannel._xml_response_to_mt - INFO: Found an unnamed filter, named it: 'coefficient_01'\n",
      "2023-04-16 13:43:21,374 [line 498] mt_metadata.timeseries.stationxml.utils.XMLChannelMTChannel._xml_response_to_mt - INFO: Found an unnamed filter, named it: 'coefficient_02'\n"
     ]
    },
    {
     "name": "stdout",
     "output_type": "stream",
     "text": [
      "More or less runs have been requested by the user than are defined in the metadata. Runs will be defined but only the requested run extents contain time series data based on the users request.\n"
     ]
    },
    {
     "name": "stderr",
     "output_type": "stream",
     "text": [
      "2023-04-16 13:43:22,701 [line 1631] mth5.groups.base.Run.from_runts - WARNING: Channel run.id sr1_001 !=  group run.id 001\n",
      "2023-04-16 13:43:23,148 [line 1631] mth5.groups.base.Run.from_runts - WARNING: Channel run.id sr1_001 !=  group run.id 001\n",
      "2023-04-16 13:43:23,577 [line 1631] mth5.groups.base.Run.from_runts - WARNING: Channel run.id sr1_001 !=  group run.id 001\n",
      "2023-04-16 13:43:24,033 [line 1631] mth5.groups.base.Run.from_runts - WARNING: Channel run.id sr1_001 !=  group run.id 001\n",
      "2023-04-16 13:43:24,457 [line 1631] mth5.groups.base.Run.from_runts - WARNING: Channel run.id sr1_001 !=  group run.id 001\n",
      "2023-04-16 13:43:24,678 [line 755] mth5.mth5.MTH5.close_mth5 - INFO: Flushing and closing /home/kkappler/.cache/earthscope/EM_MOB13.h5\n"
     ]
    },
    {
     "name": "stdout",
     "output_type": "stream",
     "text": [
      "107\n",
      "107 row network       EM\n",
      "station    MP012\n",
      "Name: 107, dtype: object\n",
      "request_df   network station location channel                start                  end\n",
      "0      EM   MP012              LFE  2000-03-02T06:00:00  2023-01-01T00:00:00\n",
      "1      EM   MP012              LFN  2000-03-02T06:00:00  2023-01-01T00:00:00\n",
      "2      EM   MP012              LFZ  2000-03-02T06:00:00  2023-01-01T00:00:00\n",
      "3      EM   MP012              LQE  2000-03-02T06:00:00  2023-01-01T00:00:00\n",
      "4      EM   MP012              LQN  2000-03-02T06:00:00  2023-01-01T00:00:00\n",
      "inventory Inventory created at 2023-04-16T20:43:34.706404Z\n",
      "\tCreated by: ObsPy 1.4.0\n",
      "\t\t    https://www.obspy.org\n",
      "\tSending institution: MTH5\n",
      "\tContains:\n",
      "\t\tNetworks (1):\n",
      "\t\t\tEM\n",
      "\t\tStations (1):\n",
      "\t\t\tEM.MP012 (Smith River, OR, USA)\n",
      "\t\tChannels (5):\n",
      "\t\t\tEM.MP012..LFZ, EM.MP012..LFN, EM.MP012..LFE, EM.MP012..LQN, \n",
      "\t\t\tEM.MP012..LQE\n"
     ]
    },
    {
     "name": "stderr",
     "output_type": "stream",
     "text": [
      "2023-04-16 13:43:45,483 [line 674] mth5.mth5.MTH5._initialize_file - INFO: Initialized MTH5 0.2.0 file /home/kkappler/.cache/earthscope/EM_MP012.h5 in mode w\n",
      "2023-04-16 13:43:53,878 [line 498] mt_metadata.timeseries.stationxml.utils.XMLChannelMTChannel._xml_response_to_mt - INFO: Found an unnamed filter, named it: 'coefficient_00'\n",
      "2023-04-16 13:43:53,908 [line 498] mt_metadata.timeseries.stationxml.utils.XMLChannelMTChannel._xml_response_to_mt - INFO: Found an unnamed filter, named it: 'coefficient_01'\n",
      "2023-04-16 13:43:53,916 [line 498] mt_metadata.timeseries.stationxml.utils.XMLChannelMTChannel._xml_response_to_mt - INFO: Found an unnamed filter, named it: 'coefficient_01'\n",
      "2023-04-16 13:43:53,926 [line 498] mt_metadata.timeseries.stationxml.utils.XMLChannelMTChannel._xml_response_to_mt - INFO: Found an unnamed filter, named it: 'coefficient_02'\n"
     ]
    },
    {
     "name": "stdout",
     "output_type": "stream",
     "text": [
      "More or less runs have been requested by the user than are defined in the metadata. Runs will be defined but only the requested run extents contain time series data based on the users request.\n"
     ]
    },
    {
     "name": "stderr",
     "output_type": "stream",
     "text": [
      "2023-04-16 13:43:55,421 [line 1631] mth5.groups.base.Run.from_runts - WARNING: Channel run.id sr1_001 !=  group run.id 001\n",
      "2023-04-16 13:43:55,864 [line 1631] mth5.groups.base.Run.from_runts - WARNING: Channel run.id sr1_001 !=  group run.id 001\n",
      "2023-04-16 13:43:56,321 [line 1631] mth5.groups.base.Run.from_runts - WARNING: Channel run.id sr1_001 !=  group run.id 001\n",
      "2023-04-16 13:43:56,741 [line 1631] mth5.groups.base.Run.from_runts - WARNING: Channel run.id sr1_001 !=  group run.id 001\n",
      "2023-04-16 13:43:57,188 [line 1631] mth5.groups.base.Run.from_runts - WARNING: Channel run.id sr1_001 !=  group run.id 001\n",
      "2023-04-16 13:43:57,427 [line 755] mth5.mth5.MTH5.close_mth5 - INFO: Flushing and closing /home/kkappler/.cache/earthscope/EM_MP012.h5\n"
     ]
    },
    {
     "name": "stdout",
     "output_type": "stream",
     "text": [
      "108\n",
      "108 row network       EM\n",
      "station    MQ014\n",
      "Name: 108, dtype: object\n",
      "request_df   network station location channel                start                  end\n",
      "0      EM   MQ014              LFE  2000-03-02T06:00:00  2023-01-01T00:00:00\n",
      "1      EM   MQ014              LFN  2000-03-02T06:00:00  2023-01-01T00:00:00\n",
      "2      EM   MQ014              LFZ  2000-03-02T06:00:00  2023-01-01T00:00:00\n",
      "3      EM   MQ014              LQE  2000-03-02T06:00:00  2023-01-01T00:00:00\n",
      "4      EM   MQ014              LQN  2000-03-02T06:00:00  2023-01-01T00:00:00\n",
      "inventory Inventory created at 2023-04-16T20:44:07.456601Z\n",
      "\tCreated by: ObsPy 1.4.0\n",
      "\t\t    https://www.obspy.org\n",
      "\tSending institution: MTH5\n",
      "\tContains:\n",
      "\t\tNetworks (1):\n",
      "\t\t\tEM\n",
      "\t\tStations (1):\n",
      "\t\t\tEM.MQ014 (Red Hill, OR, USA)\n",
      "\t\tChannels (5):\n",
      "\t\t\tEM.MQ014..LFZ, EM.MQ014..LFN, EM.MQ014..LFE, EM.MQ014..LQN, \n",
      "\t\t\tEM.MQ014..LQE\n"
     ]
    },
    {
     "name": "stderr",
     "output_type": "stream",
     "text": [
      "2023-04-16 13:44:19,285 [line 674] mth5.mth5.MTH5._initialize_file - INFO: Initialized MTH5 0.2.0 file /home/kkappler/.cache/earthscope/EM_MQ014.h5 in mode w\n",
      "2023-04-16 13:44:27,215 [line 498] mt_metadata.timeseries.stationxml.utils.XMLChannelMTChannel._xml_response_to_mt - INFO: Found an unnamed filter, named it: 'coefficient_00'\n",
      "2023-04-16 13:44:27,246 [line 498] mt_metadata.timeseries.stationxml.utils.XMLChannelMTChannel._xml_response_to_mt - INFO: Found an unnamed filter, named it: 'coefficient_01'\n",
      "2023-04-16 13:44:27,254 [line 498] mt_metadata.timeseries.stationxml.utils.XMLChannelMTChannel._xml_response_to_mt - INFO: Found an unnamed filter, named it: 'coefficient_01'\n",
      "2023-04-16 13:44:27,264 [line 498] mt_metadata.timeseries.stationxml.utils.XMLChannelMTChannel._xml_response_to_mt - INFO: Found an unnamed filter, named it: 'coefficient_02'\n"
     ]
    },
    {
     "name": "stdout",
     "output_type": "stream",
     "text": [
      "More or less runs have been requested by the user than are defined in the metadata. Runs will be defined but only the requested run extents contain time series data based on the users request.\n"
     ]
    },
    {
     "name": "stderr",
     "output_type": "stream",
     "text": [
      "2023-04-16 13:44:28,783 [line 1631] mth5.groups.base.Run.from_runts - WARNING: Channel run.id sr1_001 !=  group run.id 001\n",
      "2023-04-16 13:44:29,235 [line 1631] mth5.groups.base.Run.from_runts - WARNING: Channel run.id sr1_001 !=  group run.id 001\n",
      "2023-04-16 13:44:29,673 [line 1631] mth5.groups.base.Run.from_runts - WARNING: Channel run.id sr1_001 !=  group run.id 001\n",
      "2023-04-16 13:44:30,119 [line 1631] mth5.groups.base.Run.from_runts - WARNING: Channel run.id sr1_001 !=  group run.id 001\n",
      "2023-04-16 13:44:30,571 [line 1631] mth5.groups.base.Run.from_runts - WARNING: Channel run.id sr1_001 !=  group run.id 001\n",
      "2023-04-16 13:44:30,808 [line 755] mth5.mth5.MTH5.close_mth5 - INFO: Flushing and closing /home/kkappler/.cache/earthscope/EM_MQ014.h5\n"
     ]
    },
    {
     "name": "stdout",
     "output_type": "stream",
     "text": [
      "109\n",
      "109 row network       EM\n",
      "station    MTD19\n",
      "Name: 109, dtype: object\n",
      "request_df   network station location channel                start                  end\n",
      "0      EM   MTD19              LFE  2000-03-02T06:00:00  2023-01-01T00:00:00\n",
      "1      EM   MTD19              LFN  2000-03-02T06:00:00  2023-01-01T00:00:00\n",
      "2      EM   MTD19              LFZ  2000-03-02T06:00:00  2023-01-01T00:00:00\n",
      "3      EM   MTD19              LQE  2000-03-02T06:00:00  2023-01-01T00:00:00\n",
      "4      EM   MTD19              LQN  2000-03-02T06:00:00  2023-01-01T00:00:00\n",
      "inventory Inventory created at 2023-04-16T20:44:40.836640Z\n",
      "\tCreated by: ObsPy 1.4.0\n",
      "\t\t    https://www.obspy.org\n",
      "\tSending institution: MTH5\n",
      "\tContains:\n",
      "\t\tNetworks (1):\n",
      "\t\t\tEM\n",
      "\t\tStations (1):\n",
      "\t\t\tEM.MTD19 (Grass Range, MT, USA)\n",
      "\t\tChannels (5):\n",
      "\t\t\tEM.MTD19..LFZ, EM.MTD19..LFN, EM.MTD19..LFE, EM.MTD19..LQN, \n",
      "\t\t\tEM.MTD19..LQE\n"
     ]
    },
    {
     "name": "stderr",
     "output_type": "stream",
     "text": [
      "2023-04-16 13:44:51,593 [line 674] mth5.mth5.MTH5._initialize_file - INFO: Initialized MTH5 0.2.0 file /home/kkappler/.cache/earthscope/EM_MTD19.h5 in mode w\n",
      "2023-04-16 13:45:01,644 [line 498] mt_metadata.timeseries.stationxml.utils.XMLChannelMTChannel._xml_response_to_mt - INFO: Found an unnamed filter, named it: 'zpk_00'\n"
     ]
    },
    {
     "name": "stdout",
     "output_type": "stream",
     "text": [
      "2023-04-16T13:45:01 [line 134] obspy_stages.create_filter_from_stage - INFO: Converting PoleZerosResponseStage None to a CoefficientFilter\n"
     ]
    },
    {
     "name": "stderr",
     "output_type": "stream",
     "text": [
      "2023-04-16 13:45:01,676 [line 498] mt_metadata.timeseries.stationxml.utils.XMLChannelMTChannel._xml_response_to_mt - INFO: Found an unnamed filter, named it: 'coefficient_00'\n",
      "2023-04-16 13:45:01,685 [line 498] mt_metadata.timeseries.stationxml.utils.XMLChannelMTChannel._xml_response_to_mt - INFO: Found an unnamed filter, named it: 'zpk_01'\n"
     ]
    },
    {
     "name": "stdout",
     "output_type": "stream",
     "text": [
      "2023-04-16T13:45:01 [line 134] obspy_stages.create_filter_from_stage - INFO: Converting PoleZerosResponseStage None to a CoefficientFilter\n",
      "More or less runs have been requested by the user than are defined in the metadata. Runs will be defined but only the requested run extents contain time series data based on the users request.\n"
     ]
    },
    {
     "name": "stderr",
     "output_type": "stream",
     "text": [
      "2023-04-16 13:45:03,328 [line 1631] mth5.groups.base.Run.from_runts - WARNING: Channel run.id sr1_001 !=  group run.id 001\n",
      "2023-04-16 13:45:03,771 [line 1631] mth5.groups.base.Run.from_runts - WARNING: Channel run.id sr1_001 !=  group run.id 001\n",
      "2023-04-16 13:45:04,224 [line 1631] mth5.groups.base.Run.from_runts - WARNING: Channel run.id sr1_001 !=  group run.id 001\n",
      "2023-04-16 13:45:04,717 [line 1631] mth5.groups.base.Run.from_runts - WARNING: Channel run.id sr1_001 !=  group run.id 001\n",
      "2023-04-16 13:45:05,189 [line 1631] mth5.groups.base.Run.from_runts - WARNING: Channel run.id sr1_001 !=  group run.id 001\n",
      "2023-04-16 13:45:05,432 [line 755] mth5.mth5.MTH5.close_mth5 - INFO: Flushing and closing /home/kkappler/.cache/earthscope/EM_MTD19.h5\n"
     ]
    },
    {
     "name": "stdout",
     "output_type": "stream",
     "text": [
      "110\n",
      "110 row network       EM\n",
      "station    NDE27\n",
      "Name: 110, dtype: object\n",
      "request_df   network station location channel                start                  end\n",
      "0      EM   NDE27              LFE  2000-03-02T06:00:00  2023-01-01T00:00:00\n",
      "1      EM   NDE27              LFN  2000-03-02T06:00:00  2023-01-01T00:00:00\n",
      "2      EM   NDE27              LFZ  2000-03-02T06:00:00  2023-01-01T00:00:00\n",
      "3      EM   NDE27              LQE  2000-03-02T06:00:00  2023-01-01T00:00:00\n",
      "4      EM   NDE27              LQN  2000-03-02T06:00:00  2023-01-01T00:00:00\n",
      "inventory Inventory created at 2023-04-16T20:45:15.454761Z\n",
      "\tCreated by: ObsPy 1.4.0\n",
      "\t\t    https://www.obspy.org\n",
      "\tSending institution: MTH5\n",
      "\tContains:\n",
      "\t\tNetworks (1):\n",
      "\t\t\tEM\n",
      "\t\tStations (1):\n",
      "\t\t\tEM.NDE27 (Heart River, ND, USA)\n",
      "\t\tChannels (5):\n",
      "\t\t\tEM.NDE27..LFZ, EM.NDE27..LFN, EM.NDE27..LFE, EM.NDE27..LQN, \n",
      "\t\t\tEM.NDE27..LQE\n"
     ]
    },
    {
     "name": "stderr",
     "output_type": "stream",
     "text": [
      "2023-04-16 13:45:26,276 [line 674] mth5.mth5.MTH5._initialize_file - INFO: Initialized MTH5 0.2.0 file /home/kkappler/.cache/earthscope/EM_NDE27.h5 in mode w\n",
      "2023-04-16 13:45:30,876 [line 498] mt_metadata.timeseries.stationxml.utils.XMLChannelMTChannel._xml_response_to_mt - INFO: Found an unnamed filter, named it: 'zpk_00'\n"
     ]
    },
    {
     "name": "stdout",
     "output_type": "stream",
     "text": [
      "2023-04-16T13:45:30 [line 134] obspy_stages.create_filter_from_stage - INFO: Converting PoleZerosResponseStage None to a CoefficientFilter\n"
     ]
    },
    {
     "name": "stderr",
     "output_type": "stream",
     "text": [
      "2023-04-16 13:45:30,910 [line 498] mt_metadata.timeseries.stationxml.utils.XMLChannelMTChannel._xml_response_to_mt - INFO: Found an unnamed filter, named it: 'coefficient_00'\n",
      "2023-04-16 13:45:30,923 [line 498] mt_metadata.timeseries.stationxml.utils.XMLChannelMTChannel._xml_response_to_mt - INFO: Found an unnamed filter, named it: 'zpk_01'\n"
     ]
    },
    {
     "name": "stdout",
     "output_type": "stream",
     "text": [
      "2023-04-16T13:45:30 [line 134] obspy_stages.create_filter_from_stage - INFO: Converting PoleZerosResponseStage None to a CoefficientFilter\n",
      "More or less runs have been requested by the user than are defined in the metadata. Runs will be defined but only the requested run extents contain time series data based on the users request.\n"
     ]
    },
    {
     "name": "stderr",
     "output_type": "stream",
     "text": [
      "2023-04-16 13:45:32,309 [line 1631] mth5.groups.base.Run.from_runts - WARNING: Channel run.id sr1_001 !=  group run.id 001\n",
      "2023-04-16 13:45:32,742 [line 1631] mth5.groups.base.Run.from_runts - WARNING: Channel run.id sr1_001 !=  group run.id 001\n",
      "2023-04-16 13:45:33,171 [line 1631] mth5.groups.base.Run.from_runts - WARNING: Channel run.id sr1_001 !=  group run.id 001\n",
      "2023-04-16 13:45:33,598 [line 1631] mth5.groups.base.Run.from_runts - WARNING: Channel run.id sr1_001 !=  group run.id 001\n",
      "2023-04-16 13:45:34,038 [line 1631] mth5.groups.base.Run.from_runts - WARNING: Channel run.id sr1_001 !=  group run.id 001\n",
      "2023-04-16 13:45:34,274 [line 755] mth5.mth5.MTH5.close_mth5 - INFO: Flushing and closing /home/kkappler/.cache/earthscope/EM_NDE27.h5\n"
     ]
    },
    {
     "name": "stdout",
     "output_type": "stream",
     "text": [
      "111\n",
      "111 row network       EM\n",
      "station    NDF26\n",
      "Name: 111, dtype: object\n",
      "request_df   network station location channel                start                  end\n",
      "0      EM   NDF26              LFE  2000-03-02T06:00:00  2023-01-01T00:00:00\n",
      "1      EM   NDF26              LFN  2000-03-02T06:00:00  2023-01-01T00:00:00\n",
      "2      EM   NDF26              LFZ  2000-03-02T06:00:00  2023-01-01T00:00:00\n",
      "3      EM   NDF26              LQE  2000-03-02T06:00:00  2023-01-01T00:00:00\n",
      "4      EM   NDF26              LQN  2000-03-02T06:00:00  2023-01-01T00:00:00\n",
      "inventory Inventory created at 2023-04-16T20:45:44.332973Z\n",
      "\tCreated by: ObsPy 1.4.0\n",
      "\t\t    https://www.obspy.org\n",
      "\tSending institution: MTH5\n",
      "\tContains:\n",
      "\t\tNetworks (1):\n",
      "\t\t\tEM\n",
      "\t\tStations (1):\n",
      "\t\t\tEM.NDF26 (Two Horses, ND, USA)\n",
      "\t\tChannels (5):\n",
      "\t\t\tEM.NDF26..LFZ, EM.NDF26..LFN, EM.NDF26..LFE, EM.NDF26..LQN, \n",
      "\t\t\tEM.NDF26..LQE\n"
     ]
    },
    {
     "name": "stderr",
     "output_type": "stream",
     "text": [
      "2023-04-16 13:45:55,128 [line 674] mth5.mth5.MTH5._initialize_file - INFO: Initialized MTH5 0.2.0 file /home/kkappler/.cache/earthscope/EM_NDF26.h5 in mode w\n",
      "2023-04-16 13:45:59,846 [line 498] mt_metadata.timeseries.stationxml.utils.XMLChannelMTChannel._xml_response_to_mt - INFO: Found an unnamed filter, named it: 'zpk_00'\n"
     ]
    },
    {
     "name": "stdout",
     "output_type": "stream",
     "text": [
      "2023-04-16T13:45:59 [line 134] obspy_stages.create_filter_from_stage - INFO: Converting PoleZerosResponseStage None to a CoefficientFilter\n"
     ]
    },
    {
     "name": "stderr",
     "output_type": "stream",
     "text": [
      "2023-04-16 13:45:59,886 [line 498] mt_metadata.timeseries.stationxml.utils.XMLChannelMTChannel._xml_response_to_mt - INFO: Found an unnamed filter, named it: 'coefficient_00'\n",
      "2023-04-16 13:45:59,894 [line 498] mt_metadata.timeseries.stationxml.utils.XMLChannelMTChannel._xml_response_to_mt - INFO: Found an unnamed filter, named it: 'zpk_01'\n"
     ]
    },
    {
     "name": "stdout",
     "output_type": "stream",
     "text": [
      "2023-04-16T13:45:59 [line 134] obspy_stages.create_filter_from_stage - INFO: Converting PoleZerosResponseStage None to a CoefficientFilter\n",
      "More or less runs have been requested by the user than are defined in the metadata. Runs will be defined but only the requested run extents contain time series data based on the users request.\n"
     ]
    },
    {
     "name": "stderr",
     "output_type": "stream",
     "text": [
      "2023-04-16 13:46:00,844 [line 678] mth5.timeseries.run_ts.RunTS.validate_metadata - WARNING: end time of dataset 2017-10-16T19:48:06+00:00 does not match metadata end 2017-10-24T20:23:12+00:00 updating metatdata value to 2017-10-16T19:48:06+00:00\n",
      "2023-04-16 13:46:01,251 [line 1631] mth5.groups.base.Run.from_runts - WARNING: Channel run.id sr1_001 !=  group run.id 001\n",
      "2023-04-16 13:46:01,677 [line 1631] mth5.groups.base.Run.from_runts - WARNING: Channel run.id sr1_001 !=  group run.id 001\n",
      "2023-04-16 13:46:02,114 [line 1631] mth5.groups.base.Run.from_runts - WARNING: Channel run.id sr1_001 !=  group run.id 001\n",
      "2023-04-16 13:46:02,553 [line 1631] mth5.groups.base.Run.from_runts - WARNING: Channel run.id sr1_001 !=  group run.id 001\n",
      "2023-04-16 13:46:02,976 [line 1631] mth5.groups.base.Run.from_runts - WARNING: Channel run.id sr1_001 !=  group run.id 001\n",
      "2023-04-16 13:46:03,209 [line 755] mth5.mth5.MTH5.close_mth5 - INFO: Flushing and closing /home/kkappler/.cache/earthscope/EM_NDF26.h5\n"
     ]
    },
    {
     "name": "stdout",
     "output_type": "stream",
     "text": [
      "112\n",
      "112 row network       EM\n",
      "station    NVM08\n",
      "Name: 112, dtype: object\n",
      "request_df   network station location channel                start                  end\n",
      "0      EM   NVM08              LFE  2000-03-02T06:00:00  2023-01-01T00:00:00\n",
      "1      EM   NVM08              LFN  2000-03-02T06:00:00  2023-01-01T00:00:00\n",
      "2      EM   NVM08              LFZ  2000-03-02T06:00:00  2023-01-01T00:00:00\n",
      "3      EM   NVM08              LQE  2000-03-02T06:00:00  2023-01-01T00:00:00\n",
      "4      EM   NVM08              LQN  2000-03-02T06:00:00  2023-01-01T00:00:00\n",
      "inventory Inventory created at 2023-04-16T20:46:13.237734Z\n",
      "\tCreated by: ObsPy 1.4.0\n",
      "\t\t    https://www.obspy.org\n",
      "\tSending institution: MTH5\n",
      "\tContains:\n",
      "\t\tNetworks (1):\n",
      "\t\t\tEM\n",
      "\t\tStations (1):\n",
      "\t\t\tEM.NVM08 (Quinn River, NV, USA)\n",
      "\t\tChannels (5):\n",
      "\t\t\tEM.NVM08..LFZ, EM.NVM08..LFN, EM.NVM08..LFE, EM.NVM08..LQN, \n",
      "\t\t\tEM.NVM08..LQE\n"
     ]
    },
    {
     "name": "stderr",
     "output_type": "stream",
     "text": [
      "2023-04-16 13:46:24,053 [line 674] mth5.mth5.MTH5._initialize_file - INFO: Initialized MTH5 0.2.0 file /home/kkappler/.cache/earthscope/EM_NVM08.h5 in mode w\n",
      "2023-04-16 13:46:33,566 [line 498] mt_metadata.timeseries.stationxml.utils.XMLChannelMTChannel._xml_response_to_mt - INFO: Found an unnamed filter, named it: 'zpk_00'\n"
     ]
    },
    {
     "name": "stdout",
     "output_type": "stream",
     "text": [
      "2023-04-16T13:46:33 [line 134] obspy_stages.create_filter_from_stage - INFO: Converting PoleZerosResponseStage None to a CoefficientFilter\n"
     ]
    },
    {
     "name": "stderr",
     "output_type": "stream",
     "text": [
      "2023-04-16 13:46:33,600 [line 498] mt_metadata.timeseries.stationxml.utils.XMLChannelMTChannel._xml_response_to_mt - INFO: Found an unnamed filter, named it: 'coefficient_00'\n",
      "2023-04-16 13:46:33,609 [line 498] mt_metadata.timeseries.stationxml.utils.XMLChannelMTChannel._xml_response_to_mt - INFO: Found an unnamed filter, named it: 'zpk_01'\n"
     ]
    },
    {
     "name": "stdout",
     "output_type": "stream",
     "text": [
      "2023-04-16T13:46:33 [line 134] obspy_stages.create_filter_from_stage - INFO: Converting PoleZerosResponseStage None to a CoefficientFilter\n",
      "More or less runs have been requested by the user than are defined in the metadata. Runs will be defined but only the requested run extents contain time series data based on the users request.\n"
     ]
    },
    {
     "name": "stderr",
     "output_type": "stream",
     "text": [
      "2023-04-16 13:46:35,335 [line 1631] mth5.groups.base.Run.from_runts - WARNING: Channel run.id sr1_001 !=  group run.id 001\n",
      "2023-04-16 13:46:35,783 [line 1631] mth5.groups.base.Run.from_runts - WARNING: Channel run.id sr1_001 !=  group run.id 001\n",
      "2023-04-16 13:46:36,234 [line 1631] mth5.groups.base.Run.from_runts - WARNING: Channel run.id sr1_001 !=  group run.id 001\n",
      "2023-04-16 13:46:36,673 [line 1631] mth5.groups.base.Run.from_runts - WARNING: Channel run.id sr1_001 !=  group run.id 001\n",
      "2023-04-16 13:46:37,122 [line 1631] mth5.groups.base.Run.from_runts - WARNING: Channel run.id sr1_001 !=  group run.id 001\n",
      "2023-04-16 13:46:37,371 [line 755] mth5.mth5.MTH5.close_mth5 - INFO: Flushing and closing /home/kkappler/.cache/earthscope/EM_NVM08.h5\n"
     ]
    },
    {
     "name": "stdout",
     "output_type": "stream",
     "text": [
      "113\n",
      "113 row network       EM\n",
      "station    NVM09\n",
      "Name: 113, dtype: object\n",
      "request_df   network station location channel                start                  end\n",
      "0      EM   NVM09              LFE  2000-03-02T06:00:00  2023-01-01T00:00:00\n",
      "1      EM   NVM09              LFN  2000-03-02T06:00:00  2023-01-01T00:00:00\n",
      "2      EM   NVM09              LFZ  2000-03-02T06:00:00  2023-01-01T00:00:00\n",
      "3      EM   NVM09              LQE  2000-03-02T06:00:00  2023-01-01T00:00:00\n",
      "4      EM   NVM09              LQN  2000-03-02T06:00:00  2023-01-01T00:00:00\n",
      "inventory Inventory created at 2023-04-16T20:46:47.400261Z\n",
      "\tCreated by: ObsPy 1.4.0\n",
      "\t\t    https://www.obspy.org\n",
      "\tSending institution: MTH5\n",
      "\tContains:\n",
      "\t\tNetworks (1):\n",
      "\t\t\tEM\n",
      "\t\tStations (1):\n",
      "\t\t\tEM.NVM09 (Solid Silver Creek, NV, USA)\n",
      "\t\tChannels (5):\n",
      "\t\t\tEM.NVM09..LFZ, EM.NVM09..LFN, EM.NVM09..LFE, EM.NVM09..LQN, \n",
      "\t\t\tEM.NVM09..LQE\n"
     ]
    },
    {
     "name": "stderr",
     "output_type": "stream",
     "text": [
      "2023-04-16 13:46:58,204 [line 674] mth5.mth5.MTH5._initialize_file - INFO: Initialized MTH5 0.2.0 file /home/kkappler/.cache/earthscope/EM_NVM09.h5 in mode w\n",
      "2023-04-16 13:47:06,913 [line 498] mt_metadata.timeseries.stationxml.utils.XMLChannelMTChannel._xml_response_to_mt - INFO: Found an unnamed filter, named it: 'zpk_00'\n"
     ]
    },
    {
     "name": "stdout",
     "output_type": "stream",
     "text": [
      "2023-04-16T13:47:06 [line 134] obspy_stages.create_filter_from_stage - INFO: Converting PoleZerosResponseStage None to a CoefficientFilter\n"
     ]
    },
    {
     "name": "stderr",
     "output_type": "stream",
     "text": [
      "2023-04-16 13:47:06,946 [line 498] mt_metadata.timeseries.stationxml.utils.XMLChannelMTChannel._xml_response_to_mt - INFO: Found an unnamed filter, named it: 'coefficient_00'\n",
      "2023-04-16 13:47:06,954 [line 498] mt_metadata.timeseries.stationxml.utils.XMLChannelMTChannel._xml_response_to_mt - INFO: Found an unnamed filter, named it: 'zpk_01'\n"
     ]
    },
    {
     "name": "stdout",
     "output_type": "stream",
     "text": [
      "2023-04-16T13:47:06 [line 134] obspy_stages.create_filter_from_stage - INFO: Converting PoleZerosResponseStage None to a CoefficientFilter\n",
      "More or less runs have been requested by the user than are defined in the metadata. Runs will be defined but only the requested run extents contain time series data based on the users request.\n"
     ]
    },
    {
     "name": "stderr",
     "output_type": "stream",
     "text": [
      "2023-04-16 13:47:08,652 [line 1631] mth5.groups.base.Run.from_runts - WARNING: Channel run.id sr1_001 !=  group run.id 001\n",
      "2023-04-16 13:47:09,114 [line 1631] mth5.groups.base.Run.from_runts - WARNING: Channel run.id sr1_001 !=  group run.id 001\n",
      "2023-04-16 13:47:09,570 [line 1631] mth5.groups.base.Run.from_runts - WARNING: Channel run.id sr1_001 !=  group run.id 001\n",
      "2023-04-16 13:47:10,005 [line 1631] mth5.groups.base.Run.from_runts - WARNING: Channel run.id sr1_001 !=  group run.id 001\n",
      "2023-04-16 13:47:10,437 [line 1631] mth5.groups.base.Run.from_runts - WARNING: Channel run.id sr1_001 !=  group run.id 001\n",
      "2023-04-16 13:47:10,676 [line 755] mth5.mth5.MTH5.close_mth5 - INFO: Flushing and closing /home/kkappler/.cache/earthscope/EM_NVM09.h5\n"
     ]
    },
    {
     "name": "stdout",
     "output_type": "stream",
     "text": [
      "114\n",
      "114 row network       EM\n",
      "station    NVM10\n",
      "Name: 114, dtype: object\n",
      "request_df   network station location channel                start                  end\n",
      "0      EM   NVM10              LFE  2000-03-02T06:00:00  2023-01-01T00:00:00\n",
      "1      EM   NVM10              LFN  2000-03-02T06:00:00  2023-01-01T00:00:00\n",
      "2      EM   NVM10              LFZ  2000-03-02T06:00:00  2023-01-01T00:00:00\n",
      "3      EM   NVM10              LQE  2000-03-02T06:00:00  2023-01-01T00:00:00\n",
      "4      EM   NVM10              LQN  2000-03-02T06:00:00  2023-01-01T00:00:00\n",
      "inventory Inventory created at 2023-04-16T20:47:20.705216Z\n",
      "\tCreated by: ObsPy 1.4.0\n",
      "\t\t    https://www.obspy.org\n",
      "\tSending institution: MTH5\n",
      "\tContains:\n",
      "\t\tNetworks (1):\n",
      "\t\t\tEM\n",
      "\t\tStations (1):\n",
      "\t\t\tEM.NVM10 (Soldier Creek, NV, USA)\n",
      "\t\tChannels (5):\n",
      "\t\t\tEM.NVM10..LFZ, EM.NVM10..LFN, EM.NVM10..LFE, EM.NVM10..LQN, \n",
      "\t\t\tEM.NVM10..LQE\n"
     ]
    },
    {
     "name": "stderr",
     "output_type": "stream",
     "text": [
      "2023-04-16 13:47:32,483 [line 674] mth5.mth5.MTH5._initialize_file - INFO: Initialized MTH5 0.2.0 file /home/kkappler/.cache/earthscope/EM_NVM10.h5 in mode w\n",
      "2023-04-16 13:47:41,513 [line 498] mt_metadata.timeseries.stationxml.utils.XMLChannelMTChannel._xml_response_to_mt - INFO: Found an unnamed filter, named it: 'zpk_00'\n"
     ]
    },
    {
     "name": "stdout",
     "output_type": "stream",
     "text": [
      "2023-04-16T13:47:41 [line 134] obspy_stages.create_filter_from_stage - INFO: Converting PoleZerosResponseStage None to a CoefficientFilter\n"
     ]
    },
    {
     "name": "stderr",
     "output_type": "stream",
     "text": [
      "2023-04-16 13:47:41,554 [line 498] mt_metadata.timeseries.stationxml.utils.XMLChannelMTChannel._xml_response_to_mt - INFO: Found an unnamed filter, named it: 'coefficient_00'\n",
      "2023-04-16 13:47:41,563 [line 498] mt_metadata.timeseries.stationxml.utils.XMLChannelMTChannel._xml_response_to_mt - INFO: Found an unnamed filter, named it: 'zpk_01'\n"
     ]
    },
    {
     "name": "stdout",
     "output_type": "stream",
     "text": [
      "2023-04-16T13:47:41 [line 134] obspy_stages.create_filter_from_stage - INFO: Converting PoleZerosResponseStage None to a CoefficientFilter\n",
      "More or less runs have been requested by the user than are defined in the metadata. Runs will be defined but only the requested run extents contain time series data based on the users request.\n"
     ]
    },
    {
     "name": "stderr",
     "output_type": "stream",
     "text": [
      "2023-04-16 13:47:43,307 [line 1631] mth5.groups.base.Run.from_runts - WARNING: Channel run.id sr1_001 !=  group run.id 001\n",
      "2023-04-16 13:47:43,751 [line 1631] mth5.groups.base.Run.from_runts - WARNING: Channel run.id sr1_001 !=  group run.id 001\n",
      "2023-04-16 13:47:44,274 [line 1631] mth5.groups.base.Run.from_runts - WARNING: Channel run.id sr1_001 !=  group run.id 001\n",
      "2023-04-16 13:47:44,723 [line 1631] mth5.groups.base.Run.from_runts - WARNING: Channel run.id sr1_001 !=  group run.id 001\n",
      "2023-04-16 13:47:45,166 [line 1631] mth5.groups.base.Run.from_runts - WARNING: Channel run.id sr1_001 !=  group run.id 001\n",
      "2023-04-16 13:47:45,412 [line 755] mth5.mth5.MTH5.close_mth5 - INFO: Flushing and closing /home/kkappler/.cache/earthscope/EM_NVM10.h5\n"
     ]
    },
    {
     "name": "stdout",
     "output_type": "stream",
     "text": [
      "115\n",
      "115 row network       EM\n",
      "station    NVN08\n",
      "Name: 115, dtype: object\n",
      "request_df   network station location channel                start                  end\n",
      "0      EM   NVN08              LFE  2000-03-02T06:00:00  2023-01-01T00:00:00\n",
      "1      EM   NVN08              LFN  2000-03-02T06:00:00  2023-01-01T00:00:00\n",
      "2      EM   NVN08              LFZ  2000-03-02T06:00:00  2023-01-01T00:00:00\n",
      "3      EM   NVN08              LQE  2000-03-02T06:00:00  2023-01-01T00:00:00\n",
      "4      EM   NVN08              LQN  2000-03-02T06:00:00  2023-01-01T00:00:00\n",
      "inventory Inventory created at 2023-04-16T20:47:55.436811Z\n",
      "\tCreated by: ObsPy 1.4.0\n",
      "\t\t    https://www.obspy.org\n",
      "\tSending institution: MTH5\n",
      "\tContains:\n",
      "\t\tNetworks (1):\n",
      "\t\t\tEM\n",
      "\t\tStations (1):\n",
      "\t\t\tEM.NVN08 (Coal Canyon, NV, USA)\n",
      "\t\tChannels (5):\n",
      "\t\t\tEM.NVN08..LFZ, EM.NVN08..LFN, EM.NVN08..LFE, EM.NVN08..LQN, \n",
      "\t\t\tEM.NVN08..LQE\n"
     ]
    },
    {
     "name": "stderr",
     "output_type": "stream",
     "text": [
      "2023-04-16 13:48:06,344 [line 674] mth5.mth5.MTH5._initialize_file - INFO: Initialized MTH5 0.2.0 file /home/kkappler/.cache/earthscope/EM_NVN08.h5 in mode w\n",
      "2023-04-16 13:48:13,160 [line 498] mt_metadata.timeseries.stationxml.utils.XMLChannelMTChannel._xml_response_to_mt - INFO: Found an unnamed filter, named it: 'zpk_00'\n"
     ]
    },
    {
     "name": "stdout",
     "output_type": "stream",
     "text": [
      "2023-04-16T13:48:13 [line 134] obspy_stages.create_filter_from_stage - INFO: Converting PoleZerosResponseStage None to a CoefficientFilter\n"
     ]
    },
    {
     "name": "stderr",
     "output_type": "stream",
     "text": [
      "2023-04-16 13:48:13,192 [line 498] mt_metadata.timeseries.stationxml.utils.XMLChannelMTChannel._xml_response_to_mt - INFO: Found an unnamed filter, named it: 'coefficient_00'\n",
      "2023-04-16 13:48:13,201 [line 498] mt_metadata.timeseries.stationxml.utils.XMLChannelMTChannel._xml_response_to_mt - INFO: Found an unnamed filter, named it: 'zpk_01'\n"
     ]
    },
    {
     "name": "stdout",
     "output_type": "stream",
     "text": [
      "2023-04-16T13:48:13 [line 134] obspy_stages.create_filter_from_stage - INFO: Converting PoleZerosResponseStage None to a CoefficientFilter\n",
      "More or less runs have been requested by the user than are defined in the metadata. Runs will be defined but only the requested run extents contain time series data based on the users request.\n"
     ]
    },
    {
     "name": "stderr",
     "output_type": "stream",
     "text": [
      "2023-04-16 13:48:14,804 [line 1631] mth5.groups.base.Run.from_runts - WARNING: Channel run.id sr1_001 !=  group run.id 001\n",
      "2023-04-16 13:48:15,242 [line 1631] mth5.groups.base.Run.from_runts - WARNING: Channel run.id sr1_001 !=  group run.id 001\n",
      "2023-04-16 13:48:15,685 [line 1631] mth5.groups.base.Run.from_runts - WARNING: Channel run.id sr1_001 !=  group run.id 001\n",
      "2023-04-16 13:48:16,157 [line 1631] mth5.groups.base.Run.from_runts - WARNING: Channel run.id sr1_001 !=  group run.id 001\n",
      "2023-04-16 13:48:16,586 [line 1631] mth5.groups.base.Run.from_runts - WARNING: Channel run.id sr1_001 !=  group run.id 001\n",
      "2023-04-16 13:48:16,826 [line 755] mth5.mth5.MTH5.close_mth5 - INFO: Flushing and closing /home/kkappler/.cache/earthscope/EM_NVN08.h5\n"
     ]
    },
    {
     "name": "stdout",
     "output_type": "stream",
     "text": [
      "116\n",
      "116 row network       EM\n",
      "station    NVN10\n",
      "Name: 116, dtype: object\n",
      "request_df   network station location channel                start                  end\n",
      "0      EM   NVN10              LFE  2000-03-02T06:00:00  2023-01-01T00:00:00\n",
      "1      EM   NVN10              LFN  2000-03-02T06:00:00  2023-01-01T00:00:00\n",
      "2      EM   NVN10              LFZ  2000-03-02T06:00:00  2023-01-01T00:00:00\n",
      "3      EM   NVN10              LQE  2000-03-02T06:00:00  2023-01-01T00:00:00\n",
      "4      EM   NVN10              LQN  2000-03-02T06:00:00  2023-01-01T00:00:00\n",
      "inventory Inventory created at 2023-04-16T20:48:26.855422Z\n",
      "\tCreated by: ObsPy 1.4.0\n",
      "\t\t    https://www.obspy.org\n",
      "\tSending institution: MTH5\n",
      "\tContains:\n",
      "\t\tNetworks (1):\n",
      "\t\t\tEM\n",
      "\t\tStations (1):\n",
      "\t\t\tEM.NVN10 (Rock Creek, NV, USA)\n",
      "\t\tChannels (5):\n",
      "\t\t\tEM.NVN10..LFZ, EM.NVN10..LFN, EM.NVN10..LFE, EM.NVN10..LQN, \n",
      "\t\t\tEM.NVN10..LQE\n"
     ]
    },
    {
     "name": "stderr",
     "output_type": "stream",
     "text": [
      "2023-04-16 13:48:37,684 [line 674] mth5.mth5.MTH5._initialize_file - INFO: Initialized MTH5 0.2.0 file /home/kkappler/.cache/earthscope/EM_NVN10.h5 in mode w\n",
      "2023-04-16 13:48:46,781 [line 498] mt_metadata.timeseries.stationxml.utils.XMLChannelMTChannel._xml_response_to_mt - INFO: Found an unnamed filter, named it: 'zpk_00'\n"
     ]
    },
    {
     "name": "stdout",
     "output_type": "stream",
     "text": [
      "2023-04-16T13:48:46 [line 134] obspy_stages.create_filter_from_stage - INFO: Converting PoleZerosResponseStage None to a CoefficientFilter\n"
     ]
    },
    {
     "name": "stderr",
     "output_type": "stream",
     "text": [
      "2023-04-16 13:48:46,813 [line 498] mt_metadata.timeseries.stationxml.utils.XMLChannelMTChannel._xml_response_to_mt - INFO: Found an unnamed filter, named it: 'coefficient_00'\n",
      "2023-04-16 13:48:46,821 [line 498] mt_metadata.timeseries.stationxml.utils.XMLChannelMTChannel._xml_response_to_mt - INFO: Found an unnamed filter, named it: 'zpk_01'\n"
     ]
    },
    {
     "name": "stdout",
     "output_type": "stream",
     "text": [
      "2023-04-16T13:48:46 [line 134] obspy_stages.create_filter_from_stage - INFO: Converting PoleZerosResponseStage None to a CoefficientFilter\n",
      "More or less runs have been requested by the user than are defined in the metadata. Runs will be defined but only the requested run extents contain time series data based on the users request.\n"
     ]
    },
    {
     "name": "stderr",
     "output_type": "stream",
     "text": [
      "2023-04-16 13:48:48,660 [line 1631] mth5.groups.base.Run.from_runts - WARNING: Channel run.id sr1_001 !=  group run.id 001\n",
      "2023-04-16 13:48:49,103 [line 1631] mth5.groups.base.Run.from_runts - WARNING: Channel run.id sr1_001 !=  group run.id 001\n",
      "2023-04-16 13:48:49,547 [line 1631] mth5.groups.base.Run.from_runts - WARNING: Channel run.id sr1_001 !=  group run.id 001\n",
      "2023-04-16 13:48:49,981 [line 1631] mth5.groups.base.Run.from_runts - WARNING: Channel run.id sr1_001 !=  group run.id 001\n",
      "2023-04-16 13:48:50,428 [line 1631] mth5.groups.base.Run.from_runts - WARNING: Channel run.id sr1_001 !=  group run.id 001\n",
      "2023-04-16 13:48:50,670 [line 755] mth5.mth5.MTH5.close_mth5 - INFO: Flushing and closing /home/kkappler/.cache/earthscope/EM_NVN10.h5\n"
     ]
    },
    {
     "name": "stdout",
     "output_type": "stream",
     "text": [
      "117\n",
      "117 row network       EM\n",
      "station    NVN12\n",
      "Name: 117, dtype: object\n",
      "request_df   network station location channel                start                  end\n",
      "0      EM   NVN12              LFE  2000-03-02T06:00:00  2023-01-01T00:00:00\n",
      "1      EM   NVN12              LFN  2000-03-02T06:00:00  2023-01-01T00:00:00\n",
      "2      EM   NVN12              LFZ  2000-03-02T06:00:00  2023-01-01T00:00:00\n",
      "3      EM   NVN12              LQE  2000-03-02T06:00:00  2023-01-01T00:00:00\n",
      "4      EM   NVN12              LQN  2000-03-02T06:00:00  2023-01-01T00:00:00\n",
      "inventory Inventory created at 2023-04-16T20:49:00.699817Z\n",
      "\tCreated by: ObsPy 1.4.0\n",
      "\t\t    https://www.obspy.org\n",
      "\tSending institution: MTH5\n",
      "\tContains:\n",
      "\t\tNetworks (1):\n",
      "\t\t\tEM\n",
      "\t\tStations (1):\n",
      "\t\t\tEM.NVN12 (Clover Valley, NV, USA)\n",
      "\t\tChannels (5):\n",
      "\t\t\tEM.NVN12..LFZ, EM.NVN12..LFN, EM.NVN12..LFE, EM.NVN12..LQN, \n",
      "\t\t\tEM.NVN12..LQE\n"
     ]
    },
    {
     "name": "stderr",
     "output_type": "stream",
     "text": [
      "2023-04-16 13:49:11,759 [line 674] mth5.mth5.MTH5._initialize_file - INFO: Initialized MTH5 0.2.0 file /home/kkappler/.cache/earthscope/EM_NVN12.h5 in mode w\n",
      "2023-04-16 13:49:21,364 [line 498] mt_metadata.timeseries.stationxml.utils.XMLChannelMTChannel._xml_response_to_mt - INFO: Found an unnamed filter, named it: 'zpk_00'\n"
     ]
    },
    {
     "name": "stdout",
     "output_type": "stream",
     "text": [
      "2023-04-16T13:49:21 [line 134] obspy_stages.create_filter_from_stage - INFO: Converting PoleZerosResponseStage None to a CoefficientFilter\n"
     ]
    },
    {
     "name": "stderr",
     "output_type": "stream",
     "text": [
      "2023-04-16 13:49:21,397 [line 498] mt_metadata.timeseries.stationxml.utils.XMLChannelMTChannel._xml_response_to_mt - INFO: Found an unnamed filter, named it: 'coefficient_00'\n",
      "2023-04-16 13:49:21,406 [line 498] mt_metadata.timeseries.stationxml.utils.XMLChannelMTChannel._xml_response_to_mt - INFO: Found an unnamed filter, named it: 'zpk_01'\n"
     ]
    },
    {
     "name": "stdout",
     "output_type": "stream",
     "text": [
      "2023-04-16T13:49:21 [line 134] obspy_stages.create_filter_from_stage - INFO: Converting PoleZerosResponseStage None to a CoefficientFilter\n",
      "More or less runs have been requested by the user than are defined in the metadata. Runs will be defined but only the requested run extents contain time series data based on the users request.\n"
     ]
    },
    {
     "name": "stderr",
     "output_type": "stream",
     "text": [
      "2023-04-16 13:49:22,982 [line 1631] mth5.groups.base.Run.from_runts - WARNING: Channel run.id sr1_001 !=  group run.id 001\n",
      "2023-04-16 13:49:23,422 [line 1631] mth5.groups.base.Run.from_runts - WARNING: Channel run.id sr1_001 !=  group run.id 001\n",
      "2023-04-16 13:49:23,876 [line 1631] mth5.groups.base.Run.from_runts - WARNING: Channel run.id sr1_001 !=  group run.id 001\n",
      "2023-04-16 13:49:24,309 [line 1631] mth5.groups.base.Run.from_runts - WARNING: Channel run.id sr1_001 !=  group run.id 001\n",
      "2023-04-16 13:49:24,740 [line 1631] mth5.groups.base.Run.from_runts - WARNING: Channel run.id sr1_001 !=  group run.id 001\n",
      "2023-04-16 13:49:24,976 [line 755] mth5.mth5.MTH5.close_mth5 - INFO: Flushing and closing /home/kkappler/.cache/earthscope/EM_NVN12.h5\n"
     ]
    },
    {
     "name": "stdout",
     "output_type": "stream",
     "text": [
      "118\n",
      "118 row network       EM\n",
      "station    NVO07\n",
      "Name: 118, dtype: object\n",
      "request_df   network station location channel                start                  end\n",
      "0      EM   NVO07              LFE  2000-03-02T06:00:00  2023-01-01T00:00:00\n",
      "1      EM   NVO07              LFN  2000-03-02T06:00:00  2023-01-01T00:00:00\n",
      "2      EM   NVO07              LFZ  2000-03-02T06:00:00  2023-01-01T00:00:00\n",
      "3      EM   NVO07              LQE  2000-03-02T06:00:00  2023-01-01T00:00:00\n",
      "4      EM   NVO07              LQN  2000-03-02T06:00:00  2023-01-01T00:00:00\n",
      "inventory Inventory created at 2023-04-16T20:49:35.005013Z\n",
      "\tCreated by: ObsPy 1.4.0\n",
      "\t\t    https://www.obspy.org\n",
      "\tSending institution: MTH5\n",
      "\tContains:\n",
      "\t\tNetworks (1):\n",
      "\t\t\tEM\n",
      "\t\tStations (1):\n",
      "\t\t\tEM.NVO07 (Granite Springs, NV, USA)\n",
      "\t\tChannels (5):\n",
      "\t\t\tEM.NVO07..LFZ, EM.NVO07..LFN, EM.NVO07..LFE, EM.NVO07..LQN, \n",
      "\t\t\tEM.NVO07..LQE\n"
     ]
    },
    {
     "name": "stderr",
     "output_type": "stream",
     "text": [
      "2023-04-16 13:49:45,799 [line 674] mth5.mth5.MTH5._initialize_file - INFO: Initialized MTH5 0.2.0 file /home/kkappler/.cache/earthscope/EM_NVO07.h5 in mode w\n",
      "2023-04-16 13:49:56,057 [line 498] mt_metadata.timeseries.stationxml.utils.XMLChannelMTChannel._xml_response_to_mt - INFO: Found an unnamed filter, named it: 'zpk_00'\n"
     ]
    },
    {
     "name": "stdout",
     "output_type": "stream",
     "text": [
      "2023-04-16T13:49:56 [line 134] obspy_stages.create_filter_from_stage - INFO: Converting PoleZerosResponseStage None to a CoefficientFilter\n"
     ]
    },
    {
     "name": "stderr",
     "output_type": "stream",
     "text": [
      "2023-04-16 13:49:56,089 [line 498] mt_metadata.timeseries.stationxml.utils.XMLChannelMTChannel._xml_response_to_mt - INFO: Found an unnamed filter, named it: 'coefficient_00'\n",
      "2023-04-16 13:49:56,098 [line 498] mt_metadata.timeseries.stationxml.utils.XMLChannelMTChannel._xml_response_to_mt - INFO: Found an unnamed filter, named it: 'zpk_01'\n"
     ]
    },
    {
     "name": "stdout",
     "output_type": "stream",
     "text": [
      "2023-04-16T13:49:56 [line 134] obspy_stages.create_filter_from_stage - INFO: Converting PoleZerosResponseStage None to a CoefficientFilter\n",
      "More or less runs have been requested by the user than are defined in the metadata. Runs will be defined but only the requested run extents contain time series data based on the users request.\n"
     ]
    },
    {
     "name": "stderr",
     "output_type": "stream",
     "text": [
      "2023-04-16 13:49:57,765 [line 1631] mth5.groups.base.Run.from_runts - WARNING: Channel run.id sr1_001 !=  group run.id 001\n",
      "2023-04-16 13:49:58,267 [line 1631] mth5.groups.base.Run.from_runts - WARNING: Channel run.id sr1_001 !=  group run.id 001\n",
      "2023-04-16 13:49:58,701 [line 1631] mth5.groups.base.Run.from_runts - WARNING: Channel run.id sr1_001 !=  group run.id 001\n",
      "2023-04-16 13:49:59,145 [line 1631] mth5.groups.base.Run.from_runts - WARNING: Channel run.id sr1_001 !=  group run.id 001\n",
      "2023-04-16 13:49:59,577 [line 1631] mth5.groups.base.Run.from_runts - WARNING: Channel run.id sr1_001 !=  group run.id 001\n",
      "2023-04-16 13:49:59,820 [line 755] mth5.mth5.MTH5.close_mth5 - INFO: Flushing and closing /home/kkappler/.cache/earthscope/EM_NVO07.h5\n"
     ]
    },
    {
     "name": "stdout",
     "output_type": "stream",
     "text": [
      "119\n",
      "119 row network       EM\n",
      "station    NVO10\n",
      "Name: 119, dtype: object\n",
      "request_df   network station location channel                start                  end\n",
      "0      EM   NVO10              LFE  2000-03-02T06:00:00  2023-01-01T00:00:00\n",
      "1      EM   NVO10              LFN  2000-03-02T06:00:00  2023-01-01T00:00:00\n",
      "2      EM   NVO10              LFZ  2000-03-02T06:00:00  2023-01-01T00:00:00\n",
      "3      EM   NVO10              LQE  2000-03-02T06:00:00  2023-01-01T00:00:00\n",
      "4      EM   NVO10              LQN  2000-03-02T06:00:00  2023-01-01T00:00:00\n",
      "inventory Inventory created at 2023-04-16T20:50:09.847966Z\n",
      "\tCreated by: ObsPy 1.4.0\n",
      "\t\t    https://www.obspy.org\n",
      "\tSending institution: MTH5\n",
      "\tContains:\n",
      "\t\tNetworks (1):\n",
      "\t\t\tEM\n",
      "\t\tStations (1):\n",
      "\t\t\tEM.NVO10 (Copper Canyon, NV, USA)\n",
      "\t\tChannels (5):\n",
      "\t\t\tEM.NVO10..LFZ, EM.NVO10..LFN, EM.NVO10..LFE, EM.NVO10..LQN, \n",
      "\t\t\tEM.NVO10..LQE\n"
     ]
    },
    {
     "name": "stderr",
     "output_type": "stream",
     "text": [
      "2023-04-16 13:50:21,008 [line 674] mth5.mth5.MTH5._initialize_file - INFO: Initialized MTH5 0.2.0 file /home/kkappler/.cache/earthscope/EM_NVO10.h5 in mode w\n",
      "2023-04-16 13:50:31,134 [line 498] mt_metadata.timeseries.stationxml.utils.XMLChannelMTChannel._xml_response_to_mt - INFO: Found an unnamed filter, named it: 'zpk_00'\n"
     ]
    },
    {
     "name": "stdout",
     "output_type": "stream",
     "text": [
      "2023-04-16T13:50:31 [line 134] obspy_stages.create_filter_from_stage - INFO: Converting PoleZerosResponseStage None to a CoefficientFilter\n"
     ]
    },
    {
     "name": "stderr",
     "output_type": "stream",
     "text": [
      "2023-04-16 13:50:31,168 [line 498] mt_metadata.timeseries.stationxml.utils.XMLChannelMTChannel._xml_response_to_mt - INFO: Found an unnamed filter, named it: 'coefficient_00'\n",
      "2023-04-16 13:50:31,177 [line 498] mt_metadata.timeseries.stationxml.utils.XMLChannelMTChannel._xml_response_to_mt - INFO: Found an unnamed filter, named it: 'zpk_01'\n"
     ]
    },
    {
     "name": "stdout",
     "output_type": "stream",
     "text": [
      "2023-04-16T13:50:31 [line 134] obspy_stages.create_filter_from_stage - INFO: Converting PoleZerosResponseStage None to a CoefficientFilter\n",
      "More or less runs have been requested by the user than are defined in the metadata. Runs will be defined but only the requested run extents contain time series data based on the users request.\n"
     ]
    },
    {
     "name": "stderr",
     "output_type": "stream",
     "text": [
      "2023-04-16 13:50:32,984 [line 1631] mth5.groups.base.Run.from_runts - WARNING: Channel run.id sr1_001 !=  group run.id 001\n",
      "2023-04-16 13:50:33,438 [line 1631] mth5.groups.base.Run.from_runts - WARNING: Channel run.id sr1_001 !=  group run.id 001\n",
      "2023-04-16 13:50:33,873 [line 1631] mth5.groups.base.Run.from_runts - WARNING: Channel run.id sr1_001 !=  group run.id 001\n",
      "2023-04-16 13:50:34,324 [line 1631] mth5.groups.base.Run.from_runts - WARNING: Channel run.id sr1_001 !=  group run.id 001\n",
      "2023-04-16 13:50:34,768 [line 1631] mth5.groups.base.Run.from_runts - WARNING: Channel run.id sr1_001 !=  group run.id 001\n",
      "2023-04-16 13:50:35,012 [line 755] mth5.mth5.MTH5.close_mth5 - INFO: Flushing and closing /home/kkappler/.cache/earthscope/EM_NVO10.h5\n"
     ]
    },
    {
     "name": "stdout",
     "output_type": "stream",
     "text": [
      "120\n",
      "120 row network       EM\n",
      "station    NVO18\n",
      "Name: 120, dtype: object\n",
      "request_df   network station location channel                start                  end\n",
      "0      EM   NVO18              LFE  2000-03-02T06:00:00  2023-01-01T00:00:00\n",
      "1      EM   NVO18              LFN  2000-03-02T06:00:00  2023-01-01T00:00:00\n",
      "2      EM   NVO18              LFZ  2000-03-02T06:00:00  2023-01-01T00:00:00\n",
      "3      EM   NVO18              LQE  2000-03-02T06:00:00  2023-01-01T00:00:00\n",
      "4      EM   NVO18              LQN  2000-03-02T06:00:00  2023-01-01T00:00:00\n",
      "inventory Inventory created at 2023-04-16T20:50:45.041528Z\n",
      "\tCreated by: ObsPy 1.4.0\n",
      "\t\t    https://www.obspy.org\n",
      "\tSending institution: MTH5\n",
      "\tContains:\n",
      "\t\tNetworks (1):\n",
      "\t\t\tEM\n",
      "\t\tStations (1):\n",
      "\t\t\tEM.NVO18 (Windy Ridege, UT, USA)\n",
      "\t\tChannels (5):\n",
      "\t\t\tEM.NVO18..LFZ, EM.NVO18..LFN, EM.NVO18..LFE, EM.NVO18..LQN, \n",
      "\t\t\tEM.NVO18..LQE\n"
     ]
    },
    {
     "name": "stderr",
     "output_type": "stream",
     "text": [
      "2023-04-16 13:50:55,898 [line 674] mth5.mth5.MTH5._initialize_file - INFO: Initialized MTH5 0.2.0 file /home/kkappler/.cache/earthscope/EM_NVO18.h5 in mode w\n",
      "2023-04-16 13:50:59,971 [line 498] mt_metadata.timeseries.stationxml.utils.XMLChannelMTChannel._xml_response_to_mt - INFO: Found an unnamed filter, named it: 'coefficient_00'\n",
      "2023-04-16 13:51:00,001 [line 498] mt_metadata.timeseries.stationxml.utils.XMLChannelMTChannel._xml_response_to_mt - INFO: Found an unnamed filter, named it: 'coefficient_01'\n",
      "2023-04-16 13:51:00,009 [line 498] mt_metadata.timeseries.stationxml.utils.XMLChannelMTChannel._xml_response_to_mt - INFO: Found an unnamed filter, named it: 'coefficient_01'\n",
      "2023-04-16 13:51:00,018 [line 498] mt_metadata.timeseries.stationxml.utils.XMLChannelMTChannel._xml_response_to_mt - INFO: Found an unnamed filter, named it: 'coefficient_02'\n"
     ]
    },
    {
     "name": "stdout",
     "output_type": "stream",
     "text": [
      "More or less runs have been requested by the user than are defined in the metadata. Runs will be defined but only the requested run extents contain time series data based on the users request.\n"
     ]
    },
    {
     "name": "stderr",
     "output_type": "stream",
     "text": [
      "2023-04-16 13:51:01,329 [line 1631] mth5.groups.base.Run.from_runts - WARNING: Channel run.id sr1_001 !=  group run.id 001\n",
      "2023-04-16 13:51:01,749 [line 1631] mth5.groups.base.Run.from_runts - WARNING: Channel run.id sr1_001 !=  group run.id 001\n",
      "2023-04-16 13:51:02,198 [line 1631] mth5.groups.base.Run.from_runts - WARNING: Channel run.id sr1_001 !=  group run.id 001\n",
      "2023-04-16 13:51:02,651 [line 1631] mth5.groups.base.Run.from_runts - WARNING: Channel run.id sr1_001 !=  group run.id 001\n",
      "2023-04-16 13:51:03,070 [line 1631] mth5.groups.base.Run.from_runts - WARNING: Channel run.id sr1_001 !=  group run.id 001\n",
      "2023-04-16 13:51:03,303 [line 755] mth5.mth5.MTH5.close_mth5 - INFO: Flushing and closing /home/kkappler/.cache/earthscope/EM_NVO18.h5\n"
     ]
    },
    {
     "name": "stdout",
     "output_type": "stream",
     "text": [
      "121\n",
      "121 row network       EM\n",
      "station    NVP09\n",
      "Name: 121, dtype: object\n",
      "request_df   network station location channel                start                  end\n",
      "0      EM   NVP09              LFE  2000-03-02T06:00:00  2023-01-01T00:00:00\n",
      "1      EM   NVP09              LFN  2000-03-02T06:00:00  2023-01-01T00:00:00\n",
      "2      EM   NVP09              LFZ  2000-03-02T06:00:00  2023-01-01T00:00:00\n",
      "3      EM   NVP09              LQE  2000-03-02T06:00:00  2023-01-01T00:00:00\n",
      "4      EM   NVP09              LQN  2000-03-02T06:00:00  2023-01-01T00:00:00\n",
      "inventory Inventory created at 2023-04-16T20:51:13.326758Z\n",
      "\tCreated by: ObsPy 1.4.0\n",
      "\t\t    https://www.obspy.org\n",
      "\tSending institution: MTH5\n",
      "\tContains:\n",
      "\t\tNetworks (1):\n",
      "\t\t\tEM\n",
      "\t\tStations (1):\n",
      "\t\t\tEM.NVP09 (Smith River Valley, NV, USA)\n",
      "\t\tChannels (5):\n",
      "\t\t\tEM.NVP09..LFZ, EM.NVP09..LFN, EM.NVP09..LFE, EM.NVP09..LQN, \n",
      "\t\t\tEM.NVP09..LQE\n"
     ]
    },
    {
     "name": "stderr",
     "output_type": "stream",
     "text": [
      "2023-04-16 13:51:24,140 [line 674] mth5.mth5.MTH5._initialize_file - INFO: Initialized MTH5 0.2.0 file /home/kkappler/.cache/earthscope/EM_NVP09.h5 in mode w\n",
      "2023-04-16 13:51:31,958 [line 498] mt_metadata.timeseries.stationxml.utils.XMLChannelMTChannel._xml_response_to_mt - INFO: Found an unnamed filter, named it: 'zpk_00'\n"
     ]
    },
    {
     "name": "stdout",
     "output_type": "stream",
     "text": [
      "2023-04-16T13:51:31 [line 134] obspy_stages.create_filter_from_stage - INFO: Converting PoleZerosResponseStage None to a CoefficientFilter\n"
     ]
    },
    {
     "name": "stderr",
     "output_type": "stream",
     "text": [
      "2023-04-16 13:51:31,992 [line 498] mt_metadata.timeseries.stationxml.utils.XMLChannelMTChannel._xml_response_to_mt - INFO: Found an unnamed filter, named it: 'coefficient_00'\n",
      "2023-04-16 13:51:32,001 [line 498] mt_metadata.timeseries.stationxml.utils.XMLChannelMTChannel._xml_response_to_mt - INFO: Found an unnamed filter, named it: 'zpk_01'\n"
     ]
    },
    {
     "name": "stdout",
     "output_type": "stream",
     "text": [
      "2023-04-16T13:51:32 [line 134] obspy_stages.create_filter_from_stage - INFO: Converting PoleZerosResponseStage None to a CoefficientFilter\n",
      "More or less runs have been requested by the user than are defined in the metadata. Runs will be defined but only the requested run extents contain time series data based on the users request.\n"
     ]
    },
    {
     "name": "stderr",
     "output_type": "stream",
     "text": [
      "2023-04-16 13:51:33,709 [line 1631] mth5.groups.base.Run.from_runts - WARNING: Channel run.id sr1_001 !=  group run.id 001\n",
      "2023-04-16 13:51:34,148 [line 1631] mth5.groups.base.Run.from_runts - WARNING: Channel run.id sr1_001 !=  group run.id 001\n",
      "2023-04-16 13:51:34,594 [line 1631] mth5.groups.base.Run.from_runts - WARNING: Channel run.id sr1_001 !=  group run.id 001\n",
      "2023-04-16 13:51:35,053 [line 1631] mth5.groups.base.Run.from_runts - WARNING: Channel run.id sr1_001 !=  group run.id 001\n",
      "2023-04-16 13:51:35,494 [line 1631] mth5.groups.base.Run.from_runts - WARNING: Channel run.id sr1_001 !=  group run.id 001\n",
      "2023-04-16 13:51:35,736 [line 755] mth5.mth5.MTH5.close_mth5 - INFO: Flushing and closing /home/kkappler/.cache/earthscope/EM_NVP09.h5\n"
     ]
    },
    {
     "name": "stdout",
     "output_type": "stream",
     "text": [
      "122\n",
      "122 row network       EM\n",
      "station    NVP10\n",
      "Name: 122, dtype: object\n",
      "request_df   network station location channel                start                  end\n",
      "0      EM   NVP10              LFE  2000-03-02T06:00:00  2023-01-01T00:00:00\n",
      "1      EM   NVP10              LFN  2000-03-02T06:00:00  2023-01-01T00:00:00\n",
      "2      EM   NVP10              LFZ  2000-03-02T06:00:00  2023-01-01T00:00:00\n",
      "3      EM   NVP10              LQE  2000-03-02T06:00:00  2023-01-01T00:00:00\n",
      "4      EM   NVP10              LQN  2000-03-02T06:00:00  2023-01-01T00:00:00\n",
      "inventory Inventory created at 2023-04-16T20:51:45.764278Z\n",
      "\tCreated by: ObsPy 1.4.0\n",
      "\t\t    https://www.obspy.org\n",
      "\tSending institution: MTH5\n",
      "\tContains:\n",
      "\t\tNetworks (1):\n",
      "\t\t\tEM\n",
      "\t\tStations (1):\n",
      "\t\t\tEM.NVP10 (Bean Flat, NV, USA)\n",
      "\t\tChannels (5):\n",
      "\t\t\tEM.NVP10..LFZ, EM.NVP10..LFN, EM.NVP10..LFE, EM.NVP10..LQN, \n",
      "\t\t\tEM.NVP10..LQE\n"
     ]
    },
    {
     "name": "stderr",
     "output_type": "stream",
     "text": [
      "2023-04-16 13:51:56,778 [line 674] mth5.mth5.MTH5._initialize_file - INFO: Initialized MTH5 0.2.0 file /home/kkappler/.cache/earthscope/EM_NVP10.h5 in mode w\n",
      "2023-04-16 13:52:04,618 [line 498] mt_metadata.timeseries.stationxml.utils.XMLChannelMTChannel._xml_response_to_mt - INFO: Found an unnamed filter, named it: 'zpk_00'\n"
     ]
    },
    {
     "name": "stdout",
     "output_type": "stream",
     "text": [
      "2023-04-16T13:52:04 [line 134] obspy_stages.create_filter_from_stage - INFO: Converting PoleZerosResponseStage None to a CoefficientFilter\n"
     ]
    },
    {
     "name": "stderr",
     "output_type": "stream",
     "text": [
      "2023-04-16 13:52:04,650 [line 498] mt_metadata.timeseries.stationxml.utils.XMLChannelMTChannel._xml_response_to_mt - INFO: Found an unnamed filter, named it: 'coefficient_00'\n",
      "2023-04-16 13:52:04,659 [line 498] mt_metadata.timeseries.stationxml.utils.XMLChannelMTChannel._xml_response_to_mt - INFO: Found an unnamed filter, named it: 'zpk_01'\n"
     ]
    },
    {
     "name": "stdout",
     "output_type": "stream",
     "text": [
      "2023-04-16T13:52:04 [line 134] obspy_stages.create_filter_from_stage - INFO: Converting PoleZerosResponseStage None to a CoefficientFilter\n",
      "More or less runs have been requested by the user than are defined in the metadata. Runs will be defined but only the requested run extents contain time series data based on the users request.\n"
     ]
    },
    {
     "name": "stderr",
     "output_type": "stream",
     "text": [
      "2023-04-16 13:52:06,367 [line 1631] mth5.groups.base.Run.from_runts - WARNING: Channel run.id sr1_001 !=  group run.id 001\n",
      "2023-04-16 13:52:06,810 [line 1631] mth5.groups.base.Run.from_runts - WARNING: Channel run.id sr1_001 !=  group run.id 001\n",
      "2023-04-16 13:52:07,242 [line 1631] mth5.groups.base.Run.from_runts - WARNING: Channel run.id sr1_001 !=  group run.id 001\n",
      "2023-04-16 13:52:07,692 [line 1631] mth5.groups.base.Run.from_runts - WARNING: Channel run.id sr1_001 !=  group run.id 001\n",
      "2023-04-16 13:52:08,133 [line 1631] mth5.groups.base.Run.from_runts - WARNING: Channel run.id sr1_001 !=  group run.id 001\n",
      "2023-04-16 13:52:08,375 [line 755] mth5.mth5.MTH5.close_mth5 - INFO: Flushing and closing /home/kkappler/.cache/earthscope/EM_NVP10.h5\n"
     ]
    },
    {
     "name": "stdout",
     "output_type": "stream",
     "text": [
      "123\n",
      "123 row network       EM\n",
      "station    NVP15\n",
      "Name: 123, dtype: object\n",
      "request_df   network station location channel                start                  end\n",
      "0      EM   NVP15              LFE  2000-03-02T06:00:00  2023-01-01T00:00:00\n",
      "1      EM   NVP15              LFN  2000-03-02T06:00:00  2023-01-01T00:00:00\n",
      "2      EM   NVP15              LFZ  2000-03-02T06:00:00  2023-01-01T00:00:00\n",
      "3      EM   NVP15              LQE  2000-03-02T06:00:00  2023-01-01T00:00:00\n",
      "4      EM   NVP15              LQN  2000-03-02T06:00:00  2023-01-01T00:00:00\n",
      "inventory Inventory created at 2023-04-16T20:52:18.436259Z\n",
      "\tCreated by: ObsPy 1.4.0\n",
      "\t\t    https://www.obspy.org\n",
      "\tSending institution: MTH5\n",
      "\tContains:\n",
      "\t\tNetworks (1):\n",
      "\t\t\tEM\n",
      "\t\tStations (1):\n",
      "\t\t\tEM.NVP15 (The Knoll, UT, USA)\n",
      "\t\tChannels (5):\n",
      "\t\t\tEM.NVP15..LFZ, EM.NVP15..LFN, EM.NVP15..LFE, EM.NVP15..LQN, \n",
      "\t\t\tEM.NVP15..LQE\n"
     ]
    },
    {
     "name": "stderr",
     "output_type": "stream",
     "text": [
      "2023-04-16 13:52:29,211 [line 674] mth5.mth5.MTH5._initialize_file - INFO: Initialized MTH5 0.2.0 file /home/kkappler/.cache/earthscope/EM_NVP15.h5 in mode w\n",
      "2023-04-16 13:52:33,790 [line 498] mt_metadata.timeseries.stationxml.utils.XMLChannelMTChannel._xml_response_to_mt - INFO: Found an unnamed filter, named it: 'coefficient_00'\n",
      "2023-04-16 13:52:33,820 [line 498] mt_metadata.timeseries.stationxml.utils.XMLChannelMTChannel._xml_response_to_mt - INFO: Found an unnamed filter, named it: 'coefficient_01'\n",
      "2023-04-16 13:52:33,828 [line 498] mt_metadata.timeseries.stationxml.utils.XMLChannelMTChannel._xml_response_to_mt - INFO: Found an unnamed filter, named it: 'coefficient_01'\n",
      "2023-04-16 13:52:33,838 [line 498] mt_metadata.timeseries.stationxml.utils.XMLChannelMTChannel._xml_response_to_mt - INFO: Found an unnamed filter, named it: 'coefficient_02'\n"
     ]
    },
    {
     "name": "stdout",
     "output_type": "stream",
     "text": [
      "More or less runs have been requested by the user than are defined in the metadata. Runs will be defined but only the requested run extents contain time series data based on the users request.\n"
     ]
    },
    {
     "name": "stderr",
     "output_type": "stream",
     "text": [
      "2023-04-16 13:52:35,167 [line 1631] mth5.groups.base.Run.from_runts - WARNING: Channel run.id sr1_001 !=  group run.id 001\n",
      "2023-04-16 13:52:35,619 [line 1631] mth5.groups.base.Run.from_runts - WARNING: Channel run.id sr1_001 !=  group run.id 001\n",
      "2023-04-16 13:52:36,056 [line 1631] mth5.groups.base.Run.from_runts - WARNING: Channel run.id sr1_001 !=  group run.id 001\n",
      "2023-04-16 13:52:36,492 [line 1631] mth5.groups.base.Run.from_runts - WARNING: Channel run.id sr1_001 !=  group run.id 001\n",
      "2023-04-16 13:52:36,919 [line 1631] mth5.groups.base.Run.from_runts - WARNING: Channel run.id sr1_001 !=  group run.id 001\n",
      "2023-04-16 13:52:37,151 [line 755] mth5.mth5.MTH5.close_mth5 - INFO: Flushing and closing /home/kkappler/.cache/earthscope/EM_NVP15.h5\n"
     ]
    },
    {
     "name": "stdout",
     "output_type": "stream",
     "text": [
      "124\n",
      "124 row network       EM\n",
      "station    NVP17\n",
      "Name: 124, dtype: object\n",
      "request_df   network station location channel                start                  end\n",
      "0      EM   NVP17              LFE  2000-03-02T06:00:00  2023-01-01T00:00:00\n",
      "1      EM   NVP17              LFN  2000-03-02T06:00:00  2023-01-01T00:00:00\n",
      "2      EM   NVP17              LFZ  2000-03-02T06:00:00  2023-01-01T00:00:00\n",
      "3      EM   NVP17              LQE  2000-03-02T06:00:00  2023-01-01T00:00:00\n",
      "4      EM   NVP17              LQN  2000-03-02T06:00:00  2023-01-01T00:00:00\n",
      "inventory Inventory created at 2023-04-16T20:52:47.175769Z\n",
      "\tCreated by: ObsPy 1.4.0\n",
      "\t\t    https://www.obspy.org\n",
      "\tSending institution: MTH5\n",
      "\tContains:\n",
      "\t\tNetworks (1):\n",
      "\t\t\tEM\n",
      "\t\tStations (1):\n",
      "\t\t\tEM.NVP17 (The Cove, UT, USA)\n",
      "\t\tChannels (5):\n",
      "\t\t\tEM.NVP17..LFZ, EM.NVP17..LFN, EM.NVP17..LFE, EM.NVP17..LQN, \n",
      "\t\t\tEM.NVP17..LQE\n"
     ]
    },
    {
     "name": "stderr",
     "output_type": "stream",
     "text": [
      "2023-04-16 13:52:57,978 [line 674] mth5.mth5.MTH5._initialize_file - INFO: Initialized MTH5 0.2.0 file /home/kkappler/.cache/earthscope/EM_NVP17.h5 in mode w\n",
      "2023-04-16 13:53:01,796 [line 498] mt_metadata.timeseries.stationxml.utils.XMLChannelMTChannel._xml_response_to_mt - INFO: Found an unnamed filter, named it: 'coefficient_00'\n",
      "2023-04-16 13:53:01,832 [line 498] mt_metadata.timeseries.stationxml.utils.XMLChannelMTChannel._xml_response_to_mt - INFO: Found an unnamed filter, named it: 'coefficient_01'\n",
      "2023-04-16 13:53:01,839 [line 498] mt_metadata.timeseries.stationxml.utils.XMLChannelMTChannel._xml_response_to_mt - INFO: Found an unnamed filter, named it: 'coefficient_01'\n",
      "2023-04-16 13:53:01,849 [line 498] mt_metadata.timeseries.stationxml.utils.XMLChannelMTChannel._xml_response_to_mt - INFO: Found an unnamed filter, named it: 'coefficient_02'\n"
     ]
    },
    {
     "name": "stdout",
     "output_type": "stream",
     "text": [
      "More or less runs have been requested by the user than are defined in the metadata. Runs will be defined but only the requested run extents contain time series data based on the users request.\n"
     ]
    },
    {
     "name": "stderr",
     "output_type": "stream",
     "text": [
      "2023-04-16 13:53:03,222 [line 1631] mth5.groups.base.Run.from_runts - WARNING: Channel run.id sr1_001 !=  group run.id 001\n",
      "2023-04-16 13:53:03,665 [line 1631] mth5.groups.base.Run.from_runts - WARNING: Channel run.id sr1_001 !=  group run.id 001\n",
      "2023-04-16 13:53:04,089 [line 1631] mth5.groups.base.Run.from_runts - WARNING: Channel run.id sr1_001 !=  group run.id 001\n",
      "2023-04-16 13:53:04,538 [line 1631] mth5.groups.base.Run.from_runts - WARNING: Channel run.id sr1_001 !=  group run.id 001\n",
      "2023-04-16 13:53:04,986 [line 1631] mth5.groups.base.Run.from_runts - WARNING: Channel run.id sr1_001 !=  group run.id 001\n",
      "2023-04-16 13:53:05,213 [line 755] mth5.mth5.MTH5.close_mth5 - INFO: Flushing and closing /home/kkappler/.cache/earthscope/EM_NVP17.h5\n"
     ]
    },
    {
     "name": "stdout",
     "output_type": "stream",
     "text": [
      "125\n",
      "125 row network       EM\n",
      "station    NVQ08\n",
      "Name: 125, dtype: object\n",
      "request_df   network station location channel                start                  end\n",
      "0      EM   NVQ08              LFE  2000-03-02T06:00:00  2023-01-01T00:00:00\n",
      "1      EM   NVQ08              LFN  2000-03-02T06:00:00  2023-01-01T00:00:00\n",
      "2      EM   NVQ08              LFZ  2000-03-02T06:00:00  2023-01-01T00:00:00\n",
      "3      EM   NVQ08              LQE  2000-03-02T06:00:00  2023-01-01T00:00:00\n",
      "4      EM   NVQ08              LQN  2000-03-02T06:00:00  2023-01-01T00:00:00\n",
      "inventory Inventory created at 2023-04-16T20:53:15.270942Z\n",
      "\tCreated by: ObsPy 1.4.0\n",
      "\t\t    https://www.obspy.org\n",
      "\tSending institution: MTH5\n",
      "\tContains:\n",
      "\t\tNetworks (1):\n",
      "\t\t\tEM\n",
      "\t\tStations (1):\n",
      "\t\t\tEM.NVQ08 (Rawhide Spring, NV, USA)\n",
      "\t\tChannels (5):\n",
      "\t\t\tEM.NVQ08..LFZ, EM.NVQ08..LFN, EM.NVQ08..LFE, EM.NVQ08..LQN, \n",
      "\t\t\tEM.NVQ08..LQE\n"
     ]
    },
    {
     "name": "stderr",
     "output_type": "stream",
     "text": [
      "2023-04-16 13:53:26,130 [line 674] mth5.mth5.MTH5._initialize_file - INFO: Initialized MTH5 0.2.0 file /home/kkappler/.cache/earthscope/EM_NVQ08.h5 in mode w\n",
      "2023-04-16 13:53:35,645 [line 498] mt_metadata.timeseries.stationxml.utils.XMLChannelMTChannel._xml_response_to_mt - INFO: Found an unnamed filter, named it: 'zpk_00'\n"
     ]
    },
    {
     "name": "stdout",
     "output_type": "stream",
     "text": [
      "2023-04-16T13:53:35 [line 134] obspy_stages.create_filter_from_stage - INFO: Converting PoleZerosResponseStage None to a CoefficientFilter\n"
     ]
    },
    {
     "name": "stderr",
     "output_type": "stream",
     "text": [
      "2023-04-16 13:53:35,678 [line 498] mt_metadata.timeseries.stationxml.utils.XMLChannelMTChannel._xml_response_to_mt - INFO: Found an unnamed filter, named it: 'coefficient_00'\n",
      "2023-04-16 13:53:35,687 [line 498] mt_metadata.timeseries.stationxml.utils.XMLChannelMTChannel._xml_response_to_mt - INFO: Found an unnamed filter, named it: 'zpk_01'\n"
     ]
    },
    {
     "name": "stdout",
     "output_type": "stream",
     "text": [
      "2023-04-16T13:53:35 [line 134] obspy_stages.create_filter_from_stage - INFO: Converting PoleZerosResponseStage None to a CoefficientFilter\n",
      "More or less runs have been requested by the user than are defined in the metadata. Runs will be defined but only the requested run extents contain time series data based on the users request.\n"
     ]
    },
    {
     "name": "stderr",
     "output_type": "stream",
     "text": [
      "2023-04-16 13:53:37,303 [line 1631] mth5.groups.base.Run.from_runts - WARNING: Channel run.id sr1_001 !=  group run.id 001\n",
      "2023-04-16 13:53:37,748 [line 1631] mth5.groups.base.Run.from_runts - WARNING: Channel run.id sr1_001 !=  group run.id 001\n",
      "2023-04-16 13:53:38,190 [line 1631] mth5.groups.base.Run.from_runts - WARNING: Channel run.id sr1_001 !=  group run.id 001\n",
      "2023-04-16 13:53:38,629 [line 1631] mth5.groups.base.Run.from_runts - WARNING: Channel run.id sr1_001 !=  group run.id 001\n",
      "2023-04-16 13:53:39,066 [line 1631] mth5.groups.base.Run.from_runts - WARNING: Channel run.id sr1_001 !=  group run.id 001\n",
      "2023-04-16 13:53:39,312 [line 755] mth5.mth5.MTH5.close_mth5 - INFO: Flushing and closing /home/kkappler/.cache/earthscope/EM_NVQ08.h5\n"
     ]
    },
    {
     "name": "stdout",
     "output_type": "stream",
     "text": [
      "126\n",
      "126 row network       EM\n",
      "station    NVQ17\n",
      "Name: 126, dtype: object\n",
      "request_df   network station location channel                start                  end\n",
      "0      EM   NVQ17              LFE  2000-03-02T06:00:00  2023-01-01T00:00:00\n",
      "1      EM   NVQ17              LFN  2000-03-02T06:00:00  2023-01-01T00:00:00\n",
      "2      EM   NVQ17              LFZ  2000-03-02T06:00:00  2023-01-01T00:00:00\n",
      "3      EM   NVQ17              LQE  2000-03-02T06:00:00  2023-01-01T00:00:00\n",
      "4      EM   NVQ17              LQN  2000-03-02T06:00:00  2023-01-01T00:00:00\n",
      "inventory Inventory created at 2023-04-16T20:53:49.340452Z\n",
      "\tCreated by: ObsPy 1.4.0\n",
      "\t\t    https://www.obspy.org\n",
      "\tSending institution: MTH5\n",
      "\tContains:\n",
      "\t\tNetworks (1):\n",
      "\t\t\tEM\n",
      "\t\tStations (1):\n",
      "\t\t\tEM.NVQ17 (Mesquite Wash, UT, USA)\n",
      "\t\tChannels (5):\n",
      "\t\t\tEM.NVQ17..LFZ, EM.NVQ17..LFN, EM.NVQ17..LFE, EM.NVQ17..LQN, \n",
      "\t\t\tEM.NVQ17..LQE\n"
     ]
    },
    {
     "name": "stderr",
     "output_type": "stream",
     "text": [
      "2023-04-16 13:54:00,182 [line 674] mth5.mth5.MTH5._initialize_file - INFO: Initialized MTH5 0.2.0 file /home/kkappler/.cache/earthscope/EM_NVQ17.h5 in mode w\n",
      "2023-04-16 13:54:05,436 [line 498] mt_metadata.timeseries.stationxml.utils.XMLChannelMTChannel._xml_response_to_mt - INFO: Found an unnamed filter, named it: 'coefficient_00'\n",
      "2023-04-16 13:54:05,465 [line 498] mt_metadata.timeseries.stationxml.utils.XMLChannelMTChannel._xml_response_to_mt - INFO: Found an unnamed filter, named it: 'coefficient_01'\n",
      "2023-04-16 13:54:05,474 [line 498] mt_metadata.timeseries.stationxml.utils.XMLChannelMTChannel._xml_response_to_mt - INFO: Found an unnamed filter, named it: 'coefficient_01'\n",
      "2023-04-16 13:54:05,483 [line 498] mt_metadata.timeseries.stationxml.utils.XMLChannelMTChannel._xml_response_to_mt - INFO: Found an unnamed filter, named it: 'coefficient_02'\n"
     ]
    },
    {
     "name": "stdout",
     "output_type": "stream",
     "text": [
      "More or less runs have been requested by the user than are defined in the metadata. Runs will be defined but only the requested run extents contain time series data based on the users request.\n"
     ]
    },
    {
     "name": "stderr",
     "output_type": "stream",
     "text": [
      "2023-04-16 13:54:06,858 [line 1631] mth5.groups.base.Run.from_runts - WARNING: Channel run.id sr1_001 !=  group run.id 001\n",
      "2023-04-16 13:54:07,290 [line 1631] mth5.groups.base.Run.from_runts - WARNING: Channel run.id sr1_001 !=  group run.id 001\n",
      "2023-04-16 13:54:07,731 [line 1631] mth5.groups.base.Run.from_runts - WARNING: Channel run.id sr1_001 !=  group run.id 001\n",
      "2023-04-16 13:54:08,161 [line 1631] mth5.groups.base.Run.from_runts - WARNING: Channel run.id sr1_001 !=  group run.id 001\n",
      "2023-04-16 13:54:08,590 [line 1631] mth5.groups.base.Run.from_runts - WARNING: Channel run.id sr1_001 !=  group run.id 001\n",
      "2023-04-16 13:54:08,824 [line 755] mth5.mth5.MTH5.close_mth5 - INFO: Flushing and closing /home/kkappler/.cache/earthscope/EM_NVQ17.h5\n"
     ]
    },
    {
     "name": "stdout",
     "output_type": "stream",
     "text": [
      "127\n",
      "127 row network       EM\n",
      "station    ORG07\n",
      "Name: 127, dtype: object\n",
      "request_df   network station location channel                start                  end\n",
      "0      EM   ORG07              LFE  2000-03-02T06:00:00  2023-01-01T00:00:00\n",
      "1      EM   ORG07              LFN  2000-03-02T06:00:00  2023-01-01T00:00:00\n",
      "2      EM   ORG07              LFZ  2000-03-02T06:00:00  2023-01-01T00:00:00\n",
      "3      EM   ORG07              LQE  2000-03-02T06:00:00  2023-01-01T00:00:00\n",
      "4      EM   ORG07              LQN  2000-03-02T06:00:00  2023-01-01T00:00:00\n"
     ]
    },
    {
     "ename": "FDSNNoDataException",
     "evalue": "No data available for request.\nHTTP Status code: 204\nDetailed response of server:\n\n",
     "output_type": "error",
     "traceback": [
      "\u001b[0;31m---------------------------------------------------------------------------\u001b[0m",
      "\u001b[0;31mFDSNNoDataException\u001b[0m                       Traceback (most recent call last)",
      "Cell \u001b[0;32mIn[9], line 11\u001b[0m\n\u001b[1;32m      9\u001b[0m request_df \u001b[38;5;241m=\u001b[39m request_df_from_network_station(row\u001b[38;5;241m.\u001b[39mnetwork, row\u001b[38;5;241m.\u001b[39mstation)\n\u001b[1;32m     10\u001b[0m \u001b[38;5;28mprint\u001b[39m(\u001b[38;5;124m\"\u001b[39m\u001b[38;5;124mrequest_df\u001b[39m\u001b[38;5;124m\"\u001b[39m, request_df)\n\u001b[0;32m---> 11\u001b[0m inventory, data \u001b[38;5;241m=\u001b[39m \u001b[43mfdsn_object\u001b[49m\u001b[38;5;241;43m.\u001b[39;49m\u001b[43mget_inventory_from_df\u001b[49m\u001b[43m(\u001b[49m\u001b[43mrequest_df\u001b[49m\u001b[43m,\u001b[49m\u001b[43m \u001b[49m\u001b[43mdata\u001b[49m\u001b[38;5;241;43m=\u001b[39;49m\u001b[38;5;28;43;01mFalse\u001b[39;49;00m\u001b[43m)\u001b[49m\n\u001b[1;32m     12\u001b[0m \u001b[38;5;28mprint\u001b[39m(\u001b[38;5;124m\"\u001b[39m\u001b[38;5;124minventory\u001b[39m\u001b[38;5;124m\"\u001b[39m, inventory)\n\u001b[1;32m     13\u001b[0m time\u001b[38;5;241m.\u001b[39msleep(\u001b[38;5;241m10\u001b[39m)\n",
      "File \u001b[0;32m~/software/irismt/mth5/mth5/clients/fdsn.py:523\u001b[0m, in \u001b[0;36mFDSN.get_inventory_from_df\u001b[0;34m(self, df, client, data)\u001b[0m\n\u001b[1;32m    517\u001b[0m \u001b[38;5;28;01mfor\u001b[39;00m ch_row \u001b[38;5;129;01min\u001b[39;00m df\u001b[38;5;241m.\u001b[39mitertuples():\n\u001b[1;32m    518\u001b[0m     \u001b[38;5;28;01mif\u001b[39;00m (\n\u001b[1;32m    519\u001b[0m         ch_row\u001b[38;5;241m.\u001b[39mnetwork \u001b[38;5;241m==\u001b[39m row\u001b[38;5;241m.\u001b[39mnetwork\n\u001b[1;32m    520\u001b[0m         \u001b[38;5;129;01mand\u001b[39;00m st_row\u001b[38;5;241m.\u001b[39mstation \u001b[38;5;241m==\u001b[39m ch_row\u001b[38;5;241m.\u001b[39mstation\n\u001b[1;32m    521\u001b[0m         \u001b[38;5;129;01mand\u001b[39;00m ch_row\u001b[38;5;241m.\u001b[39mstart \u001b[38;5;241m==\u001b[39m st_row\u001b[38;5;241m.\u001b[39mstart\n\u001b[1;32m    522\u001b[0m     ):\n\u001b[0;32m--> 523\u001b[0m         cha_inv \u001b[38;5;241m=\u001b[39m \u001b[43mclient\u001b[49m\u001b[38;5;241;43m.\u001b[39;49m\u001b[43mget_stations\u001b[49m\u001b[43m(\u001b[49m\n\u001b[1;32m    524\u001b[0m \u001b[43m            \u001b[49m\u001b[43mch_row\u001b[49m\u001b[38;5;241;43m.\u001b[39;49m\u001b[43mstart\u001b[49m\u001b[43m,\u001b[49m\n\u001b[1;32m    525\u001b[0m \u001b[43m            \u001b[49m\u001b[43mch_row\u001b[49m\u001b[38;5;241;43m.\u001b[39;49m\u001b[43mend\u001b[49m\u001b[43m,\u001b[49m\n\u001b[1;32m    526\u001b[0m \u001b[43m            \u001b[49m\u001b[43mnetwork\u001b[49m\u001b[38;5;241;43m=\u001b[39;49m\u001b[43mch_row\u001b[49m\u001b[38;5;241;43m.\u001b[39;49m\u001b[43mnetwork\u001b[49m\u001b[43m,\u001b[49m\n\u001b[1;32m    527\u001b[0m \u001b[43m            \u001b[49m\u001b[43mstation\u001b[49m\u001b[38;5;241;43m=\u001b[39;49m\u001b[43mch_row\u001b[49m\u001b[38;5;241;43m.\u001b[39;49m\u001b[43mstation\u001b[49m\u001b[43m,\u001b[49m\n\u001b[1;32m    528\u001b[0m \u001b[43m            \u001b[49m\u001b[43mloc\u001b[49m\u001b[38;5;241;43m=\u001b[39;49m\u001b[43mch_row\u001b[49m\u001b[38;5;241;43m.\u001b[39;49m\u001b[43mlocation\u001b[49m\u001b[43m,\u001b[49m\n\u001b[1;32m    529\u001b[0m \u001b[43m            \u001b[49m\u001b[43mchannel\u001b[49m\u001b[38;5;241;43m=\u001b[39;49m\u001b[43mch_row\u001b[49m\u001b[38;5;241;43m.\u001b[39;49m\u001b[43mchannel\u001b[49m\u001b[43m,\u001b[49m\n\u001b[1;32m    530\u001b[0m \u001b[43m            \u001b[49m\u001b[43mlevel\u001b[49m\u001b[38;5;241;43m=\u001b[39;49m\u001b[38;5;124;43m\"\u001b[39;49m\u001b[38;5;124;43mresponse\u001b[39;49m\u001b[38;5;124;43m\"\u001b[39;49m\u001b[43m,\u001b[49m\n\u001b[1;32m    531\u001b[0m \u001b[43m        \u001b[49m\u001b[43m)\u001b[49m\n\u001b[1;32m    532\u001b[0m         returned_chan \u001b[38;5;241m=\u001b[39m (\n\u001b[1;32m    533\u001b[0m             cha_inv\u001b[38;5;241m.\u001b[39mnetworks[\u001b[38;5;241m0\u001b[39m]\u001b[38;5;241m.\u001b[39mstations[\u001b[38;5;241m0\u001b[39m]\u001b[38;5;241m.\u001b[39mchannels[\u001b[38;5;241m0\u001b[39m]\n\u001b[1;32m    534\u001b[0m         )\n\u001b[1;32m    535\u001b[0m         returned_sta\u001b[38;5;241m.\u001b[39mchannels\u001b[38;5;241m.\u001b[39mappend(returned_chan)\n",
      "File \u001b[0;32m~/anaconda3/envs/aurora/lib/python3.10/site-packages/obspy/clients/fdsn/client.py:748\u001b[0m, in \u001b[0;36mClient.get_stations\u001b[0;34m(self, starttime, endtime, startbefore, startafter, endbefore, endafter, network, station, location, channel, minlatitude, maxlatitude, minlongitude, maxlongitude, latitude, longitude, minradius, maxradius, level, includerestricted, includeavailability, updatedafter, matchtimeseries, filename, format, **kwargs)\u001b[0m\n\u001b[1;32m    743\u001b[0m setup_query_dict(\u001b[38;5;124m'\u001b[39m\u001b[38;5;124mstation\u001b[39m\u001b[38;5;124m'\u001b[39m, locs, kwargs)\n\u001b[1;32m    745\u001b[0m url \u001b[38;5;241m=\u001b[39m \u001b[38;5;28mself\u001b[39m\u001b[38;5;241m.\u001b[39m_create_url_from_parameters(\n\u001b[1;32m    746\u001b[0m     \u001b[38;5;124m\"\u001b[39m\u001b[38;5;124mstation\u001b[39m\u001b[38;5;124m\"\u001b[39m, DEFAULT_PARAMETERS[\u001b[38;5;124m'\u001b[39m\u001b[38;5;124mstation\u001b[39m\u001b[38;5;124m'\u001b[39m], kwargs)\n\u001b[0;32m--> 748\u001b[0m data_stream \u001b[38;5;241m=\u001b[39m \u001b[38;5;28;43mself\u001b[39;49m\u001b[38;5;241;43m.\u001b[39;49m\u001b[43m_download\u001b[49m\u001b[43m(\u001b[49m\u001b[43murl\u001b[49m\u001b[43m)\u001b[49m\n\u001b[1;32m    749\u001b[0m data_stream\u001b[38;5;241m.\u001b[39mseek(\u001b[38;5;241m0\u001b[39m, \u001b[38;5;241m0\u001b[39m)\n\u001b[1;32m    750\u001b[0m \u001b[38;5;28;01mif\u001b[39;00m filename:\n",
      "File \u001b[0;32m~/anaconda3/envs/aurora/lib/python3.10/site-packages/obspy/clients/fdsn/client.py:1486\u001b[0m, in \u001b[0;36mClient._download\u001b[0;34m(self, url, return_string, data, use_gzip, content_type)\u001b[0m\n\u001b[1;32m   1481\u001b[0m     headers[\u001b[38;5;124m'\u001b[39m\u001b[38;5;124mContent-Type\u001b[39m\u001b[38;5;124m'\u001b[39m] \u001b[38;5;241m=\u001b[39m content_type\n\u001b[1;32m   1482\u001b[0m code, data \u001b[38;5;241m=\u001b[39m download_url(\n\u001b[1;32m   1483\u001b[0m     url, opener\u001b[38;5;241m=\u001b[39m\u001b[38;5;28mself\u001b[39m\u001b[38;5;241m.\u001b[39m_url_opener, headers\u001b[38;5;241m=\u001b[39mheaders,\n\u001b[1;32m   1484\u001b[0m     debug\u001b[38;5;241m=\u001b[39m\u001b[38;5;28mself\u001b[39m\u001b[38;5;241m.\u001b[39mdebug, return_string\u001b[38;5;241m=\u001b[39mreturn_string, data\u001b[38;5;241m=\u001b[39mdata,\n\u001b[1;32m   1485\u001b[0m     timeout\u001b[38;5;241m=\u001b[39m\u001b[38;5;28mself\u001b[39m\u001b[38;5;241m.\u001b[39mtimeout, use_gzip\u001b[38;5;241m=\u001b[39muse_gzip)\n\u001b[0;32m-> 1486\u001b[0m \u001b[43mraise_on_error\u001b[49m\u001b[43m(\u001b[49m\u001b[43mcode\u001b[49m\u001b[43m,\u001b[49m\u001b[43m \u001b[49m\u001b[43mdata\u001b[49m\u001b[43m)\u001b[49m\n\u001b[1;32m   1487\u001b[0m \u001b[38;5;28;01mreturn\u001b[39;00m data\n",
      "File \u001b[0;32m~/anaconda3/envs/aurora/lib/python3.10/site-packages/obspy/clients/fdsn/client.py:1813\u001b[0m, in \u001b[0;36mraise_on_error\u001b[0;34m(code, data)\u001b[0m\n\u001b[1;32m   1811\u001b[0m \u001b[38;5;66;03m# No data.\u001b[39;00m\n\u001b[1;32m   1812\u001b[0m \u001b[38;5;28;01mif\u001b[39;00m code \u001b[38;5;241m==\u001b[39m \u001b[38;5;241m204\u001b[39m:\n\u001b[0;32m-> 1813\u001b[0m     \u001b[38;5;28;01mraise\u001b[39;00m FDSNNoDataException(\u001b[38;5;124m\"\u001b[39m\u001b[38;5;124mNo data available for request.\u001b[39m\u001b[38;5;124m\"\u001b[39m,\n\u001b[1;32m   1814\u001b[0m                               server_info)\n\u001b[1;32m   1815\u001b[0m \u001b[38;5;28;01melif\u001b[39;00m code \u001b[38;5;241m==\u001b[39m \u001b[38;5;241m400\u001b[39m:\n\u001b[1;32m   1816\u001b[0m     msg \u001b[38;5;241m=\u001b[39m (\u001b[38;5;124m\"\u001b[39m\u001b[38;5;124mBad request. If you think your request was valid \u001b[39m\u001b[38;5;124m\"\u001b[39m\n\u001b[1;32m   1817\u001b[0m            \u001b[38;5;124m\"\u001b[39m\u001b[38;5;124mplease contact the developers.\u001b[39m\u001b[38;5;124m\"\u001b[39m)\n",
      "\u001b[0;31mFDSNNoDataException\u001b[0m: No data available for request.\nHTTP Status code: 204\nDetailed response of server:\n\n"
     ]
    }
   ],
   "source": [
    "for i_row, row in data_availability_df.iterrows():\n",
    "    fail = False\n",
    "    print(i_row)\n",
    "    if i_row < 48:\n",
    "        fail = \"skip\"\n",
    "        continue\n",
    "    fdsn_object = FDSN(mth5_version='0.2.0')\n",
    "    print(i_row, \"row\", row)\n",
    "    request_df = request_df_from_network_station(row.network, row.station)\n",
    "    print(\"request_df\", request_df)\n",
    "    inventory, data = fdsn_object.get_inventory_from_df(request_df, data=False)\n",
    "    print(\"inventory\", inventory)\n",
    "    time.sleep(10)\n",
    "    #fname = data_dir.joinpath(f\"{row.network}_{row.station}.h5\")\n",
    "    try:\n",
    "        mth5_object = fdsn_object.make_mth5_from_fdsn_client(request_df, interact=False, path=data_dir)\n",
    "    except:\n",
    "        print(f\"BAD REQUEST {row}\")\n",
    "    time.sleep(10)"
   ]
  },
  {
   "cell_type": "code",
   "execution_count": null,
   "id": "5ebc745b-fd6f-482c-b51c-fcff51bed6a8",
   "metadata": {},
   "outputs": [],
   "source": [
    "fdsn_object = FDSN(mth5_version='0.2.0')\n",
    "fdsn_object.client = \"IRIS\""
   ]
  }
 ],
 "metadata": {
  "kernelspec": {
   "display_name": "aurora",
   "language": "python",
   "name": "aurora"
  },
  "language_info": {
   "codemirror_mode": {
    "name": "ipython",
    "version": 3
   },
   "file_extension": ".py",
   "mimetype": "text/x-python",
   "name": "python",
   "nbconvert_exporter": "python",
   "pygments_lexer": "ipython3",
   "version": "3.10.10"
  }
 },
 "nbformat": 4,
 "nbformat_minor": 5
}
