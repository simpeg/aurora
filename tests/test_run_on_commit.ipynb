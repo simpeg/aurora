{
 "cells": [
  {
   "cell_type": "code",
   "execution_count": 1,
   "id": "99fe1b05-7951-4666-8c24-7bb28426611d",
   "metadata": {},
   "outputs": [],
   "source": [
    "assert(True)"
   ]
  }
 ],
 "metadata": {
  "kernelspec": {
   "display_name": "aurora-test",
   "language": "python",
   "name": "aurora-test"
  },
  "language_info": {
   "codemirror_mode": {
    "name": "ipython",
    "version": 3
   },
   "file_extension": ".py",
   "mimetype": "text/x-python",
   "name": "python",
   "nbconvert_exporter": "python",
   "pygments_lexer": "ipython3",
   "version": "3.10.10"
  }
 },
 "nbformat": 4,
 "nbformat_minor": 5
}
