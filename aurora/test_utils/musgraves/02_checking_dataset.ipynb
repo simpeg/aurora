{
 "cells": [
  {
   "cell_type": "markdown",
   "id": "3c164798-2c2c-41bd-a85e-12306e073f29",
   "metadata": {},
   "source": [
    "# Run ID Workaround Stuff"
   ]
  },
  {
   "cell_type": "markdown",
   "id": "4c34387e-8db1-4180-ba68-59c87604bc96",
   "metadata": {},
   "source": [
    "Here we count the runs in each musgraves level_1 mth5 and check the names, so we can be prepared for expanding the workaround\n",
    "\n",
    "Will use the \"enrich_df\" pattern where we iterate over rows of df, getting info."
   ]
  },
  {
   "cell_type": "code",
   "execution_count": 3,
   "id": "09cd4800-f4cc-43e1-b678-57aee3ab7458",
   "metadata": {},
   "outputs": [],
   "source": [
    "from aurora.pipelines.run_summary import RunSummary\n",
    "from aurora.test_utils.musgraves.helpers import get_musgraves_availability_df\n"
   ]
  },
  {
   "cell_type": "code",
   "execution_count": 7,
   "id": "e5ed6fb5-fe91-4a53-9f71-7a5f8fc8b570",
   "metadata": {},
   "outputs": [],
   "source": [
    "def enrich_row_with_run_info(row):\n",
    "    mth5_run_summary = RunSummary()\n",
    "    mth5_run_summary.from_mth5s([row.path, ])\n",
    "    row.num_runs = len(mth5_run_summary.df)\n",
    "    run_names = mth5_run_summary.df.run_id.unique().tolist()\n",
    "    row.run_names = \",\".join(run_names)\n",
    "    return row\n",
    "\n",
    "def count_mth5_runs(df):\n",
    "    \"\"\"\n",
    "\n",
    "    Parameters\n",
    "    ----------\n",
    "    df : pd.DataFrame\n",
    "        This is a list of the files\n",
    "\n",
    "    Returns\n",
    "    -------\n",
    "    df:  pd.DataFrame\n",
    "        SAme as input but with new columns\n",
    "\n",
    "    \"\"\"\n",
    "    df[\"num_runs\"] = 0\n",
    "    df[\"run_names\"] = \"\"\n",
    "    m = MTH5()\n",
    "    enriched_df = df.apply(enrich_row_with_run_info, axis=1)\n",
    "    # for i, row in df.iterrows():\n",
    "    #     #enrich_row_with_run_info(row)\n",
    "    #     mth5_run_summary = RunSummary()\n",
    "    #     mth5_run_summary.from_mth5s([row.path,])\n",
    "    #     row.num_runs = len(mth5_run_summary.df)\n",
    "    #     run_names = mth5_run_summary.df.run_id.unique().tolist()\n",
    "    #     row.run_names = \",\".join(run_names)\n",
    "\n",
    "    return enriched_df"
   ]
  },
  {
   "cell_type": "code",
   "execution_count": 8,
   "id": "0869a61c-9a5e-40ec-8dc1-3c893fdeec19",
   "metadata": {},
   "outputs": [],
   "source": [
    "def count_mth5_runs(df):\n",
    "    \"\"\"\n",
    "\n",
    "    Parameters\n",
    "    ----------\n",
    "    df : pd.DataFrame\n",
    "        This is a list of the files\n",
    "\n",
    "    Returns\n",
    "    -------\n",
    "    df:  pd.DataFrame\n",
    "        SAme as input but with new columns\n",
    "\n",
    "    \"\"\"\n",
    "    df[\"num_runs\"] = 0\n",
    "    df[\"run_names\"] = \"\"\n",
    "    enriched_df = df.apply(enrich_row_with_run_info, axis=1)\n",
    "\n",
    "    return enriched_df\n"
   ]
  },
  {
   "cell_type": "code",
   "execution_count": 9,
   "id": "9c2fa018-b992-416a-a103-f90648f641ca",
   "metadata": {},
   "outputs": [
    {
     "name": "stdout",
     "output_type": "stream",
     "text": [
      "hostname: namazu\n",
      "Found 2 h5 files\n"
     ]
    }
   ],
   "source": [
    "availability_df = get_musgraves_availability_df()"
   ]
  },
  {
   "cell_type": "code",
   "execution_count": 10,
   "id": "73496108-038d-4836-81d8-b157c20f2769",
   "metadata": {},
   "outputs": [
    {
     "name": "stdout",
     "output_type": "stream",
     "text": [
      "\u001b[1m2023-10-21T15:04:17.680167-0700 | INFO | mth5.mth5 | close_mth5 | Flushing and closing /home/kkappler/data/gadi/g/data/my80/AuScope_MT_collection/AuScope_AusLAMP/Musgraves_APY/NT/level_1/Concatenated_Resampled_Rotated_Time_Series_MTH5/WANT38.h5\u001b[0m\n",
      "\u001b[1m2023-10-21T15:04:17.695565-0700 | INFO | mth5.mth5 | close_mth5 | Flushing and closing /home/kkappler/data/gadi/g/data/my80/AuScope_MT_collection/AuScope_AusLAMP/Musgraves_APY/NT/level_1/Concatenated_Resampled_Rotated_Time_Series_MTH5/SA349.h5\u001b[0m\n"
     ]
    }
   ],
   "source": [
    "enriched_df = count_mth5_runs(availability_df)"
   ]
  },
  {
   "cell_type": "code",
   "execution_count": 11,
   "id": "3d3ed1d5-a893-40e3-83fe-b0d3dadae24a",
   "metadata": {},
   "outputs": [
    {
     "data": {
      "text/html": [
       "<div>\n",
       "<style scoped>\n",
       "    .dataframe tbody tr th:only-of-type {\n",
       "        vertical-align: middle;\n",
       "    }\n",
       "\n",
       "    .dataframe tbody tr th {\n",
       "        vertical-align: top;\n",
       "    }\n",
       "\n",
       "    .dataframe thead th {\n",
       "        text-align: right;\n",
       "    }\n",
       "</style>\n",
       "<table border=\"1\" class=\"dataframe\">\n",
       "  <thead>\n",
       "    <tr style=\"text-align: right;\">\n",
       "      <th></th>\n",
       "      <th>level</th>\n",
       "      <th>territory</th>\n",
       "      <th>station_id</th>\n",
       "      <th>path</th>\n",
       "      <th>num_runs</th>\n",
       "      <th>run_names</th>\n",
       "    </tr>\n",
       "  </thead>\n",
       "  <tbody>\n",
       "    <tr>\n",
       "      <th>0</th>\n",
       "      <td>1</td>\n",
       "      <td>NT</td>\n",
       "      <td>WANT38</td>\n",
       "      <td>/home/kkappler/data/gadi/g/data/my80/AuScope_M...</td>\n",
       "      <td>1</td>\n",
       "      <td>1</td>\n",
       "    </tr>\n",
       "    <tr>\n",
       "      <th>1</th>\n",
       "      <td>1</td>\n",
       "      <td>NT</td>\n",
       "      <td>SA349</td>\n",
       "      <td>/home/kkappler/data/gadi/g/data/my80/AuScope_M...</td>\n",
       "      <td>1</td>\n",
       "      <td>1</td>\n",
       "    </tr>\n",
       "  </tbody>\n",
       "</table>\n",
       "</div>"
      ],
      "text/plain": [
       "  level territory station_id  \\\n",
       "0     1        NT     WANT38   \n",
       "1     1        NT      SA349   \n",
       "\n",
       "                                                path  num_runs run_names  \n",
       "0  /home/kkappler/data/gadi/g/data/my80/AuScope_M...         1         1  \n",
       "1  /home/kkappler/data/gadi/g/data/my80/AuScope_M...         1         1  "
      ]
     },
     "execution_count": 11,
     "metadata": {},
     "output_type": "execute_result"
    }
   ],
   "source": [
    "enriched_df"
   ]
  },
  {
   "cell_type": "code",
   "execution_count": null,
   "id": "30cedebd-7d9a-49e3-a7a9-5631e40defa7",
   "metadata": {},
   "outputs": [],
   "source": []
  }
 ],
 "metadata": {
  "kernelspec": {
   "display_name": "aurora",
   "language": "python",
   "name": "aurora"
  },
  "language_info": {
   "codemirror_mode": {
    "name": "ipython",
    "version": 3
   },
   "file_extension": ".py",
   "mimetype": "text/x-python",
   "name": "python",
   "nbconvert_exporter": "python",
   "pygments_lexer": "ipython3",
   "version": "3.10.10"
  }
 },
 "nbformat": 4,
 "nbformat_minor": 5
}
