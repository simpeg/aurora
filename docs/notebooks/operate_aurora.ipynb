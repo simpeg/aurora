{
 "cells": [
  {
   "cell_type": "markdown",
   "metadata": {},
   "source": [
    "## Build an MTH5 and Operate the Aurora Pipeline"
   ]
  },
  {
   "cell_type": "markdown",
   "metadata": {},
   "source": [
    "This notebook pulls MT miniSEED data from the IRIS Dataselect web service and produces MTH5 out of it. It outlines the process of making an MTH5 file, generating a processing config, and running the Aurora processor.\n",
    "\n",
    "It assumes that aurora, mth5, and mt_metadata have all been installed."
   ]
  },
  {
   "cell_type": "code",
   "execution_count": 1,
   "metadata": {
    "scrolled": false
   },
   "outputs": [
    {
     "name": "stderr",
     "output_type": "stream",
     "text": [
      "2022-05-20 16:02:33,136 [line 135] mth5.setup_logger - INFO: Logging file can be found /Users/laura/IRIS_TOOLS/AURORA/mth5/logs/mth5_debug.log\n"
     ]
    }
   ],
   "source": [
    "# Required imports for theh program. \n",
    "from pathlib import Path\n",
    "import sys\n",
    "import pandas as pd\n",
    "import mth5\n",
    "from mth5.clients.make_mth5 import MakeMTH5\n",
    "from mth5 import mth5, timeseries\n",
    "from mt_metadata.utils.mttime import get_now_utc, MTime\n",
    "from aurora.config.config_creator import ConfigCreator\n",
    "from aurora.pipelines.process_mth5 import process_mth5_run"
   ]
  },
  {
   "cell_type": "markdown",
   "metadata": {},
   "source": [
    "### Set up MTH5 object and retrieve data\n",
    "To build an MTH5 file with data extracted from IRIS, first initialize an MTH5 object that will be used to grab the requested data from the specified client. We create a dataframe of the targets and time frames of the desired data, which is then passed along to the MTH5 object."
   ]
  },
  {
   "cell_type": "code",
   "execution_count": 2,
   "metadata": {},
   "outputs": [],
   "source": [
    "# Set path so MTH5 file builds to current working directory. \n",
    "default_path = Path().cwd()"
   ]
  },
  {
   "cell_type": "code",
   "execution_count": 3,
   "metadata": {},
   "outputs": [],
   "source": [
    "# Initialize the Make MTH5 code. \n",
    "m = MakeMTH5(mth5_version='0.1.0')\n",
    "m.client = \"IRIS\""
   ]
  },
  {
   "cell_type": "code",
   "execution_count": 4,
   "metadata": {},
   "outputs": [],
   "source": [
    "# Generate data frame of FDSN Network, Station, Location, Channel, Startime, Endtime codes of interest\n",
    "\n",
    "ZUCAS04LQ1 = ['8P', 'CAS04', '', 'LQE', '2020-06-02T19:00:00', '2020-07-13T19:00:00']\n",
    "ZUCAS04LQ2 = ['8P', 'CAS04', '', 'LQN', '2020-06-02T19:00:00', '2020-07-13T19:00:00']\n",
    "ZUCAS04BF1 = ['8P', 'CAS04', '', 'LFE', '2020-06-02T19:00:00', '2020-07-13T19:00:00']\n",
    "ZUCAS04BF2 = ['8P', 'CAS04', '', 'LFN', '2020-06-02T19:00:00', '2020-07-13T19:00:00']\n",
    "ZUCAS04BF3 = ['8P', 'CAS04', '', 'LFZ', '2020-06-02T19:00:00', '2020-07-13T19:00:00']\n",
    "\n",
    "request_list = [ZUCAS04LQ1, ZUCAS04LQ2, ZUCAS04BF1, ZUCAS04BF2, ZUCAS04BF3]\n",
    "\n",
    "# Turn list into dataframe\n",
    "request_df =  pd.DataFrame(request_list, columns=m.column_names)"
   ]
  },
  {
   "cell_type": "code",
   "execution_count": 5,
   "metadata": {},
   "outputs": [
    {
     "name": "stdout",
     "output_type": "stream",
     "text": [
      "  network station location channel                start                  end\n",
      "0      8P   CAS04              LQE  2020-06-02T19:00:00  2020-07-13T19:00:00\n",
      "1      8P   CAS04              LQN  2020-06-02T19:00:00  2020-07-13T19:00:00\n",
      "2      8P   CAS04              LFE  2020-06-02T19:00:00  2020-07-13T19:00:00\n",
      "3      8P   CAS04              LFN  2020-06-02T19:00:00  2020-07-13T19:00:00\n",
      "4      8P   CAS04              LFZ  2020-06-02T19:00:00  2020-07-13T19:00:00\n"
     ]
    }
   ],
   "source": [
    "# Inspect the dataframe\n",
    "print(request_df)"
   ]
  },
  {
   "cell_type": "markdown",
   "metadata": {},
   "source": [
    "You can view the inventory of the targets and timespans that the client (IRIS, in this case) has available. data=False will display just the metadata and is quicker, data=True will also request information about the data extents that are available.  "
   ]
  },
  {
   "cell_type": "code",
   "execution_count": 6,
   "metadata": {},
   "outputs": [],
   "source": [
    "# Request the inventory information from IRIS\n",
    "inventory = m.get_inventory_from_df(request_df, data=False)"
   ]
  },
  {
   "cell_type": "code",
   "execution_count": 7,
   "metadata": {},
   "outputs": [
    {
     "data": {
      "text/plain": [
       "(Inventory created at 2022-05-20T23:02:34.878618Z\n",
       "\tCreated by: ObsPy 1.2.2\n",
       "\t\t    https://www.obspy.org\n",
       "\tSending institution: MTH5\n",
       "\tContains:\n",
       "\t\tNetworks (1):\n",
       "\t\t\t8P\n",
       "\t\tStations (1):\n",
       "\t\t\t8P.CAS04 (Corral Hollow, CA, USA)\n",
       "\t\tChannels (5):\n",
       "\t\t\t8P.CAS04..LFZ, 8P.CAS04..LFN, 8P.CAS04..LFE, 8P.CAS04..LQN, \n",
       "\t\t\t8P.CAS04..LQE,\n",
       " 0 Trace(s) in Stream:\n",
       ")"
      ]
     },
     "execution_count": 7,
     "metadata": {},
     "output_type": "execute_result"
    }
   ],
   "source": [
    "# Inspect the inventory\n",
    "inventory"
   ]
  },
  {
   "cell_type": "markdown",
   "metadata": {},
   "source": [
    "With the mth5 object set, we are ready to actually request the data from the fdsn client (IRIS) and save it to an MTH5 file.  This process builds an MTH5 file and can take some time depending on how much data is requested.  \n",
    "\n",
    "Note: interact keeps the MTH5 open after it is done building\n"
   ]
  },
  {
   "cell_type": "code",
   "execution_count": 8,
   "metadata": {
    "scrolled": true
   },
   "outputs": [
    {
     "name": "stderr",
     "output_type": "stream",
     "text": [
      "2022-05-20 16:02:35,585 [line 590] mth5.mth5.MTH5.open_mth5 - WARNING: 8P_CAS04.h5 will be overwritten in 'w' mode\n",
      "2022-05-20 16:02:36,370 [line 655] mth5.mth5.MTH5._initialize_file - INFO: Initialized MTH5 0.1.0 file /Users/laura/IRIS_TOOLS/AURORA/aurora/docs/notebooks/8P_CAS04.h5 in mode w\n",
      "2022-05-20 16:03:01,376 [line 120] mt_metadata.base.metadata.station.add_run - WARNING: Run a is being overwritten with current information\n"
     ]
    },
    {
     "name": "stdout",
     "output_type": "stream",
     "text": [
      "2022-05-20T16:03:01 [line 134] obspy_stages.create_filter_from_stage - INFO: Converting PoleZerosResponseStage electric_si_units to a CoefficientFilter\n",
      "2022-05-20T16:03:01 [line 134] obspy_stages.create_filter_from_stage - INFO: Converting PoleZerosResponseStage electric_dipole_92.000 to a CoefficientFilter\n",
      "2022-05-20T16:03:01 [line 134] obspy_stages.create_filter_from_stage - INFO: Converting PoleZerosResponseStage electric_si_units to a CoefficientFilter\n",
      "2022-05-20T16:03:01 [line 134] obspy_stages.create_filter_from_stage - INFO: Converting PoleZerosResponseStage electric_dipole_92.000 to a CoefficientFilter\n",
      "More or less runs have been requested by the user than are defined in the metadata. Runs will be defined but only the requested run extents contain time series data based on the users request.\n"
     ]
    },
    {
     "name": "stderr",
     "output_type": "stream",
     "text": [
      "2022-05-20 16:03:07,420 [line 224] mth5.timeseries.run_ts.RunTS.validate_metadata - WARNING: start time of dataset 2020-06-02T19:00:00+00:00 does not match metadata start 2020-06-02T18:41:43+00:00 updating metatdata value to 2020-06-02T19:00:00+00:00\n",
      "2022-05-20 16:04:02,823 [line 462] mth5.timeseries.run_ts.RunTS.from_obspy_stream - WARNING: could not find ey\n",
      "2022-05-20 16:04:39,212 [line 462] mth5.timeseries.run_ts.RunTS.from_obspy_stream - WARNING: could not find ex\n",
      "2022-05-20 16:04:39,427 [line 462] mth5.timeseries.run_ts.RunTS.from_obspy_stream - WARNING: could not find ey\n",
      "2022-05-20 16:04:40,421 [line 235] mth5.timeseries.run_ts.RunTS.validate_metadata - WARNING: end time of dataset 2020-07-13T19:00:00+00:00 does not match metadata end 2020-07-13T21:46:12+00:00 updating metatdata value to 2020-07-13T19:00:00+00:00\n"
     ]
    }
   ],
   "source": [
    "mth5_object = m.make_mth5_from_fdsnclient(request_df, interact=True)"
   ]
  },
  {
   "cell_type": "code",
   "execution_count": 9,
   "metadata": {},
   "outputs": [],
   "source": [
    "# mth5_object.open_mth5(h5_path, 'w')\n",
    "# h5_path = str(default_path)+'/8P_CAS04.h5'\n",
    "#mth5_object.close_mth5()"
   ]
  },
  {
   "cell_type": "markdown",
   "metadata": {},
   "source": [
    "### Examine and Update the MTH5 object\n",
    "\n",
    "With the open MTH5 Object, we can start to examine what is in it. For example, we retrieve the filename and file_version. You can additionally do things such as getting the station information and edit it by setting a new value, in this case the declination model. "
   ]
  },
  {
   "cell_type": "code",
   "execution_count": 10,
   "metadata": {},
   "outputs": [
    {
     "data": {
      "text/plain": [
       "/:\n",
       "====================\n",
       "    |- Group: Survey\n",
       "    ----------------\n",
       "        |- Group: Filters\n",
       "        -----------------\n",
       "            |- Group: coefficient\n",
       "            ---------------------\n",
       "                |- Group: electric_analog_to_digital\n",
       "                ------------------------------------\n",
       "                |- Group: electric_dipole_92.000\n",
       "                --------------------------------\n",
       "                |- Group: electric_si_units\n",
       "                ---------------------------\n",
       "                |- Group: magnetic_analog_to_digital\n",
       "                ------------------------------------\n",
       "            |- Group: fap\n",
       "            -------------\n",
       "            |- Group: fir\n",
       "            -------------\n",
       "            |- Group: time_delay\n",
       "            --------------------\n",
       "                |- Group: electric_time_offset\n",
       "                ------------------------------\n",
       "                |- Group: hx_time_offset\n",
       "                ------------------------\n",
       "                |- Group: hy_time_offset\n",
       "                ------------------------\n",
       "                |- Group: hz_time_offset\n",
       "                ------------------------\n",
       "            |- Group: zpk\n",
       "            -------------\n",
       "                |- Group: electric_butterworth_high_pass\n",
       "                ----------------------------------------\n",
       "                    --> Dataset: poles\n",
       "                    ....................\n",
       "                    --> Dataset: zeros\n",
       "                    ....................\n",
       "                |- Group: electric_butterworth_low_pass\n",
       "                ---------------------------------------\n",
       "                    --> Dataset: poles\n",
       "                    ....................\n",
       "                    --> Dataset: zeros\n",
       "                    ....................\n",
       "                |- Group: magnetic_butterworth_low_pass\n",
       "                ---------------------------------------\n",
       "                    --> Dataset: poles\n",
       "                    ....................\n",
       "                    --> Dataset: zeros\n",
       "                    ....................\n",
       "        |- Group: Reports\n",
       "        -----------------\n",
       "        |- Group: Standards\n",
       "        -------------------\n",
       "            --> Dataset: summary\n",
       "            ......................\n",
       "        |- Group: Stations\n",
       "        ------------------\n",
       "            |- Group: CAS04\n",
       "            ---------------\n",
       "                |- Group: Transfer_Functions\n",
       "                ----------------------------\n",
       "                |- Group: a\n",
       "                -----------\n",
       "                    --> Dataset: ex\n",
       "                    .................\n",
       "                    --> Dataset: ey\n",
       "                    .................\n",
       "                    --> Dataset: hx\n",
       "                    .................\n",
       "                    --> Dataset: hy\n",
       "                    .................\n",
       "                    --> Dataset: hz\n",
       "                    .................\n",
       "                |- Group: b\n",
       "                -----------\n",
       "                    --> Dataset: ex\n",
       "                    .................\n",
       "                    --> Dataset: ey\n",
       "                    .................\n",
       "                    --> Dataset: hx\n",
       "                    .................\n",
       "                    --> Dataset: hy\n",
       "                    .................\n",
       "                    --> Dataset: hz\n",
       "                    .................\n",
       "                |- Group: c\n",
       "                -----------\n",
       "                    --> Dataset: ex\n",
       "                    .................\n",
       "                    --> Dataset: ey\n",
       "                    .................\n",
       "                    --> Dataset: hx\n",
       "                    .................\n",
       "                    --> Dataset: hy\n",
       "                    .................\n",
       "                    --> Dataset: hz\n",
       "                    .................\n",
       "                |- Group: d\n",
       "                -----------\n",
       "                    --> Dataset: ex\n",
       "                    .................\n",
       "                    --> Dataset: ey\n",
       "                    .................\n",
       "                    --> Dataset: hx\n",
       "                    .................\n",
       "                    --> Dataset: hy\n",
       "                    .................\n",
       "                    --> Dataset: hz\n",
       "                    .................\n",
       "        --> Dataset: channel_summary\n",
       "        ..............................\n",
       "        --> Dataset: tf_summary\n",
       "        ........................."
      ]
     },
     "execution_count": 10,
     "metadata": {},
     "output_type": "execute_result"
    }
   ],
   "source": [
    "mth5_object"
   ]
  },
  {
   "cell_type": "code",
   "execution_count": 11,
   "metadata": {},
   "outputs": [
    {
     "name": "stdout",
     "output_type": "stream",
     "text": [
      "/Users/laura/IRIS_TOOLS/AURORA/aurora/docs/notebooks/8P_CAS04.h5\n"
     ]
    }
   ],
   "source": [
    "# Collect information from the MTh5 Object and use it in the config files. \n",
    "mth5_filename = mth5_object.filename\n",
    "version = mth5_object.file_version\n",
    "print(mth5_filename)"
   ]
  },
  {
   "cell_type": "code",
   "execution_count": 12,
   "metadata": {},
   "outputs": [
    {
     "name": "stdout",
     "output_type": "stream",
     "text": [
      "IGRF-13\n",
      "IGRF\n"
     ]
    }
   ],
   "source": [
    "# Edit and update the MTH5 metadata \n",
    "s = mth5_object.get_station(\"CAS04\")\n",
    "print(s.metadata.location.declination.model)\n",
    "s.metadata.location.declination.model = 'IGRF'\n",
    "print(s.metadata.location.declination.model)\n",
    "s.write_metadata()    # writes to file mth5_filename"
   ]
  },
  {
   "cell_type": "markdown",
   "metadata": {},
   "source": [
    "Now we look more closely at the metadata. Start by calling .summarize() to initialize the channel_summary if we have not yet closed the mth5 object (we have not).  Then by calling .to_dataframe() we can start calling on attributes such as run or sample_rate. "
   ]
  },
  {
   "cell_type": "code",
   "execution_count": 13,
   "metadata": {},
   "outputs": [],
   "source": [
    "# Get the available stations and runs from the MTH5 object\n",
    "mth5_object.channel_summary.summarize()\n",
    "ch_summary = mth5_object.channel_summary.to_dataframe()"
   ]
  },
  {
   "cell_type": "code",
   "execution_count": 14,
   "metadata": {
    "scrolled": true
   },
   "outputs": [
    {
     "data": {
      "text/html": [
       "<div>\n",
       "<style scoped>\n",
       "    .dataframe tbody tr th:only-of-type {\n",
       "        vertical-align: middle;\n",
       "    }\n",
       "\n",
       "    .dataframe tbody tr th {\n",
       "        vertical-align: top;\n",
       "    }\n",
       "\n",
       "    .dataframe thead th {\n",
       "        text-align: right;\n",
       "    }\n",
       "</style>\n",
       "<table border=\"1\" class=\"dataframe\">\n",
       "  <thead>\n",
       "    <tr style=\"text-align: right;\">\n",
       "      <th></th>\n",
       "      <th>survey</th>\n",
       "      <th>station</th>\n",
       "      <th>run</th>\n",
       "      <th>latitude</th>\n",
       "      <th>longitude</th>\n",
       "      <th>elevation</th>\n",
       "      <th>component</th>\n",
       "      <th>start</th>\n",
       "      <th>end</th>\n",
       "      <th>n_samples</th>\n",
       "      <th>sample_rate</th>\n",
       "      <th>measurement_type</th>\n",
       "      <th>azimuth</th>\n",
       "      <th>tilt</th>\n",
       "      <th>units</th>\n",
       "      <th>hdf5_reference</th>\n",
       "      <th>run_hdf5_reference</th>\n",
       "      <th>station_hdf5_reference</th>\n",
       "    </tr>\n",
       "  </thead>\n",
       "  <tbody>\n",
       "    <tr>\n",
       "      <th>0</th>\n",
       "      <td>CONUS South</td>\n",
       "      <td>CAS04</td>\n",
       "      <td>a</td>\n",
       "      <td>37.633351</td>\n",
       "      <td>-121.468382</td>\n",
       "      <td>329.3875</td>\n",
       "      <td>ex</td>\n",
       "      <td>2020-06-02 19:00:00+00:00</td>\n",
       "      <td>2020-06-02 22:07:46+00:00</td>\n",
       "      <td>11267</td>\n",
       "      <td>1.0</td>\n",
       "      <td>electric</td>\n",
       "      <td>13.2</td>\n",
       "      <td>0.0</td>\n",
       "      <td>digital counts</td>\n",
       "      <td>&lt;HDF5 object reference&gt;</td>\n",
       "      <td>&lt;HDF5 object reference&gt;</td>\n",
       "      <td>&lt;HDF5 object reference&gt;</td>\n",
       "    </tr>\n",
       "    <tr>\n",
       "      <th>1</th>\n",
       "      <td>CONUS South</td>\n",
       "      <td>CAS04</td>\n",
       "      <td>a</td>\n",
       "      <td>37.633351</td>\n",
       "      <td>-121.468382</td>\n",
       "      <td>329.3875</td>\n",
       "      <td>ey</td>\n",
       "      <td>2020-06-02 19:00:00+00:00</td>\n",
       "      <td>2020-06-02 22:07:46+00:00</td>\n",
       "      <td>11267</td>\n",
       "      <td>1.0</td>\n",
       "      <td>electric</td>\n",
       "      <td>103.2</td>\n",
       "      <td>0.0</td>\n",
       "      <td>digital counts</td>\n",
       "      <td>&lt;HDF5 object reference&gt;</td>\n",
       "      <td>&lt;HDF5 object reference&gt;</td>\n",
       "      <td>&lt;HDF5 object reference&gt;</td>\n",
       "    </tr>\n",
       "    <tr>\n",
       "      <th>2</th>\n",
       "      <td>CONUS South</td>\n",
       "      <td>CAS04</td>\n",
       "      <td>a</td>\n",
       "      <td>37.633351</td>\n",
       "      <td>-121.468382</td>\n",
       "      <td>329.3875</td>\n",
       "      <td>hx</td>\n",
       "      <td>2020-06-02 19:00:00+00:00</td>\n",
       "      <td>2020-06-02 22:07:46+00:00</td>\n",
       "      <td>11267</td>\n",
       "      <td>1.0</td>\n",
       "      <td>magnetic</td>\n",
       "      <td>13.2</td>\n",
       "      <td>0.0</td>\n",
       "      <td>digital counts</td>\n",
       "      <td>&lt;HDF5 object reference&gt;</td>\n",
       "      <td>&lt;HDF5 object reference&gt;</td>\n",
       "      <td>&lt;HDF5 object reference&gt;</td>\n",
       "    </tr>\n",
       "    <tr>\n",
       "      <th>3</th>\n",
       "      <td>CONUS South</td>\n",
       "      <td>CAS04</td>\n",
       "      <td>a</td>\n",
       "      <td>37.633351</td>\n",
       "      <td>-121.468382</td>\n",
       "      <td>329.3875</td>\n",
       "      <td>hy</td>\n",
       "      <td>2020-06-02 19:00:00+00:00</td>\n",
       "      <td>2020-06-02 22:07:46+00:00</td>\n",
       "      <td>11267</td>\n",
       "      <td>1.0</td>\n",
       "      <td>magnetic</td>\n",
       "      <td>103.2</td>\n",
       "      <td>0.0</td>\n",
       "      <td>digital counts</td>\n",
       "      <td>&lt;HDF5 object reference&gt;</td>\n",
       "      <td>&lt;HDF5 object reference&gt;</td>\n",
       "      <td>&lt;HDF5 object reference&gt;</td>\n",
       "    </tr>\n",
       "    <tr>\n",
       "      <th>4</th>\n",
       "      <td>CONUS South</td>\n",
       "      <td>CAS04</td>\n",
       "      <td>a</td>\n",
       "      <td>37.633351</td>\n",
       "      <td>-121.468382</td>\n",
       "      <td>329.3875</td>\n",
       "      <td>hz</td>\n",
       "      <td>2020-06-02 19:00:00+00:00</td>\n",
       "      <td>2020-06-02 22:07:46+00:00</td>\n",
       "      <td>11267</td>\n",
       "      <td>1.0</td>\n",
       "      <td>magnetic</td>\n",
       "      <td>0.0</td>\n",
       "      <td>90.0</td>\n",
       "      <td>digital counts</td>\n",
       "      <td>&lt;HDF5 object reference&gt;</td>\n",
       "      <td>&lt;HDF5 object reference&gt;</td>\n",
       "      <td>&lt;HDF5 object reference&gt;</td>\n",
       "    </tr>\n",
       "    <tr>\n",
       "      <th>5</th>\n",
       "      <td>CONUS South</td>\n",
       "      <td>CAS04</td>\n",
       "      <td>b</td>\n",
       "      <td>37.633351</td>\n",
       "      <td>-121.468382</td>\n",
       "      <td>329.3875</td>\n",
       "      <td>ex</td>\n",
       "      <td>2020-06-02 22:24:55+00:00</td>\n",
       "      <td>2020-06-12 17:52:23+00:00</td>\n",
       "      <td>847649</td>\n",
       "      <td>1.0</td>\n",
       "      <td>electric</td>\n",
       "      <td>13.2</td>\n",
       "      <td>0.0</td>\n",
       "      <td>digital counts</td>\n",
       "      <td>&lt;HDF5 object reference&gt;</td>\n",
       "      <td>&lt;HDF5 object reference&gt;</td>\n",
       "      <td>&lt;HDF5 object reference&gt;</td>\n",
       "    </tr>\n",
       "    <tr>\n",
       "      <th>6</th>\n",
       "      <td>CONUS South</td>\n",
       "      <td>CAS04</td>\n",
       "      <td>b</td>\n",
       "      <td>37.633351</td>\n",
       "      <td>-121.468382</td>\n",
       "      <td>329.3875</td>\n",
       "      <td>ey</td>\n",
       "      <td>2020-06-02 22:24:55+00:00</td>\n",
       "      <td>2020-06-12 17:52:23+00:00</td>\n",
       "      <td>847649</td>\n",
       "      <td>1.0</td>\n",
       "      <td>electric</td>\n",
       "      <td>103.2</td>\n",
       "      <td>0.0</td>\n",
       "      <td>digital counts</td>\n",
       "      <td>&lt;HDF5 object reference&gt;</td>\n",
       "      <td>&lt;HDF5 object reference&gt;</td>\n",
       "      <td>&lt;HDF5 object reference&gt;</td>\n",
       "    </tr>\n",
       "    <tr>\n",
       "      <th>7</th>\n",
       "      <td>CONUS South</td>\n",
       "      <td>CAS04</td>\n",
       "      <td>b</td>\n",
       "      <td>37.633351</td>\n",
       "      <td>-121.468382</td>\n",
       "      <td>329.3875</td>\n",
       "      <td>hx</td>\n",
       "      <td>2020-06-02 22:24:55+00:00</td>\n",
       "      <td>2020-06-12 17:52:23+00:00</td>\n",
       "      <td>847649</td>\n",
       "      <td>1.0</td>\n",
       "      <td>magnetic</td>\n",
       "      <td>13.2</td>\n",
       "      <td>0.0</td>\n",
       "      <td>digital counts</td>\n",
       "      <td>&lt;HDF5 object reference&gt;</td>\n",
       "      <td>&lt;HDF5 object reference&gt;</td>\n",
       "      <td>&lt;HDF5 object reference&gt;</td>\n",
       "    </tr>\n",
       "    <tr>\n",
       "      <th>8</th>\n",
       "      <td>CONUS South</td>\n",
       "      <td>CAS04</td>\n",
       "      <td>b</td>\n",
       "      <td>37.633351</td>\n",
       "      <td>-121.468382</td>\n",
       "      <td>329.3875</td>\n",
       "      <td>hy</td>\n",
       "      <td>2020-06-02 22:24:55+00:00</td>\n",
       "      <td>2020-06-12 17:52:23+00:00</td>\n",
       "      <td>847649</td>\n",
       "      <td>1.0</td>\n",
       "      <td>magnetic</td>\n",
       "      <td>103.2</td>\n",
       "      <td>0.0</td>\n",
       "      <td>digital counts</td>\n",
       "      <td>&lt;HDF5 object reference&gt;</td>\n",
       "      <td>&lt;HDF5 object reference&gt;</td>\n",
       "      <td>&lt;HDF5 object reference&gt;</td>\n",
       "    </tr>\n",
       "    <tr>\n",
       "      <th>9</th>\n",
       "      <td>CONUS South</td>\n",
       "      <td>CAS04</td>\n",
       "      <td>b</td>\n",
       "      <td>37.633351</td>\n",
       "      <td>-121.468382</td>\n",
       "      <td>329.3875</td>\n",
       "      <td>hz</td>\n",
       "      <td>2020-06-02 22:24:55+00:00</td>\n",
       "      <td>2020-06-12 17:52:23+00:00</td>\n",
       "      <td>847649</td>\n",
       "      <td>1.0</td>\n",
       "      <td>magnetic</td>\n",
       "      <td>0.0</td>\n",
       "      <td>90.0</td>\n",
       "      <td>digital counts</td>\n",
       "      <td>&lt;HDF5 object reference&gt;</td>\n",
       "      <td>&lt;HDF5 object reference&gt;</td>\n",
       "      <td>&lt;HDF5 object reference&gt;</td>\n",
       "    </tr>\n",
       "    <tr>\n",
       "      <th>10</th>\n",
       "      <td>CONUS South</td>\n",
       "      <td>CAS04</td>\n",
       "      <td>c</td>\n",
       "      <td>37.633351</td>\n",
       "      <td>-121.468382</td>\n",
       "      <td>329.3875</td>\n",
       "      <td>ex</td>\n",
       "      <td>2020-06-12 18:32:17+00:00</td>\n",
       "      <td>2020-07-01 17:32:59+00:00</td>\n",
       "      <td>1638043</td>\n",
       "      <td>1.0</td>\n",
       "      <td>electric</td>\n",
       "      <td>13.2</td>\n",
       "      <td>0.0</td>\n",
       "      <td>digital counts</td>\n",
       "      <td>&lt;HDF5 object reference&gt;</td>\n",
       "      <td>&lt;HDF5 object reference&gt;</td>\n",
       "      <td>&lt;HDF5 object reference&gt;</td>\n",
       "    </tr>\n",
       "    <tr>\n",
       "      <th>11</th>\n",
       "      <td>CONUS South</td>\n",
       "      <td>CAS04</td>\n",
       "      <td>c</td>\n",
       "      <td>37.633351</td>\n",
       "      <td>-121.468382</td>\n",
       "      <td>329.3875</td>\n",
       "      <td>ey</td>\n",
       "      <td>2020-06-12 18:32:17+00:00</td>\n",
       "      <td>2020-07-01 17:32:59+00:00</td>\n",
       "      <td>1638043</td>\n",
       "      <td>1.0</td>\n",
       "      <td>electric</td>\n",
       "      <td>0.0</td>\n",
       "      <td>0.0</td>\n",
       "      <td>counts</td>\n",
       "      <td>&lt;HDF5 object reference&gt;</td>\n",
       "      <td>&lt;HDF5 object reference&gt;</td>\n",
       "      <td>&lt;HDF5 object reference&gt;</td>\n",
       "    </tr>\n",
       "    <tr>\n",
       "      <th>12</th>\n",
       "      <td>CONUS South</td>\n",
       "      <td>CAS04</td>\n",
       "      <td>c</td>\n",
       "      <td>37.633351</td>\n",
       "      <td>-121.468382</td>\n",
       "      <td>329.3875</td>\n",
       "      <td>hx</td>\n",
       "      <td>2020-06-12 18:32:17+00:00</td>\n",
       "      <td>2020-07-01 17:32:59+00:00</td>\n",
       "      <td>1638043</td>\n",
       "      <td>1.0</td>\n",
       "      <td>magnetic</td>\n",
       "      <td>13.2</td>\n",
       "      <td>0.0</td>\n",
       "      <td>digital counts</td>\n",
       "      <td>&lt;HDF5 object reference&gt;</td>\n",
       "      <td>&lt;HDF5 object reference&gt;</td>\n",
       "      <td>&lt;HDF5 object reference&gt;</td>\n",
       "    </tr>\n",
       "    <tr>\n",
       "      <th>13</th>\n",
       "      <td>CONUS South</td>\n",
       "      <td>CAS04</td>\n",
       "      <td>c</td>\n",
       "      <td>37.633351</td>\n",
       "      <td>-121.468382</td>\n",
       "      <td>329.3875</td>\n",
       "      <td>hy</td>\n",
       "      <td>2020-06-12 18:32:17+00:00</td>\n",
       "      <td>2020-07-01 17:32:59+00:00</td>\n",
       "      <td>1638043</td>\n",
       "      <td>1.0</td>\n",
       "      <td>magnetic</td>\n",
       "      <td>103.2</td>\n",
       "      <td>0.0</td>\n",
       "      <td>digital counts</td>\n",
       "      <td>&lt;HDF5 object reference&gt;</td>\n",
       "      <td>&lt;HDF5 object reference&gt;</td>\n",
       "      <td>&lt;HDF5 object reference&gt;</td>\n",
       "    </tr>\n",
       "    <tr>\n",
       "      <th>14</th>\n",
       "      <td>CONUS South</td>\n",
       "      <td>CAS04</td>\n",
       "      <td>c</td>\n",
       "      <td>37.633351</td>\n",
       "      <td>-121.468382</td>\n",
       "      <td>329.3875</td>\n",
       "      <td>hz</td>\n",
       "      <td>2020-06-12 18:32:17+00:00</td>\n",
       "      <td>2020-07-01 17:32:59+00:00</td>\n",
       "      <td>1638043</td>\n",
       "      <td>1.0</td>\n",
       "      <td>magnetic</td>\n",
       "      <td>0.0</td>\n",
       "      <td>90.0</td>\n",
       "      <td>digital counts</td>\n",
       "      <td>&lt;HDF5 object reference&gt;</td>\n",
       "      <td>&lt;HDF5 object reference&gt;</td>\n",
       "      <td>&lt;HDF5 object reference&gt;</td>\n",
       "    </tr>\n",
       "    <tr>\n",
       "      <th>15</th>\n",
       "      <td>CONUS South</td>\n",
       "      <td>CAS04</td>\n",
       "      <td>d</td>\n",
       "      <td>37.633351</td>\n",
       "      <td>-121.468382</td>\n",
       "      <td>329.3875</td>\n",
       "      <td>ex</td>\n",
       "      <td>2020-07-01 19:36:55+00:00</td>\n",
       "      <td>2020-07-13 19:00:00+00:00</td>\n",
       "      <td>1034586</td>\n",
       "      <td>1.0</td>\n",
       "      <td>electric</td>\n",
       "      <td>0.0</td>\n",
       "      <td>0.0</td>\n",
       "      <td>counts</td>\n",
       "      <td>&lt;HDF5 object reference&gt;</td>\n",
       "      <td>&lt;HDF5 object reference&gt;</td>\n",
       "      <td>&lt;HDF5 object reference&gt;</td>\n",
       "    </tr>\n",
       "    <tr>\n",
       "      <th>16</th>\n",
       "      <td>CONUS South</td>\n",
       "      <td>CAS04</td>\n",
       "      <td>d</td>\n",
       "      <td>37.633351</td>\n",
       "      <td>-121.468382</td>\n",
       "      <td>329.3875</td>\n",
       "      <td>ey</td>\n",
       "      <td>2020-07-01 19:36:55+00:00</td>\n",
       "      <td>2020-07-13 19:00:00+00:00</td>\n",
       "      <td>1034586</td>\n",
       "      <td>1.0</td>\n",
       "      <td>electric</td>\n",
       "      <td>0.0</td>\n",
       "      <td>0.0</td>\n",
       "      <td>counts</td>\n",
       "      <td>&lt;HDF5 object reference&gt;</td>\n",
       "      <td>&lt;HDF5 object reference&gt;</td>\n",
       "      <td>&lt;HDF5 object reference&gt;</td>\n",
       "    </tr>\n",
       "    <tr>\n",
       "      <th>17</th>\n",
       "      <td>CONUS South</td>\n",
       "      <td>CAS04</td>\n",
       "      <td>d</td>\n",
       "      <td>37.633351</td>\n",
       "      <td>-121.468382</td>\n",
       "      <td>329.3875</td>\n",
       "      <td>hx</td>\n",
       "      <td>2020-07-01 19:36:55+00:00</td>\n",
       "      <td>2020-07-13 19:00:00+00:00</td>\n",
       "      <td>1034586</td>\n",
       "      <td>1.0</td>\n",
       "      <td>magnetic</td>\n",
       "      <td>13.2</td>\n",
       "      <td>0.0</td>\n",
       "      <td>digital counts</td>\n",
       "      <td>&lt;HDF5 object reference&gt;</td>\n",
       "      <td>&lt;HDF5 object reference&gt;</td>\n",
       "      <td>&lt;HDF5 object reference&gt;</td>\n",
       "    </tr>\n",
       "    <tr>\n",
       "      <th>18</th>\n",
       "      <td>CONUS South</td>\n",
       "      <td>CAS04</td>\n",
       "      <td>d</td>\n",
       "      <td>37.633351</td>\n",
       "      <td>-121.468382</td>\n",
       "      <td>329.3875</td>\n",
       "      <td>hy</td>\n",
       "      <td>2020-07-01 19:36:55+00:00</td>\n",
       "      <td>2020-07-13 19:00:00+00:00</td>\n",
       "      <td>1034586</td>\n",
       "      <td>1.0</td>\n",
       "      <td>magnetic</td>\n",
       "      <td>103.2</td>\n",
       "      <td>0.0</td>\n",
       "      <td>digital counts</td>\n",
       "      <td>&lt;HDF5 object reference&gt;</td>\n",
       "      <td>&lt;HDF5 object reference&gt;</td>\n",
       "      <td>&lt;HDF5 object reference&gt;</td>\n",
       "    </tr>\n",
       "    <tr>\n",
       "      <th>19</th>\n",
       "      <td>CONUS South</td>\n",
       "      <td>CAS04</td>\n",
       "      <td>d</td>\n",
       "      <td>37.633351</td>\n",
       "      <td>-121.468382</td>\n",
       "      <td>329.3875</td>\n",
       "      <td>hz</td>\n",
       "      <td>2020-07-01 19:36:55+00:00</td>\n",
       "      <td>2020-07-13 19:00:00+00:00</td>\n",
       "      <td>1034586</td>\n",
       "      <td>1.0</td>\n",
       "      <td>magnetic</td>\n",
       "      <td>0.0</td>\n",
       "      <td>90.0</td>\n",
       "      <td>digital counts</td>\n",
       "      <td>&lt;HDF5 object reference&gt;</td>\n",
       "      <td>&lt;HDF5 object reference&gt;</td>\n",
       "      <td>&lt;HDF5 object reference&gt;</td>\n",
       "    </tr>\n",
       "  </tbody>\n",
       "</table>\n",
       "</div>"
      ],
      "text/plain": [
       "         survey station run   latitude   longitude  elevation component  \\\n",
       "0   CONUS South   CAS04   a  37.633351 -121.468382   329.3875        ex   \n",
       "1   CONUS South   CAS04   a  37.633351 -121.468382   329.3875        ey   \n",
       "2   CONUS South   CAS04   a  37.633351 -121.468382   329.3875        hx   \n",
       "3   CONUS South   CAS04   a  37.633351 -121.468382   329.3875        hy   \n",
       "4   CONUS South   CAS04   a  37.633351 -121.468382   329.3875        hz   \n",
       "5   CONUS South   CAS04   b  37.633351 -121.468382   329.3875        ex   \n",
       "6   CONUS South   CAS04   b  37.633351 -121.468382   329.3875        ey   \n",
       "7   CONUS South   CAS04   b  37.633351 -121.468382   329.3875        hx   \n",
       "8   CONUS South   CAS04   b  37.633351 -121.468382   329.3875        hy   \n",
       "9   CONUS South   CAS04   b  37.633351 -121.468382   329.3875        hz   \n",
       "10  CONUS South   CAS04   c  37.633351 -121.468382   329.3875        ex   \n",
       "11  CONUS South   CAS04   c  37.633351 -121.468382   329.3875        ey   \n",
       "12  CONUS South   CAS04   c  37.633351 -121.468382   329.3875        hx   \n",
       "13  CONUS South   CAS04   c  37.633351 -121.468382   329.3875        hy   \n",
       "14  CONUS South   CAS04   c  37.633351 -121.468382   329.3875        hz   \n",
       "15  CONUS South   CAS04   d  37.633351 -121.468382   329.3875        ex   \n",
       "16  CONUS South   CAS04   d  37.633351 -121.468382   329.3875        ey   \n",
       "17  CONUS South   CAS04   d  37.633351 -121.468382   329.3875        hx   \n",
       "18  CONUS South   CAS04   d  37.633351 -121.468382   329.3875        hy   \n",
       "19  CONUS South   CAS04   d  37.633351 -121.468382   329.3875        hz   \n",
       "\n",
       "                       start                       end  n_samples  \\\n",
       "0  2020-06-02 19:00:00+00:00 2020-06-02 22:07:46+00:00      11267   \n",
       "1  2020-06-02 19:00:00+00:00 2020-06-02 22:07:46+00:00      11267   \n",
       "2  2020-06-02 19:00:00+00:00 2020-06-02 22:07:46+00:00      11267   \n",
       "3  2020-06-02 19:00:00+00:00 2020-06-02 22:07:46+00:00      11267   \n",
       "4  2020-06-02 19:00:00+00:00 2020-06-02 22:07:46+00:00      11267   \n",
       "5  2020-06-02 22:24:55+00:00 2020-06-12 17:52:23+00:00     847649   \n",
       "6  2020-06-02 22:24:55+00:00 2020-06-12 17:52:23+00:00     847649   \n",
       "7  2020-06-02 22:24:55+00:00 2020-06-12 17:52:23+00:00     847649   \n",
       "8  2020-06-02 22:24:55+00:00 2020-06-12 17:52:23+00:00     847649   \n",
       "9  2020-06-02 22:24:55+00:00 2020-06-12 17:52:23+00:00     847649   \n",
       "10 2020-06-12 18:32:17+00:00 2020-07-01 17:32:59+00:00    1638043   \n",
       "11 2020-06-12 18:32:17+00:00 2020-07-01 17:32:59+00:00    1638043   \n",
       "12 2020-06-12 18:32:17+00:00 2020-07-01 17:32:59+00:00    1638043   \n",
       "13 2020-06-12 18:32:17+00:00 2020-07-01 17:32:59+00:00    1638043   \n",
       "14 2020-06-12 18:32:17+00:00 2020-07-01 17:32:59+00:00    1638043   \n",
       "15 2020-07-01 19:36:55+00:00 2020-07-13 19:00:00+00:00    1034586   \n",
       "16 2020-07-01 19:36:55+00:00 2020-07-13 19:00:00+00:00    1034586   \n",
       "17 2020-07-01 19:36:55+00:00 2020-07-13 19:00:00+00:00    1034586   \n",
       "18 2020-07-01 19:36:55+00:00 2020-07-13 19:00:00+00:00    1034586   \n",
       "19 2020-07-01 19:36:55+00:00 2020-07-13 19:00:00+00:00    1034586   \n",
       "\n",
       "    sample_rate measurement_type  azimuth  tilt           units  \\\n",
       "0           1.0         electric     13.2   0.0  digital counts   \n",
       "1           1.0         electric    103.2   0.0  digital counts   \n",
       "2           1.0         magnetic     13.2   0.0  digital counts   \n",
       "3           1.0         magnetic    103.2   0.0  digital counts   \n",
       "4           1.0         magnetic      0.0  90.0  digital counts   \n",
       "5           1.0         electric     13.2   0.0  digital counts   \n",
       "6           1.0         electric    103.2   0.0  digital counts   \n",
       "7           1.0         magnetic     13.2   0.0  digital counts   \n",
       "8           1.0         magnetic    103.2   0.0  digital counts   \n",
       "9           1.0         magnetic      0.0  90.0  digital counts   \n",
       "10          1.0         electric     13.2   0.0  digital counts   \n",
       "11          1.0         electric      0.0   0.0          counts   \n",
       "12          1.0         magnetic     13.2   0.0  digital counts   \n",
       "13          1.0         magnetic    103.2   0.0  digital counts   \n",
       "14          1.0         magnetic      0.0  90.0  digital counts   \n",
       "15          1.0         electric      0.0   0.0          counts   \n",
       "16          1.0         electric      0.0   0.0          counts   \n",
       "17          1.0         magnetic     13.2   0.0  digital counts   \n",
       "18          1.0         magnetic    103.2   0.0  digital counts   \n",
       "19          1.0         magnetic      0.0  90.0  digital counts   \n",
       "\n",
       "             hdf5_reference       run_hdf5_reference   station_hdf5_reference  \n",
       "0   <HDF5 object reference>  <HDF5 object reference>  <HDF5 object reference>  \n",
       "1   <HDF5 object reference>  <HDF5 object reference>  <HDF5 object reference>  \n",
       "2   <HDF5 object reference>  <HDF5 object reference>  <HDF5 object reference>  \n",
       "3   <HDF5 object reference>  <HDF5 object reference>  <HDF5 object reference>  \n",
       "4   <HDF5 object reference>  <HDF5 object reference>  <HDF5 object reference>  \n",
       "5   <HDF5 object reference>  <HDF5 object reference>  <HDF5 object reference>  \n",
       "6   <HDF5 object reference>  <HDF5 object reference>  <HDF5 object reference>  \n",
       "7   <HDF5 object reference>  <HDF5 object reference>  <HDF5 object reference>  \n",
       "8   <HDF5 object reference>  <HDF5 object reference>  <HDF5 object reference>  \n",
       "9   <HDF5 object reference>  <HDF5 object reference>  <HDF5 object reference>  \n",
       "10  <HDF5 object reference>  <HDF5 object reference>  <HDF5 object reference>  \n",
       "11  <HDF5 object reference>  <HDF5 object reference>  <HDF5 object reference>  \n",
       "12  <HDF5 object reference>  <HDF5 object reference>  <HDF5 object reference>  \n",
       "13  <HDF5 object reference>  <HDF5 object reference>  <HDF5 object reference>  \n",
       "14  <HDF5 object reference>  <HDF5 object reference>  <HDF5 object reference>  \n",
       "15  <HDF5 object reference>  <HDF5 object reference>  <HDF5 object reference>  \n",
       "16  <HDF5 object reference>  <HDF5 object reference>  <HDF5 object reference>  \n",
       "17  <HDF5 object reference>  <HDF5 object reference>  <HDF5 object reference>  \n",
       "18  <HDF5 object reference>  <HDF5 object reference>  <HDF5 object reference>  \n",
       "19  <HDF5 object reference>  <HDF5 object reference>  <HDF5 object reference>  "
      ]
     },
     "execution_count": 14,
     "metadata": {},
     "output_type": "execute_result"
    }
   ],
   "source": [
    "ch_summary"
   ]
  },
  {
   "cell_type": "code",
   "execution_count": 15,
   "metadata": {},
   "outputs": [],
   "source": [
    "available_runs = ch_summary.run.unique()\n",
    "sr = ch_summary.sample_rate.unique()\n",
    "if len(sr) != 1:\n",
    "    print('Only one sample rate per run is available')\n",
    "available_stations = ch_summary.station.unique()"
   ]
  },
  {
   "cell_type": "code",
   "execution_count": 16,
   "metadata": {},
   "outputs": [
    {
     "data": {
      "text/plain": [
       "1.0"
      ]
     },
     "execution_count": 16,
     "metadata": {},
     "output_type": "execute_result"
    }
   ],
   "source": [
    "sr[0]"
   ]
  },
  {
   "cell_type": "code",
   "execution_count": 17,
   "metadata": {
    "scrolled": true
   },
   "outputs": [
    {
     "data": {
      "text/plain": [
       "'CAS04'"
      ]
     },
     "execution_count": 17,
     "metadata": {},
     "output_type": "execute_result"
    }
   ],
   "source": [
    "available_stations[0]"
   ]
  },
  {
   "cell_type": "code",
   "execution_count": 18,
   "metadata": {},
   "outputs": [
    {
     "data": {
      "text/plain": [
       "/:\n",
       "====================\n",
       "    |- Group: Survey\n",
       "    ----------------\n",
       "        |- Group: Filters\n",
       "        -----------------\n",
       "            |- Group: coefficient\n",
       "            ---------------------\n",
       "                |- Group: electric_analog_to_digital\n",
       "                ------------------------------------\n",
       "                |- Group: electric_dipole_92.000\n",
       "                --------------------------------\n",
       "                |- Group: electric_si_units\n",
       "                ---------------------------\n",
       "                |- Group: magnetic_analog_to_digital\n",
       "                ------------------------------------\n",
       "            |- Group: fap\n",
       "            -------------\n",
       "            |- Group: fir\n",
       "            -------------\n",
       "            |- Group: time_delay\n",
       "            --------------------\n",
       "                |- Group: electric_time_offset\n",
       "                ------------------------------\n",
       "                |- Group: hx_time_offset\n",
       "                ------------------------\n",
       "                |- Group: hy_time_offset\n",
       "                ------------------------\n",
       "                |- Group: hz_time_offset\n",
       "                ------------------------\n",
       "            |- Group: zpk\n",
       "            -------------\n",
       "                |- Group: electric_butterworth_high_pass\n",
       "                ----------------------------------------\n",
       "                    --> Dataset: poles\n",
       "                    ....................\n",
       "                    --> Dataset: zeros\n",
       "                    ....................\n",
       "                |- Group: electric_butterworth_low_pass\n",
       "                ---------------------------------------\n",
       "                    --> Dataset: poles\n",
       "                    ....................\n",
       "                    --> Dataset: zeros\n",
       "                    ....................\n",
       "                |- Group: magnetic_butterworth_low_pass\n",
       "                ---------------------------------------\n",
       "                    --> Dataset: poles\n",
       "                    ....................\n",
       "                    --> Dataset: zeros\n",
       "                    ....................\n",
       "        |- Group: Reports\n",
       "        -----------------\n",
       "        |- Group: Standards\n",
       "        -------------------\n",
       "            --> Dataset: summary\n",
       "            ......................\n",
       "        |- Group: Stations\n",
       "        ------------------\n",
       "            |- Group: CAS04\n",
       "            ---------------\n",
       "                |- Group: Transfer_Functions\n",
       "                ----------------------------\n",
       "                |- Group: a\n",
       "                -----------\n",
       "                    --> Dataset: ex\n",
       "                    .................\n",
       "                    --> Dataset: ey\n",
       "                    .................\n",
       "                    --> Dataset: hx\n",
       "                    .................\n",
       "                    --> Dataset: hy\n",
       "                    .................\n",
       "                    --> Dataset: hz\n",
       "                    .................\n",
       "                |- Group: b\n",
       "                -----------\n",
       "                    --> Dataset: ex\n",
       "                    .................\n",
       "                    --> Dataset: ey\n",
       "                    .................\n",
       "                    --> Dataset: hx\n",
       "                    .................\n",
       "                    --> Dataset: hy\n",
       "                    .................\n",
       "                    --> Dataset: hz\n",
       "                    .................\n",
       "                |- Group: c\n",
       "                -----------\n",
       "                    --> Dataset: ex\n",
       "                    .................\n",
       "                    --> Dataset: ey\n",
       "                    .................\n",
       "                    --> Dataset: hx\n",
       "                    .................\n",
       "                    --> Dataset: hy\n",
       "                    .................\n",
       "                    --> Dataset: hz\n",
       "                    .................\n",
       "                |- Group: d\n",
       "                -----------\n",
       "                    --> Dataset: ex\n",
       "                    .................\n",
       "                    --> Dataset: ey\n",
       "                    .................\n",
       "                    --> Dataset: hx\n",
       "                    .................\n",
       "                    --> Dataset: hy\n",
       "                    .................\n",
       "                    --> Dataset: hz\n",
       "                    .................\n",
       "        --> Dataset: channel_summary\n",
       "        ..............................\n",
       "        --> Dataset: tf_summary\n",
       "        ........................."
      ]
     },
     "execution_count": 18,
     "metadata": {},
     "output_type": "execute_result"
    }
   ],
   "source": [
    "mth5_object"
   ]
  },
  {
   "cell_type": "markdown",
   "metadata": {},
   "source": [
    "### Generate an Aurora Configuration file using MTH5 as an input\n",
    "\n",
    "Up to this point, we have used mth5 and mt_metadata, but haven't yet used aurora. So we will use the MTH5 that we just created (and examined and updated) as input into Aurora.\n",
    "\n",
    "First, we get some fields from the MTH5 and input those into an aurora Configuration file and then save that json file."
   ]
  },
  {
   "cell_type": "code",
   "execution_count": 19,
   "metadata": {},
   "outputs": [],
   "source": [
    "station_id = available_stations[0]\n",
    "run_id = available_runs[0]\n",
    "sample_rate = sr[0]\n",
    "config_maker = ConfigCreator()\n",
    "config_path = config_maker.create_run_config(station_id, run_id, mth5_filename, sample_rate)\n"
   ]
  },
  {
   "cell_type": "code",
   "execution_count": 20,
   "metadata": {},
   "outputs": [
    {
     "data": {
      "text/plain": [
       "PosixPath('config/CAS04-a_run_config.json')"
      ]
     },
     "execution_count": 20,
     "metadata": {},
     "output_type": "execute_result"
    }
   ],
   "source": [
    "config_path"
   ]
  },
  {
   "cell_type": "markdown",
   "metadata": {},
   "source": [
    "Run the Aurora Pipeline using the input MTH5 and Confiugration File, outputting transfer functions."
   ]
  },
  {
   "cell_type": "code",
   "execution_count": 21,
   "metadata": {},
   "outputs": [],
   "source": [
    "show_plot='True'   # change to 'False' to omit plots"
   ]
  },
  {
   "cell_type": "code",
   "execution_count": 22,
   "metadata": {},
   "outputs": [
    {
     "name": "stdout",
     "output_type": "stream",
     "text": [
      "config indicates 4 decimation levels to process: [0, 1, 2, 3]\n"
     ]
    },
    {
     "name": "stderr",
     "output_type": "stream",
     "text": [
      "/Users/laura/IRIS_TOOLS/AURORA/aurora/aurora/pipelines/time_series_helpers.py:192: RuntimeWarning: invalid value encountered in true_divide\n",
      "  stft_obj[channel_id].data /= calibration_response\n"
     ]
    },
    {
     "name": "stdout",
     "output_type": "stream",
     "text": [
      "/Users/laura/IRIS_TOOLS/AURORA/aurora/aurora/config/emtf_band_setup/bs_test.cfg\n",
      "Processing band 25.728968s\n",
      "Processing band 19.929573s\n",
      "Processing band 15.164131s\n",
      "Processing band 11.746086s\n",
      "Processing band 9.195791s\n",
      "Processing band 7.362526s\n",
      "Processing band 5.856115s\n",
      "Processing band 4.682492s\n",
      "GET PLOTTER FROM MTpy\n",
      "OK, now ser linewidth and markersize\n"
     ]
    },
    {
     "data": {
      "image/png": "[encoded data removed]",
      "text/plain": [
       "<Figure size 432x288 with 2 Axes>"
      ]
     },
     "metadata": {
      "needs_background": "light"
     },
     "output_type": "display_data"
    },
    {
     "name": "stderr",
     "output_type": "stream",
     "text": [
      "/Users/laura/IRIS_TOOLS/AURORA/aurora/aurora/pipelines/time_series_helpers.py:192: RuntimeWarning: invalid value encountered in true_divide\n",
      "  stft_obj[channel_id].data /= calibration_response\n"
     ]
    },
    {
     "name": "stdout",
     "output_type": "stream",
     "text": [
      "/Users/laura/IRIS_TOOLS/AURORA/aurora/aurora/config/emtf_band_setup/bs_test.cfg\n",
      "Processing band 102.915872s\n",
      "Processing band 85.631182s\n",
      "Processing band 68.881694s\n",
      "Processing band 54.195827s\n",
      "Processing band 43.003958s\n",
      "Processing band 33.310722s\n",
      "GET PLOTTER FROM MTpy\n",
      "OK, now ser linewidth and markersize\n"
     ]
    },
    {
     "data": {
      "image/png": "[encoded data removed]",
      "text/plain": [
       "<Figure size 432x288 with 2 Axes>"
      ]
     },
     "metadata": {
      "needs_background": "light"
     },
     "output_type": "display_data"
    },
    {
     "name": "stderr",
     "output_type": "stream",
     "text": [
      "/Users/laura/IRIS_TOOLS/AURORA/aurora/aurora/pipelines/time_series_helpers.py:192: RuntimeWarning: invalid value encountered in true_divide\n",
      "  stft_obj[channel_id].data /= calibration_response\n"
     ]
    },
    {
     "name": "stdout",
     "output_type": "stream",
     "text": [
      "/Users/laura/IRIS_TOOLS/AURORA/aurora/aurora/config/emtf_band_setup/bs_test.cfg\n",
      "Processing band 411.663489s\n",
      "Processing band 342.524727s\n",
      "Processing band 275.526776s\n",
      "Processing band 216.783308s\n",
      "Processing band 172.015831s\n",
      "Processing band 133.242890s\n",
      "GET PLOTTER FROM MTpy\n",
      "OK, now ser linewidth and markersize\n"
     ]
    },
    {
     "data": {
      "image/png": "[encoded data removed]",
      "text/plain": [
       "<Figure size 432x288 with 2 Axes>"
      ]
     },
     "metadata": {
      "needs_background": "light"
     },
     "output_type": "display_data"
    },
    {
     "name": "stderr",
     "output_type": "stream",
     "text": [
      "/Users/laura/IRIS_TOOLS/AURORA/aurora/aurora/pipelines/time_series_helpers.py:192: RuntimeWarning: invalid value encountered in true_divide\n",
      "  stft_obj[channel_id].data /= calibration_response\n"
     ]
    },
    {
     "name": "stdout",
     "output_type": "stream",
     "text": [
      "/Users/laura/IRIS_TOOLS/AURORA/aurora/aurora/config/emtf_band_setup/bs_test.cfg\n",
      "Processing band 1514.701336s\n",
      "WARNING - Negative error variances observed\n",
      "[ 0.]\n",
      "Setting residual_variance to zero - Negative values observed\n",
      "WARNING - Negative error variances observed\n",
      "[ 0.]\n",
      "Setting residual_variance to zero - Negative values observed\n",
      "WARNING - Negative error variances observed\n",
      "[ -8.73114914e-11]\n",
      "Setting residual_variance to zero - Negative values observed\n",
      "WARNING - Negative error variances observed\n",
      "[ 0.]\n",
      "Setting residual_variance to zero - Negative values observed\n",
      "WARNING - Negative error variances observed\n",
      "[ 0.]\n",
      "Setting residual_variance to zero - Negative values observed\n",
      "WARNING - Negative error variances observed\n",
      "[ 0.]\n",
      "Setting residual_variance to zero - Negative values observed\n",
      "Processing band 1042.488956s\n"
     ]
    },
    {
     "name": "stderr",
     "output_type": "stream",
     "text": [
      "/Users/laura/IRIS_TOOLS/AURORA/aurora/aurora/transfer_function/regression/m_estimator.py:270: RuntimeWarning: divide by zero encountered in true_divide\n",
      "  r = np.abs(self.Y[:, k] - self.Y_hat[:, k]) / sigma\n",
      "/Users/laura/IRIS_TOOLS/AURORA/aurora/aurora/transfer_function/regression/m_estimator.py:279: RuntimeWarning: invalid value encountered in multiply\n",
      "  t = w * (1 + t)\n",
      "/Users/laura/IRIS_TOOLS/AURORA/aurora/aurora/transfer_function/regression/m_estimator.py:334: RuntimeWarning: divide by zero encountered in true_divide\n",
      "  cov_nn = inv_psi_prime2 @ SSR_clean / self.degrees_of_freedom\n",
      "/Users/laura/IRIS_TOOLS/AURORA/aurora/aurora/transfer_function/regression/m_estimator.py:334: RuntimeWarning: invalid value encountered in true_divide\n",
      "  cov_nn = inv_psi_prime2 @ SSR_clean / self.degrees_of_freedom\n",
      "/Users/laura/IRIS_TOOLS/AURORA/aurora/aurora/transfer_function/regression/m_estimator.py:334: RuntimeWarning: divide by zero encountered in true_divide\n",
      "  cov_nn = inv_psi_prime2 @ SSR_clean / self.degrees_of_freedom\n",
      "/Users/laura/IRIS_TOOLS/AURORA/aurora/aurora/transfer_function/regression/m_estimator.py:334: RuntimeWarning: invalid value encountered in true_divide\n",
      "  cov_nn = inv_psi_prime2 @ SSR_clean / self.degrees_of_freedom\n",
      "/Users/laura/IRIS_TOOLS/AURORA/aurora/aurora/transfer_function/regression/m_estimator.py:270: RuntimeWarning: divide by zero encountered in true_divide\n",
      "  r = np.abs(self.Y[:, k] - self.Y_hat[:, k]) / sigma\n",
      "/Users/laura/IRIS_TOOLS/AURORA/aurora/aurora/transfer_function/regression/m_estimator.py:279: RuntimeWarning: invalid value encountered in multiply\n",
      "  t = w * (1 + t)\n",
      "/Users/laura/IRIS_TOOLS/AURORA/aurora/aurora/transfer_function/regression/m_estimator.py:334: RuntimeWarning: divide by zero encountered in true_divide\n",
      "  cov_nn = inv_psi_prime2 @ SSR_clean / self.degrees_of_freedom\n",
      "/Users/laura/IRIS_TOOLS/AURORA/aurora/aurora/transfer_function/regression/m_estimator.py:334: RuntimeWarning: invalid value encountered in true_divide\n",
      "  cov_nn = inv_psi_prime2 @ SSR_clean / self.degrees_of_freedom\n"
     ]
    },
    {
     "name": "stdout",
     "output_type": "stream",
     "text": [
      "Processing band 723.371271s\n",
      "Processing band 532.971560s\n",
      "Processing band 412.837995s\n",
      "GET PLOTTER FROM MTpy\n",
      "OK, now ser linewidth and markersize\n"
     ]
    },
    {
     "data": {
      "image/png": "[encoded data removed]",
      "text/plain": [
       "<Figure size 432x288 with 2 Axes>"
      ]
     },
     "metadata": {
      "needs_background": "light"
     },
     "output_type": "display_data"
    },
    {
     "name": "stdout",
     "output_type": "stream",
     "text": [
      "['a']\n"
     ]
    },
    {
     "name": "stderr",
     "output_type": "stream",
     "text": [
      "/Users/laura/IRIS_TOOLS/AURORA/mt_metadata/mt_metadata/transfer_functions/core.py:828: RuntimeWarning: invalid value encountered in multiply\n",
      "  sigma_e.loc[dict(input=[\"ex\"], output=[\"ex\"])].data.flatten()\n",
      "/Users/laura/IRIS_TOOLS/AURORA/mt_metadata/mt_metadata/transfer_functions/core.py:832: RuntimeWarning: invalid value encountered in multiply\n",
      "  sigma_e.loc[dict(input=[\"ex\"], output=[\"ex\"])].data.flatten()\n",
      "/Users/laura/IRIS_TOOLS/AURORA/mt_metadata/mt_metadata/transfer_functions/core.py:836: RuntimeWarning: invalid value encountered in multiply\n",
      "  sigma_e.loc[dict(input=[\"ey\"], output=[\"ey\"])].data.flatten()\n",
      "/Users/laura/IRIS_TOOLS/AURORA/mt_metadata/mt_metadata/transfer_functions/core.py:840: RuntimeWarning: invalid value encountered in multiply\n",
      "  sigma_e.loc[dict(input=[\"ey\"], output=[\"ey\"])].data.flatten()\n",
      "/Users/laura/IRIS_TOOLS/AURORA/mt_metadata/mt_metadata/transfer_functions/core.py:870: RuntimeWarning: invalid value encountered in multiply\n",
      "  sigma_e.loc[dict(input=[\"hz\"], output=[\"hz\"])].data.flatten()\n",
      "/Users/laura/IRIS_TOOLS/AURORA/mt_metadata/mt_metadata/transfer_functions/core.py:874: RuntimeWarning: invalid value encountered in multiply\n",
      "  sigma_e.loc[dict(input=[\"hz\"], output=[\"hz\"])].data.flatten()\n"
     ]
    }
   ],
   "source": [
    "tf_cls = process_mth5_run(\n",
    "        config_path,\n",
    "        run_id,\n",
    "        mth5_path=mth5_filename,\n",
    "        units=\"MT\",\n",
    "        show_plot=show_plot,\n",
    "        z_file_path=None,\n",
    "        return_collection=False,\n",
    "    )"
   ]
  },
  {
   "cell_type": "code",
   "execution_count": 23,
   "metadata": {
    "scrolled": true
   },
   "outputs": [
    {
     "data": {
      "text/plain": [
       "mt_metadata.transfer_functions.core.TF"
      ]
     },
     "execution_count": 23,
     "metadata": {},
     "output_type": "execute_result"
    }
   ],
   "source": [
    "type(tf_cls)"
   ]
  },
  {
   "cell_type": "markdown",
   "metadata": {},
   "source": [
    "Write the transfer functions generated by the Aurora pipeline, showing examples of various output formats."
   ]
  },
  {
   "cell_type": "code",
   "execution_count": 24,
   "metadata": {
    "scrolled": false
   },
   "outputs": [
    {
     "name": "stderr",
     "output_type": "stream",
     "text": [
      "2022-05-20 16:05:57,711 [line 197] mt_metadata.transfer_functions.io.readwrite.write_file - INFO: Wrote emtfxml_test.xml\n"
     ]
    },
    {
     "data": {
      "text/plain": [
       "EMTFXML(station='CAS04', latitude=37.63, longitude=-121.47, elevation=329.39)"
      ]
     },
     "execution_count": 24,
     "metadata": {},
     "output_type": "execute_result"
    }
   ],
   "source": [
    "tf_cls.write_tf_file(fn=\"emtfxml_test.xml\", file_type=\"emtfxml\")"
   ]
  },
  {
   "cell_type": "code",
   "execution_count": 25,
   "metadata": {},
   "outputs": [
    {
     "name": "stderr",
     "output_type": "stream",
     "text": [
      "2022-05-20 16:05:58,177 [line 328] mt_metadata.base.metadata.define_measurement.write_measurement - INFO: No XMEAS information.\n",
      "2022-05-20 16:05:58,185 [line 197] mt_metadata.transfer_functions.io.readwrite.write_file - INFO: Wrote edi_test.edi\n",
      "2022-05-20 16:05:58,286 [line 133] mt_metadata.base.metadata.run.add_channel - ERROR: component cannot be empty\n"
     ]
    },
    {
     "ename": "ValueError",
     "evalue": "component cannot be empty",
     "output_type": "error",
     "traceback": [
      "\u001b[0;31m---------------------------------------------------------------------------\u001b[0m",
      "\u001b[0;31mValueError\u001b[0m                                Traceback (most recent call last)",
      "File \u001b[0;32m/Library/Frameworks/Python.framework/Versions/3.9/lib/python3.9/site-packages/IPython/core/formatters.py:707\u001b[0m, in \u001b[0;36mPlainTextFormatter.__call__\u001b[0;34m(self, obj)\u001b[0m\n\u001b[1;32m    700\u001b[0m stream \u001b[38;5;241m=\u001b[39m StringIO()\n\u001b[1;32m    701\u001b[0m printer \u001b[38;5;241m=\u001b[39m pretty\u001b[38;5;241m.\u001b[39mRepresentationPrinter(stream, \u001b[38;5;28mself\u001b[39m\u001b[38;5;241m.\u001b[39mverbose,\n\u001b[1;32m    702\u001b[0m     \u001b[38;5;28mself\u001b[39m\u001b[38;5;241m.\u001b[39mmax_width, \u001b[38;5;28mself\u001b[39m\u001b[38;5;241m.\u001b[39mnewline,\n\u001b[1;32m    703\u001b[0m     max_seq_length\u001b[38;5;241m=\u001b[39m\u001b[38;5;28mself\u001b[39m\u001b[38;5;241m.\u001b[39mmax_seq_length,\n\u001b[1;32m    704\u001b[0m     singleton_pprinters\u001b[38;5;241m=\u001b[39m\u001b[38;5;28mself\u001b[39m\u001b[38;5;241m.\u001b[39msingleton_printers,\n\u001b[1;32m    705\u001b[0m     type_pprinters\u001b[38;5;241m=\u001b[39m\u001b[38;5;28mself\u001b[39m\u001b[38;5;241m.\u001b[39mtype_printers,\n\u001b[1;32m    706\u001b[0m     deferred_pprinters\u001b[38;5;241m=\u001b[39m\u001b[38;5;28mself\u001b[39m\u001b[38;5;241m.\u001b[39mdeferred_printers)\n\u001b[0;32m--> 707\u001b[0m \u001b[43mprinter\u001b[49m\u001b[38;5;241;43m.\u001b[39;49m\u001b[43mpretty\u001b[49m\u001b[43m(\u001b[49m\u001b[43mobj\u001b[49m\u001b[43m)\u001b[49m\n\u001b[1;32m    708\u001b[0m printer\u001b[38;5;241m.\u001b[39mflush()\n\u001b[1;32m    709\u001b[0m \u001b[38;5;28;01mreturn\u001b[39;00m stream\u001b[38;5;241m.\u001b[39mgetvalue()\n",
      "File \u001b[0;32m/Library/Frameworks/Python.framework/Versions/3.9/lib/python3.9/site-packages/IPython/lib/pretty.py:410\u001b[0m, in \u001b[0;36mRepresentationPrinter.pretty\u001b[0;34m(self, obj)\u001b[0m\n\u001b[1;32m    407\u001b[0m                         \u001b[38;5;28;01mreturn\u001b[39;00m meth(obj, \u001b[38;5;28mself\u001b[39m, cycle)\n\u001b[1;32m    408\u001b[0m                 \u001b[38;5;28;01mif\u001b[39;00m \u001b[38;5;28mcls\u001b[39m \u001b[38;5;129;01mis\u001b[39;00m \u001b[38;5;129;01mnot\u001b[39;00m \u001b[38;5;28mobject\u001b[39m \\\n\u001b[1;32m    409\u001b[0m                         \u001b[38;5;129;01mand\u001b[39;00m callable(\u001b[38;5;28mcls\u001b[39m\u001b[38;5;241m.\u001b[39m\u001b[38;5;18m__dict__\u001b[39m\u001b[38;5;241m.\u001b[39mget(\u001b[38;5;124m'\u001b[39m\u001b[38;5;124m__repr__\u001b[39m\u001b[38;5;124m'\u001b[39m)):\n\u001b[0;32m--> 410\u001b[0m                     \u001b[38;5;28;01mreturn\u001b[39;00m \u001b[43m_repr_pprint\u001b[49m\u001b[43m(\u001b[49m\u001b[43mobj\u001b[49m\u001b[43m,\u001b[49m\u001b[43m \u001b[49m\u001b[38;5;28;43mself\u001b[39;49m\u001b[43m,\u001b[49m\u001b[43m \u001b[49m\u001b[43mcycle\u001b[49m\u001b[43m)\u001b[49m\n\u001b[1;32m    412\u001b[0m     \u001b[38;5;28;01mreturn\u001b[39;00m _default_pprint(obj, \u001b[38;5;28mself\u001b[39m, cycle)\n\u001b[1;32m    413\u001b[0m \u001b[38;5;28;01mfinally\u001b[39;00m:\n",
      "File \u001b[0;32m/Library/Frameworks/Python.framework/Versions/3.9/lib/python3.9/site-packages/IPython/lib/pretty.py:778\u001b[0m, in \u001b[0;36m_repr_pprint\u001b[0;34m(obj, p, cycle)\u001b[0m\n\u001b[1;32m    776\u001b[0m \u001b[38;5;124;03m\"\"\"A pprint that just redirects to the normal repr function.\"\"\"\u001b[39;00m\n\u001b[1;32m    777\u001b[0m \u001b[38;5;66;03m# Find newlines and replace them with p.break_()\u001b[39;00m\n\u001b[0;32m--> 778\u001b[0m output \u001b[38;5;241m=\u001b[39m \u001b[38;5;28;43mrepr\u001b[39;49m\u001b[43m(\u001b[49m\u001b[43mobj\u001b[49m\u001b[43m)\u001b[49m\n\u001b[1;32m    779\u001b[0m lines \u001b[38;5;241m=\u001b[39m output\u001b[38;5;241m.\u001b[39msplitlines()\n\u001b[1;32m    780\u001b[0m \u001b[38;5;28;01mwith\u001b[39;00m p\u001b[38;5;241m.\u001b[39mgroup():\n",
      "File \u001b[0;32m~/IRIS_TOOLS/AURORA/mt_metadata/mt_metadata/transfer_functions/io/edi/edi.py:188\u001b[0m, in \u001b[0;36mEDI.__repr__\u001b[0;34m(self)\u001b[0m\n\u001b[1;32m    187\u001b[0m \u001b[38;5;28;01mdef\u001b[39;00m \u001b[38;5;21m__repr__\u001b[39m(\u001b[38;5;28mself\u001b[39m):\n\u001b[0;32m--> 188\u001b[0m     \u001b[38;5;28;01mreturn\u001b[39;00m \u001b[38;5;28;43mself\u001b[39;49m\u001b[38;5;241;43m.\u001b[39;49m\u001b[38;5;21;43m__str__\u001b[39;49m\u001b[43m(\u001b[49m\u001b[43m)\u001b[49m\n",
      "File \u001b[0;32m~/IRIS_TOOLS/AURORA/mt_metadata/mt_metadata/transfer_functions/io/edi/edi.py:164\u001b[0m, in \u001b[0;36mEDI.__str__\u001b[0;34m(self)\u001b[0m\n\u001b[1;32m    162\u001b[0m lines\u001b[38;5;241m.\u001b[39mappend(\u001b[38;5;124mf\u001b[39m\u001b[38;5;124m\"\u001b[39m\u001b[38;5;130;01m\\t\u001b[39;00m\u001b[38;5;124mSurvey:        \u001b[39m\u001b[38;5;132;01m{\u001b[39;00m\u001b[38;5;28mself\u001b[39m\u001b[38;5;241m.\u001b[39msurvey_metadata\u001b[38;5;241m.\u001b[39mid\u001b[38;5;132;01m}\u001b[39;00m\u001b[38;5;124m\"\u001b[39m)\n\u001b[1;32m    163\u001b[0m lines\u001b[38;5;241m.\u001b[39mappend(\u001b[38;5;124mf\u001b[39m\u001b[38;5;124m\"\u001b[39m\u001b[38;5;130;01m\\t\u001b[39;00m\u001b[38;5;124mProject:       \u001b[39m\u001b[38;5;132;01m{\u001b[39;00m\u001b[38;5;28mself\u001b[39m\u001b[38;5;241m.\u001b[39msurvey_metadata\u001b[38;5;241m.\u001b[39mproject\u001b[38;5;132;01m}\u001b[39;00m\u001b[38;5;124m\"\u001b[39m)\n\u001b[0;32m--> 164\u001b[0m lines\u001b[38;5;241m.\u001b[39mappend(\u001b[38;5;124mf\u001b[39m\u001b[38;5;124m\"\u001b[39m\u001b[38;5;130;01m\\t\u001b[39;00m\u001b[38;5;124mAcquired by:   \u001b[39m\u001b[38;5;132;01m{\u001b[39;00m\u001b[38;5;28mself\u001b[39m\u001b[38;5;241m.\u001b[39mstation_metadata\u001b[38;5;241m.\u001b[39macquired_by\u001b[38;5;241m.\u001b[39mname\u001b[38;5;132;01m}\u001b[39;00m\u001b[38;5;124m\"\u001b[39m)\n\u001b[1;32m    165\u001b[0m lines\u001b[38;5;241m.\u001b[39mappend(\u001b[38;5;124mf\u001b[39m\u001b[38;5;124m\"\u001b[39m\u001b[38;5;130;01m\\t\u001b[39;00m\u001b[38;5;124mAcquired date: \u001b[39m\u001b[38;5;132;01m{\u001b[39;00m\u001b[38;5;28mself\u001b[39m\u001b[38;5;241m.\u001b[39mstation_metadata\u001b[38;5;241m.\u001b[39mtime_period\u001b[38;5;241m.\u001b[39mstart_date\u001b[38;5;132;01m}\u001b[39;00m\u001b[38;5;124m\"\u001b[39m)\n\u001b[1;32m    166\u001b[0m lines\u001b[38;5;241m.\u001b[39mappend(\u001b[38;5;124mf\u001b[39m\u001b[38;5;124m\"\u001b[39m\u001b[38;5;130;01m\\t\u001b[39;00m\u001b[38;5;124mLatitude:      \u001b[39m\u001b[38;5;132;01m{\u001b[39;00m\u001b[38;5;28mself\u001b[39m\u001b[38;5;241m.\u001b[39mstation_metadata\u001b[38;5;241m.\u001b[39mlocation\u001b[38;5;241m.\u001b[39mlatitude\u001b[38;5;132;01m:\u001b[39;00m\u001b[38;5;124m.3f\u001b[39m\u001b[38;5;132;01m}\u001b[39;00m\u001b[38;5;124m\"\u001b[39m)\n",
      "File \u001b[0;32m~/IRIS_TOOLS/AURORA/mt_metadata/mt_metadata/transfer_functions/io/edi/edi.py:1035\u001b[0m, in \u001b[0;36mEDI.station_metadata\u001b[0;34m(self)\u001b[0m\n\u001b[1;32m   1033\u001b[0m \u001b[38;5;28;01mif\u001b[39;00m rr\u001b[38;5;241m.\u001b[39mtime_period\u001b[38;5;241m.\u001b[39mend \u001b[38;5;241m==\u001b[39m \u001b[38;5;124m\"\u001b[39m\u001b[38;5;124m1980-01-01T00:00:00+00:00\u001b[39m\u001b[38;5;124m\"\u001b[39m:\n\u001b[1;32m   1034\u001b[0m     rr\u001b[38;5;241m.\u001b[39mtime_period\u001b[38;5;241m.\u001b[39mend \u001b[38;5;241m=\u001b[39m sm\u001b[38;5;241m.\u001b[39mtime_period\u001b[38;5;241m.\u001b[39mend\n\u001b[0;32m-> 1035\u001b[0m rr\u001b[38;5;241m.\u001b[39mex \u001b[38;5;241m=\u001b[39m \u001b[38;5;28mself\u001b[39m\u001b[38;5;241m.\u001b[39mex_metadata\n\u001b[1;32m   1036\u001b[0m rr\u001b[38;5;241m.\u001b[39mey \u001b[38;5;241m=\u001b[39m \u001b[38;5;28mself\u001b[39m\u001b[38;5;241m.\u001b[39mey_metadata\n\u001b[1;32m   1037\u001b[0m rr\u001b[38;5;241m.\u001b[39mhx \u001b[38;5;241m=\u001b[39m \u001b[38;5;28mself\u001b[39m\u001b[38;5;241m.\u001b[39mhx_metadata\n",
      "File \u001b[0;32m~/IRIS_TOOLS/AURORA/mt_metadata/mt_metadata/base/metadata.py:344\u001b[0m, in \u001b[0;36mBase.__setattr__\u001b[0;34m(self, name, value)\u001b[0m\n\u001b[1;32m    342\u001b[0m     \u001b[38;5;28;01mif\u001b[39;00m \u001b[38;5;28misinstance\u001b[39m(test_property, \u001b[38;5;28mproperty\u001b[39m):\n\u001b[1;32m    343\u001b[0m         \u001b[38;5;28mself\u001b[39m\u001b[38;5;241m.\u001b[39mlogger\u001b[38;5;241m.\u001b[39mdebug(\u001b[38;5;124m\"\u001b[39m\u001b[38;5;124mIdentified \u001b[39m\u001b[38;5;132;01m%s\u001b[39;00m\u001b[38;5;124m as property, using fset\u001b[39m\u001b[38;5;124m\"\u001b[39m, name)\n\u001b[0;32m--> 344\u001b[0m         \u001b[43mtest_property\u001b[49m\u001b[38;5;241;43m.\u001b[39;49m\u001b[43mfset\u001b[49m\u001b[43m(\u001b[49m\u001b[38;5;28;43mself\u001b[39;49m\u001b[43m,\u001b[49m\u001b[43m \u001b[49m\u001b[43mvalue\u001b[49m\u001b[43m)\u001b[49m\n\u001b[1;32m    345\u001b[0m         \u001b[38;5;28;01mreturn\u001b[39;00m\n\u001b[1;32m    346\u001b[0m \u001b[38;5;28;01mexcept\u001b[39;00m \u001b[38;5;167;01mAttributeError\u001b[39;00m:\n",
      "File \u001b[0;32m~/IRIS_TOOLS/AURORA/mt_metadata/mt_metadata/timeseries/run.py:291\u001b[0m, in \u001b[0;36mRun.ex\u001b[0;34m(self, value)\u001b[0m\n\u001b[1;32m    289\u001b[0m \u001b[38;5;129m@ex\u001b[39m\u001b[38;5;241m.\u001b[39msetter\n\u001b[1;32m    290\u001b[0m \u001b[38;5;28;01mdef\u001b[39;00m \u001b[38;5;21mex\u001b[39m(\u001b[38;5;28mself\u001b[39m, value):\n\u001b[0;32m--> 291\u001b[0m     \u001b[38;5;28;43mself\u001b[39;49m\u001b[38;5;241;43m.\u001b[39;49m\u001b[43madd_channel\u001b[49m\u001b[43m(\u001b[49m\u001b[43mvalue\u001b[49m\u001b[43m)\u001b[49m\n",
      "File \u001b[0;32m~/IRIS_TOOLS/AURORA/mt_metadata/mt_metadata/timeseries/run.py:134\u001b[0m, in \u001b[0;36mRun.add_channel\u001b[0;34m(self, channel_obj)\u001b[0m\n\u001b[1;32m    132\u001b[0m     msg \u001b[38;5;241m=\u001b[39m \u001b[38;5;124m\"\u001b[39m\u001b[38;5;124mcomponent cannot be empty\u001b[39m\u001b[38;5;124m\"\u001b[39m\n\u001b[1;32m    133\u001b[0m     \u001b[38;5;28mself\u001b[39m\u001b[38;5;241m.\u001b[39mlogger\u001b[38;5;241m.\u001b[39merror(msg)\n\u001b[0;32m--> 134\u001b[0m     \u001b[38;5;28;01mraise\u001b[39;00m \u001b[38;5;167;01mValueError\u001b[39;00m(msg)\n\u001b[1;32m    136\u001b[0m index \u001b[38;5;241m=\u001b[39m \u001b[38;5;28mself\u001b[39m\u001b[38;5;241m.\u001b[39mchannel_index(channel_obj\u001b[38;5;241m.\u001b[39mcomponent)\n\u001b[1;32m    137\u001b[0m \u001b[38;5;28;01mif\u001b[39;00m index \u001b[38;5;129;01mis\u001b[39;00m \u001b[38;5;129;01mnot\u001b[39;00m \u001b[38;5;28;01mNone\u001b[39;00m:\n",
      "\u001b[0;31mValueError\u001b[0m: component cannot be empty"
     ]
    }
   ],
   "source": [
    "tf_cls.write_tf_file(fn=\"edi_test.edi\", file_type=\"edi\")"
   ]
  },
  {
   "cell_type": "code",
   "execution_count": 26,
   "metadata": {},
   "outputs": [
    {
     "name": "stderr",
     "output_type": "stream",
     "text": [
      "2022-05-20 16:06:01,208 [line 232] mt_metadata.transfer_functions.io.zfiles.zmm.ZMM.write_header - WARNING: Could not find hx\n",
      "2022-05-20 16:06:01,212 [line 232] mt_metadata.transfer_functions.io.zfiles.zmm.ZMM.write_header - WARNING: Could not find hy\n",
      "2022-05-20 16:06:01,217 [line 232] mt_metadata.transfer_functions.io.zfiles.zmm.ZMM.write_header - WARNING: Could not find hz\n",
      "2022-05-20 16:06:01,220 [line 232] mt_metadata.transfer_functions.io.zfiles.zmm.ZMM.write_header - WARNING: Could not find ex\n",
      "2022-05-20 16:06:01,226 [line 232] mt_metadata.transfer_functions.io.zfiles.zmm.ZMM.write_header - WARNING: Could not find ey\n",
      "2022-05-20 16:06:01,254 [line 197] mt_metadata.transfer_functions.io.readwrite.write_file - INFO: Wrote zmm_test.zmm\n"
     ]
    },
    {
     "data": {
      "text/plain": [
       "MT( station='CAS04', latitude=37.63, longitude=-121.47, elevation=329.39 )"
      ]
     },
     "execution_count": 26,
     "metadata": {},
     "output_type": "execute_result"
    }
   ],
   "source": [
    "tf_cls.write_tf_file(fn=\"zmm_test.zmm\", file_type=\"zmm\")"
   ]
  },
  {
   "cell_type": "code",
   "execution_count": null,
   "metadata": {},
   "outputs": [],
   "source": []
  }
 ],
 "metadata": {
  "kernelspec": {
   "display_name": "Python 3 (ipykernel)",
   "language": "python",
   "name": "python3"
  },
  "language_info": {
   "codemirror_mode": {
    "name": "ipython",
    "version": 3
   },
   "file_extension": ".py",
   "mimetype": "text/x-python",
   "name": "python",
   "nbconvert_exporter": "python",
   "pygments_lexer": "ipython3",
   "version": "3.9.2"
  }
 },
 "nbformat": 4,
 "nbformat_minor": 2
}
