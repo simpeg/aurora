{
 "cells": [
  {
   "cell_type": "markdown",
   "id": "4831226b-6033-4b15-a120-d2ef9b81f686",
   "metadata": {},
   "source": [
    "Here is a notebook that shows you how to build some simple mth5 files from one staiton.\n",
    "\n",
    "Multistation archives are very similar and will be addressed in another ipynb.\n",
    "\n",
    "In this case we focus on station \"CAS04\".  This example is being ported from \n",
    "aurora/tests/cas04/01_make_cas04_mth5.py"
   ]
  },
  {
   "cell_type": "code",
   "execution_count": null,
   "id": "de17e6fa-7084-4fff-86e6-05c1ff3120e1",
   "metadata": {},
   "outputs": [],
   "source": []
  },
  {
   "cell_type": "code",
   "execution_count": 18,
   "id": "95ae061a-dc05-471b-a88c-4aaaef4ddc50",
   "metadata": {},
   "outputs": [],
   "source": [
    "#Imports\n",
    "import pandas as pd\n",
    "from aurora.sandbox.mth5_channel_summary_helpers import channel_summary_to_make_mth5\n",
    "from mth5.clients.make_mth5 import MakeMTH5\n",
    "from mth5.utils.helpers import initialize_mth5\n",
    "from mth5.utils.helpers import read_back_data\n",
    "from mt_metadata.timeseries.stationxml import XMLInventoryMTExperiment"
   ]
  },
  {
   "cell_type": "code",
   "execution_count": 2,
   "id": "d5c3fc25-fb66-4d80-8e76-c9a23f2054c2",
   "metadata": {},
   "outputs": [],
   "source": [
    "import logging, sys\n",
    "logging.disable(sys.maxsize)\n"
   ]
  },
  {
   "cell_type": "code",
   "execution_count": 3,
   "id": "d35609fa-a0e4-4341-8ae6-dc405b7ac55d",
   "metadata": {},
   "outputs": [],
   "source": [
    "#placeholder for controlling which acquistions runs to request\n",
    "#Leave it empty to get all of them\n",
    "active_runs = []\n",
    "#active_runs = [\"a\",]\n",
    "#active_runs = [\"b\", \"c\", \"d\"]\n"
   ]
  },
  {
   "cell_type": "code",
   "execution_count": 4,
   "id": "6cdd52ef-ff27-4ef1-a312-66f51f4bef80",
   "metadata": {},
   "outputs": [],
   "source": [
    "maker = MakeMTH5(mth5_version=\"0.1.0\")\n",
    "maker.client = \"IRIS\""
   ]
  },
  {
   "cell_type": "code",
   "execution_count": 10,
   "id": "41836d26-7e7d-4963-867e-af00a791d5c8",
   "metadata": {},
   "outputs": [
    {
     "name": "stdout",
     "output_type": "stream",
     "text": [
      "Request List \n",
      " [['8P', 'CAS04', '', 'LQE', '2020-06-02T19:00:00', '2020-07-13T19:00:00'], ['8P', 'CAS04', '', 'LQN', '2020-06-02T19:00:00', '2020-07-13T19:00:00'], ['8P', 'CAS04', '', 'LFE', '2020-06-02T19:00:00', '2020-07-13T19:00:00'], ['8P', 'CAS04', '', 'LFN', '2020-06-02T19:00:00', '2020-07-13T19:00:00'], ['8P', 'CAS04', '', 'LFZ', '2020-06-02T19:00:00', '2020-07-13T19:00:00']]\n",
      "\n",
      "\n",
      " metadata_request_df \n",
      "   network station location channel                start                  end\n",
      "0      8P   CAS04              LQE  2020-06-02T19:00:00  2020-07-13T19:00:00\n",
      "1      8P   CAS04              LQN  2020-06-02T19:00:00  2020-07-13T19:00:00\n",
      "2      8P   CAS04              LFE  2020-06-02T19:00:00  2020-07-13T19:00:00\n",
      "3      8P   CAS04              LFN  2020-06-02T19:00:00  2020-07-13T19:00:00\n",
      "4      8P   CAS04              LFZ  2020-06-02T19:00:00  2020-07-13T19:00:00\n"
     ]
    }
   ],
   "source": [
    "# Generate data frame of FDSN\n",
    "# Network, Station, Location, Channel, Startime, Endtime codes of interest\n",
    "network = \"8P\"\n",
    "station = \"CAS04\"\n",
    "channels = [\"LQE\", \"LQN\", \"LFE\", \"LFN\", \"LFZ\", ]\n",
    "start = \"2020-06-02T19:00:00\"\n",
    "end = \"2020-07-13T19:00:00\"\n",
    "\n",
    "request_list = []\n",
    "for channel in channels:\n",
    "    request = [network, station, \"\", channel, start, end]\n",
    "    request_list.append(request)\n",
    "\n",
    "print(f\"Request List \\n {request_list}\")\n",
    "\n",
    "# Turn list into dataframe\n",
    "metadata_request_df = pd.DataFrame(request_list, columns=maker.column_names)\n",
    "print(f\"\\n\\n metadata_request_df \\n {metadata_request_df}\")\n"
   ]
  },
  {
   "cell_type": "code",
   "execution_count": 11,
   "id": "1b773d4f-4891-4571-b753-b28d2a8eb9c8",
   "metadata": {},
   "outputs": [],
   "source": [
    "# Request the inventory information from IRIS\n",
    "inventory, traces = maker.get_inventory_from_df(metadata_request_df, data=False)\n",
    "translator = XMLInventoryMTExperiment()\n",
    "experiment = translator.xml_to_mt(inventory_object=inventory)\n"
   ]
  },
  {
   "cell_type": "code",
   "execution_count": 12,
   "id": "8cc2a369-a1bd-499d-b6b5-b306433b2807",
   "metadata": {},
   "outputs": [],
   "source": [
    "h5_path = \"tmp.h5\"\n",
    "mth5_obj = initialize_mth5(h5_path)  # mode=\"a\")\n",
    "mth5_obj.from_experiment(experiment)\n",
    "mth5_obj.channel_summary.summarize()\n",
    "\n",
    "summary_df = mth5_obj.channel_summary.to_dataframe()"
   ]
  },
  {
   "cell_type": "code",
   "execution_count": 13,
   "id": "6ae30e9b-5b76-47ca-9af9-9aa84681fb00",
   "metadata": {},
   "outputs": [
    {
     "name": "stdout",
     "output_type": "stream",
     "text": [
      "         survey station run   latitude   longitude  elevation component  \\\n",
      "0   CONUS South   CAS04   a  37.633351 -121.468382   329.3875        ex   \n",
      "1   CONUS South   CAS04   a  37.633351 -121.468382   329.3875        ey   \n",
      "2   CONUS South   CAS04   a  37.633351 -121.468382   329.3875        hx   \n",
      "3   CONUS South   CAS04   a  37.633351 -121.468382   329.3875        hy   \n",
      "4   CONUS South   CAS04   a  37.633351 -121.468382   329.3875        hz   \n",
      "5   CONUS South   CAS04   b  37.633351 -121.468382   329.3875        ex   \n",
      "6   CONUS South   CAS04   b  37.633351 -121.468382   329.3875        ey   \n",
      "7   CONUS South   CAS04   b  37.633351 -121.468382   329.3875        hx   \n",
      "8   CONUS South   CAS04   b  37.633351 -121.468382   329.3875        hy   \n",
      "9   CONUS South   CAS04   b  37.633351 -121.468382   329.3875        hz   \n",
      "10  CONUS South   CAS04   c  37.633351 -121.468382   329.3875        ex   \n",
      "11  CONUS South   CAS04   c  37.633351 -121.468382   329.3875        ey   \n",
      "12  CONUS South   CAS04   c  37.633351 -121.468382   329.3875        hx   \n",
      "13  CONUS South   CAS04   c  37.633351 -121.468382   329.3875        hy   \n",
      "14  CONUS South   CAS04   c  37.633351 -121.468382   329.3875        hz   \n",
      "15  CONUS South   CAS04   d  37.633351 -121.468382   329.3875        ex   \n",
      "16  CONUS South   CAS04   d  37.633351 -121.468382   329.3875        ey   \n",
      "17  CONUS South   CAS04   d  37.633351 -121.468382   329.3875        hx   \n",
      "18  CONUS South   CAS04   d  37.633351 -121.468382   329.3875        hy   \n",
      "19  CONUS South   CAS04   d  37.633351 -121.468382   329.3875        hz   \n",
      "\n",
      "                       start                       end  n_samples  \\\n",
      "0  2020-06-02 18:41:43+00:00 2020-06-02 22:07:46+00:00      12363   \n",
      "1  2020-06-02 18:41:43+00:00 2020-06-02 22:07:46+00:00      12363   \n",
      "2  2020-06-02 18:41:43+00:00 2020-06-02 22:07:46+00:00      12363   \n",
      "3  2020-06-02 18:41:43+00:00 2020-06-02 22:07:46+00:00      12363   \n",
      "4  2020-06-02 18:41:43+00:00 2020-06-02 22:07:46+00:00      12363   \n",
      "5  2020-06-02 22:24:55+00:00 2020-06-12 17:52:23+00:00     847648   \n",
      "6  2020-06-02 22:24:55+00:00 2020-06-12 17:52:23+00:00     847648   \n",
      "7  2020-06-02 22:24:55+00:00 2020-06-12 17:52:23+00:00     847648   \n",
      "8  2020-06-02 22:24:55+00:00 2020-06-12 17:52:23+00:00     847648   \n",
      "9  2020-06-02 22:24:55+00:00 2020-06-12 17:52:23+00:00     847648   \n",
      "10 2020-06-12 18:32:17+00:00 2020-07-01 17:32:59+00:00    1638042   \n",
      "11 2020-06-12 18:32:17+00:00 2020-07-01 17:32:59+00:00    1638042   \n",
      "12 2020-06-12 18:32:17+00:00 2020-07-01 17:32:59+00:00    1638042   \n",
      "13 2020-06-12 18:32:17+00:00 2020-07-01 17:32:59+00:00    1638042   \n",
      "14 2020-06-12 18:32:17+00:00 2020-07-01 17:32:59+00:00    1638042   \n",
      "15 2020-07-01 19:36:55+00:00 2020-07-13 21:46:12+00:00    1044557   \n",
      "16 2020-07-01 19:36:55+00:00 2020-07-13 21:46:12+00:00    1044557   \n",
      "17 2020-07-01 19:36:55+00:00 2020-07-13 21:46:12+00:00    1044557   \n",
      "18 2020-07-01 19:36:55+00:00 2020-07-13 21:46:12+00:00    1044557   \n",
      "19 2020-07-01 19:36:55+00:00 2020-07-13 21:46:12+00:00    1044557   \n",
      "\n",
      "    sample_rate measurement_type  azimuth  tilt           units  \\\n",
      "0           1.0         electric     13.2   0.0  digital counts   \n",
      "1           1.0         electric    103.2   0.0  digital counts   \n",
      "2           1.0         magnetic     13.2   0.0  digital counts   \n",
      "3           1.0         magnetic    103.2   0.0  digital counts   \n",
      "4           1.0         magnetic      0.0  90.0  digital counts   \n",
      "5           1.0         electric     13.2   0.0  digital counts   \n",
      "6           1.0         electric    103.2   0.0  digital counts   \n",
      "7           1.0         magnetic     13.2   0.0  digital counts   \n",
      "8           1.0         magnetic    103.2   0.0  digital counts   \n",
      "9           1.0         magnetic      0.0  90.0  digital counts   \n",
      "10          1.0         electric     13.2   0.0  digital counts   \n",
      "11          1.0         electric    103.2   0.0  digital counts   \n",
      "12          1.0         magnetic     13.2   0.0  digital counts   \n",
      "13          1.0         magnetic    103.2   0.0  digital counts   \n",
      "14          1.0         magnetic      0.0  90.0  digital counts   \n",
      "15          1.0         electric     13.2   0.0  digital counts   \n",
      "16          1.0         electric    103.2   0.0  digital counts   \n",
      "17          1.0         magnetic     13.2   0.0  digital counts   \n",
      "18          1.0         magnetic    103.2   0.0  digital counts   \n",
      "19          1.0         magnetic      0.0  90.0  digital counts   \n",
      "\n",
      "             hdf5_reference       run_hdf5_reference   station_hdf5_reference  \n",
      "0   <HDF5 object reference>  <HDF5 object reference>  <HDF5 object reference>  \n",
      "1   <HDF5 object reference>  <HDF5 object reference>  <HDF5 object reference>  \n",
      "2   <HDF5 object reference>  <HDF5 object reference>  <HDF5 object reference>  \n",
      "3   <HDF5 object reference>  <HDF5 object reference>  <HDF5 object reference>  \n",
      "4   <HDF5 object reference>  <HDF5 object reference>  <HDF5 object reference>  \n",
      "5   <HDF5 object reference>  <HDF5 object reference>  <HDF5 object reference>  \n",
      "6   <HDF5 object reference>  <HDF5 object reference>  <HDF5 object reference>  \n",
      "7   <HDF5 object reference>  <HDF5 object reference>  <HDF5 object reference>  \n",
      "8   <HDF5 object reference>  <HDF5 object reference>  <HDF5 object reference>  \n",
      "9   <HDF5 object reference>  <HDF5 object reference>  <HDF5 object reference>  \n",
      "10  <HDF5 object reference>  <HDF5 object reference>  <HDF5 object reference>  \n",
      "11  <HDF5 object reference>  <HDF5 object reference>  <HDF5 object reference>  \n",
      "12  <HDF5 object reference>  <HDF5 object reference>  <HDF5 object reference>  \n",
      "13  <HDF5 object reference>  <HDF5 object reference>  <HDF5 object reference>  \n",
      "14  <HDF5 object reference>  <HDF5 object reference>  <HDF5 object reference>  \n",
      "15  <HDF5 object reference>  <HDF5 object reference>  <HDF5 object reference>  \n",
      "16  <HDF5 object reference>  <HDF5 object reference>  <HDF5 object reference>  \n",
      "17  <HDF5 object reference>  <HDF5 object reference>  <HDF5 object reference>  \n",
      "18  <HDF5 object reference>  <HDF5 object reference>  <HDF5 object reference>  \n",
      "19  <HDF5 object reference>  <HDF5 object reference>  <HDF5 object reference>  \n"
     ]
    }
   ],
   "source": [
    "print(summary_df)"
   ]
  },
  {
   "cell_type": "code",
   "execution_count": 14,
   "id": "0f47aa60-d86f-43a6-aa91-889744204187",
   "metadata": {},
   "outputs": [
    {
     "name": "stdout",
     "output_type": "stream",
     "text": [
      "('CAS04', 'a'), from 2020-06-02 18:41:43+00:00, to 2020-06-02 22:07:46+00:00\n",
      "('CAS04', 'b'), from 2020-06-02 22:24:55+00:00, to 2020-06-12 17:52:23+00:00\n",
      "('CAS04', 'c'), from 2020-06-12 18:32:17+00:00, to 2020-07-01 17:32:59+00:00\n",
      "('CAS04', 'd'), from 2020-07-01 19:36:55+00:00, to 2020-07-13 21:46:12+00:00\n",
      "\n",
      "\n",
      "    network station location channel                     start  \\\n",
      "0       8P   CAS04              LQN 2020-06-02 18:41:43+00:00   \n",
      "1       8P   CAS04              LQE 2020-06-02 18:41:43+00:00   \n",
      "2       8P   CAS04              LFN 2020-06-02 18:41:43+00:00   \n",
      "3       8P   CAS04              LFE 2020-06-02 18:41:43+00:00   \n",
      "4       8P   CAS04              LFZ 2020-06-02 18:41:43+00:00   \n",
      "5       8P   CAS04              LQN 2020-06-02 22:24:55+00:00   \n",
      "6       8P   CAS04              LQE 2020-06-02 22:24:55+00:00   \n",
      "7       8P   CAS04              LFN 2020-06-02 22:24:55+00:00   \n",
      "8       8P   CAS04              LFE 2020-06-02 22:24:55+00:00   \n",
      "9       8P   CAS04              LFZ 2020-06-02 22:24:55+00:00   \n",
      "10      8P   CAS04              LQN 2020-06-12 18:32:17+00:00   \n",
      "11      8P   CAS04              LQE 2020-06-12 18:32:17+00:00   \n",
      "12      8P   CAS04              LFN 2020-06-12 18:32:17+00:00   \n",
      "13      8P   CAS04              LFE 2020-06-12 18:32:17+00:00   \n",
      "14      8P   CAS04              LFZ 2020-06-12 18:32:17+00:00   \n",
      "15      8P   CAS04              LQN 2020-07-01 19:36:55+00:00   \n",
      "16      8P   CAS04              LQE 2020-07-01 19:36:55+00:00   \n",
      "17      8P   CAS04              LFN 2020-07-01 19:36:55+00:00   \n",
      "18      8P   CAS04              LFE 2020-07-01 19:36:55+00:00   \n",
      "19      8P   CAS04              LFZ 2020-07-01 19:36:55+00:00   \n",
      "\n",
      "                         end  \n",
      "0  2020-06-02 22:07:46+00:00  \n",
      "1  2020-06-02 22:07:46+00:00  \n",
      "2  2020-06-02 22:07:46+00:00  \n",
      "3  2020-06-02 22:07:46+00:00  \n",
      "4  2020-06-02 22:07:46+00:00  \n",
      "5  2020-06-12 17:52:23+00:00  \n",
      "6  2020-06-12 17:52:23+00:00  \n",
      "7  2020-06-12 17:52:23+00:00  \n",
      "8  2020-06-12 17:52:23+00:00  \n",
      "9  2020-06-12 17:52:23+00:00  \n",
      "10 2020-07-01 17:32:59+00:00  \n",
      "11 2020-07-01 17:32:59+00:00  \n",
      "12 2020-07-01 17:32:59+00:00  \n",
      "13 2020-07-01 17:32:59+00:00  \n",
      "14 2020-07-01 17:32:59+00:00  \n",
      "15 2020-07-13 21:46:12+00:00  \n",
      "16 2020-07-13 21:46:12+00:00  \n",
      "17 2020-07-13 21:46:12+00:00  \n",
      "18 2020-07-13 21:46:12+00:00  \n",
      "19 2020-07-13 21:46:12+00:00  \n"
     ]
    }
   ],
   "source": [
    "# <TRANSFORM CHANNEL SUMMARY INTO REQUEST DF>\n",
    "if active_runs:\n",
    "    summary_df = summary_df[summary_df[\"run\"].isin(active_runs)]  # summary_df[0:5]\n",
    "request_df = channel_summary_to_make_mth5(summary_df, network=network, verbose=True)\n",
    "print(f\"\\n\\n {request_df}\")"
   ]
  },
  {
   "cell_type": "code",
   "execution_count": 16,
   "id": "fcf67f12-855b-45c6-a2a9-6cc4dc64b9b0",
   "metadata": {},
   "outputs": [
    {
     "name": "stdout",
     "output_type": "stream",
     "text": [
      "More or less runs have been requested by the user than are defined in the metadata. Runs will be defined but only the requested run extents contain time series data based on the users request.\n"
     ]
    }
   ],
   "source": [
    "mth5_version = \"0.1.0\"\n",
    "interact = False\n",
    "#mth5_version = \"0.2.0\"\n",
    "maker = MakeMTH5(mth5_version=mth5_version)\n",
    "# print(\"FAILED FOR 0.2.0 with some other error\")\n",
    "# inventory, streams = maker.get_inventory_from_df(request_df, data=False, client=\"IRIS\")    # inventory==inventory0??\n",
    "mth5_obj = maker.make_mth5_from_fdsnclient(request_df, client=\"IRIS\", path=\"\", interact=interact)\n",
    "mth5_path = mth5_obj.filename"
   ]
  },
  {
   "cell_type": "code",
   "execution_count": 17,
   "id": "0b663352-087a-48ed-a668-ccd86d402597",
   "metadata": {},
   "outputs": [],
   "source": [
    "if interact:\n",
    "    mth5_obj.close_mth5()"
   ]
  },
  {
   "cell_type": "code",
   "execution_count": null,
   "id": "eb335d1f-6a47-441d-85b9-a329acd11174",
   "metadata": {},
   "outputs": [],
   "source": [
    "for run in active_runs:\n",
    "    read_back_data(mth5_path, \"CAS04\", run)"
   ]
  }
 ],
 "metadata": {
  "kernelspec": {
   "display_name": "py37",
   "language": "python",
   "name": "py37"
  },
  "language_info": {
   "codemirror_mode": {
    "name": "ipython",
    "version": 3
   },
   "file_extension": ".py",
   "mimetype": "text/x-python",
   "name": "python",
   "nbconvert_exporter": "python",
   "pygments_lexer": "ipython3",
   "version": "3.7.10"
  }
 },
 "nbformat": 4,
 "nbformat_minor": 5
}
