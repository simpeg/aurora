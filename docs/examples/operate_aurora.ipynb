{
 "cells": [
  {
   "cell_type": "markdown",
   "metadata": {},
   "source": [
    "## Build an MTH5 and Operate the Aurora Pipeline"
   ]
  },
  {
   "cell_type": "markdown",
   "metadata": {},
   "source": [
    "This notebook pulls MT miniSEED data from the IRIS Dataselect web service and produces MTH5 out of it. It outlines the process of making an MTH5 file, generating a processing config, and running the Aurora processor.\n",
    "\n",
    "It assumes that aurora, mth5, and mt_metadata have all been installed.\n",
    "\n",
    "In this \"new\" version, the workflow has changed somewhat.  \n",
    "\n",
    "1. The process_mth5 call works with a dataset dataframe, rather than a single run_id\n",
    "2. The config object is now based on the mt_metadata.base Base class\n",
    "3. Remote reference processing is supported (at least in theory)"
   ]
  },
  {
   "cell_type": "markdown",
   "metadata": {},
   "source": [
    "### Flow of this notebook\n",
    "\n",
    "Section 1: Here we do imports and construct a table of the data that we will access to build the mth5.  Note that there is no explanation here as to the table source -- a future update can show how to create such a table from IRIS data_availability tools\n",
    "\n",
    "Seciton 2: the metadata and the data are accessed, and the mth5 is created and stored.\n",
    "\n",
    "Section 3: Aurora is used to process the data"
   ]
  },
  {
   "cell_type": "code",
   "execution_count": 1,
   "metadata": {},
   "outputs": [],
   "source": [
    "# Use this for developing\n",
    "%load_ext autoreload\n",
    "%autoreload 2\n"
   ]
  },
  {
   "cell_type": "code",
   "execution_count": 2,
   "metadata": {},
   "outputs": [
    {
     "name": "stderr",
     "output_type": "stream",
     "text": [
      "2022-09-09 02:14:57,256 [line 135] mth5.setup_logger - INFO: Logging file can be found /home/kkappler/software/irismt/mth5/logs/mth5_debug.log\n"
     ]
    }
   ],
   "source": [
    "# Required imports for the program. \n",
    "from pathlib import Path\n",
    "import pandas as pd\n",
    "import warnings\n",
    "\n",
    "from mth5.clients.make_mth5 import MakeMTH5\n",
    "from mth5 import mth5, timeseries\n",
    "from mth5.utils.helpers import initialize_mth5\n",
    "from mt_metadata.utils.mttime import get_now_utc, MTime\n",
    "from aurora.config import BANDS_DEFAULT_FILE\n",
    "from aurora.config.config_creator import ConfigCreator\n",
    "from aurora.pipelines.process_mth5 import process_mth5\n",
    "from aurora.transfer_function.kernel_dataset import KernelDataset\n",
    "from aurora.pipelines.run_summary import RunSummary\n",
    "\n",
    "warnings.filterwarnings('ignore')"
   ]
  },
  {
   "cell_type": "markdown",
   "metadata": {},
   "source": [
    "## Build an MTH5 file from information extracted by IRIS\n"
   ]
  },
  {
   "cell_type": "markdown",
   "metadata": {},
   "source": [
    "Set path so MTH5 file builds to current working directory. "
   ]
  },
  {
   "cell_type": "code",
   "execution_count": 3,
   "metadata": {},
   "outputs": [
    {
     "data": {
      "text/plain": [
       "PosixPath('/home/kkappler/software/irismt/aurora/docs/examples')"
      ]
     },
     "execution_count": 3,
     "metadata": {},
     "output_type": "execute_result"
    }
   ],
   "source": [
    "default_path = Path().cwd()\n",
    "default_path"
   ]
  },
  {
   "cell_type": "markdown",
   "metadata": {},
   "source": [
    "Select mth5 file version"
   ]
  },
  {
   "cell_type": "code",
   "execution_count": 4,
   "metadata": {},
   "outputs": [],
   "source": [
    "# mth5_version = '0.1.0'\n",
    "mth5_version = '0.2.0'\n"
   ]
  },
  {
   "cell_type": "code",
   "execution_count": 5,
   "metadata": {},
   "outputs": [],
   "source": [
    "# Initialize the Make MTH5 code. \n",
    "m = MakeMTH5(mth5_version=mth5_version)\n",
    "m.client = \"IRIS\""
   ]
  },
  {
   "cell_type": "markdown",
   "metadata": {},
   "source": [
    "### Specify the data to access from IRIS\n",
    "\n",
    "Note that here we explicitly prescribe the data, but this dataframe could be built from IRIS data availability tools in a programatic way"
   ]
  },
  {
   "cell_type": "code",
   "execution_count": 6,
   "metadata": {},
   "outputs": [],
   "source": [
    "# Generate data frame of FDSN Network, Station, Location, Channel, Startime, Endtime codes of interest\n",
    "\n",
    "CAS04LQE = ['8P', 'CAS04', '', 'LQE', '2020-06-02T19:00:00', '2020-07-13T19:00:00']\n",
    "CAS04LQN = ['8P', 'CAS04', '', 'LQN', '2020-06-02T19:00:00', '2020-07-13T19:00:00']\n",
    "CAS04BFE = ['8P', 'CAS04', '', 'LFE', '2020-06-02T19:00:00', '2020-07-13T19:00:00']\n",
    "CAS04BFN = ['8P', 'CAS04', '', 'LFN', '2020-06-02T19:00:00', '2020-07-13T19:00:00']\n",
    "CAS04BFZ = ['8P', 'CAS04', '', 'LFZ', '2020-06-02T19:00:00', '2020-07-13T19:00:00']\n",
    "\n",
    "request_list = [CAS04LQE, CAS04LQN, CAS04BFE, CAS04BFN, CAS04BFZ]\n",
    "\n",
    "# Turn list into dataframe\n",
    "request_df =  pd.DataFrame(request_list, columns=m.column_names)"
   ]
  },
  {
   "cell_type": "code",
   "execution_count": 7,
   "metadata": {},
   "outputs": [
    {
     "name": "stdout",
     "output_type": "stream",
     "text": [
      "  network station location channel                start                  end\n",
      "0      8P   CAS04              LQE  2020-06-02T19:00:00  2020-07-13T19:00:00\n",
      "1      8P   CAS04              LQN  2020-06-02T19:00:00  2020-07-13T19:00:00\n",
      "2      8P   CAS04              LFE  2020-06-02T19:00:00  2020-07-13T19:00:00\n",
      "3      8P   CAS04              LFN  2020-06-02T19:00:00  2020-07-13T19:00:00\n",
      "4      8P   CAS04              LFZ  2020-06-02T19:00:00  2020-07-13T19:00:00\n"
     ]
    }
   ],
   "source": [
    "# Inspect the dataframe\n",
    "print(request_df)"
   ]
  },
  {
   "cell_type": "code",
   "execution_count": 8,
   "metadata": {},
   "outputs": [],
   "source": [
    "# Request the inventory information from IRIS\n",
    "inventory = m.get_inventory_from_df(request_df, data=False)"
   ]
  },
  {
   "cell_type": "code",
   "execution_count": 9,
   "metadata": {},
   "outputs": [
    {
     "data": {
      "text/plain": [
       "(Inventory created at 2022-09-09T09:15:07.864985Z\n",
       "\tCreated by: ObsPy 1.2.2\n",
       "\t\t    https://www.obspy.org\n",
       "\tSending institution: MTH5\n",
       "\tContains:\n",
       "\t\tNetworks (1):\n",
       "\t\t\t8P\n",
       "\t\tStations (1):\n",
       "\t\t\t8P.CAS04 (Corral Hollow, CA, USA)\n",
       "\t\tChannels (8):\n",
       "\t\t\t8P.CAS04..LFZ, 8P.CAS04..LFN, 8P.CAS04..LFE, 8P.CAS04..LQN (2x), \n",
       "\t\t\t8P.CAS04..LQE (3x),\n",
       " 0 Trace(s) in Stream:\n",
       ")"
      ]
     },
     "execution_count": 9,
     "metadata": {},
     "output_type": "execute_result"
    }
   ],
   "source": [
    "# Inspect the inventory\n",
    "inventory"
   ]
  },
  {
   "cell_type": "markdown",
   "metadata": {},
   "source": [
    "Builds an MTH5 file from the user defined database. "
   ]
  },
  {
   "cell_type": "markdown",
   "metadata": {},
   "source": [
    "With the mth5 object set, we are ready to actually request the data from the fdsn client (IRIS) and save it to an MTH5 file.  This process builds an MTH5 file and can take some time depending on how much data is requested.  \n",
    "\n",
    "Note: `interact` keeps the MTH5 open after it is done building\n"
   ]
  },
  {
   "cell_type": "code",
   "execution_count": 10,
   "metadata": {
    "tags": []
   },
   "outputs": [
    {
     "name": "stderr",
     "output_type": "stream",
     "text": [
      "2022-09-09 02:15:20,020 [line 597] mth5.mth5.MTH5.open_mth5 - WARNING: 8P_CAS04.h5 will be overwritten in 'w' mode\n",
      "2022-09-09 02:15:20,440 [line 664] mth5.mth5.MTH5._initialize_file - INFO: Initialized MTH5 0.2.0 file /home/kkappler/software/irismt/aurora/docs/examples/8P_CAS04.h5 in mode w\n",
      "2022-09-09 02:18:14,616 [line 121] mt_metadata.base.metadata.station.add_run - WARNING: Run a is being overwritten with current information\n"
     ]
    },
    {
     "name": "stdout",
     "output_type": "stream",
     "text": [
      "2022-09-09T02:18:14 [line 136] obspy_stages.create_filter_from_stage - INFO: Converting PoleZerosResponseStage electric_si_units to a CoefficientFilter\n",
      "2022-09-09T02:18:14 [line 136] obspy_stages.create_filter_from_stage - INFO: Converting PoleZerosResponseStage electric_dipole_92.000 to a CoefficientFilter\n",
      "2022-09-09T02:18:14 [line 136] obspy_stages.create_filter_from_stage - INFO: Converting PoleZerosResponseStage electric_si_units to a CoefficientFilter\n",
      "2022-09-09T02:18:14 [line 136] obspy_stages.create_filter_from_stage - INFO: Converting PoleZerosResponseStage electric_dipole_92.000 to a CoefficientFilter\n",
      "2022-09-09T02:18:14 [line 136] obspy_stages.create_filter_from_stage - INFO: Converting PoleZerosResponseStage electric_si_units to a CoefficientFilter\n",
      "2022-09-09T02:18:14 [line 136] obspy_stages.create_filter_from_stage - INFO: Converting PoleZerosResponseStage electric_dipole_92.000 to a CoefficientFilter\n",
      "2022-09-09T02:18:14 [line 136] obspy_stages.create_filter_from_stage - INFO: Converting PoleZerosResponseStage electric_si_units to a CoefficientFilter\n",
      "2022-09-09T02:18:14 [line 136] obspy_stages.create_filter_from_stage - INFO: Converting PoleZerosResponseStage electric_dipole_92.000 to a CoefficientFilter\n",
      "2022-09-09T02:18:15 [line 136] obspy_stages.create_filter_from_stage - INFO: Converting PoleZerosResponseStage electric_si_units to a CoefficientFilter\n",
      "2022-09-09T02:18:15 [line 136] obspy_stages.create_filter_from_stage - INFO: Converting PoleZerosResponseStage electric_dipole_92.000 to a CoefficientFilter\n"
     ]
    },
    {
     "name": "stderr",
     "output_type": "stream",
     "text": [
      "2022-09-09 02:18:17,113 [line 746] mth5.groups.base.Station.add_run - INFO: run a already exists, returning existing group.\n",
      "2022-09-09 02:18:17,405 [line 224] mth5.timeseries.run_ts.RunTS.validate_metadata - WARNING: start time of dataset 2020-06-02T19:00:00+00:00 does not match metadata start 2020-06-02T18:41:43+00:00 updating metatdata value to 2020-06-02T19:00:00+00:00\n",
      "2022-09-09 02:18:24,659 [line 746] mth5.groups.base.Station.add_run - INFO: run b already exists, returning existing group.\n",
      "2022-09-09 02:18:34,050 [line 746] mth5.groups.base.Station.add_run - INFO: run c already exists, returning existing group.\n",
      "2022-09-09 02:18:45,149 [line 746] mth5.groups.base.Station.add_run - INFO: run d already exists, returning existing group.\n",
      "2022-09-09 02:18:46,420 [line 235] mth5.timeseries.run_ts.RunTS.validate_metadata - WARNING: end time of dataset 2020-07-13T19:00:00+00:00 does not match metadata end 2020-07-13T21:46:12+00:00 updating metatdata value to 2020-07-13T19:00:00+00:00\n"
     ]
    }
   ],
   "source": [
    "interact = True\n",
    "mth5_object = m.make_mth5_from_fdsnclient(request_df, interact=interact)"
   ]
  },
  {
   "cell_type": "markdown",
   "metadata": {},
   "source": [
    "### Examine and Update the MTH5 object\n",
    "\n",
    "With the open MTH5 Object, we can start to examine what is in it. For example, retrieve the filename and file_version. You can additionally do things such as getting the station information and edit it by setting a new value, in this case the declination model. "
   ]
  },
  {
   "cell_type": "code",
   "execution_count": 11,
   "metadata": {},
   "outputs": [],
   "source": [
    "mth5_path = mth5_object.filename"
   ]
  },
  {
   "cell_type": "code",
   "execution_count": 12,
   "metadata": {
    "tags": []
   },
   "outputs": [
    {
     "data": {
      "text/plain": [
       "/:\n",
       "====================\n",
       "    |- Group: Experiment\n",
       "    --------------------\n",
       "        |- Group: Reports\n",
       "        -----------------\n",
       "        |- Group: Standards\n",
       "        -------------------\n",
       "            --> Dataset: summary\n",
       "            ......................\n",
       "        |- Group: Surveys\n",
       "        -----------------\n",
       "            |- Group: CONUS_South\n",
       "            ---------------------\n",
       "                |- Group: Filters\n",
       "                -----------------\n",
       "                    |- Group: coefficient\n",
       "                    ---------------------\n",
       "                        |- Group: electric_analog_to_digital\n",
       "                        ------------------------------------\n",
       "                        |- Group: electric_dipole_92.000\n",
       "                        --------------------------------\n",
       "                        |- Group: electric_si_units\n",
       "                        ---------------------------\n",
       "                        |- Group: magnetic_analog_to_digital\n",
       "                        ------------------------------------\n",
       "                    |- Group: fap\n",
       "                    -------------\n",
       "                    |- Group: fir\n",
       "                    -------------\n",
       "                    |- Group: time_delay\n",
       "                    --------------------\n",
       "                        |- Group: electric_time_offset\n",
       "                        ------------------------------\n",
       "                        |- Group: hx_time_offset\n",
       "                        ------------------------\n",
       "                        |- Group: hy_time_offset\n",
       "                        ------------------------\n",
       "                        |- Group: hz_time_offset\n",
       "                        ------------------------\n",
       "                    |- Group: zpk\n",
       "                    -------------\n",
       "                        |- Group: electric_butterworth_high_pass\n",
       "                        ----------------------------------------\n",
       "                            --> Dataset: poles\n",
       "                            ....................\n",
       "                            --> Dataset: zeros\n",
       "                            ....................\n",
       "                        |- Group: electric_butterworth_low_pass\n",
       "                        ---------------------------------------\n",
       "                            --> Dataset: poles\n",
       "                            ....................\n",
       "                            --> Dataset: zeros\n",
       "                            ....................\n",
       "                        |- Group: magnetic_butterworth_low_pass\n",
       "                        ---------------------------------------\n",
       "                            --> Dataset: poles\n",
       "                            ....................\n",
       "                            --> Dataset: zeros\n",
       "                            ....................\n",
       "                |- Group: Reports\n",
       "                -----------------\n",
       "                |- Group: Standards\n",
       "                -------------------\n",
       "                    --> Dataset: summary\n",
       "                    ......................\n",
       "                |- Group: Stations\n",
       "                ------------------\n",
       "                    |- Group: CAS04\n",
       "                    ---------------\n",
       "                        |- Group: Transfer_Functions\n",
       "                        ----------------------------\n",
       "                        |- Group: a\n",
       "                        -----------\n",
       "                            --> Dataset: ex\n",
       "                            .................\n",
       "                            --> Dataset: ey\n",
       "                            .................\n",
       "                            --> Dataset: hx\n",
       "                            .................\n",
       "                            --> Dataset: hy\n",
       "                            .................\n",
       "                            --> Dataset: hz\n",
       "                            .................\n",
       "                        |- Group: b\n",
       "                        -----------\n",
       "                            --> Dataset: ex\n",
       "                            .................\n",
       "                            --> Dataset: ey\n",
       "                            .................\n",
       "                            --> Dataset: hx\n",
       "                            .................\n",
       "                            --> Dataset: hy\n",
       "                            .................\n",
       "                            --> Dataset: hz\n",
       "                            .................\n",
       "                        |- Group: c\n",
       "                        -----------\n",
       "                            --> Dataset: ex\n",
       "                            .................\n",
       "                            --> Dataset: ey\n",
       "                            .................\n",
       "                            --> Dataset: hx\n",
       "                            .................\n",
       "                            --> Dataset: hy\n",
       "                            .................\n",
       "                            --> Dataset: hz\n",
       "                            .................\n",
       "                        |- Group: d\n",
       "                        -----------\n",
       "                            --> Dataset: ex\n",
       "                            .................\n",
       "                            --> Dataset: ey\n",
       "                            .................\n",
       "                            --> Dataset: hx\n",
       "                            .................\n",
       "                            --> Dataset: hy\n",
       "                            .................\n",
       "                            --> Dataset: hz\n",
       "                            .................\n",
       "        --> Dataset: channel_summary\n",
       "        ..............................\n",
       "        --> Dataset: tf_summary\n",
       "        ........................."
      ]
     },
     "execution_count": 12,
     "metadata": {},
     "output_type": "execute_result"
    }
   ],
   "source": [
    "mth5_object"
   ]
  },
  {
   "cell_type": "code",
   "execution_count": 13,
   "metadata": {},
   "outputs": [
    {
     "data": {
      "text/plain": [
       "'0.2.0'"
      ]
     },
     "execution_count": 13,
     "metadata": {},
     "output_type": "execute_result"
    }
   ],
   "source": [
    "mth5_object.file_version\n"
   ]
  },
  {
   "cell_type": "code",
   "execution_count": 14,
   "metadata": {},
   "outputs": [
    {
     "name": "stderr",
     "output_type": "stream",
     "text": [
      "2022-09-09 02:20:13,274 [line 739] mth5.mth5.MTH5.close_mth5 - INFO: Flushing and closing /home/kkappler/software/irismt/aurora/docs/examples/8P_CAS04.h5\n"
     ]
    }
   ],
   "source": [
    "mth5_object.close_mth5()"
   ]
  },
  {
   "cell_type": "code",
   "execution_count": 15,
   "metadata": {},
   "outputs": [],
   "source": [
    "mth5_object = initialize_mth5(mth5_path)"
   ]
  },
  {
   "cell_type": "markdown",
   "metadata": {},
   "source": [
    "### Need documentation:\n",
    "Is the cell below required? Or is it an example of some metadata specification?"
   ]
  },
  {
   "cell_type": "code",
   "execution_count": 16,
   "metadata": {},
   "outputs": [
    {
     "name": "stdout",
     "output_type": "stream",
     "text": [
      "IGRF-13\n",
      "IGRF\n"
     ]
    }
   ],
   "source": [
    "# Edit and update the MTH5 metadata \n",
    "s = mth5_object.get_station(\"CAS04\", survey=\"CONUS_South\")\n",
    "print(s.metadata.location.declination.model)\n",
    "s.metadata.location.declination.model = 'IGRF'\n",
    "print(s.metadata.location.declination.model)\n",
    "s.write_metadata()    # writes to file mth5_filename"
   ]
  },
  {
   "cell_type": "code",
   "execution_count": 17,
   "metadata": {},
   "outputs": [
    {
     "name": "stdout",
     "output_type": "stream",
     "text": [
      " Filename: /home/kkappler/software/irismt/aurora/docs/examples/8P_CAS04.h5 \n",
      " Version: 0.2.0\n"
     ]
    }
   ],
   "source": [
    "# Print some info about the mth5 \n",
    "mth5_filename = mth5_object.filename\n",
    "version = mth5_object.file_version\n",
    "print(f\" Filename: {mth5_filename} \\n Version: {version}\")\n"
   ]
  },
  {
   "cell_type": "code",
   "execution_count": 18,
   "metadata": {
    "tags": []
   },
   "outputs": [],
   "source": [
    "# Get the available stations and runs from the MTH5 object\n",
    "mth5_object.channel_summary.summarize()\n",
    "ch_summary = mth5_object.channel_summary.to_dataframe()"
   ]
  },
  {
   "cell_type": "markdown",
   "metadata": {},
   "source": [
    "## If MTH5 file already exists you can start here\n",
    "If you dont want to execute the previous code to get data again"
   ]
  },
  {
   "cell_type": "code",
   "execution_count": 19,
   "metadata": {},
   "outputs": [],
   "source": [
    "interact = False\n",
    "if interact:\n",
    "    pass\n",
    "else:\n",
    "    h5_path = default_path.joinpath(\"8P_CAS04.h5\")\n",
    "    mth5_object = initialize_mth5(h5_path, mode=\"a\", file_version=mth5_version)\n",
    "    ch_summary = mth5_object.channel_summary.to_dataframe()\n",
    "\n"
   ]
  },
  {
   "cell_type": "markdown",
   "metadata": {},
   "source": [
    "### Generate an Aurora Configuration file using MTH5 as an input\n",
    "\n",
    "Up to this point, we have used mth5 and mt_metadata, but haven't yet used aurora. So we will use the MTH5 that we just created (and examined and updated) as input into Aurora.\n",
    "\n"
   ]
  },
  {
   "cell_type": "markdown",
   "metadata": {},
   "source": [
    "### Channel Summary\n",
    "\n",
    "This is a very useful datastructure inside the mth5.   It acts basically like an index of available data at the channel-run level, i.e. there is one row for every contiguous chunk of time-series recorded by an electric dipole or magnetometer"
   ]
  },
  {
   "cell_type": "code",
   "execution_count": 20,
   "metadata": {
    "tags": []
   },
   "outputs": [
    {
     "data": {
      "text/html": [
       "<div>\n",
       "<style scoped>\n",
       "    .dataframe tbody tr th:only-of-type {\n",
       "        vertical-align: middle;\n",
       "    }\n",
       "\n",
       "    .dataframe tbody tr th {\n",
       "        vertical-align: top;\n",
       "    }\n",
       "\n",
       "    .dataframe thead th {\n",
       "        text-align: right;\n",
       "    }\n",
       "</style>\n",
       "<table border=\"1\" class=\"dataframe\">\n",
       "  <thead>\n",
       "    <tr style=\"text-align: right;\">\n",
       "      <th></th>\n",
       "      <th>survey</th>\n",
       "      <th>station</th>\n",
       "      <th>run</th>\n",
       "      <th>latitude</th>\n",
       "      <th>longitude</th>\n",
       "      <th>elevation</th>\n",
       "      <th>component</th>\n",
       "      <th>start</th>\n",
       "      <th>end</th>\n",
       "      <th>n_samples</th>\n",
       "      <th>sample_rate</th>\n",
       "      <th>measurement_type</th>\n",
       "      <th>azimuth</th>\n",
       "      <th>tilt</th>\n",
       "      <th>units</th>\n",
       "      <th>hdf5_reference</th>\n",
       "      <th>run_hdf5_reference</th>\n",
       "      <th>station_hdf5_reference</th>\n",
       "    </tr>\n",
       "  </thead>\n",
       "  <tbody>\n",
       "    <tr>\n",
       "      <th>0</th>\n",
       "      <td>CONUS South</td>\n",
       "      <td>CAS04</td>\n",
       "      <td>a</td>\n",
       "      <td>37.633351</td>\n",
       "      <td>-121.468382</td>\n",
       "      <td>329.3875</td>\n",
       "      <td>ex</td>\n",
       "      <td>2020-06-02 19:00:00+00:00</td>\n",
       "      <td>2020-06-02 22:07:46+00:00</td>\n",
       "      <td>11267</td>\n",
       "      <td>1.0</td>\n",
       "      <td>electric</td>\n",
       "      <td>13.2</td>\n",
       "      <td>0.0</td>\n",
       "      <td>digital counts</td>\n",
       "      <td>&lt;HDF5 object reference&gt;</td>\n",
       "      <td>&lt;HDF5 object reference&gt;</td>\n",
       "      <td>&lt;HDF5 object reference&gt;</td>\n",
       "    </tr>\n",
       "    <tr>\n",
       "      <th>1</th>\n",
       "      <td>CONUS South</td>\n",
       "      <td>CAS04</td>\n",
       "      <td>a</td>\n",
       "      <td>37.633351</td>\n",
       "      <td>-121.468382</td>\n",
       "      <td>329.3875</td>\n",
       "      <td>ey</td>\n",
       "      <td>2020-06-02 19:00:00+00:00</td>\n",
       "      <td>2020-06-02 22:07:46+00:00</td>\n",
       "      <td>11267</td>\n",
       "      <td>1.0</td>\n",
       "      <td>electric</td>\n",
       "      <td>103.2</td>\n",
       "      <td>0.0</td>\n",
       "      <td>digital counts</td>\n",
       "      <td>&lt;HDF5 object reference&gt;</td>\n",
       "      <td>&lt;HDF5 object reference&gt;</td>\n",
       "      <td>&lt;HDF5 object reference&gt;</td>\n",
       "    </tr>\n",
       "    <tr>\n",
       "      <th>2</th>\n",
       "      <td>CONUS South</td>\n",
       "      <td>CAS04</td>\n",
       "      <td>a</td>\n",
       "      <td>37.633351</td>\n",
       "      <td>-121.468382</td>\n",
       "      <td>329.3875</td>\n",
       "      <td>hx</td>\n",
       "      <td>2020-06-02 19:00:00+00:00</td>\n",
       "      <td>2020-06-02 22:07:46+00:00</td>\n",
       "      <td>11267</td>\n",
       "      <td>1.0</td>\n",
       "      <td>magnetic</td>\n",
       "      <td>13.2</td>\n",
       "      <td>0.0</td>\n",
       "      <td>digital counts</td>\n",
       "      <td>&lt;HDF5 object reference&gt;</td>\n",
       "      <td>&lt;HDF5 object reference&gt;</td>\n",
       "      <td>&lt;HDF5 object reference&gt;</td>\n",
       "    </tr>\n",
       "    <tr>\n",
       "      <th>3</th>\n",
       "      <td>CONUS South</td>\n",
       "      <td>CAS04</td>\n",
       "      <td>a</td>\n",
       "      <td>37.633351</td>\n",
       "      <td>-121.468382</td>\n",
       "      <td>329.3875</td>\n",
       "      <td>hy</td>\n",
       "      <td>2020-06-02 19:00:00+00:00</td>\n",
       "      <td>2020-06-02 22:07:46+00:00</td>\n",
       "      <td>11267</td>\n",
       "      <td>1.0</td>\n",
       "      <td>magnetic</td>\n",
       "      <td>103.2</td>\n",
       "      <td>0.0</td>\n",
       "      <td>digital counts</td>\n",
       "      <td>&lt;HDF5 object reference&gt;</td>\n",
       "      <td>&lt;HDF5 object reference&gt;</td>\n",
       "      <td>&lt;HDF5 object reference&gt;</td>\n",
       "    </tr>\n",
       "    <tr>\n",
       "      <th>4</th>\n",
       "      <td>CONUS South</td>\n",
       "      <td>CAS04</td>\n",
       "      <td>a</td>\n",
       "      <td>37.633351</td>\n",
       "      <td>-121.468382</td>\n",
       "      <td>329.3875</td>\n",
       "      <td>hz</td>\n",
       "      <td>2020-06-02 19:00:00+00:00</td>\n",
       "      <td>2020-06-02 22:07:46+00:00</td>\n",
       "      <td>11267</td>\n",
       "      <td>1.0</td>\n",
       "      <td>magnetic</td>\n",
       "      <td>0.0</td>\n",
       "      <td>90.0</td>\n",
       "      <td>digital counts</td>\n",
       "      <td>&lt;HDF5 object reference&gt;</td>\n",
       "      <td>&lt;HDF5 object reference&gt;</td>\n",
       "      <td>&lt;HDF5 object reference&gt;</td>\n",
       "    </tr>\n",
       "    <tr>\n",
       "      <th>5</th>\n",
       "      <td>CONUS South</td>\n",
       "      <td>CAS04</td>\n",
       "      <td>b</td>\n",
       "      <td>37.633351</td>\n",
       "      <td>-121.468382</td>\n",
       "      <td>329.3875</td>\n",
       "      <td>ex</td>\n",
       "      <td>2020-06-02 22:24:55+00:00</td>\n",
       "      <td>2020-06-12 17:52:23+00:00</td>\n",
       "      <td>847649</td>\n",
       "      <td>1.0</td>\n",
       "      <td>electric</td>\n",
       "      <td>13.2</td>\n",
       "      <td>0.0</td>\n",
       "      <td>digital counts</td>\n",
       "      <td>&lt;HDF5 object reference&gt;</td>\n",
       "      <td>&lt;HDF5 object reference&gt;</td>\n",
       "      <td>&lt;HDF5 object reference&gt;</td>\n",
       "    </tr>\n",
       "    <tr>\n",
       "      <th>6</th>\n",
       "      <td>CONUS South</td>\n",
       "      <td>CAS04</td>\n",
       "      <td>b</td>\n",
       "      <td>37.633351</td>\n",
       "      <td>-121.468382</td>\n",
       "      <td>329.3875</td>\n",
       "      <td>ey</td>\n",
       "      <td>2020-06-02 22:24:55+00:00</td>\n",
       "      <td>2020-06-12 17:52:23+00:00</td>\n",
       "      <td>847649</td>\n",
       "      <td>1.0</td>\n",
       "      <td>electric</td>\n",
       "      <td>103.2</td>\n",
       "      <td>0.0</td>\n",
       "      <td>digital counts</td>\n",
       "      <td>&lt;HDF5 object reference&gt;</td>\n",
       "      <td>&lt;HDF5 object reference&gt;</td>\n",
       "      <td>&lt;HDF5 object reference&gt;</td>\n",
       "    </tr>\n",
       "    <tr>\n",
       "      <th>7</th>\n",
       "      <td>CONUS South</td>\n",
       "      <td>CAS04</td>\n",
       "      <td>b</td>\n",
       "      <td>37.633351</td>\n",
       "      <td>-121.468382</td>\n",
       "      <td>329.3875</td>\n",
       "      <td>hx</td>\n",
       "      <td>2020-06-02 22:24:55+00:00</td>\n",
       "      <td>2020-06-12 17:52:23+00:00</td>\n",
       "      <td>847649</td>\n",
       "      <td>1.0</td>\n",
       "      <td>magnetic</td>\n",
       "      <td>13.2</td>\n",
       "      <td>0.0</td>\n",
       "      <td>digital counts</td>\n",
       "      <td>&lt;HDF5 object reference&gt;</td>\n",
       "      <td>&lt;HDF5 object reference&gt;</td>\n",
       "      <td>&lt;HDF5 object reference&gt;</td>\n",
       "    </tr>\n",
       "    <tr>\n",
       "      <th>8</th>\n",
       "      <td>CONUS South</td>\n",
       "      <td>CAS04</td>\n",
       "      <td>b</td>\n",
       "      <td>37.633351</td>\n",
       "      <td>-121.468382</td>\n",
       "      <td>329.3875</td>\n",
       "      <td>hy</td>\n",
       "      <td>2020-06-02 22:24:55+00:00</td>\n",
       "      <td>2020-06-12 17:52:23+00:00</td>\n",
       "      <td>847649</td>\n",
       "      <td>1.0</td>\n",
       "      <td>magnetic</td>\n",
       "      <td>103.2</td>\n",
       "      <td>0.0</td>\n",
       "      <td>digital counts</td>\n",
       "      <td>&lt;HDF5 object reference&gt;</td>\n",
       "      <td>&lt;HDF5 object reference&gt;</td>\n",
       "      <td>&lt;HDF5 object reference&gt;</td>\n",
       "    </tr>\n",
       "    <tr>\n",
       "      <th>9</th>\n",
       "      <td>CONUS South</td>\n",
       "      <td>CAS04</td>\n",
       "      <td>b</td>\n",
       "      <td>37.633351</td>\n",
       "      <td>-121.468382</td>\n",
       "      <td>329.3875</td>\n",
       "      <td>hz</td>\n",
       "      <td>2020-06-02 22:24:55+00:00</td>\n",
       "      <td>2020-06-12 17:52:23+00:00</td>\n",
       "      <td>847649</td>\n",
       "      <td>1.0</td>\n",
       "      <td>magnetic</td>\n",
       "      <td>0.0</td>\n",
       "      <td>90.0</td>\n",
       "      <td>digital counts</td>\n",
       "      <td>&lt;HDF5 object reference&gt;</td>\n",
       "      <td>&lt;HDF5 object reference&gt;</td>\n",
       "      <td>&lt;HDF5 object reference&gt;</td>\n",
       "    </tr>\n",
       "    <tr>\n",
       "      <th>10</th>\n",
       "      <td>CONUS South</td>\n",
       "      <td>CAS04</td>\n",
       "      <td>c</td>\n",
       "      <td>37.633351</td>\n",
       "      <td>-121.468382</td>\n",
       "      <td>329.3875</td>\n",
       "      <td>ex</td>\n",
       "      <td>2020-06-12 18:32:17+00:00</td>\n",
       "      <td>2020-07-01 17:32:59+00:00</td>\n",
       "      <td>1638043</td>\n",
       "      <td>1.0</td>\n",
       "      <td>electric</td>\n",
       "      <td>13.2</td>\n",
       "      <td>0.0</td>\n",
       "      <td>digital counts</td>\n",
       "      <td>&lt;HDF5 object reference&gt;</td>\n",
       "      <td>&lt;HDF5 object reference&gt;</td>\n",
       "      <td>&lt;HDF5 object reference&gt;</td>\n",
       "    </tr>\n",
       "    <tr>\n",
       "      <th>11</th>\n",
       "      <td>CONUS South</td>\n",
       "      <td>CAS04</td>\n",
       "      <td>c</td>\n",
       "      <td>37.633351</td>\n",
       "      <td>-121.468382</td>\n",
       "      <td>329.3875</td>\n",
       "      <td>ey</td>\n",
       "      <td>2020-06-12 18:32:17+00:00</td>\n",
       "      <td>2020-07-01 17:32:59+00:00</td>\n",
       "      <td>1638043</td>\n",
       "      <td>1.0</td>\n",
       "      <td>electric</td>\n",
       "      <td>103.2</td>\n",
       "      <td>0.0</td>\n",
       "      <td>digital counts</td>\n",
       "      <td>&lt;HDF5 object reference&gt;</td>\n",
       "      <td>&lt;HDF5 object reference&gt;</td>\n",
       "      <td>&lt;HDF5 object reference&gt;</td>\n",
       "    </tr>\n",
       "    <tr>\n",
       "      <th>12</th>\n",
       "      <td>CONUS South</td>\n",
       "      <td>CAS04</td>\n",
       "      <td>c</td>\n",
       "      <td>37.633351</td>\n",
       "      <td>-121.468382</td>\n",
       "      <td>329.3875</td>\n",
       "      <td>hx</td>\n",
       "      <td>2020-06-12 18:32:17+00:00</td>\n",
       "      <td>2020-07-01 17:32:59+00:00</td>\n",
       "      <td>1638043</td>\n",
       "      <td>1.0</td>\n",
       "      <td>magnetic</td>\n",
       "      <td>13.2</td>\n",
       "      <td>0.0</td>\n",
       "      <td>digital counts</td>\n",
       "      <td>&lt;HDF5 object reference&gt;</td>\n",
       "      <td>&lt;HDF5 object reference&gt;</td>\n",
       "      <td>&lt;HDF5 object reference&gt;</td>\n",
       "    </tr>\n",
       "    <tr>\n",
       "      <th>13</th>\n",
       "      <td>CONUS South</td>\n",
       "      <td>CAS04</td>\n",
       "      <td>c</td>\n",
       "      <td>37.633351</td>\n",
       "      <td>-121.468382</td>\n",
       "      <td>329.3875</td>\n",
       "      <td>hy</td>\n",
       "      <td>2020-06-12 18:32:17+00:00</td>\n",
       "      <td>2020-07-01 17:32:59+00:00</td>\n",
       "      <td>1638043</td>\n",
       "      <td>1.0</td>\n",
       "      <td>magnetic</td>\n",
       "      <td>103.2</td>\n",
       "      <td>0.0</td>\n",
       "      <td>digital counts</td>\n",
       "      <td>&lt;HDF5 object reference&gt;</td>\n",
       "      <td>&lt;HDF5 object reference&gt;</td>\n",
       "      <td>&lt;HDF5 object reference&gt;</td>\n",
       "    </tr>\n",
       "    <tr>\n",
       "      <th>14</th>\n",
       "      <td>CONUS South</td>\n",
       "      <td>CAS04</td>\n",
       "      <td>c</td>\n",
       "      <td>37.633351</td>\n",
       "      <td>-121.468382</td>\n",
       "      <td>329.3875</td>\n",
       "      <td>hz</td>\n",
       "      <td>2020-06-12 18:32:17+00:00</td>\n",
       "      <td>2020-07-01 17:32:59+00:00</td>\n",
       "      <td>1638043</td>\n",
       "      <td>1.0</td>\n",
       "      <td>magnetic</td>\n",
       "      <td>0.0</td>\n",
       "      <td>90.0</td>\n",
       "      <td>digital counts</td>\n",
       "      <td>&lt;HDF5 object reference&gt;</td>\n",
       "      <td>&lt;HDF5 object reference&gt;</td>\n",
       "      <td>&lt;HDF5 object reference&gt;</td>\n",
       "    </tr>\n",
       "    <tr>\n",
       "      <th>15</th>\n",
       "      <td>CONUS South</td>\n",
       "      <td>CAS04</td>\n",
       "      <td>d</td>\n",
       "      <td>37.633351</td>\n",
       "      <td>-121.468382</td>\n",
       "      <td>329.3875</td>\n",
       "      <td>ex</td>\n",
       "      <td>2020-07-01 19:36:55+00:00</td>\n",
       "      <td>2020-07-13 19:00:00+00:00</td>\n",
       "      <td>1034586</td>\n",
       "      <td>1.0</td>\n",
       "      <td>electric</td>\n",
       "      <td>13.2</td>\n",
       "      <td>0.0</td>\n",
       "      <td>digital counts</td>\n",
       "      <td>&lt;HDF5 object reference&gt;</td>\n",
       "      <td>&lt;HDF5 object reference&gt;</td>\n",
       "      <td>&lt;HDF5 object reference&gt;</td>\n",
       "    </tr>\n",
       "    <tr>\n",
       "      <th>16</th>\n",
       "      <td>CONUS South</td>\n",
       "      <td>CAS04</td>\n",
       "      <td>d</td>\n",
       "      <td>37.633351</td>\n",
       "      <td>-121.468382</td>\n",
       "      <td>329.3875</td>\n",
       "      <td>ey</td>\n",
       "      <td>2020-07-01 19:36:55+00:00</td>\n",
       "      <td>2020-07-13 19:00:00+00:00</td>\n",
       "      <td>1034586</td>\n",
       "      <td>1.0</td>\n",
       "      <td>electric</td>\n",
       "      <td>103.2</td>\n",
       "      <td>0.0</td>\n",
       "      <td>digital counts</td>\n",
       "      <td>&lt;HDF5 object reference&gt;</td>\n",
       "      <td>&lt;HDF5 object reference&gt;</td>\n",
       "      <td>&lt;HDF5 object reference&gt;</td>\n",
       "    </tr>\n",
       "    <tr>\n",
       "      <th>17</th>\n",
       "      <td>CONUS South</td>\n",
       "      <td>CAS04</td>\n",
       "      <td>d</td>\n",
       "      <td>37.633351</td>\n",
       "      <td>-121.468382</td>\n",
       "      <td>329.3875</td>\n",
       "      <td>hx</td>\n",
       "      <td>2020-07-01 19:36:55+00:00</td>\n",
       "      <td>2020-07-13 19:00:00+00:00</td>\n",
       "      <td>1034586</td>\n",
       "      <td>1.0</td>\n",
       "      <td>magnetic</td>\n",
       "      <td>13.2</td>\n",
       "      <td>0.0</td>\n",
       "      <td>digital counts</td>\n",
       "      <td>&lt;HDF5 object reference&gt;</td>\n",
       "      <td>&lt;HDF5 object reference&gt;</td>\n",
       "      <td>&lt;HDF5 object reference&gt;</td>\n",
       "    </tr>\n",
       "    <tr>\n",
       "      <th>18</th>\n",
       "      <td>CONUS South</td>\n",
       "      <td>CAS04</td>\n",
       "      <td>d</td>\n",
       "      <td>37.633351</td>\n",
       "      <td>-121.468382</td>\n",
       "      <td>329.3875</td>\n",
       "      <td>hy</td>\n",
       "      <td>2020-07-01 19:36:55+00:00</td>\n",
       "      <td>2020-07-13 19:00:00+00:00</td>\n",
       "      <td>1034586</td>\n",
       "      <td>1.0</td>\n",
       "      <td>magnetic</td>\n",
       "      <td>103.2</td>\n",
       "      <td>0.0</td>\n",
       "      <td>digital counts</td>\n",
       "      <td>&lt;HDF5 object reference&gt;</td>\n",
       "      <td>&lt;HDF5 object reference&gt;</td>\n",
       "      <td>&lt;HDF5 object reference&gt;</td>\n",
       "    </tr>\n",
       "    <tr>\n",
       "      <th>19</th>\n",
       "      <td>CONUS South</td>\n",
       "      <td>CAS04</td>\n",
       "      <td>d</td>\n",
       "      <td>37.633351</td>\n",
       "      <td>-121.468382</td>\n",
       "      <td>329.3875</td>\n",
       "      <td>hz</td>\n",
       "      <td>2020-07-01 19:36:55+00:00</td>\n",
       "      <td>2020-07-13 19:00:00+00:00</td>\n",
       "      <td>1034586</td>\n",
       "      <td>1.0</td>\n",
       "      <td>magnetic</td>\n",
       "      <td>0.0</td>\n",
       "      <td>90.0</td>\n",
       "      <td>digital counts</td>\n",
       "      <td>&lt;HDF5 object reference&gt;</td>\n",
       "      <td>&lt;HDF5 object reference&gt;</td>\n",
       "      <td>&lt;HDF5 object reference&gt;</td>\n",
       "    </tr>\n",
       "  </tbody>\n",
       "</table>\n",
       "</div>"
      ],
      "text/plain": [
       "         survey station run   latitude   longitude  elevation component  \\\n",
       "0   CONUS South   CAS04   a  37.633351 -121.468382   329.3875        ex   \n",
       "1   CONUS South   CAS04   a  37.633351 -121.468382   329.3875        ey   \n",
       "2   CONUS South   CAS04   a  37.633351 -121.468382   329.3875        hx   \n",
       "3   CONUS South   CAS04   a  37.633351 -121.468382   329.3875        hy   \n",
       "4   CONUS South   CAS04   a  37.633351 -121.468382   329.3875        hz   \n",
       "5   CONUS South   CAS04   b  37.633351 -121.468382   329.3875        ex   \n",
       "6   CONUS South   CAS04   b  37.633351 -121.468382   329.3875        ey   \n",
       "7   CONUS South   CAS04   b  37.633351 -121.468382   329.3875        hx   \n",
       "8   CONUS South   CAS04   b  37.633351 -121.468382   329.3875        hy   \n",
       "9   CONUS South   CAS04   b  37.633351 -121.468382   329.3875        hz   \n",
       "10  CONUS South   CAS04   c  37.633351 -121.468382   329.3875        ex   \n",
       "11  CONUS South   CAS04   c  37.633351 -121.468382   329.3875        ey   \n",
       "12  CONUS South   CAS04   c  37.633351 -121.468382   329.3875        hx   \n",
       "13  CONUS South   CAS04   c  37.633351 -121.468382   329.3875        hy   \n",
       "14  CONUS South   CAS04   c  37.633351 -121.468382   329.3875        hz   \n",
       "15  CONUS South   CAS04   d  37.633351 -121.468382   329.3875        ex   \n",
       "16  CONUS South   CAS04   d  37.633351 -121.468382   329.3875        ey   \n",
       "17  CONUS South   CAS04   d  37.633351 -121.468382   329.3875        hx   \n",
       "18  CONUS South   CAS04   d  37.633351 -121.468382   329.3875        hy   \n",
       "19  CONUS South   CAS04   d  37.633351 -121.468382   329.3875        hz   \n",
       "\n",
       "                       start                       end  n_samples  \\\n",
       "0  2020-06-02 19:00:00+00:00 2020-06-02 22:07:46+00:00      11267   \n",
       "1  2020-06-02 19:00:00+00:00 2020-06-02 22:07:46+00:00      11267   \n",
       "2  2020-06-02 19:00:00+00:00 2020-06-02 22:07:46+00:00      11267   \n",
       "3  2020-06-02 19:00:00+00:00 2020-06-02 22:07:46+00:00      11267   \n",
       "4  2020-06-02 19:00:00+00:00 2020-06-02 22:07:46+00:00      11267   \n",
       "5  2020-06-02 22:24:55+00:00 2020-06-12 17:52:23+00:00     847649   \n",
       "6  2020-06-02 22:24:55+00:00 2020-06-12 17:52:23+00:00     847649   \n",
       "7  2020-06-02 22:24:55+00:00 2020-06-12 17:52:23+00:00     847649   \n",
       "8  2020-06-02 22:24:55+00:00 2020-06-12 17:52:23+00:00     847649   \n",
       "9  2020-06-02 22:24:55+00:00 2020-06-12 17:52:23+00:00     847649   \n",
       "10 2020-06-12 18:32:17+00:00 2020-07-01 17:32:59+00:00    1638043   \n",
       "11 2020-06-12 18:32:17+00:00 2020-07-01 17:32:59+00:00    1638043   \n",
       "12 2020-06-12 18:32:17+00:00 2020-07-01 17:32:59+00:00    1638043   \n",
       "13 2020-06-12 18:32:17+00:00 2020-07-01 17:32:59+00:00    1638043   \n",
       "14 2020-06-12 18:32:17+00:00 2020-07-01 17:32:59+00:00    1638043   \n",
       "15 2020-07-01 19:36:55+00:00 2020-07-13 19:00:00+00:00    1034586   \n",
       "16 2020-07-01 19:36:55+00:00 2020-07-13 19:00:00+00:00    1034586   \n",
       "17 2020-07-01 19:36:55+00:00 2020-07-13 19:00:00+00:00    1034586   \n",
       "18 2020-07-01 19:36:55+00:00 2020-07-13 19:00:00+00:00    1034586   \n",
       "19 2020-07-01 19:36:55+00:00 2020-07-13 19:00:00+00:00    1034586   \n",
       "\n",
       "    sample_rate measurement_type  azimuth  tilt           units  \\\n",
       "0           1.0         electric     13.2   0.0  digital counts   \n",
       "1           1.0         electric    103.2   0.0  digital counts   \n",
       "2           1.0         magnetic     13.2   0.0  digital counts   \n",
       "3           1.0         magnetic    103.2   0.0  digital counts   \n",
       "4           1.0         magnetic      0.0  90.0  digital counts   \n",
       "5           1.0         electric     13.2   0.0  digital counts   \n",
       "6           1.0         electric    103.2   0.0  digital counts   \n",
       "7           1.0         magnetic     13.2   0.0  digital counts   \n",
       "8           1.0         magnetic    103.2   0.0  digital counts   \n",
       "9           1.0         magnetic      0.0  90.0  digital counts   \n",
       "10          1.0         electric     13.2   0.0  digital counts   \n",
       "11          1.0         electric    103.2   0.0  digital counts   \n",
       "12          1.0         magnetic     13.2   0.0  digital counts   \n",
       "13          1.0         magnetic    103.2   0.0  digital counts   \n",
       "14          1.0         magnetic      0.0  90.0  digital counts   \n",
       "15          1.0         electric     13.2   0.0  digital counts   \n",
       "16          1.0         electric    103.2   0.0  digital counts   \n",
       "17          1.0         magnetic     13.2   0.0  digital counts   \n",
       "18          1.0         magnetic    103.2   0.0  digital counts   \n",
       "19          1.0         magnetic      0.0  90.0  digital counts   \n",
       "\n",
       "             hdf5_reference       run_hdf5_reference   station_hdf5_reference  \n",
       "0   <HDF5 object reference>  <HDF5 object reference>  <HDF5 object reference>  \n",
       "1   <HDF5 object reference>  <HDF5 object reference>  <HDF5 object reference>  \n",
       "2   <HDF5 object reference>  <HDF5 object reference>  <HDF5 object reference>  \n",
       "3   <HDF5 object reference>  <HDF5 object reference>  <HDF5 object reference>  \n",
       "4   <HDF5 object reference>  <HDF5 object reference>  <HDF5 object reference>  \n",
       "5   <HDF5 object reference>  <HDF5 object reference>  <HDF5 object reference>  \n",
       "6   <HDF5 object reference>  <HDF5 object reference>  <HDF5 object reference>  \n",
       "7   <HDF5 object reference>  <HDF5 object reference>  <HDF5 object reference>  \n",
       "8   <HDF5 object reference>  <HDF5 object reference>  <HDF5 object reference>  \n",
       "9   <HDF5 object reference>  <HDF5 object reference>  <HDF5 object reference>  \n",
       "10  <HDF5 object reference>  <HDF5 object reference>  <HDF5 object reference>  \n",
       "11  <HDF5 object reference>  <HDF5 object reference>  <HDF5 object reference>  \n",
       "12  <HDF5 object reference>  <HDF5 object reference>  <HDF5 object reference>  \n",
       "13  <HDF5 object reference>  <HDF5 object reference>  <HDF5 object reference>  \n",
       "14  <HDF5 object reference>  <HDF5 object reference>  <HDF5 object reference>  \n",
       "15  <HDF5 object reference>  <HDF5 object reference>  <HDF5 object reference>  \n",
       "16  <HDF5 object reference>  <HDF5 object reference>  <HDF5 object reference>  \n",
       "17  <HDF5 object reference>  <HDF5 object reference>  <HDF5 object reference>  \n",
       "18  <HDF5 object reference>  <HDF5 object reference>  <HDF5 object reference>  \n",
       "19  <HDF5 object reference>  <HDF5 object reference>  <HDF5 object reference>  "
      ]
     },
     "execution_count": 20,
     "metadata": {},
     "output_type": "execute_result"
    }
   ],
   "source": [
    "ch_summary"
   ]
  },
  {
   "cell_type": "markdown",
   "metadata": {},
   "source": [
    "The Channel summary has a lot of uses, below we use it to check if the data have mixed sample rates, and to get a list of available stations"
   ]
  },
  {
   "cell_type": "code",
   "execution_count": 21,
   "metadata": {},
   "outputs": [
    {
     "name": "stdout",
     "output_type": "stream",
     "text": [
      "Available stations: ['CAS04']\n"
     ]
    }
   ],
   "source": [
    "available_runs = ch_summary.run.unique()\n",
    "sr = ch_summary.sample_rate.unique()\n",
    "if len(sr) != 1:\n",
    "    print('Only one sample rate per run is available')\n",
    "    \n",
    "available_stations = ch_summary.station.unique()\n",
    "print(f\"Available stations: {available_stations}\")"
   ]
  },
  {
   "cell_type": "markdown",
   "metadata": {},
   "source": [
    "### Run Summary\n",
    "\n",
    "A cousin of the channel summary is the Run Summary.\n",
    "This is a condensed version of the channel summary, with one row per continuous acquistion run at a station.\n",
    "\n",
    "The run summary can be accessed from an open mth5 object as in the example below\n"
   ]
  },
  {
   "cell_type": "markdown",
   "metadata": {},
   "source": [
    "### Now, we condense the channel summary into a run_summary.\n",
    "\n",
    "This method takes an iterable of mth5_objs or h5_paths"
   ]
  },
  {
   "cell_type": "markdown",
   "metadata": {},
   "source": [
    "Or it can be accessed by pointing at a file:\n"
   ]
  },
  {
   "cell_type": "code",
   "execution_count": 22,
   "metadata": {},
   "outputs": [
    {
     "name": "stderr",
     "output_type": "stream",
     "text": [
      "2022-09-09 02:21:12,671 [line 739] mth5.mth5.MTH5.close_mth5 - INFO: Flushing and closing /home/kkappler/software/irismt/aurora/docs/examples/8P_CAS04.h5\n"
     ]
    },
    {
     "data": {
      "text/html": [
       "<div>\n",
       "<style scoped>\n",
       "    .dataframe tbody tr th:only-of-type {\n",
       "        vertical-align: middle;\n",
       "    }\n",
       "\n",
       "    .dataframe tbody tr th {\n",
       "        vertical-align: top;\n",
       "    }\n",
       "\n",
       "    .dataframe thead th {\n",
       "        text-align: right;\n",
       "    }\n",
       "</style>\n",
       "<table border=\"1\" class=\"dataframe\">\n",
       "  <thead>\n",
       "    <tr style=\"text-align: right;\">\n",
       "      <th></th>\n",
       "      <th>survey</th>\n",
       "      <th>station_id</th>\n",
       "      <th>run_id</th>\n",
       "      <th>start</th>\n",
       "      <th>end</th>\n",
       "      <th>sample_rate</th>\n",
       "      <th>input_channels</th>\n",
       "      <th>output_channels</th>\n",
       "      <th>channel_scale_factors</th>\n",
       "      <th>mth5_path</th>\n",
       "    </tr>\n",
       "  </thead>\n",
       "  <tbody>\n",
       "    <tr>\n",
       "      <th>0</th>\n",
       "      <td>CONUS South</td>\n",
       "      <td>CAS04</td>\n",
       "      <td>a</td>\n",
       "      <td>2020-06-02 19:00:00+00:00</td>\n",
       "      <td>2020-06-02 22:07:46+00:00</td>\n",
       "      <td>1.0</td>\n",
       "      <td>[hx, hy]</td>\n",
       "      <td>[ex, ey, hz]</td>\n",
       "      <td>{'ex': 1.0, 'ey': 1.0, 'hx': 1.0, 'hy': 1.0, '...</td>\n",
       "      <td>/home/kkappler/software/irismt/aurora/docs/exa...</td>\n",
       "    </tr>\n",
       "    <tr>\n",
       "      <th>1</th>\n",
       "      <td>CONUS South</td>\n",
       "      <td>CAS04</td>\n",
       "      <td>b</td>\n",
       "      <td>2020-06-02 22:24:55+00:00</td>\n",
       "      <td>2020-06-12 17:52:23+00:00</td>\n",
       "      <td>1.0</td>\n",
       "      <td>[hx, hy]</td>\n",
       "      <td>[ex, ey, hz]</td>\n",
       "      <td>{'ex': 1.0, 'ey': 1.0, 'hx': 1.0, 'hy': 1.0, '...</td>\n",
       "      <td>/home/kkappler/software/irismt/aurora/docs/exa...</td>\n",
       "    </tr>\n",
       "    <tr>\n",
       "      <th>2</th>\n",
       "      <td>CONUS South</td>\n",
       "      <td>CAS04</td>\n",
       "      <td>c</td>\n",
       "      <td>2020-06-12 18:32:17+00:00</td>\n",
       "      <td>2020-07-01 17:32:59+00:00</td>\n",
       "      <td>1.0</td>\n",
       "      <td>[hx, hy]</td>\n",
       "      <td>[ex, ey, hz]</td>\n",
       "      <td>{'ex': 1.0, 'ey': 1.0, 'hx': 1.0, 'hy': 1.0, '...</td>\n",
       "      <td>/home/kkappler/software/irismt/aurora/docs/exa...</td>\n",
       "    </tr>\n",
       "    <tr>\n",
       "      <th>3</th>\n",
       "      <td>CONUS South</td>\n",
       "      <td>CAS04</td>\n",
       "      <td>d</td>\n",
       "      <td>2020-07-01 19:36:55+00:00</td>\n",
       "      <td>2020-07-13 19:00:00+00:00</td>\n",
       "      <td>1.0</td>\n",
       "      <td>[hx, hy]</td>\n",
       "      <td>[ex, ey, hz]</td>\n",
       "      <td>{'ex': 1.0, 'ey': 1.0, 'hx': 1.0, 'hy': 1.0, '...</td>\n",
       "      <td>/home/kkappler/software/irismt/aurora/docs/exa...</td>\n",
       "    </tr>\n",
       "  </tbody>\n",
       "</table>\n",
       "</div>"
      ],
      "text/plain": [
       "        survey station_id run_id                     start  \\\n",
       "0  CONUS South      CAS04      a 2020-06-02 19:00:00+00:00   \n",
       "1  CONUS South      CAS04      b 2020-06-02 22:24:55+00:00   \n",
       "2  CONUS South      CAS04      c 2020-06-12 18:32:17+00:00   \n",
       "3  CONUS South      CAS04      d 2020-07-01 19:36:55+00:00   \n",
       "\n",
       "                        end  sample_rate input_channels output_channels  \\\n",
       "0 2020-06-02 22:07:46+00:00          1.0       [hx, hy]    [ex, ey, hz]   \n",
       "1 2020-06-12 17:52:23+00:00          1.0       [hx, hy]    [ex, ey, hz]   \n",
       "2 2020-07-01 17:32:59+00:00          1.0       [hx, hy]    [ex, ey, hz]   \n",
       "3 2020-07-13 19:00:00+00:00          1.0       [hx, hy]    [ex, ey, hz]   \n",
       "\n",
       "                               channel_scale_factors  \\\n",
       "0  {'ex': 1.0, 'ey': 1.0, 'hx': 1.0, 'hy': 1.0, '...   \n",
       "1  {'ex': 1.0, 'ey': 1.0, 'hx': 1.0, 'hy': 1.0, '...   \n",
       "2  {'ex': 1.0, 'ey': 1.0, 'hx': 1.0, 'hy': 1.0, '...   \n",
       "3  {'ex': 1.0, 'ey': 1.0, 'hx': 1.0, 'hy': 1.0, '...   \n",
       "\n",
       "                                           mth5_path  \n",
       "0  /home/kkappler/software/irismt/aurora/docs/exa...  \n",
       "1  /home/kkappler/software/irismt/aurora/docs/exa...  \n",
       "2  /home/kkappler/software/irismt/aurora/docs/exa...  \n",
       "3  /home/kkappler/software/irismt/aurora/docs/exa...  "
      ]
     },
     "execution_count": 22,
     "metadata": {},
     "output_type": "execute_result"
    }
   ],
   "source": [
    "mth5_run_summary = RunSummary()\n",
    "h5_path = default_path.joinpath(\"8P_CAS04.h5\")\n",
    "mth5_run_summary.from_mth5s([h5_path,])\n",
    "run_summary = mth5_run_summary.clone()\n",
    "run_summary.df"
   ]
  },
  {
   "cell_type": "markdown",
   "metadata": {},
   "source": [
    "Now we have a dataframe of the available runs to process from the MTH5 \n",
    "\n",
    "Here are the columns available in the run summary"
   ]
  },
  {
   "cell_type": "markdown",
   "metadata": {},
   "source": [
    "### If the mth5 file is closed, you can get the run summary this way"
   ]
  },
  {
   "cell_type": "markdown",
   "metadata": {},
   "source": [
    "### Here are the columns to look at to get a sense of the data coverage\n",
    "\n",
    "Sometimes we just want to look at the survey, station, run, and time intervals\n",
    "we can for that we can call mini_summary"
   ]
  },
  {
   "cell_type": "code",
   "execution_count": 23,
   "metadata": {},
   "outputs": [
    {
     "data": {
      "text/html": [
       "<div>\n",
       "<style scoped>\n",
       "    .dataframe tbody tr th:only-of-type {\n",
       "        vertical-align: middle;\n",
       "    }\n",
       "\n",
       "    .dataframe tbody tr th {\n",
       "        vertical-align: top;\n",
       "    }\n",
       "\n",
       "    .dataframe thead th {\n",
       "        text-align: right;\n",
       "    }\n",
       "</style>\n",
       "<table border=\"1\" class=\"dataframe\">\n",
       "  <thead>\n",
       "    <tr style=\"text-align: right;\">\n",
       "      <th></th>\n",
       "      <th>survey</th>\n",
       "      <th>station_id</th>\n",
       "      <th>run_id</th>\n",
       "      <th>start</th>\n",
       "      <th>end</th>\n",
       "    </tr>\n",
       "  </thead>\n",
       "  <tbody>\n",
       "    <tr>\n",
       "      <th>0</th>\n",
       "      <td>CONUS South</td>\n",
       "      <td>CAS04</td>\n",
       "      <td>a</td>\n",
       "      <td>2020-06-02 19:00:00+00:00</td>\n",
       "      <td>2020-06-02 22:07:46+00:00</td>\n",
       "    </tr>\n",
       "    <tr>\n",
       "      <th>1</th>\n",
       "      <td>CONUS South</td>\n",
       "      <td>CAS04</td>\n",
       "      <td>b</td>\n",
       "      <td>2020-06-02 22:24:55+00:00</td>\n",
       "      <td>2020-06-12 17:52:23+00:00</td>\n",
       "    </tr>\n",
       "    <tr>\n",
       "      <th>2</th>\n",
       "      <td>CONUS South</td>\n",
       "      <td>CAS04</td>\n",
       "      <td>c</td>\n",
       "      <td>2020-06-12 18:32:17+00:00</td>\n",
       "      <td>2020-07-01 17:32:59+00:00</td>\n",
       "    </tr>\n",
       "    <tr>\n",
       "      <th>3</th>\n",
       "      <td>CONUS South</td>\n",
       "      <td>CAS04</td>\n",
       "      <td>d</td>\n",
       "      <td>2020-07-01 19:36:55+00:00</td>\n",
       "      <td>2020-07-13 19:00:00+00:00</td>\n",
       "    </tr>\n",
       "  </tbody>\n",
       "</table>\n",
       "</div>"
      ],
      "text/plain": [
       "        survey station_id run_id                     start  \\\n",
       "0  CONUS South      CAS04      a 2020-06-02 19:00:00+00:00   \n",
       "1  CONUS South      CAS04      b 2020-06-02 22:24:55+00:00   \n",
       "2  CONUS South      CAS04      c 2020-06-12 18:32:17+00:00   \n",
       "3  CONUS South      CAS04      d 2020-07-01 19:36:55+00:00   \n",
       "\n",
       "                        end  \n",
       "0 2020-06-02 22:07:46+00:00  \n",
       "1 2020-06-12 17:52:23+00:00  \n",
       "2 2020-07-01 17:32:59+00:00  \n",
       "3 2020-07-13 19:00:00+00:00  "
      ]
     },
     "execution_count": 23,
     "metadata": {},
     "output_type": "execute_result"
    }
   ],
   "source": [
    "run_summary.mini_summary"
   ]
  },
  {
   "cell_type": "markdown",
   "metadata": {
    "tags": []
   },
   "source": [
    "### Kernel Dataset"
   ]
  },
  {
   "cell_type": "markdown",
   "metadata": {},
   "source": [
    "This is like a run summary, but for a single station or a pair of stations.\n",
    "It is used to specify the inputs to aurora processing.\n",
    "\n",
    "It takes a run_summary and a station name, and optionally, a remote reference station name\n",
    "\n",
    "It is made _based on the available data_.\n",
    "\n",
    "Syntax is kernel_dataset.from_run_summary(run_summary, local_station_id, reference_station_id)"
   ]
  },
  {
   "cell_type": "markdown",
   "metadata": {},
   "source": [
    "### Here are the columns in the run summary"
   ]
  },
  {
   "cell_type": "markdown",
   "metadata": {},
   "source": [
    "By Default, all runs will be processed\n",
    "\n",
    "To restrict to processing a single run, or a list of runs, we can either tell KernelDataset to keep or drop a station_run dictionary. \n"
   ]
  },
  {
   "cell_type": "markdown",
   "metadata": {},
   "source": [
    "To restrict to processing a single run, or a list of runs, we can either tell KernelDataset to keep or drop a station_run dictionary. \n"
   ]
  },
  {
   "cell_type": "code",
   "execution_count": 24,
   "metadata": {},
   "outputs": [
    {
     "name": "stdout",
     "output_type": "stream",
     "text": [
      "Index(['survey', 'station_id', 'run_id', 'start', 'end', 'sample_rate',\n",
      "       'input_channels', 'output_channels', 'channel_scale_factors',\n",
      "       'mth5_path'],\n",
      "      dtype='object')\n"
     ]
    }
   ],
   "source": [
    "print(run_summary.df.columns)"
   ]
  },
  {
   "cell_type": "code",
   "execution_count": 25,
   "metadata": {},
   "outputs": [
    {
     "name": "stdout",
     "output_type": "stream",
     "text": [
      "  station_id run_id                     start                       end\n",
      "0      CAS04      a 2020-06-02 19:00:00+00:00 2020-06-02 22:07:46+00:00\n",
      "1      CAS04      b 2020-06-02 22:24:55+00:00 2020-06-12 17:52:23+00:00\n",
      "2      CAS04      c 2020-06-12 18:32:17+00:00 2020-07-01 17:32:59+00:00\n",
      "3      CAS04      d 2020-07-01 19:36:55+00:00 2020-07-13 19:00:00+00:00\n"
     ]
    }
   ],
   "source": [
    "coverage_short_list_columns = ['station_id', 'run_id', 'start', 'end', ]\n",
    "print(run_summary.df[coverage_short_list_columns])"
   ]
  },
  {
   "cell_type": "code",
   "execution_count": 26,
   "metadata": {},
   "outputs": [
    {
     "data": {
      "text/html": [
       "<div>\n",
       "<style scoped>\n",
       "    .dataframe tbody tr th:only-of-type {\n",
       "        vertical-align: middle;\n",
       "    }\n",
       "\n",
       "    .dataframe tbody tr th {\n",
       "        vertical-align: top;\n",
       "    }\n",
       "\n",
       "    .dataframe thead th {\n",
       "        text-align: right;\n",
       "    }\n",
       "</style>\n",
       "<table border=\"1\" class=\"dataframe\">\n",
       "  <thead>\n",
       "    <tr style=\"text-align: right;\">\n",
       "      <th></th>\n",
       "      <th>survey</th>\n",
       "      <th>station_id</th>\n",
       "      <th>run_id</th>\n",
       "      <th>start</th>\n",
       "      <th>end</th>\n",
       "    </tr>\n",
       "  </thead>\n",
       "  <tbody>\n",
       "    <tr>\n",
       "      <th>0</th>\n",
       "      <td>CONUS South</td>\n",
       "      <td>CAS04</td>\n",
       "      <td>a</td>\n",
       "      <td>2020-06-02 19:00:00+00:00</td>\n",
       "      <td>2020-06-02 22:07:46+00:00</td>\n",
       "    </tr>\n",
       "    <tr>\n",
       "      <th>1</th>\n",
       "      <td>CONUS South</td>\n",
       "      <td>CAS04</td>\n",
       "      <td>b</td>\n",
       "      <td>2020-06-02 22:24:55+00:00</td>\n",
       "      <td>2020-06-12 17:52:23+00:00</td>\n",
       "    </tr>\n",
       "    <tr>\n",
       "      <th>2</th>\n",
       "      <td>CONUS South</td>\n",
       "      <td>CAS04</td>\n",
       "      <td>c</td>\n",
       "      <td>2020-06-12 18:32:17+00:00</td>\n",
       "      <td>2020-07-01 17:32:59+00:00</td>\n",
       "    </tr>\n",
       "    <tr>\n",
       "      <th>3</th>\n",
       "      <td>CONUS South</td>\n",
       "      <td>CAS04</td>\n",
       "      <td>d</td>\n",
       "      <td>2020-07-01 19:36:55+00:00</td>\n",
       "      <td>2020-07-13 19:00:00+00:00</td>\n",
       "    </tr>\n",
       "  </tbody>\n",
       "</table>\n",
       "</div>"
      ],
      "text/plain": [
       "        survey station_id run_id                     start  \\\n",
       "0  CONUS South      CAS04      a 2020-06-02 19:00:00+00:00   \n",
       "1  CONUS South      CAS04      b 2020-06-02 22:24:55+00:00   \n",
       "2  CONUS South      CAS04      c 2020-06-12 18:32:17+00:00   \n",
       "3  CONUS South      CAS04      d 2020-07-01 19:36:55+00:00   \n",
       "\n",
       "                        end  \n",
       "0 2020-06-02 22:07:46+00:00  \n",
       "1 2020-06-12 17:52:23+00:00  \n",
       "2 2020-07-01 17:32:59+00:00  \n",
       "3 2020-07-13 19:00:00+00:00  "
      ]
     },
     "execution_count": 26,
     "metadata": {},
     "output_type": "execute_result"
    }
   ],
   "source": [
    "kernel_dataset = KernelDataset()\n",
    "kernel_dataset.from_run_summary(run_summary, \"CAS04\")\n",
    "kernel_dataset.mini_summary"
   ]
  },
  {
   "cell_type": "markdown",
   "metadata": {},
   "source": [
    "## Here is one way to select a single run:\n"
   ]
  },
  {
   "cell_type": "code",
   "execution_count": 27,
   "metadata": {},
   "outputs": [
    {
     "name": "stdout",
     "output_type": "stream",
     "text": [
      "  station_id run_id                     start                       end\n",
      "0      CAS04      a 2020-06-02 19:00:00+00:00 2020-06-02 22:07:46+00:00\n"
     ]
    }
   ],
   "source": [
    "station_runs_dict = {}\n",
    "station_runs_dict[\"CAS04\"] = [\"a\", ]\n",
    "keep_or_drop = \"keep\"\n",
    "\n",
    "kernel_dataset.select_station_runs(station_runs_dict, keep_or_drop)\n",
    "print(kernel_dataset.df[coverage_short_list_columns])"
   ]
  },
  {
   "cell_type": "markdown",
   "metadata": {},
   "source": [
    "## To discard runs that are not very long"
   ]
  },
  {
   "cell_type": "code",
   "execution_count": 28,
   "metadata": {},
   "outputs": [
    {
     "name": "stdout",
     "output_type": "stream",
     "text": [
      "  station_id run_id                     start                       end\n",
      "0      CAS04      b 2020-06-02 22:24:55+00:00 2020-06-12 17:52:23+00:00\n",
      "1      CAS04      c 2020-06-12 18:32:17+00:00 2020-07-01 17:32:59+00:00\n",
      "2      CAS04      d 2020-07-01 19:36:55+00:00 2020-07-13 19:00:00+00:00\n"
     ]
    }
   ],
   "source": [
    "kernel_dataset = KernelDataset()\n",
    "kernel_dataset.from_run_summary(run_summary, \"CAS04\")\n",
    "cutoff_duration_in_seconds = 15000\n",
    "kernel_dataset.drop_runs_shorter_than(cutoff_duration_in_seconds)\n",
    "print(kernel_dataset.df[coverage_short_list_columns])"
   ]
  },
  {
   "cell_type": "markdown",
   "metadata": {},
   "source": [
    "### Select only runs \"b\" & \"d\""
   ]
  },
  {
   "cell_type": "code",
   "execution_count": 29,
   "metadata": {},
   "outputs": [
    {
     "name": "stdout",
     "output_type": "stream",
     "text": [
      "  station_id run_id                     start                       end\n",
      "0      CAS04      b 2020-06-02 22:24:55+00:00 2020-06-12 17:52:23+00:00\n",
      "1      CAS04      d 2020-07-01 19:36:55+00:00 2020-07-13 19:00:00+00:00\n"
     ]
    }
   ],
   "source": [
    "kernel_dataset = KernelDataset()\n",
    "kernel_dataset.from_run_summary(run_summary, \"CAS04\")\n",
    "station_runs_dict = {}\n",
    "station_runs_dict[\"CAS04\"] = [\"b\",\"d\"]\n",
    "keep_or_drop = \"keep\"\n",
    "kernel_dataset.select_station_runs(station_runs_dict, keep_or_drop)\n",
    "print(kernel_dataset.df[coverage_short_list_columns])"
   ]
  },
  {
   "cell_type": "markdown",
   "metadata": {},
   "source": [
    "### The same result can be obtained by _excluding_ runs a & c"
   ]
  },
  {
   "cell_type": "code",
   "execution_count": 30,
   "metadata": {},
   "outputs": [
    {
     "name": "stdout",
     "output_type": "stream",
     "text": [
      "  station_id run_id                     start                       end\n",
      "0      CAS04      b 2020-06-02 22:24:55+00:00 2020-06-12 17:52:23+00:00\n",
      "1      CAS04      d 2020-07-01 19:36:55+00:00 2020-07-13 19:00:00+00:00\n"
     ]
    }
   ],
   "source": [
    "kernel_dataset = KernelDataset()\n",
    "kernel_dataset.from_run_summary(run_summary, \"CAS04\")\n",
    "station_runs_dict = {}\n",
    "station_runs_dict[\"CAS04\"] = [\"a\",\"c\"]\n",
    "keep_or_drop = \"drop\"\n",
    "kernel_dataset.select_station_runs(station_runs_dict, keep_or_drop)\n",
    "print(kernel_dataset.df[coverage_short_list_columns])"
   ]
  },
  {
   "cell_type": "markdown",
   "metadata": {},
   "source": [
    "Make an aurora configuration file (and then save that json file.)"
   ]
  },
  {
   "cell_type": "code",
   "execution_count": 31,
   "metadata": {},
   "outputs": [],
   "source": [
    "cc = ConfigCreator()\n",
    "config = cc.create_from_kernel_dataset(kernel_dataset, \n",
    "                                       emtf_band_file=BANDS_DEFAULT_FILE,)\n"
   ]
  },
  {
   "cell_type": "code",
   "execution_count": 32,
   "metadata": {},
   "outputs": [],
   "source": [
    "for decimation in config.decimations:\n",
    "    decimation.estimator.engine = \"RME\""
   ]
  },
  {
   "cell_type": "markdown",
   "metadata": {},
   "source": [
    "Take a look at the config:"
   ]
  },
  {
   "cell_type": "code",
   "execution_count": 33,
   "metadata": {
    "tags": []
   },
   "outputs": [
    {
     "data": {
      "text/plain": [
       "{\n",
       "    \"processing\": {\n",
       "        \"channel_nomenclature.ex\": \"ex\",\n",
       "        \"channel_nomenclature.ey\": \"ey\",\n",
       "        \"channel_nomenclature.hx\": \"hx\",\n",
       "        \"channel_nomenclature.hy\": \"hy\",\n",
       "        \"channel_nomenclature.hz\": \"hz\",\n",
       "        \"decimations\": [\n",
       "            {\n",
       "                \"decimation_level\": {\n",
       "                    \"anti_alias_filter\": \"default\",\n",
       "                    \"bands\": [\n",
       "                        {\n",
       "                            \"band\": {\n",
       "                                \"decimation_level\": 0,\n",
       "                                \"frequency_max\": 0,\n",
       "                                \"frequency_min\": 0,\n",
       "                                \"index_max\": 30,\n",
       "                                \"index_min\": 25\n",
       "                            }\n",
       "                        },\n",
       "                        {\n",
       "                            \"band\": {\n",
       "                                \"decimation_level\": 0,\n",
       "                                \"frequency_max\": 0,\n",
       "                                \"frequency_min\": 0,\n",
       "                                \"index_max\": 24,\n",
       "                                \"index_min\": 20\n",
       "                            }\n",
       "                        },\n",
       "                        {\n",
       "                            \"band\": {\n",
       "                                \"decimation_level\": 0,\n",
       "                                \"frequency_max\": 0,\n",
       "                                \"frequency_min\": 0,\n",
       "                                \"index_max\": 19,\n",
       "                                \"index_min\": 16\n",
       "                            }\n",
       "                        },\n",
       "                        {\n",
       "                            \"band\": {\n",
       "                                \"decimation_level\": 0,\n",
       "                                \"frequency_max\": 0,\n",
       "                                \"frequency_min\": 0,\n",
       "                                \"index_max\": 15,\n",
       "                                \"index_min\": 13\n",
       "                            }\n",
       "                        },\n",
       "                        {\n",
       "                            \"band\": {\n",
       "                                \"decimation_level\": 0,\n",
       "                                \"frequency_max\": 0,\n",
       "                                \"frequency_min\": 0,\n",
       "                                \"index_max\": 12,\n",
       "                                \"index_min\": 10\n",
       "                            }\n",
       "                        },\n",
       "                        {\n",
       "                            \"band\": {\n",
       "                                \"decimation_level\": 0,\n",
       "                                \"frequency_max\": 0,\n",
       "                                \"frequency_min\": 0,\n",
       "                                \"index_max\": 9,\n",
       "                                \"index_min\": 8\n",
       "                            }\n",
       "                        },\n",
       "                        {\n",
       "                            \"band\": {\n",
       "                                \"decimation_level\": 0,\n",
       "                                \"frequency_max\": 0,\n",
       "                                \"frequency_min\": 0,\n",
       "                                \"index_max\": 7,\n",
       "                                \"index_min\": 6\n",
       "                            }\n",
       "                        },\n",
       "                        {\n",
       "                            \"band\": {\n",
       "                                \"decimation_level\": 0,\n",
       "                                \"frequency_max\": 0,\n",
       "                                \"frequency_min\": 0,\n",
       "                                \"index_max\": 5,\n",
       "                                \"index_min\": 5\n",
       "                            }\n",
       "                        }\n",
       "                    ],\n",
       "                    \"decimation.factor\": 1.0,\n",
       "                    \"decimation.level\": 0,\n",
       "                    \"decimation.method\": \"default\",\n",
       "                    \"decimation.sample_rate\": 1.0,\n",
       "                    \"estimator.engine\": \"RME\",\n",
       "                    \"estimator.estimate_per_channel\": true,\n",
       "                    \"extra_pre_fft_detrend_type\": \"linear\",\n",
       "                    \"input_channels\": [\n",
       "                        \"hx\",\n",
       "                        \"hy\"\n",
       "                    ],\n",
       "                    \"output_channels\": [\n",
       "                        \"hz\",\n",
       "                        \"ex\",\n",
       "                        \"ey\"\n",
       "                    ],\n",
       "                    \"prewhitening_type\": \"first difference\",\n",
       "                    \"reference_channels\": [\n",
       "                        \"hx\",\n",
       "                        \"hy\"\n",
       "                    ],\n",
       "                    \"regression.max_iterations\": 10,\n",
       "                    \"regression.max_redescending_iterations\": 2,\n",
       "                    \"regression.minimum_cycles\": 10,\n",
       "                    \"window.clock_zero_type\": \"ignore\",\n",
       "                    \"window.num_samples\": 128,\n",
       "                    \"window.overlap\": 32,\n",
       "                    \"window.type\": \"boxcar\"\n",
       "                }\n",
       "            },\n",
       "            {\n",
       "                \"decimation_level\": {\n",
       "                    \"anti_alias_filter\": \"default\",\n",
       "                    \"bands\": [\n",
       "                        {\n",
       "                            \"band\": {\n",
       "                                \"decimation_level\": 1,\n",
       "                                \"frequency_max\": 0,\n",
       "                                \"frequency_min\": 0,\n",
       "                                \"index_max\": 17,\n",
       "                                \"index_min\": 14\n",
       "                            }\n",
       "                        },\n",
       "                        {\n",
       "                            \"band\": {\n",
       "                                \"decimation_level\": 1,\n",
       "                                \"frequency_max\": 0,\n",
       "                                \"frequency_min\": 0,\n",
       "                                \"index_max\": 13,\n",
       "                                \"index_min\": 11\n",
       "                            }\n",
       "                        },\n",
       "                        {\n",
       "                            \"band\": {\n",
       "                                \"decimation_level\": 1,\n",
       "                                \"frequency_max\": 0,\n",
       "                                \"frequency_min\": 0,\n",
       "                                \"index_max\": 10,\n",
       "                                \"index_min\": 9\n",
       "                            }\n",
       "                        },\n",
       "                        {\n",
       "                            \"band\": {\n",
       "                                \"decimation_level\": 1,\n",
       "                                \"frequency_max\": 0,\n",
       "                                \"frequency_min\": 0,\n",
       "                                \"index_max\": 8,\n",
       "                                \"index_min\": 7\n",
       "                            }\n",
       "                        },\n",
       "                        {\n",
       "                            \"band\": {\n",
       "                                \"decimation_level\": 1,\n",
       "                                \"frequency_max\": 0,\n",
       "                                \"frequency_min\": 0,\n",
       "                                \"index_max\": 6,\n",
       "                                \"index_min\": 6\n",
       "                            }\n",
       "                        },\n",
       "                        {\n",
       "                            \"band\": {\n",
       "                                \"decimation_level\": 1,\n",
       "                                \"frequency_max\": 0,\n",
       "                                \"frequency_min\": 0,\n",
       "                                \"index_max\": 5,\n",
       "                                \"index_min\": 5\n",
       "                            }\n",
       "                        }\n",
       "                    ],\n",
       "                    \"decimation.factor\": 4.0,\n",
       "                    \"decimation.level\": 1,\n",
       "                    \"decimation.method\": \"default\",\n",
       "                    \"decimation.sample_rate\": 0.25,\n",
       "                    \"estimator.engine\": \"RME\",\n",
       "                    \"estimator.estimate_per_channel\": true,\n",
       "                    \"extra_pre_fft_detrend_type\": \"linear\",\n",
       "                    \"input_channels\": [\n",
       "                        \"hx\",\n",
       "                        \"hy\"\n",
       "                    ],\n",
       "                    \"output_channels\": [\n",
       "                        \"hz\",\n",
       "                        \"ex\",\n",
       "                        \"ey\"\n",
       "                    ],\n",
       "                    \"prewhitening_type\": \"first difference\",\n",
       "                    \"reference_channels\": [\n",
       "                        \"hx\",\n",
       "                        \"hy\"\n",
       "                    ],\n",
       "                    \"regression.max_iterations\": 10,\n",
       "                    \"regression.max_redescending_iterations\": 2,\n",
       "                    \"regression.minimum_cycles\": 10,\n",
       "                    \"window.clock_zero_type\": \"ignore\",\n",
       "                    \"window.num_samples\": 128,\n",
       "                    \"window.overlap\": 32,\n",
       "                    \"window.type\": \"boxcar\"\n",
       "                }\n",
       "            },\n",
       "            {\n",
       "                \"decimation_level\": {\n",
       "                    \"anti_alias_filter\": \"default\",\n",
       "                    \"bands\": [\n",
       "                        {\n",
       "                            \"band\": {\n",
       "                                \"decimation_level\": 2,\n",
       "                                \"frequency_max\": 0,\n",
       "                                \"frequency_min\": 0,\n",
       "                                \"index_max\": 17,\n",
       "                                \"index_min\": 14\n",
       "                            }\n",
       "                        },\n",
       "                        {\n",
       "                            \"band\": {\n",
       "                                \"decimation_level\": 2,\n",
       "                                \"frequency_max\": 0,\n",
       "                                \"frequency_min\": 0,\n",
       "                                \"index_max\": 13,\n",
       "                                \"index_min\": 11\n",
       "                            }\n",
       "                        },\n",
       "                        {\n",
       "                            \"band\": {\n",
       "                                \"decimation_level\": 2,\n",
       "                                \"frequency_max\": 0,\n",
       "                                \"frequency_min\": 0,\n",
       "                                \"index_max\": 10,\n",
       "                                \"index_min\": 9\n",
       "                            }\n",
       "                        },\n",
       "                        {\n",
       "                            \"band\": {\n",
       "                                \"decimation_level\": 2,\n",
       "                                \"frequency_max\": 0,\n",
       "                                \"frequency_min\": 0,\n",
       "                                \"index_max\": 8,\n",
       "                                \"index_min\": 7\n",
       "                            }\n",
       "                        },\n",
       "                        {\n",
       "                            \"band\": {\n",
       "                                \"decimation_level\": 2,\n",
       "                                \"frequency_max\": 0,\n",
       "                                \"frequency_min\": 0,\n",
       "                                \"index_max\": 6,\n",
       "                                \"index_min\": 6\n",
       "                            }\n",
       "                        },\n",
       "                        {\n",
       "                            \"band\": {\n",
       "                                \"decimation_level\": 2,\n",
       "                                \"frequency_max\": 0,\n",
       "                                \"frequency_min\": 0,\n",
       "                                \"index_max\": 5,\n",
       "                                \"index_min\": 5\n",
       "                            }\n",
       "                        }\n",
       "                    ],\n",
       "                    \"decimation.factor\": 4.0,\n",
       "                    \"decimation.level\": 2,\n",
       "                    \"decimation.method\": \"default\",\n",
       "                    \"decimation.sample_rate\": 0.0625,\n",
       "                    \"estimator.engine\": \"RME\",\n",
       "                    \"estimator.estimate_per_channel\": true,\n",
       "                    \"extra_pre_fft_detrend_type\": \"linear\",\n",
       "                    \"input_channels\": [\n",
       "                        \"hx\",\n",
       "                        \"hy\"\n",
       "                    ],\n",
       "                    \"output_channels\": [\n",
       "                        \"hz\",\n",
       "                        \"ex\",\n",
       "                        \"ey\"\n",
       "                    ],\n",
       "                    \"prewhitening_type\": \"first difference\",\n",
       "                    \"reference_channels\": [\n",
       "                        \"hx\",\n",
       "                        \"hy\"\n",
       "                    ],\n",
       "                    \"regression.max_iterations\": 10,\n",
       "                    \"regression.max_redescending_iterations\": 2,\n",
       "                    \"regression.minimum_cycles\": 10,\n",
       "                    \"window.clock_zero_type\": \"ignore\",\n",
       "                    \"window.num_samples\": 128,\n",
       "                    \"window.overlap\": 32,\n",
       "                    \"window.type\": \"boxcar\"\n",
       "                }\n",
       "            },\n",
       "            {\n",
       "                \"decimation_level\": {\n",
       "                    \"anti_alias_filter\": \"default\",\n",
       "                    \"bands\": [\n",
       "                        {\n",
       "                            \"band\": {\n",
       "                                \"decimation_level\": 3,\n",
       "                                \"frequency_max\": 0,\n",
       "                                \"frequency_min\": 0,\n",
       "                                \"index_max\": 22,\n",
       "                                \"index_min\": 18\n",
       "                            }\n",
       "                        },\n",
       "                        {\n",
       "                            \"band\": {\n",
       "                                \"decimation_level\": 3,\n",
       "                                \"frequency_max\": 0,\n",
       "                                \"frequency_min\": 0,\n",
       "                                \"index_max\": 17,\n",
       "                                \"index_min\": 14\n",
       "                            }\n",
       "                        },\n",
       "                        {\n",
       "                            \"band\": {\n",
       "                                \"decimation_level\": 3,\n",
       "                                \"frequency_max\": 0,\n",
       "                                \"frequency_min\": 0,\n",
       "                                \"index_max\": 13,\n",
       "                                \"index_min\": 10\n",
       "                            }\n",
       "                        },\n",
       "                        {\n",
       "                            \"band\": {\n",
       "                                \"decimation_level\": 3,\n",
       "                                \"frequency_max\": 0,\n",
       "                                \"frequency_min\": 0,\n",
       "                                \"index_max\": 9,\n",
       "                                \"index_min\": 7\n",
       "                            }\n",
       "                        },\n",
       "                        {\n",
       "                            \"band\": {\n",
       "                                \"decimation_level\": 3,\n",
       "                                \"frequency_max\": 0,\n",
       "                                \"frequency_min\": 0,\n",
       "                                \"index_max\": 6,\n",
       "                                \"index_min\": 5\n",
       "                            }\n",
       "                        }\n",
       "                    ],\n",
       "                    \"decimation.factor\": 4.0,\n",
       "                    \"decimation.level\": 3,\n",
       "                    \"decimation.method\": \"default\",\n",
       "                    \"decimation.sample_rate\": 0.015625,\n",
       "                    \"estimator.engine\": \"RME\",\n",
       "                    \"estimator.estimate_per_channel\": true,\n",
       "                    \"extra_pre_fft_detrend_type\": \"linear\",\n",
       "                    \"input_channels\": [\n",
       "                        \"hx\",\n",
       "                        \"hy\"\n",
       "                    ],\n",
       "                    \"output_channels\": [\n",
       "                        \"hz\",\n",
       "                        \"ex\",\n",
       "                        \"ey\"\n",
       "                    ],\n",
       "                    \"prewhitening_type\": \"first difference\",\n",
       "                    \"reference_channels\": [\n",
       "                        \"hx\",\n",
       "                        \"hy\"\n",
       "                    ],\n",
       "                    \"regression.max_iterations\": 10,\n",
       "                    \"regression.max_redescending_iterations\": 2,\n",
       "                    \"regression.minimum_cycles\": 10,\n",
       "                    \"window.clock_zero_type\": \"ignore\",\n",
       "                    \"window.num_samples\": 128,\n",
       "                    \"window.overlap\": 32,\n",
       "                    \"window.type\": \"boxcar\"\n",
       "                }\n",
       "            }\n",
       "        ],\n",
       "        \"id\": \"CAS04-None\",\n",
       "        \"stations.local.id\": \"CAS04\",\n",
       "        \"stations.local.mth5_path\": \"/home/kkappler/software/irismt/aurora/docs/examples/8P_CAS04.h5\",\n",
       "        \"stations.local.remote\": false,\n",
       "        \"stations.local.runs\": [\n",
       "            {\n",
       "                \"run\": {\n",
       "                    \"id\": \"b\",\n",
       "                    \"input_channels\": [\n",
       "                        {\n",
       "                            \"channel\": {\n",
       "                                \"id\": \"hx\",\n",
       "                                \"scale_factor\": 1.0\n",
       "                            }\n",
       "                        },\n",
       "                        {\n",
       "                            \"channel\": {\n",
       "                                \"id\": \"hy\",\n",
       "                                \"scale_factor\": 1.0\n",
       "                            }\n",
       "                        }\n",
       "                    ],\n",
       "                    \"output_channels\": [\n",
       "                        {\n",
       "                            \"channel\": {\n",
       "                                \"id\": \"ex\",\n",
       "                                \"scale_factor\": 1.0\n",
       "                            }\n",
       "                        },\n",
       "                        {\n",
       "                            \"channel\": {\n",
       "                                \"id\": \"ey\",\n",
       "                                \"scale_factor\": 1.0\n",
       "                            }\n",
       "                        },\n",
       "                        {\n",
       "                            \"channel\": {\n",
       "                                \"id\": \"hz\",\n",
       "                                \"scale_factor\": 1.0\n",
       "                            }\n",
       "                        }\n",
       "                    ],\n",
       "                    \"sample_rate\": 1.0,\n",
       "                    \"time_periods\": [\n",
       "                        {\n",
       "                            \"time_period\": {\n",
       "                                \"end\": \"2020-06-12T17:52:23+00:00\",\n",
       "                                \"start\": \"2020-06-02T22:24:55+00:00\"\n",
       "                            }\n",
       "                        }\n",
       "                    ]\n",
       "                }\n",
       "            },\n",
       "            {\n",
       "                \"run\": {\n",
       "                    \"id\": \"d\",\n",
       "                    \"input_channels\": [\n",
       "                        {\n",
       "                            \"channel\": {\n",
       "                                \"id\": \"hx\",\n",
       "                                \"scale_factor\": 1.0\n",
       "                            }\n",
       "                        },\n",
       "                        {\n",
       "                            \"channel\": {\n",
       "                                \"id\": \"hy\",\n",
       "                                \"scale_factor\": 1.0\n",
       "                            }\n",
       "                        }\n",
       "                    ],\n",
       "                    \"output_channels\": [\n",
       "                        {\n",
       "                            \"channel\": {\n",
       "                                \"id\": \"ex\",\n",
       "                                \"scale_factor\": 1.0\n",
       "                            }\n",
       "                        },\n",
       "                        {\n",
       "                            \"channel\": {\n",
       "                                \"id\": \"ey\",\n",
       "                                \"scale_factor\": 1.0\n",
       "                            }\n",
       "                        },\n",
       "                        {\n",
       "                            \"channel\": {\n",
       "                                \"id\": \"hz\",\n",
       "                                \"scale_factor\": 1.0\n",
       "                            }\n",
       "                        }\n",
       "                    ],\n",
       "                    \"sample_rate\": 1.0,\n",
       "                    \"time_periods\": [\n",
       "                        {\n",
       "                            \"time_period\": {\n",
       "                                \"end\": \"2020-07-13T19:00:00+00:00\",\n",
       "                                \"start\": \"2020-07-01T19:36:55+00:00\"\n",
       "                            }\n",
       "                        }\n",
       "                    ]\n",
       "                }\n",
       "            }\n",
       "        ],\n",
       "        \"stations.remote\": []\n",
       "    }\n",
       "}"
      ]
     },
     "execution_count": 33,
     "metadata": {},
     "output_type": "execute_result"
    }
   ],
   "source": [
    "config"
   ]
  },
  {
   "cell_type": "markdown",
   "metadata": {},
   "source": [
    "Run the Aurora Pipeline using the input MTh5 and Confiugration File"
   ]
  },
  {
   "cell_type": "code",
   "execution_count": 34,
   "metadata": {},
   "outputs": [
    {
     "name": "stdout",
     "output_type": "stream",
     "text": [
      "Processing config indicates 4 decimation levels \n",
      "Processing band 25.728968s\n",
      "Processing band 19.929573s\n",
      "Processing band 15.164131s\n",
      "Processing band 11.746086s\n",
      "Processing band 9.195791s\n",
      "Processing band 7.362526s\n",
      "Processing band 5.856115s\n",
      "Processing band 4.682492s\n"
     ]
    },
    {
     "data": {
      "image/png": "[encoded data removed]",
      "text/plain": [
       "<Figure size 432x288 with 2 Axes>"
      ]
     },
     "metadata": {
      "needs_background": "light"
     },
     "output_type": "display_data"
    },
    {
     "name": "stdout",
     "output_type": "stream",
     "text": [
      "Processing band 102.915872s\n",
      "Processing band 85.631182s\n",
      "Processing band 68.881694s\n",
      "Processing band 54.195827s\n",
      "Processing band 43.003958s\n",
      "Processing band 33.310722s\n"
     ]
    },
    {
     "data": {
      "image/png": "[encoded data removed]",
      "text/plain": [
       "<Figure size 432x288 with 2 Axes>"
      ]
     },
     "metadata": {
      "needs_background": "light"
     },
     "output_type": "display_data"
    },
    {
     "name": "stdout",
     "output_type": "stream",
     "text": [
      "Processing band 411.663489s\n",
      "Processing band 342.524727s\n",
      "Processing band 275.526776s\n",
      "Processing band 216.783308s\n",
      "Processing band 172.015831s\n",
      "Processing band 133.242890s\n"
     ]
    },
    {
     "data": {
      "image/png": "[encoded data removed]",
      "text/plain": [
       "<Figure size 432x288 with 2 Axes>"
      ]
     },
     "metadata": {
      "needs_background": "light"
     },
     "output_type": "display_data"
    },
    {
     "name": "stdout",
     "output_type": "stream",
     "text": [
      "Processing band 1514.701336s\n",
      "Processing band 1042.488956s\n",
      "Processing band 723.371271s\n",
      "Processing band 532.971560s\n",
      "Processing band 412.837995s\n"
     ]
    },
    {
     "data": {
      "image/png": "[encoded data removed]",
      "text/plain": [
       "<Figure size 432x288 with 2 Axes>"
      ]
     },
     "metadata": {
      "needs_background": "light"
     },
     "output_type": "display_data"
    },
    {
     "name": "stderr",
     "output_type": "stream",
     "text": [
      "2022-09-09 02:23:49,478 [line 739] mth5.mth5.MTH5.close_mth5 - INFO: Flushing and closing /home/kkappler/software/irismt/aurora/docs/examples/8P_CAS04.h5\n"
     ]
    }
   ],
   "source": [
    "show_plot = True\n",
    "tf_cls = process_mth5(config,\n",
    "                    kernel_dataset,\n",
    "                    units=\"MT\",\n",
    "                    show_plot=show_plot,\n",
    "                    z_file_path=None,\n",
    "                )"
   ]
  },
  {
   "cell_type": "code",
   "execution_count": 35,
   "metadata": {
    "scrolled": true
   },
   "outputs": [
    {
     "data": {
      "text/plain": [
       "mt_metadata.transfer_functions.core.TF"
      ]
     },
     "execution_count": 35,
     "metadata": {},
     "output_type": "execute_result"
    }
   ],
   "source": [
    "\n",
    "type(tf_cls)"
   ]
  },
  {
   "cell_type": "markdown",
   "metadata": {},
   "source": [
    "Write the transfer functions generated by the Aurora pipeline"
   ]
  },
  {
   "cell_type": "code",
   "execution_count": 36,
   "metadata": {},
   "outputs": [
    {
     "name": "stderr",
     "output_type": "stream",
     "text": [
      "2022-09-09 02:24:00,371 [line 197] mt_metadata.transfer_functions.io.readwrite.write_file - INFO: Wrote emtfxml_test.xml\n"
     ]
    },
    {
     "data": {
      "text/plain": [
       "EMTFXML(station='CAS04', latitude=37.63, longitude=-121.47, elevation=329.39)"
      ]
     },
     "execution_count": 36,
     "metadata": {},
     "output_type": "execute_result"
    }
   ],
   "source": [
    " tf_cls.write_tf_file(fn=\"emtfxml_test.xml\", file_type=\"emtfxml\")"
   ]
  },
  {
   "cell_type": "code",
   "execution_count": 37,
   "metadata": {},
   "outputs": [
    {
     "name": "stderr",
     "output_type": "stream",
     "text": [
      "2022-09-09 02:24:06,602 [line 197] mt_metadata.transfer_functions.io.readwrite.write_file - INFO: Wrote emtfxml_test.xml\n"
     ]
    },
    {
     "data": {
      "text/plain": [
       "EMTFXML(station='CAS04', latitude=37.63, longitude=-121.47, elevation=329.39)"
      ]
     },
     "execution_count": 37,
     "metadata": {},
     "output_type": "execute_result"
    }
   ],
   "source": [
    "tf_cls.write_tf_file(fn=\"emtfxml_test.xml\", file_type=\"edi\")"
   ]
  },
  {
   "cell_type": "code",
   "execution_count": 38,
   "metadata": {},
   "outputs": [
    {
     "name": "stderr",
     "output_type": "stream",
     "text": [
      "2022-09-09 02:24:07,301 [line 197] mt_metadata.transfer_functions.io.readwrite.write_file - INFO: Wrote emtfxml_test.xml\n"
     ]
    },
    {
     "data": {
      "text/plain": [
       "EMTFXML(station='CAS04', latitude=37.63, longitude=-121.47, elevation=329.39)"
      ]
     },
     "execution_count": 38,
     "metadata": {},
     "output_type": "execute_result"
    }
   ],
   "source": [
    " tf_cls.write_tf_file(fn=\"emtfxml_test.xml\", file_type=\"zmm\")"
   ]
  }
 ],
 "metadata": {
  "kernelspec": {
   "display_name": "py37",
   "language": "python",
   "name": "py37"
  },
  "language_info": {
   "codemirror_mode": {
    "name": "ipython",
    "version": 3
   },
   "file_extension": ".py",
   "mimetype": "text/x-python",
   "name": "python",
   "nbconvert_exporter": "python",
   "pygments_lexer": "ipython3",
   "version": "3.7.10"
  }
 },
 "nbformat": 4,
 "nbformat_minor": 4
}
