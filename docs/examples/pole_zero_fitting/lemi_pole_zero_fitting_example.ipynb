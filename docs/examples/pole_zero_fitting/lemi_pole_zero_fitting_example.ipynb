{
 "cells": [
  {
   "cell_type": "markdown",
   "metadata": {
    "iooxa": {
     "id": {
      "block": "wZjbfFElns2NeBB0DgIV",
      "project": "9QvEu5l3VaIkb17PuoF9",
      "version": 2
     }
    }
   },
   "source": [
    "<h1>Poles/Zeros/Gain from Look-Up Tables (Prototyping)</h1>"
   ]
  },
  {
   "cell_type": "markdown",
   "metadata": {
    "iooxa": {
     "id": {
      "block": "IcmV2G9XYDKtyb6F9n0u",
      "project": "9QvEu5l3VaIkb17PuoF9",
      "version": 1
     }
    }
   },
   "source": [
    "## Problem Statement"
   ]
  },
  {
   "cell_type": "markdown",
   "metadata": {
    "iooxa": {
     "id": {
      "block": "aR2YYsEQ5zZjbuLGT5Vc",
      "project": "9QvEu5l3VaIkb17PuoF9",
      "version": 1
     }
    }
   },
   "source": [
    "The IRIS metadata archiving process had a strong preference for pole-zero ('zpk') representations of analog filters.  However, calibrations of many MT instruments are characterized in the form of frequency sweeps, and the manufacturers calibrations are often provided in terms of tables of frequency, with amplitude and phase responses ('fap'). "
   ]
  },
  {
   "cell_type": "markdown",
   "metadata": {
    "iooxa": {
     "id": {
      "block": "cJXMEOrTgPte0NTJBGnD",
      "project": "9QvEu5l3VaIkb17PuoF9",
      "version": 1
     }
    }
   },
   "source": [
    "Thus we are faced with the problem of expressing a generic _fap_ instrument resposne in the _zpk_ format."
   ]
  },
  {
   "cell_type": "markdown",
   "metadata": {
    "iooxa": {
     "id": {
      "block": "JgqQKsfRGfeGp20DVR9v",
      "project": "9QvEu5l3VaIkb17PuoF9",
      "version": 1
     }
    }
   },
   "source": [
    "## Inverse Problem Setup\n",
    "\n",
    "$\\bf{d}$: The \"data\" in the the 'fap' table.  This is simply a set of $N$ ordered pairs, $\\{(f_1, x_1), (f_2, x_2), ... (f_N, x_N)\\}$ where $f_i \\in \\mathbb{R}^+$ and $x_i \\in \\mathbb{C}$\n",
    "\n",
    "$\\bf{G}$: The function relating the data and the model can take on several parameterizations.  One of the parameterizations is as a ratio of real valued polynomials:\n",
    "\n",
    "$ \\displaystyle h(s) = \\frac{a_{m}s^m + a_{m-1}s^{m-1} + ... + a_{1}s^{1} + a_{0}}{b_{n}s^{n} + b_{n-1}s^{n-1} + ... + b_{1}s^{1} + b_{0}} $\n",
    "\n",
    "Where the Laplace variable _s_  = *j* $\\omega$\n",
    "\n",
    "\n",
    "$\\bf{m}$:  Using the above parameterization $\\bf{m}$ would be the set of $m + n + 2$ coefficients ${a_0, a_1, ...a_m, b_0, b_1, ... b_n}$ with $a_i, b_i \\in \\mathbb{R}$\n",
    "\n",
    "<br>\n",
    "<br>\n",
    "\n",
    "The coefficients in the numerator and denominator polynomials in the Laplace domain representation of the filter are real. They typically correspond to values of circuit parameters resistance, capacitance, inductance, etc. in analog EE applications. This means that these polynomials factor completely over the complex plane and moreover, the roots are either real or occur in complex-conjugate pairs.\n",
    "<br>\n",
    "<br>\n",
    "\n",
    "Factoring $h(s)$ on top and bottom yields the form:\n",
    "\n",
    "$ \\displaystyle h (s) = k  \\frac{(s-z_1)(s-z_2)...(s-z_m) }{(s-p_1)(s-p_2)...(s-p_n)} $\n",
    "\n",
    "There are well defined transformations between these representations and they are available through _scipy.signal.tf2zpk_ or _zpk2tf_.\n"
   ]
  },
  {
   "cell_type": "markdown",
   "metadata": {
    "iooxa": {
     "id": {
      "block": "csdJWj6RWDRVK8FzKLZe",
      "project": "9QvEu5l3VaIkb17PuoF9",
      "version": 1
     }
    }
   },
   "source": [
    "### Recent Activity in PZ-fitting"
   ]
  },
  {
   "cell_type": "markdown",
   "metadata": {
    "iooxa": {
     "id": {
      "block": "8aXFO6gSp68x8vYyV5D1",
      "project": "9QvEu5l3VaIkb17PuoF9",
      "version": 1
     }
    }
   },
   "source": [
    "Ben Murphy tried a variety of methods to solve this problem but invariably wound up encountering poles and zeros (roots) that did not obey the principle of complex-conjugate roots, and  sometimes poles on the right hand side of the plane, and or k values that were complex-valued.  The complex k values are particularly concerning because IRIS does not provide support for complex-valued k -- it is just one double-precision number.  \n",
    "\n",
    "The reason for these issues deserves some analysis but at a high level seems to be due to parameterizations that ultimately wound up searching complex-valued spaces for soltuions.\n",
    "\n",
    "Karl tried some variants on Ben's methods which involved some regularization functions that penalized non-conjugate root pairs, and imaginary parts of k, but these never matured so their value is questionable.\n",
    "\n",
    "It seems like we should be able to use a numeric method to solve in the real valued form (even though the evaluation of the TF is Complex, the coefficients are real) and then extract the zpk afterwards.  Following is an example of a numeric solution.\n",
    "\n",
    "\n",
    "\n"
   ]
  },
  {
   "cell_type": "code",
   "execution_count": 60,
   "metadata": {
    "iooxa": {
     "id": {
      "block": "6kjQ0NzLCzK6ccl3H4Um",
      "project": "9QvEu5l3VaIkb17PuoF9",
      "version": 5
     },
     "outputId": {
      "block": "zgZSzsBgBy5eCiBevn6i",
      "project": "9QvEu5l3VaIkb17PuoF9",
      "version": 4
     }
    }
   },
   "outputs": [],
   "source": [
    "import matplotlib.pyplot as plt\n",
    "import numpy as np\n",
    "import pandas as pd\n",
    "\n",
    "# from matplotlib.gridspec import GridSpec\n",
    "from pathlib import Path\n",
    "from scipy import signal\n",
    "from scipy.optimize import minimize\n",
    "\n",
    "from mt_metadata.timeseries.filters.plotting_helpers import plot_response\n",
    "from aurora.sandbox.plot_helpers import plot_complex_response\n",
    "\n",
    "# from regularization_function_development import add_regularization_term \n",
    "# from regularization_function_development import get_pz_regularization\n",
    "\n",
    "# %matplotlib inline\n"
   ]
  },
  {
   "cell_type": "code",
   "execution_count": 46,
   "metadata": {
    "iooxa": {
     "id": {
      "block": "7HrEu4EUdIuvjjPN60Eg",
      "project": "9QvEu5l3VaIkb17PuoF9",
      "version": 2
     },
     "outputId": null
    }
   },
   "outputs": [],
   "source": [
    "DEG2RAD = np.pi/180"
   ]
  },
  {
   "cell_type": "markdown",
   "metadata": {
    "iooxa": {
     "id": {
      "block": "EPENQCwgb0pficBhQA7u",
      "project": "9QvEu5l3VaIkb17PuoF9",
      "version": 1
     }
    }
   },
   "source": [
    "## Load the data from data repo"
   ]
  },
  {
   "cell_type": "code",
   "execution_count": 47,
   "metadata": {
    "iooxa": {
     "id": {
      "block": "XFfs0mEX1LCLh8T5CMdQ",
      "project": "9QvEu5l3VaIkb17PuoF9",
      "version": 4
     },
     "outputId": {
      "block": "lqAilCibNH8rvRKApX2k",
      "project": "9QvEu5l3VaIkb17PuoF9",
      "version": 3
     }
    }
   },
   "outputs": [
    {
     "name": "stdout",
     "output_type": "stream",
     "text": [
      "Index(['frequency', 'amplitude_x', 'phase_x', 'amplitude_y', 'phase_y',\n",
      "       'amplitude_z', 'phase_z'],\n",
      "      dtype='object')\n"
     ]
    }
   ],
   "source": [
    "calibration_file_path = Path(\"Lemi-039_N131BxByBz\", \"Lemi-039_N131.cal\")\n",
    "\n",
    "df = pd.read_csv(calibration_file_path, skiprows=3, delimiter='\\t')\n",
    "column_labels = ['frequency', 'amplitude_x', 'phase_x', 'amplitude_y', 'phase_y', 'amplitude_z', 'phase_z']\n",
    "columns_map = dict(zip(df.columns, column_labels))\n",
    "df = df.rename(columns=columns_map)\n",
    "print(df.columns)\n"
   ]
  },
  {
   "cell_type": "markdown",
   "metadata": {
    "iooxa": {
     "id": {
      "block": "0I4jokmx8NS7jnT4myQh",
      "project": "9QvEu5l3VaIkb17PuoF9",
      "version": 1
     }
    }
   },
   "source": [
    "## Preliminary Response Curve"
   ]
  },
  {
   "cell_type": "code",
   "execution_count": 48,
   "metadata": {
    "iooxa": {
     "id": {
      "block": "KpBmSTg1ZSX5JLhOAeF5",
      "project": "9QvEu5l3VaIkb17PuoF9",
      "version": 5
     },
     "outputId": {
      "block": "qQL1SMAZiWXJ3osT2nzz",
      "project": "9QvEu5l3VaIkb17PuoF9",
      "version": 5
     }
    }
   },
   "outputs": [
    {
     "data": {
      "image/png": "[encoded data removed]",
      "text/plain": [
       "<Figure size 432x288 with 2 Axes>"
      ]
     },
     "metadata": {
      "needs_background": "light"
     },
     "output_type": "display_data"
    }
   ],
   "source": [
    "x_phase_radians = DEG2RAD*df['phase_x']\n",
    "x_phasor = np.exp(1.J*x_phase_radians) #(np.cos( x_phase_radians)+ 1.j*np.sin(x_phase_radians))\n",
    "x_complex_response = df['amplitude_x'] * x_phasor\n",
    "X_COMPLEX_RESPONSE = x_complex_response #make it global for availabilty in objective functions\n",
    "frequencies = df['frequency'].to_numpy()\n",
    "\n",
    "plot_complex_response(df['frequency'], x_complex_response)"
   ]
  },
  {
   "cell_type": "markdown",
   "metadata": {
    "iooxa": {
     "id": {
      "block": "sFp1YrxMdXCZHTDYWy9G",
      "project": "9QvEu5l3VaIkb17PuoF9",
      "version": 1
     }
    }
   },
   "source": [
    "## Estimate the response amplitude in the pass band"
   ]
  },
  {
   "cell_type": "code",
   "execution_count": 49,
   "metadata": {
    "iooxa": {
     "id": {
      "block": "f69iqNaSl8znJMWnh2OM",
      "project": "9QvEu5l3VaIkb17PuoF9",
      "version": 1
     },
     "outputId": {
      "block": "bHBaz2xL92pNcTN6SFuh",
      "project": "9QvEu5l3VaIkb17PuoF9",
      "version": 1
     }
    }
   },
   "outputs": [
    {
     "name": "stdout",
     "output_type": "stream",
     "text": [
      "nominal_passband_response_amplitude 0.02847\n"
     ]
    }
   ],
   "source": [
    "nominal_passband_response_amplitude = df['amplitude_x'].iloc[10].mean()\n",
    "print('nominal_passband_response_amplitude', nominal_passband_response_amplitude)"
   ]
  },
  {
   "cell_type": "markdown",
   "metadata": {
    "iooxa": {
     "id": {
      "block": "7F2Sp6G3o7XAvukRM987",
      "project": "9QvEu5l3VaIkb17PuoF9",
      "version": 1
     }
    }
   },
   "source": [
    "## Express in units of deciBels and plot on semilog"
   ]
  },
  {
   "cell_type": "code",
   "execution_count": 50,
   "metadata": {
    "iooxa": {
     "id": {
      "block": "FHvzRFyO1xw76LTFiRJF",
      "project": "9QvEu5l3VaIkb17PuoF9",
      "version": 1
     },
     "outputId": null
    }
   },
   "outputs": [],
   "source": [
    "amplitude_in_db = 20*np.log10(df['amplitude_x']/nominal_passband_response_amplitude)"
   ]
  },
  {
   "cell_type": "code",
   "execution_count": 51,
   "metadata": {
    "iooxa": {
     "id": {
      "block": "SwwkX3YWoLAzk1ZZHtk6",
      "project": "9QvEu5l3VaIkb17PuoF9",
      "version": 3
     },
     "outputId": {
      "block": "53l9ayq4YPvFfJwPkYnB",
      "project": "9QvEu5l3VaIkb17PuoF9",
      "version": 3
     }
    }
   },
   "outputs": [
    {
     "data": {
      "text/plain": [
       "Text(0.5, 1.0, 'Amplitude Response of Instrument in dB')"
      ]
     },
     "execution_count": 51,
     "metadata": {},
     "output_type": "execute_result"
    },
    {
     "data": {
      "image/png": "[encoded data removed]",
      "text/plain": [
       "<Figure size 432x288 with 1 Axes>"
      ]
     },
     "metadata": {
      "needs_background": "light"
     },
     "output_type": "display_data"
    }
   ],
   "source": [
    "plt.semilogx(df['frequency'], amplitude_in_db)\n",
    "plt.semilogx(df['frequency'], amplitude_in_db, 'r*')\n",
    "plt.grid(which='both')\n",
    "plt.title('Amplitude Response of Instrument in dB')\n"
   ]
  },
  {
   "cell_type": "markdown",
   "metadata": {
    "iooxa": {
     "id": {
      "block": "iMRaL1KaVep5fwsN0f1L",
      "project": "9QvEu5l3VaIkb17PuoF9",
      "version": 2
     }
    }
   },
   "source": [
    "## Note that the decay is log-linear after about 5Hz"
   ]
  },
  {
   "cell_type": "code",
   "execution_count": 53,
   "metadata": {
    "iooxa": {
     "id": {
      "block": "1LERG0EhyXywvXrbAVLZ",
      "project": "9QvEu5l3VaIkb17PuoF9",
      "version": 3
     },
     "outputId": {
      "block": "6J6syNcfv52jHeTHbkjE",
      "project": "9QvEu5l3VaIkb17PuoF9",
      "version": 2
     }
    }
   },
   "outputs": [
    {
     "data": {
      "image/png": "[encoded data removed]",
      "text/plain": [
       "<Figure size 432x288 with 1 Axes>"
      ]
     },
     "metadata": {
      "needs_background": "light"
     },
     "output_type": "display_data"
    }
   ],
   "source": [
    "#The last 13 points are approximately a straight line on the log plot\n",
    "n_asymptotic_log_linear = 13\n",
    "frq_line = df['frequency'][-n_asymptotic_log_linear:]\n",
    "ampl_line = df['amplitude_x'][-n_asymptotic_log_linear:]\n",
    "db_line = amplitude_in_db[-n_asymptotic_log_linear:]\n",
    "log_f = np.array(np.log10(frq_line))\n",
    "log_a = np.array(np.log10(ampl_line))\n",
    "db = np.array(db_line)\n",
    "db_per_decade = (db[-1]-db[0]) / (log_f[-1]-log_f[0])\n",
    "\n",
    "plt.plot(log_f, db_line)\n",
    "plt.xlabel('log$_{10}$ frequency')\n",
    "plt.ylabel('dB')\n",
    "plt.title(f\"db_per_decade: {db_per_decade:.2f}\")\n",
    "plt.show()"
   ]
  },
  {
   "cell_type": "markdown",
   "metadata": {
    "iooxa": {
     "id": {
      "block": "BiLM7llCkBPZyePBjqjk",
      "project": "9QvEu5l3VaIkb17PuoF9",
      "version": 1
     }
    }
   },
   "source": [
    "### looks like approximately -20dB/decade, which theoretically corresponds to a single pole.  We obtain a decent fit with one pole, but a better fit with 3poles and one zero.\n",
    "\n",
    "If we want to optimize we need to add constraints however.  In particular, a regulariization that forces 1: complex poles to be conjugates, and the 'odd' poles to be pure real.  This means modifying the LLSQ process."
   ]
  },
  {
   "cell_type": "markdown",
   "metadata": {},
   "source": [
    "If the roll off is ~20dB/ decade then we would expect a 1 pole filter, or at least a filter with one more pole than zeros"
   ]
  },
  {
   "cell_type": "code",
   "execution_count": 71,
   "metadata": {},
   "outputs": [
    {
     "data": {
      "text/html": [
       "<iframe src=\"https://eng.libretexts.org/Bookshelves/Electrical_Engineering/Electronics/Operational_Amplifiers_and_Linear_Integrated_Circuits_-_Theory_and_Application_(Fiore)/11%3A_Active_Filters/11.04%3A_Section_4-\" width=\"1200\" height=\"1000\"></iframe>\n"
      ],
      "text/plain": [
       "<IPython.core.display.HTML object>"
      ]
     },
     "metadata": {},
     "output_type": "display_data"
    }
   ],
   "source": [
    "%%html\n",
    "<iframe src=\"https://eng.libretexts.org/Bookshelves/Electrical_Engineering/Electronics/Operational_Amplifiers_and_Linear_Integrated_Circuits_-_Theory_and_Application_(Fiore)/11%3A_Active_Filters/11.04%3A_Section_4-\" width=\"1200\" height=\"1000\"></iframe>"
   ]
  },
  {
   "cell_type": "code",
   "execution_count": 55,
   "metadata": {
    "iooxa": {
     "id": {
      "block": "uhGMTyln2lJl7CJ2swJn",
      "project": "9QvEu5l3VaIkb17PuoF9",
      "version": 4
     },
     "outputId": {
      "block": "TE6USowdOu7Mhg055bTv",
      "project": "9QvEu5l3VaIkb17PuoF9",
      "version": 4
     }
    }
   },
   "outputs": [],
   "source": [
    "# from tf_helpers import Fit_ZerosPolesGain_toFrequencyResponse_LLSQ\n",
    "# n_zeros = 2; n_poles = 3;\n",
    "# #n_zeros = 0; n_poles = 1;\n",
    "\n",
    "# print(\"PARAMETERIZATION: {} zeros, {} poles\".format(n_zeros, n_poles))\n",
    "# w_obs = 2*np.pi*frequencies\n",
    "# resp_obs =  x_complex_response#df['amplitude_x']\n",
    "# LEMI_LM_ZPK = Fit_ZerosPolesGain_toFrequencyResponse_LLSQ(w_obs, \n",
    "#                                                         resp_obs, \n",
    "#                                                         n_zeros, n_poles, useSKiter=False, \n",
    "#                                                          regularize=False)\n",
    "# print(LEMI_LM_ZPK)\n",
    "\n",
    "# plot_response(resp_obs=resp_obs, w_obs=w_obs, x_units='frequency', \n",
    "#               zpk_pred=LEMI_LM_ZPK, w_values=w_obs)\n"
   ]
  },
  {
   "cell_type": "markdown",
   "metadata": {
    "iooxa": {
     "id": {
      "block": "bF7gmhzXeEnipayuKJZh",
      "project": "9QvEu5l3VaIkb17PuoF9",
      "version": 2
     }
    }
   },
   "source": [
    "### Lets try a numerical approach using scipy optimize and some regularization that penalizes deviations from the fundamental theorem of algebra solutions"
   ]
  },
  {
   "cell_type": "code",
   "execution_count": 103,
   "metadata": {
    "iooxa": {
     "id": {
      "block": "dyIbd0IDaCYgbf6HM7CR",
      "project": "9QvEu5l3VaIkb17PuoF9",
      "version": 2
     },
     "outputId": {
      "block": "dA9fv8ue8kyJi2AthS0R",
      "project": "9QvEu5l3VaIkb17PuoF9",
      "version": 2
     }
    }
   },
   "outputs": [
    {
     "name": "stdout",
     "output_type": "stream",
     "text": [
      "numerator  [ 0.417022    0.72032449] 1\n",
      "denominator [  1.14374817e-04   3.02332573e-01   1.46755891e-01] 2\n",
      "misfit 2.46055330257\n"
     ]
    },
    {
     "data": {
      "text/plain": [
       "2.4605533025729578"
      ]
     },
     "execution_count": 103,
     "metadata": {},
     "output_type": "execute_result"
    }
   ],
   "source": [
    "W = 2*np.pi*frequencies\n",
    "\n",
    "N_ZEROS = 0; N_POLES = 1 #Not great\n",
    "N_ZEROS = 1; N_POLES = 2#Good when seeded with 1\n",
    "#N_ZEROS = 2; N_POLES = 3#Good when seeded with 3\n",
    "#N_ZEROS = 3; N_POLES = 4#not so good\n",
    "np.random.seed(1)\n",
    "b0 = np.random.rand(N_ZEROS+1)\n",
    "a0 = np.random.rand(N_POLES+1)\n",
    "\n",
    "MODEL_VECTOR_0 = np.hstack((b0, a0))\n",
    "#print('MODEL_VECTOR_0',MODEL_VECTOR_0)\n",
    "\n",
    "\n",
    "def objective_function(model_vector, verbose=False):\n",
    "    #unpack the model vector\n",
    "    bb = model_vector[:N_ZEROS+1]\n",
    "    aa = model_vector[N_ZEROS+1:]\n",
    "    \n",
    "    if verbose:\n",
    "        print('numerator ', bb, N_ZEROS)\n",
    "        print('denominator', aa, N_POLES)\n",
    "    w, h = signal.freqs(bb, aa, worN=W)\n",
    "    residual = X_COMPLEX_RESPONSE - h\n",
    "    #print(residual)\n",
    "    misfit = np.sqrt(np.mean(np.abs(residual**2)))\n",
    "#    misfit = add_regularization_term(zeros, poles, k, misfit, aa=0.1)\n",
    "    if verbose:\n",
    "        print('misfit',misfit)\n",
    "    return misfit\n",
    "\n",
    "objective_function(MODEL_VECTOR_0, verbose=True)"
   ]
  },
  {
   "cell_type": "code",
   "execution_count": 104,
   "metadata": {
    "iooxa": {
     "id": {
      "block": "iswzzsAD27XnYdV7p5aC",
      "project": "9QvEu5l3VaIkb17PuoF9",
      "version": 2
     },
     "outputId": {
      "block": "nUOP00N9mCHQFttTIVZS",
      "project": "9QvEu5l3VaIkb17PuoF9",
      "version": 2
     }
    }
   },
   "outputs": [
    {
     "name": "stderr",
     "output_type": "stream",
     "text": [
      "/home/kkappler/.local/lib/python3.6/site-packages/ipykernel_launcher.py:5: OptimizeWarning: Unknown solver options: xatol\n",
      "  \"\"\"\n"
     ]
    },
    {
     "name": "stdout",
     "output_type": "stream",
     "text": [
      "Optimization terminated successfully.\n",
      "         Current function value: 0.000202\n",
      "         Iterations: 14\n",
      "         Function evaluations: 1089\n"
     ]
    }
   ],
   "source": [
    "#method = 'nelder-mead'\n",
    "method = 'Powell'\n",
    "#method = 'CG'\n",
    "#method = 'Newton-CG' #needs Jacobian\n",
    "res = minimize(objective_function, MODEL_VECTOR_0, method=method, options={'xatol': 1e-10, 'disp': True, })"
   ]
  },
  {
   "cell_type": "code",
   "execution_count": 105,
   "metadata": {
    "iooxa": {
     "id": {
      "block": "QEb2amiKsUa8KbZIrXEK",
      "project": "9QvEu5l3VaIkb17PuoF9",
      "version": 2
     },
     "outputId": {
      "block": "6CTKyCCegUN3hZNPdb63",
      "project": "9QvEu5l3VaIkb17PuoF9",
      "version": 1
     }
    }
   },
   "outputs": [
    {
     "name": "stdout",
     "output_type": "stream",
     "text": [
      "ZerosPolesGainContinuous(\n",
      "array([-37.78764719]),\n",
      "array([-18.49867054+16.57300946j, -18.49867054-16.57300946j]),\n",
      "-0.4648829833859911,\n",
      "dt: None\n",
      ")\n"
     ]
    }
   ],
   "source": [
    "res.x\n",
    "bb = res.x[:N_ZEROS+1]\n",
    "aa = res.x[N_ZEROS+1:]\n",
    "zpk = signal.TransferFunction(bb, aa).to_zpk()\n",
    "#zpk = signal.tf2zpk(bb, aa)\n",
    "print(zpk)\n",
    "#print(type(zpk))\n"
   ]
  },
  {
   "cell_type": "code",
   "execution_count": 106,
   "metadata": {
    "iooxa": {
     "id": {
      "block": "zvkDTpKBLaLatxq3RHYr",
      "project": "9QvEu5l3VaIkb17PuoF9",
      "version": 2
     },
     "outputId": {
      "block": "aHXm743zuuVzAXXgii0s",
      "project": "9QvEu5l3VaIkb17PuoF9",
      "version": 2
     }
    }
   },
   "outputs": [
    {
     "data": {
      "image/png": "[encoded data removed]",
      "text/plain": [
       "<Figure size 1008x288 with 3 Axes>"
      ]
     },
     "metadata": {
      "needs_background": "light"
     },
     "output_type": "display_data"
    }
   ],
   "source": [
    "plot_response(resp_obs=resp_obs, w_obs=w_obs, x_units='frequency', \n",
    "              zpk_pred=zpk, w_values=w_obs)"
   ]
  },
  {
   "cell_type": "markdown",
   "metadata": {},
   "source": [
    "what percent differences are we looking at here?"
   ]
  },
  {
   "cell_type": "code",
   "execution_count": 112,
   "metadata": {},
   "outputs": [
    {
     "data": {
      "text/plain": [
       "array([  1.17108509e-01,  -8.15728192e-03,   8.01752757e-03,\n",
       "         4.71400215e-02,   3.37596502e-03,   7.12834007e-03,\n",
       "         6.71110507e-03,   1.74167859e-02,   9.65177288e-03,\n",
       "         4.83541843e-03,   5.07153821e-03,  -1.01671816e-02,\n",
       "        -7.34773273e-04,  -1.01214521e-02,   1.32071422e-03,\n",
       "        -1.38925629e-02,   1.55362896e-02,  -1.14290846e-03,\n",
       "         1.29174179e-02,  -2.86266283e-02,  -1.09777128e-02,\n",
       "         3.26699526e-03,  -1.59316504e-03,   1.97338839e-02,\n",
       "        -1.73524258e-02,   3.47419521e-04,   1.98501572e-02,\n",
       "         1.77932781e-02,   5.45075830e-02,   5.87195330e-02,\n",
       "         1.15844367e-01,   1.43397591e-01,   1.63482792e-01,\n",
       "         1.53176575e-01,   1.34203539e-01,   4.45630958e-02,\n",
       "        -2.04469810e-02,  -1.11298669e-01,  -4.75105695e-02,\n",
       "         1.52755963e-01,   4.38486018e-01,   8.40064153e-01,\n",
       "         1.48316739e+00,   2.17213577e+00,   3.13772873e+00,\n",
       "         3.86222759e+00,   4.70537812e+00,   6.19387338e+00,\n",
       "         7.59606740e+00,   9.24055597e+00])"
      ]
     },
     "execution_count": 112,
     "metadata": {},
     "output_type": "execute_result"
    }
   ],
   "source": [
    "resp_obs\n",
    "frequencies\n",
    "w_pred, resp_pred = signal.freqresp(zpk, w=w_obs)\n",
    "np.abs((resp_pred-resp_obs)/resp_obs)*100\n",
    "\n",
    "(1./DEG2RAD)*(np.angle(resp_pred) - np.angle(resp_obs))/np.angle(resp_obs)"
   ]
  },
  {
   "cell_type": "code",
   "execution_count": 102,
   "metadata": {},
   "outputs": [
    {
     "data": {
      "text/plain": [
       "10.007999999999999"
      ]
     },
     "execution_count": 102,
     "metadata": {},
     "output_type": "execute_result"
    }
   ],
   "source": [
    "frequencies[40]"
   ]
  },
  {
   "cell_type": "markdown",
   "metadata": {
    "iooxa": {
     "id": {
      "block": "LlbDtrw5oaWYyIa3Vox5",
      "project": "9QvEu5l3VaIkb17PuoF9",
      "version": 1
     }
    }
   },
   "source": [
    "## So, where are we?\n",
    "\n",
    "We have a numeric method that works \"pretty  well\" but could use some serious tuning\n",
    "1. We have analytic expressions so lets get some Jacobians and Hessians and try some of the more classical approaches in scipy.minimize\n",
    "\n",
    "2. Lets try a bunch of seed values for each optimization and explore the sum RMS misfits.  \n",
    "3. Do (2) above for a collection of n_poles, n_zeros controls\n",
    "\n",
    "4. Tidy up supporting codes and make some metrics/reports to use for these fits\n",
    "5. Move on"
   ]
  },
  {
   "cell_type": "code",
   "execution_count": null,
   "metadata": {},
   "outputs": [],
   "source": []
  },
  {
   "cell_type": "code",
   "execution_count": null,
   "metadata": {},
   "outputs": [],
   "source": []
  },
  {
   "cell_type": "code",
   "execution_count": null,
   "metadata": {},
   "outputs": [],
   "source": []
  },
  {
   "cell_type": "code",
   "execution_count": null,
   "metadata": {},
   "outputs": [],
   "source": []
  },
  {
   "cell_type": "code",
   "execution_count": null,
   "metadata": {},
   "outputs": [],
   "source": []
  },
  {
   "cell_type": "markdown",
   "metadata": {},
   "source": [
    "####  Note that if we relax the requirement that the poles and zeros are real or conjugate-pairs we can get better fits, but it is a physical solution.  There is some research to be done here.  \n",
    "\n",
    "If you are interested in exploring more check out Ben Murphy's ipynb in iris-mt-scratch repo"
   ]
  },
  {
   "cell_type": "code",
   "execution_count": 62,
   "metadata": {},
   "outputs": [],
   "source": [
    "from scipy.optimize import minimize"
   ]
  },
  {
   "cell_type": "code",
   "execution_count": null,
   "metadata": {},
   "outputs": [],
   "source": []
  },
  {
   "cell_type": "code",
   "execution_count": 95,
   "metadata": {
    "iooxa": {
     "id": {
      "block": "uhGMTyln2lJl7CJ2swJn",
      "project": "9QvEu5l3VaIkb17PuoF9",
      "version": 4
     },
     "outputId": {
      "block": "TE6USowdOu7Mhg055bTv",
      "project": "9QvEu5l3VaIkb17PuoF9",
      "version": 4
     }
    }
   },
   "outputs": [
    {
     "name": "stdout",
     "output_type": "stream",
     "text": [
      "PARAMETERIZATION: 2 zeros, 3 poles\n",
      "ZerosPolesGainContinuous(\n",
      "array([-957.08603092+4.45450947j,  -34.98372872-2.28826934j]),\n",
      "array([-485.28932769+107.50895551j,  -17.26778927 -17.54658073j,\n",
      "        -18.34527168 +15.52113528j]),\n",
      "(-0.2446806069717897+0.046680268003547215j),\n",
      "dt: None\n",
      ")\n"
     ]
    },
    {
     "data": {
      "image/png": "[encoded data removed]",
      "text/plain": [
       "<Figure size 1008x288 with 3 Axes>"
      ]
     },
     "metadata": {
      "needs_background": "light"
     },
     "output_type": "display_data"
    }
   ],
   "source": [
    "from tf_helpers import Fit_ZerosPolesGain_toFrequencyResponse_LLSQ\n",
    "n_zeros = 2; n_poles = 3;\n",
    "#n_zeros = 1; n_poles = 2;\n",
    "#n_zeros = 0; n_poles = 1;\n",
    "\n",
    "print(\"PARAMETERIZATION: {} zeros, {} poles\".format(n_zeros, n_poles))\n",
    "w_obs = 2*np.pi*frequencies\n",
    "resp_obs =  x_complex_response#df['amplitude_x']\n",
    "LEMI_LM_ZPK = Fit_ZerosPolesGain_toFrequencyResponse_LLSQ(w_obs, \n",
    "                                                        resp_obs, \n",
    "                                                        n_zeros, n_poles, useSKiter=False, \n",
    "                                                         regularize=False)\n",
    "print(LEMI_LM_ZPK)\n",
    "\n",
    "plot_response(resp_obs=resp_obs, w_obs=w_obs, x_units='frequency', \n",
    "              zpk_pred=LEMI_LM_ZPK, w_values=w_obs)\n"
   ]
  },
  {
   "cell_type": "code",
   "execution_count": 113,
   "metadata": {},
   "outputs": [
    {
     "data": {
      "text/plain": [
       "0     0.638158\n",
       "1     0.498207\n",
       "2     0.101776\n",
       "3     0.207398\n",
       "4     0.135960\n",
       "5     0.449954\n",
       "6     0.155934\n",
       "7     0.114567\n",
       "8     0.313557\n",
       "9     0.112989\n",
       "10    0.140235\n",
       "11    0.169018\n",
       "12    0.100383\n",
       "13    0.119354\n",
       "14    0.068533\n",
       "15    0.090453\n",
       "16    0.157084\n",
       "17    0.072294\n",
       "18    0.092330\n",
       "19    0.203936\n",
       "20    0.074840\n",
       "21    0.081134\n",
       "22    0.056017\n",
       "23    0.159542\n",
       "24    0.163991\n",
       "25    0.120231\n",
       "26    0.181844\n",
       "27    0.074201\n",
       "28    0.132750\n",
       "29    0.129995\n",
       "30    0.070027\n",
       "31    0.102507\n",
       "32    0.089862\n",
       "33    0.195729\n",
       "34    0.245377\n",
       "35    0.179085\n",
       "36    0.213835\n",
       "37    0.064805\n",
       "38    0.141571\n",
       "39    0.163369\n",
       "40    0.292033\n",
       "41    0.388454\n",
       "42    0.113458\n",
       "43    0.268236\n",
       "44    0.535032\n",
       "45    0.112583\n",
       "46    0.439616\n",
       "47    0.208596\n",
       "48    0.043306\n",
       "49    0.037117\n",
       "dtype: float64"
      ]
     },
     "execution_count": 113,
     "metadata": {},
     "output_type": "execute_result"
    }
   ],
   "source": [
    "w_pred, resp_pred = signal.freqresp(LEMI_LM_ZPK, w=w_obs)\n",
    "np.abs((resp_pred-resp_obs)/resp_obs)*100"
   ]
  },
  {
   "cell_type": "code",
   "execution_count": null,
   "metadata": {},
   "outputs": [],
   "source": []
  },
  {
   "cell_type": "code",
   "execution_count": null,
   "metadata": {},
   "outputs": [],
   "source": []
  }
 ],
 "metadata": {
  "iooxa": {
   "id": {
    "block": "rnlbBlX9Cs9jbOHWxwWF",
    "project": "9QvEu5l3VaIkb17PuoF9",
    "version": 5
   }
  },
  "kernelspec": {
   "display_name": "Python (aurora)",
   "language": "python",
   "name": "aurora"
  },
  "language_info": {
   "codemirror_mode": {
    "name": "ipython",
    "version": 3
   },
   "file_extension": ".py",
   "mimetype": "text/x-python",
   "name": "python",
   "nbconvert_exporter": "python",
   "pygments_lexer": "ipython3",
   "version": "3.6.12"
  }
 },
 "nbformat": 4,
 "nbformat_minor": 4
}
