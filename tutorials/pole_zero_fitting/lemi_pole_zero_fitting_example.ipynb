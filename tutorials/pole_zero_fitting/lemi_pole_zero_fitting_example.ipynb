{
 "cells": [
  {
   "cell_type": "markdown",
   "metadata": {
    "iooxa": {
     "id": {
      "block": "wZjbfFElns2NeBB0DgIV",
      "project": "9QvEu5l3VaIkb17PuoF9",
      "version": 2
     }
    }
   },
   "source": [
    "<h1>Poles/Zeros/Gain from Look-Up Tables (Prototyping)</h1>"
   ]
  },
  {
   "cell_type": "markdown",
   "metadata": {
    "iooxa": {
     "id": {
      "block": "IcmV2G9XYDKtyb6F9n0u",
      "project": "9QvEu5l3VaIkb17PuoF9",
      "version": 1
     }
    }
   },
   "source": [
    "## Problem Statement"
   ]
  },
  {
   "cell_type": "markdown",
   "metadata": {
    "iooxa": {
     "id": {
      "block": "aR2YYsEQ5zZjbuLGT5Vc",
      "project": "9QvEu5l3VaIkb17PuoF9",
      "version": 1
     }
    }
   },
   "source": [
    "The IRIS metadata archiving process had a strong preference for pole-zero ('zpk') representations of analog filters.  However, calibrations of many MT instruments are characterized in the form of frequency sweeps, and manufacturer's calibrations are often provided in terms of tables of frequency, with amplitude and phase responses ('fap'). "
   ]
  },
  {
   "cell_type": "markdown",
   "metadata": {
    "iooxa": {
     "id": {
      "block": "cJXMEOrTgPte0NTJBGnD",
      "project": "9QvEu5l3VaIkb17PuoF9",
      "version": 1
     }
    }
   },
   "source": [
    "Thus we are faced with the problem of expressing a generic _fap_ instrument resposne in the _zpk_ format."
   ]
  },
  {
   "cell_type": "markdown",
   "metadata": {
    "iooxa": {
     "id": {
      "block": "JgqQKsfRGfeGp20DVR9v",
      "project": "9QvEu5l3VaIkb17PuoF9",
      "version": 1
     }
    }
   },
   "source": [
    "## Inverse Problem Setup\n",
    "\n",
    "Starting with the classic inversion model notation:\n",
    "\n",
    "$\\bf{d} = \\bf{Gm}$\n",
    "\n",
    "$\\bf{d}$: The \"data\" in the the 'fap' table.  This is simply a set of $N$ ordered pairs, $\\{(f_1, x_1), (f_2, x_2), ... (f_N, x_N)\\}$ where $f_i \\in \\mathbb{R}^+$ and $x_i \\in \\mathbb{C}$\n",
    "\n",
    "$\\bf{G}$: The function relating the data and the model can take on several parameterizations.  One parameterization is as a ratio of (possibly complex-valued) polynomials but with only real-valued coefficients.  We apply a change of notation as the data-to-model relationship denoted above as $\\bf{G}$ is more commonly referred to in signal processing as $h(s)$ , thus $h(s) \\leftarrow \\bf{G}(s)$ \n",
    "\n",
    "$ \\displaystyle h(s) = \\frac{a_{m}s^m + a_{m-1}s^{m-1} + ... + a_{1}s^{1} + a_{0}}{b_{n}s^{n} + b_{n-1}s^{n-1} + ... + b_{1}s^{1} + b_{0}} $\n",
    "\n",
    "Where the Laplace variable _s_  = *j* $\\omega$\n",
    "\n",
    "\n",
    "$\\bf{m}$:  Using the above parameterization $\\bf{m}$ would be the set of $m + n + 2$ coefficients ${a_0, a_1, ...a_m, b_0, b_1, ... b_n}$ with $a_i, b_i \\in \\mathbb{R}$"
   ]
  },
  {
   "cell_type": "markdown",
   "metadata": {},
   "source": [
    "<br>\n",
    "\n",
    "The coefficients in the numerator and denominator polynomials in the Laplace domain representation of the filter are real. They typically correspond to values of circuit parameters resistance, capacitance, inductance, etc. in analog EE applications. This means that these polynomials factor completely over the complex plane and moreover, the roots are either real or occur in complex-conjugate pairs.\n",
    "<br>\n",
    "<br>\n",
    "\n",
    "\n",
    "Factoring $h(s)$ on top and bottom yields the form:\n",
    "\n",
    "$ \\displaystyle h (s) = k  \\frac{(s-z_1)(s-z_2)...(s-z_m) }{(s-p_1)(s-p_2)...(s-p_n)} $\n",
    "\n",
    "There are well defined transformations between these representations and they are available through _scipy.signal.tf2zpk_ or _zpk2tf_.\n"
   ]
  },
  {
   "cell_type": "markdown",
   "metadata": {
    "iooxa": {
     "id": {
      "block": "csdJWj6RWDRVK8FzKLZe",
      "project": "9QvEu5l3VaIkb17PuoF9",
      "version": 1
     }
    }
   },
   "source": [
    "### Recent Activity in PZ-fitting"
   ]
  },
  {
   "cell_type": "markdown",
   "metadata": {
    "iooxa": {
     "id": {
      "block": "8aXFO6gSp68x8vYyV5D1",
      "project": "9QvEu5l3VaIkb17PuoF9",
      "version": 1
     }
    }
   },
   "source": [
    "Ben Murphy tried a variety of methods to solve this problem but invariably wound up encountering poles and zeros (roots) that did not obey the principle of complex-conjugate roots, and  sometimes poles on the right hand side of the plane, and or k values that were complex-valued.  The complex k values are particularly concerning because IRIS does not provide support for complex-valued k $-$ it is just one double-precision number.  \n",
    "\n",
    "The reason for these issues deserves some analysis but at a high level seems to be due to parameterizations that ultimately wound up searching complex-valued spaces for soltuions.\n",
    "\n",
    "Karl tried some variants on Ben's methods which involved some regularization functions that penalized non-conjugate root pairs, and imaginary parts of k, but these never matured so their value is questionable.\n",
    "\n",
    "It seems like we should be able to use a numeric method to solve in the real valued form (even though the evaluation of the TF is Complex, the coefficients are real) and then extract the zpk afterwards.  Following is an example of a numeric solution.\n",
    "\n",
    "\n",
    "\n"
   ]
  },
  {
   "cell_type": "code",
   "execution_count": 1,
   "metadata": {
    "iooxa": {
     "id": {
      "block": "6kjQ0NzLCzK6ccl3H4Um",
      "project": "9QvEu5l3VaIkb17PuoF9",
      "version": 5
     },
     "outputId": {
      "block": "zgZSzsBgBy5eCiBevn6i",
      "project": "9QvEu5l3VaIkb17PuoF9",
      "version": 4
     }
    }
   },
   "outputs": [],
   "source": [
    "import copy\n",
    "import matplotlib.pyplot as plt\n",
    "import numpy as np\n",
    "import pandas as pd\n",
    "\n",
    "# from matplotlib.gridspec import GridSpec\n",
    "from pathlib import Path\n",
    "from scipy import signal\n",
    "from scipy.optimize import minimize\n",
    "\n",
    "from aurora.sandbox.plot_helpers import plot_complex_response\n",
    "from aurora.sandbox.plot_helpers import plot_response_pz\n",
    "\n",
    "# from regularization_function_development import add_regularization_term \n",
    "# from regularization_function_development import get_pz_regularization\n",
    "\n",
    "# %matplotlib inline\n"
   ]
  },
  {
   "cell_type": "code",
   "execution_count": 2,
   "metadata": {
    "iooxa": {
     "id": {
      "block": "7HrEu4EUdIuvjjPN60Eg",
      "project": "9QvEu5l3VaIkb17PuoF9",
      "version": 2
     },
     "outputId": null
    }
   },
   "outputs": [],
   "source": [
    "DEG2RAD = np.pi/180"
   ]
  },
  {
   "cell_type": "markdown",
   "metadata": {
    "iooxa": {
     "id": {
      "block": "EPENQCwgb0pficBhQA7u",
      "project": "9QvEu5l3VaIkb17PuoF9",
      "version": 1
     }
    }
   },
   "source": [
    "## Load the data from data repo"
   ]
  },
  {
   "cell_type": "code",
   "execution_count": 3,
   "metadata": {
    "iooxa": {
     "id": {
      "block": "XFfs0mEX1LCLh8T5CMdQ",
      "project": "9QvEu5l3VaIkb17PuoF9",
      "version": 4
     },
     "outputId": {
      "block": "lqAilCibNH8rvRKApX2k",
      "project": "9QvEu5l3VaIkb17PuoF9",
      "version": 3
     }
    }
   },
   "outputs": [
    {
     "name": "stdout",
     "output_type": "stream",
     "text": [
      "Index(['frequency', 'amplitude_x', 'phase_x', 'amplitude_y', 'phase_y',\n",
      "       'amplitude_z', 'phase_z'],\n",
      "      dtype='object')\n"
     ]
    }
   ],
   "source": [
    "calibration_file_path = Path(\"Lemi-039_N131BxByBz\", \"Lemi-039_N131.cal\")\n",
    "\n",
    "df = pd.read_csv(calibration_file_path, skiprows=3, delimiter='\\t')\n",
    "column_labels = ['frequency', 'amplitude_x', 'phase_x', 'amplitude_y', 'phase_y', 'amplitude_z', 'phase_z']\n",
    "columns_map = dict(zip(df.columns, column_labels))\n",
    "df = df.rename(columns=columns_map)\n",
    "print(df.columns)\n"
   ]
  },
  {
   "cell_type": "markdown",
   "metadata": {
    "iooxa": {
     "id": {
      "block": "0I4jokmx8NS7jnT4myQh",
      "project": "9QvEu5l3VaIkb17PuoF9",
      "version": 1
     }
    }
   },
   "source": [
    "## Preliminary Response Curve\n",
    "\n",
    "\n",
    "In the following, the variables are sometimes prefixed with an $x$. The reason for this is that the LEMI calibration file has columns in the table for $x, y, z$ and in this example we select the $x$ columns for analysis. \n",
    "\n",
    "We start by reading the amplitude and phase from the dataframe, and combining them into a single complex-valued response function."
   ]
  },
  {
   "cell_type": "code",
   "execution_count": 4,
   "metadata": {
    "iooxa": {
     "id": {
      "block": "KpBmSTg1ZSX5JLhOAeF5",
      "project": "9QvEu5l3VaIkb17PuoF9",
      "version": 5
     },
     "outputId": {
      "block": "qQL1SMAZiWXJ3osT2nzz",
      "project": "9QvEu5l3VaIkb17PuoF9",
      "version": 5
     }
    }
   },
   "outputs": [
    {
     "data": {
      "image/png": "[encoded data removed]",
      "text/plain": [
       "<Figure size 432x288 with 2 Axes>"
      ]
     },
     "metadata": {
      "needs_background": "light"
     },
     "output_type": "display_data"
    }
   ],
   "source": [
    "x_phase_radians = DEG2RAD*df['phase_x']\n",
    "x_phasor = np.exp(1.J*x_phase_radians) #(np.cos( x_phase_radians)+ 1.j*np.sin(x_phase_radians))\n",
    "x_complex_response = df['amplitude_x'] * x_phasor\n",
    "frequencies = df['frequency'].to_numpy()\n",
    "\n",
    "plot_complex_response(df['frequency'], x_complex_response)"
   ]
  },
  {
   "cell_type": "markdown",
   "metadata": {
    "iooxa": {
     "id": {
      "block": "sFp1YrxMdXCZHTDYWy9G",
      "project": "9QvEu5l3VaIkb17PuoF9",
      "version": 1
     }
    }
   },
   "source": [
    "## Estimate the response amplitude in the pass band"
   ]
  },
  {
   "cell_type": "code",
   "execution_count": 5,
   "metadata": {
    "iooxa": {
     "id": {
      "block": "f69iqNaSl8znJMWnh2OM",
      "project": "9QvEu5l3VaIkb17PuoF9",
      "version": 1
     },
     "outputId": {
      "block": "bHBaz2xL92pNcTN6SFuh",
      "project": "9QvEu5l3VaIkb17PuoF9",
      "version": 1
     }
    }
   },
   "outputs": [
    {
     "name": "stdout",
     "output_type": "stream",
     "text": [
      "nominal_passband_response_amplitude 0.02847\n"
     ]
    }
   ],
   "source": [
    "nominal_passband_response_amplitude = df['amplitude_x'].iloc[10].mean()\n",
    "print('nominal_passband_response_amplitude', nominal_passband_response_amplitude)"
   ]
  },
  {
   "cell_type": "markdown",
   "metadata": {
    "iooxa": {
     "id": {
      "block": "7F2Sp6G3o7XAvukRM987",
      "project": "9QvEu5l3VaIkb17PuoF9",
      "version": 1
     }
    }
   },
   "source": [
    "## Express in units of deciBels and plot on semilog"
   ]
  },
  {
   "cell_type": "code",
   "execution_count": 6,
   "metadata": {
    "iooxa": {
     "id": {
      "block": "FHvzRFyO1xw76LTFiRJF",
      "project": "9QvEu5l3VaIkb17PuoF9",
      "version": 1
     },
     "outputId": null
    }
   },
   "outputs": [],
   "source": [
    "amplitude_in_db = 20*np.log10(df['amplitude_x']/nominal_passband_response_amplitude)"
   ]
  },
  {
   "cell_type": "code",
   "execution_count": 7,
   "metadata": {
    "iooxa": {
     "id": {
      "block": "SwwkX3YWoLAzk1ZZHtk6",
      "project": "9QvEu5l3VaIkb17PuoF9",
      "version": 3
     },
     "outputId": {
      "block": "53l9ayq4YPvFfJwPkYnB",
      "project": "9QvEu5l3VaIkb17PuoF9",
      "version": 3
     }
    }
   },
   "outputs": [
    {
     "data": {
      "text/plain": [
       "Text(0.5, 1.0, 'Amplitude Response of Instrument in dB')"
      ]
     },
     "execution_count": 7,
     "metadata": {},
     "output_type": "execute_result"
    },
    {
     "data": {
      "image/png": "[encoded data removed]",
      "text/plain": [
       "<Figure size 432x288 with 1 Axes>"
      ]
     },
     "metadata": {
      "needs_background": "light"
     },
     "output_type": "display_data"
    }
   ],
   "source": [
    "plt.semilogx(df['frequency'], amplitude_in_db)\n",
    "plt.semilogx(df['frequency'], amplitude_in_db, 'r*')\n",
    "plt.grid(which='both')\n",
    "plt.title('Amplitude Response of Instrument in dB')\n"
   ]
  },
  {
   "cell_type": "markdown",
   "metadata": {
    "iooxa": {
     "id": {
      "block": "iMRaL1KaVep5fwsN0f1L",
      "project": "9QvEu5l3VaIkb17PuoF9",
      "version": 2
     }
    }
   },
   "source": [
    "## Note that the decay is log-linear after about 5Hz\n",
    "\n",
    "The last 13 points are approximately a straight line on the log plot.  Thus we can fit a line to them and estimate the number of decibels per decade roll-off by the slope of the fit line."
   ]
  },
  {
   "cell_type": "code",
   "execution_count": 8,
   "metadata": {
    "iooxa": {
     "id": {
      "block": "1LERG0EhyXywvXrbAVLZ",
      "project": "9QvEu5l3VaIkb17PuoF9",
      "version": 3
     },
     "outputId": {
      "block": "6J6syNcfv52jHeTHbkjE",
      "project": "9QvEu5l3VaIkb17PuoF9",
      "version": 2
     }
    }
   },
   "outputs": [
    {
     "data": {
      "image/png": "[encoded data removed]",
      "text/plain": [
       "<Figure size 432x288 with 1 Axes>"
      ]
     },
     "metadata": {
      "needs_background": "light"
     },
     "output_type": "display_data"
    }
   ],
   "source": [
    "n_asymptotic_log_linear = 13\n",
    "frq_line = df['frequency'][-n_asymptotic_log_linear:]\n",
    "ampl_line = df['amplitude_x'][-n_asymptotic_log_linear:]\n",
    "db_line = amplitude_in_db[-n_asymptotic_log_linear:]\n",
    "log_f = np.array(np.log10(frq_line))\n",
    "log_a = np.array(np.log10(ampl_line))\n",
    "db = np.array(db_line)\n",
    "db_per_decade = (db[-1]-db[0]) / (log_f[-1]-log_f[0])\n",
    "\n",
    "plt.plot(log_f, db_line)\n",
    "plt.xlabel('log$_{10}$ frequency')\n",
    "plt.ylabel('dB')\n",
    "plt.title(f\"db_per_decade: {db_per_decade:.2f}\")\n",
    "plt.show()"
   ]
  },
  {
   "cell_type": "markdown",
   "metadata": {
    "iooxa": {
     "id": {
      "block": "BiLM7llCkBPZyePBjqjk",
      "project": "9QvEu5l3VaIkb17PuoF9",
      "version": 1
     }
    }
   },
   "source": [
    "### looks like approximately -20dB/decade, which theoretically corresponds to a single pole.  We obtain a decent fit with one pole, but a better fit with 3poles and one zero.\n",
    "\n",
    "If we want to optimize we need to add constraints however.  In particular, a regulariization that forces 1: complex poles to be conjugates, and the 'odd' poles to be pure real.  This means modifying the LLSQ process."
   ]
  },
  {
   "cell_type": "markdown",
   "metadata": {},
   "source": [
    "If the roll off is ~20dB/ decade then we would expect a 1 pole filter, or at least a filter with one more pole than zeros"
   ]
  },
  {
   "cell_type": "markdown",
   "metadata": {
    "iooxa": {
     "id": {
      "block": "uhGMTyln2lJl7CJ2swJn",
      "project": "9QvEu5l3VaIkb17PuoF9",
      "version": 4
     },
     "outputId": {
      "block": "TE6USowdOu7Mhg055bTv",
      "project": "9QvEu5l3VaIkb17PuoF9",
      "version": 4
     }
    }
   },
   "source": [
    "## Optimization of pole-zero fit\n",
    "\n",
    "Below, a simple numeric optimization is set up that will search for the pole-zero coefficients.  \n",
    "\n",
    "The steps are:\n",
    "1. Define global variables needed for optimization\n",
    "2. Define the objective function\n",
    "3. Select a method of searching the space"
   ]
  },
  {
   "cell_type": "code",
   "execution_count": null,
   "metadata": {
    "iooxa": {
     "id": {
      "block": "uhGMTyln2lJl7CJ2swJn",
      "project": "9QvEu5l3VaIkb17PuoF9",
      "version": 4
     },
     "outputId": {
      "block": "TE6USowdOu7Mhg055bTv",
      "project": "9QvEu5l3VaIkb17PuoF9",
      "version": 4
     }
    }
   },
   "outputs": [],
   "source": []
  },
  {
   "cell_type": "markdown",
   "metadata": {},
   "source": [
    "### Global Variables needed for optimization\n",
    "\n",
    "In the following, some global variables are defined that the objective function needs access to.  These are in all upper-case letters"
   ]
  },
  {
   "cell_type": "code",
   "execution_count": 10,
   "metadata": {},
   "outputs": [],
   "source": [
    "# fap-table based response function, used to measure misfit\n",
    "X_COMPLEX_RESPONSE = copy.deepcopy(x_complex_response) \n",
    "\n",
    "# define angular frequencies\n",
    "W = 2*np.pi*frequencies\n",
    "\n",
    "# Define the number of poles and zeros in the model\n",
    "\n",
    "# N_ZEROS = 0; N_POLES = 1 #Not great\n",
    "N_ZEROS = 1; N_POLES = 2 #Good when seeded with 1\n",
    "# N_ZEROS = 2; N_POLES = 3 #Good when seeded with 3\n",
    "# N_ZEROS = 3; N_POLES = 4 #not so good\n",
    "\n",
    "# Seed a random number generator and generate an initial condition\n",
    "seed_value = 1\n",
    "np.random.seed(seed_value)\n",
    "b0 = np.random.rand(N_ZEROS+1)\n",
    "a0 = np.random.rand(N_POLES+1)\n",
    "\n",
    "# Define the initial model vector, made of all the polynomial coefficients\n",
    "MODEL_VECTOR_0 = np.hstack((b0, a0))\n",
    "#print('MODEL_VECTOR_0',MODEL_VECTOR_0)"
   ]
  },
  {
   "cell_type": "markdown",
   "metadata": {},
   "source": [
    "### Define the objective function"
   ]
  },
  {
   "cell_type": "markdown",
   "metadata": {
    "iooxa": {
     "id": {
      "block": "bF7gmhzXeEnipayuKJZh",
      "project": "9QvEu5l3VaIkb17PuoF9",
      "version": 2
     }
    }
   },
   "source": [
    "### Lets try a numerical approach using scipy optimize and some regularization that penalizes deviations from the fundamental theorem of algebra solutions"
   ]
  },
  {
   "cell_type": "code",
   "execution_count": 11,
   "metadata": {
    "iooxa": {
     "id": {
      "block": "dyIbd0IDaCYgbf6HM7CR",
      "project": "9QvEu5l3VaIkb17PuoF9",
      "version": 2
     },
     "outputId": {
      "block": "dA9fv8ue8kyJi2AthS0R",
      "project": "9QvEu5l3VaIkb17PuoF9",
      "version": 2
     }
    }
   },
   "outputs": [
    {
     "name": "stdout",
     "output_type": "stream",
     "text": [
      "numerator  [0.417022   0.72032449] 1\n",
      "denominator [1.14374817e-04 3.02332573e-01 1.46755891e-01] 2\n",
      "misfit 2.4605533025729573\n"
     ]
    },
    {
     "data": {
      "text/plain": [
       "2.4605533025729573"
      ]
     },
     "execution_count": 11,
     "metadata": {},
     "output_type": "execute_result"
    }
   ],
   "source": [
    "def objective_function(model_vector, verbose=False):\n",
    "    \"\"\"\n",
    "    This function evaluates the complex-valued response of the poles and zeros using \n",
    "    scipy.signal, and then measures the goodness-of-fit by differencing the response \n",
    "    from the fap-table generated COMPLEX_RESPONSE\n",
    "    \"\"\"\n",
    "    #unpack the model vector\n",
    "    bb = model_vector[:N_ZEROS+1]\n",
    "    aa = model_vector[N_ZEROS+1:]\n",
    "    \n",
    "    if verbose:\n",
    "        print('numerator ', bb, N_ZEROS)\n",
    "        print('denominator', aa, N_POLES)\n",
    "        \n",
    "    w, h = signal.freqs(bb, aa, worN=W)\n",
    "    residual = X_COMPLEX_RESPONSE - h\n",
    "    misfit = np.sqrt(np.mean(np.abs(residual**2)))\n",
    "    # print(residual)\n",
    "    # misfit = add_regularization_term(zeros, poles, k, misfit, aa=0.1)\n",
    "    if verbose:\n",
    "        print('misfit',misfit)\n",
    "    return misfit\n",
    "\n",
    "objective_function(MODEL_VECTOR_0, verbose=True)"
   ]
  },
  {
   "cell_type": "markdown",
   "metadata": {},
   "source": [
    "### Select the optimization search-method "
   ]
  },
  {
   "cell_type": "code",
   "execution_count": 13,
   "metadata": {
    "iooxa": {
     "id": {
      "block": "iswzzsAD27XnYdV7p5aC",
      "project": "9QvEu5l3VaIkb17PuoF9",
      "version": 2
     },
     "outputId": {
      "block": "nUOP00N9mCHQFttTIVZS",
      "project": "9QvEu5l3VaIkb17PuoF9",
      "version": 2
     }
    }
   },
   "outputs": [],
   "source": [
    "#method = 'nelder-mead'\n",
    "method = 'Powell'\n",
    "#method = 'CG'\n",
    "#method = 'Newton-CG' #needs Jacobian"
   ]
  },
  {
   "cell_type": "markdown",
   "metadata": {},
   "source": [
    "### Solve the optimization problem"
   ]
  },
  {
   "cell_type": "code",
   "execution_count": 14,
   "metadata": {},
   "outputs": [
    {
     "name": "stderr",
     "output_type": "stream",
     "text": [
      "/home/kkappler/anaconda2/envs/py37/lib/python3.7/site-packages/ipykernel_launcher.py:1: OptimizeWarning: Unknown solver options: xatol\n",
      "  \"\"\"Entry point for launching an IPython kernel.\n"
     ]
    },
    {
     "name": "stdout",
     "output_type": "stream",
     "text": [
      "Optimization terminated successfully.\n",
      "         Current function value: 0.000202\n",
      "         Iterations: 14\n",
      "         Function evaluations: 1089\n"
     ]
    }
   ],
   "source": [
    "res = minimize(objective_function, MODEL_VECTOR_0, method=method, options={'xatol': 1e-10, 'disp': True, })"
   ]
  },
  {
   "cell_type": "markdown",
   "metadata": {},
   "source": [
    "### Extract the b's and a's (polynomial coefficients) and convert to Poles and Zeros"
   ]
  },
  {
   "cell_type": "code",
   "execution_count": 15,
   "metadata": {
    "iooxa": {
     "id": {
      "block": "QEb2amiKsUa8KbZIrXEK",
      "project": "9QvEu5l3VaIkb17PuoF9",
      "version": 2
     },
     "outputId": {
      "block": "6CTKyCCegUN3hZNPdb63",
      "project": "9QvEu5l3VaIkb17PuoF9",
      "version": 1
     }
    }
   },
   "outputs": [
    {
     "name": "stdout",
     "output_type": "stream",
     "text": [
      "ZerosPolesGainContinuous(\n",
      "array([-37.78764719]),\n",
      "array([-18.49867054+16.57300946j, -18.49867054-16.57300946j]),\n",
      "-0.4648829833859917,\n",
      "dt: None\n",
      ")\n"
     ]
    }
   ],
   "source": [
    "bb = res.x[:N_ZEROS+1]\n",
    "aa = res.x[N_ZEROS+1:]\n",
    "zpk = signal.TransferFunction(bb, aa).to_zpk()\n",
    "\n",
    "print(zpk)\n",
    "#print(type(zpk))\n",
    "# res.x\n"
   ]
  },
  {
   "cell_type": "markdown",
   "metadata": {},
   "source": [
    "### Take a look at the Model Fit"
   ]
  },
  {
   "cell_type": "code",
   "execution_count": 16,
   "metadata": {
    "iooxa": {
     "id": {
      "block": "zvkDTpKBLaLatxq3RHYr",
      "project": "9QvEu5l3VaIkb17PuoF9",
      "version": 2
     },
     "outputId": {
      "block": "aHXm743zuuVzAXXgii0s",
      "project": "9QvEu5l3VaIkb17PuoF9",
      "version": 2
     }
    }
   },
   "outputs": [
    {
     "data": {
      "image/png": "[encoded data removed]",
      "text/plain": [
       "<Figure size 1008x288 with 3 Axes>"
      ]
     },
     "metadata": {
      "needs_background": "light"
     },
     "output_type": "display_data"
    }
   ],
   "source": [
    "plot_response_pz(w_obs=W, resp_obs=X_COMPLEX_RESPONSE, x_units='frequency', \n",
    "              zpk_pred=zpk, w_values=W)"
   ]
  },
  {
   "cell_type": "markdown",
   "metadata": {},
   "source": [
    "what percent differences are we looking at here?"
   ]
  },
  {
   "cell_type": "code",
   "execution_count": 17,
   "metadata": {},
   "outputs": [],
   "source": [
    "w_pred, resp_pred = signal.freqresp(zpk, w=W)\n",
    "pct_diff_ampl = np.abs((resp_pred-X_COMPLEX_RESPONSE)/X_COMPLEX_RESPONSE)*100\n",
    "pct_diff_phase = (1./DEG2RAD)*(np.angle(resp_pred) - np.angle(X_COMPLEX_RESPONSE))/np.angle(X_COMPLEX_RESPONSE)"
   ]
  },
  {
   "cell_type": "code",
   "execution_count": 18,
   "metadata": {},
   "outputs": [
    {
     "data": {
      "text/plain": [
       "Text(0, 0.5, 'Percent Difference (%)')"
      ]
     },
     "execution_count": 18,
     "metadata": {},
     "output_type": "execute_result"
    },
    {
     "data": {
      "image/png": "[encoded data removed]",
      "text/plain": [
       "<Figure size 432x288 with 1 Axes>"
      ]
     },
     "metadata": {
      "needs_background": "light"
     },
     "output_type": "display_data"
    }
   ],
   "source": [
    "fig, ax = plt.subplots()\n",
    "ax.semilogx(W/(2*np.pi), pct_diff_ampl, label=\"amplitude\")\n",
    "ax.semilogx(W/(2*np.pi), pct_diff_phase, label=\"phase\")\n",
    "ax.legend()\n",
    "ax.set_xlabel(\"Frequency (Hz)\")\n",
    "ax.set_ylabel(\"Percent Difference (%)\")\n",
    "#ax.set_xlim(9e-1, 5)"
   ]
  },
  {
   "cell_type": "markdown",
   "metadata": {},
   "source": [
    "So, the model agrees to within 1 or 2 percent below 1Hz, and for the LEMI system this is above Nyquist."
   ]
  },
  {
   "cell_type": "markdown",
   "metadata": {
    "iooxa": {
     "id": {
      "block": "LlbDtrw5oaWYyIa3Vox5",
      "project": "9QvEu5l3VaIkb17PuoF9",
      "version": 1
     }
    }
   },
   "source": [
    "## So, where are we?\n",
    "\n",
    "We have a numeric method that works \"pretty  well\" but could use some serious tuning\n",
    "1. We have analytic expressions so lets get some Jacobians and Hessians and try some of the more classical approaches in scipy.minimize\n",
    "\n",
    "2. Lets try a bunch of seed values for each optimization and explore the sum RMS misfits.  \n",
    "3. Do (2) above for a collection of n_poles, n_zeros controls\n",
    "\n",
    "4. Tidy up supporting codes and make some metrics/reports to use for these fits\n",
    "5. Move on"
   ]
  },
  {
   "cell_type": "markdown",
   "metadata": {},
   "source": [
    "####  Note that if we relax the requirement that the poles and zeros are real or conjugate-pairs we can get better fits, but it is a physical solution.  There is some research to be done here.  \n",
    "\n",
    "If you are interested in exploring more check out Prototyping.ipynb in Ben Murphy's ipynb in iris-mt-scratch repo (iris_mt_scratch/murphy_codes_20210207/system_response_conversion)"
   ]
  }
 ],
 "metadata": {
  "iooxa": {
   "id": {
    "block": "rnlbBlX9Cs9jbOHWxwWF",
    "project": "9QvEu5l3VaIkb17PuoF9",
    "version": 5
   }
  },
  "kernelspec": {
   "display_name": "Python 3 (ipykernel)",
   "language": "python",
   "name": "python3"
  },
  "language_info": {
   "codemirror_mode": {
    "name": "ipython",
    "version": 3
   },
   "file_extension": ".py",
   "mimetype": "text/x-python",
   "name": "python",
   "nbconvert_exporter": "python",
   "pygments_lexer": "ipython3",
   "version": "3.8.13"
  }
 },
 "nbformat": 4,
 "nbformat_minor": 4
}
