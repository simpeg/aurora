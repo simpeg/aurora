{
 "cells": [
  {
   "cell_type": "markdown",
   "metadata": {},
   "source": [
    "## Process Synthetic Data with Aurora"
   ]
  },
  {
   "cell_type": "markdown",
   "metadata": {},
   "source": [
    "This notebook shows how to process MTH5 data from a synthetic dataset."
   ]
  },
  {
   "cell_type": "markdown",
   "metadata": {},
   "source": [
    "Steps\n",
    "1. Create the synthetic mth5\n",
    "2. Get a Run Summary from the mth5\n",
    "3. Select the station to process and optionally the remote reference station\n",
    "4. Create a processing config\n",
    "5. Generate TFs\n",
    "6. Archive the TFs (in emtf_xml or z-file)"
   ]
  },
  {
   "cell_type": "markdown",
   "metadata": {},
   "source": [
    "### Here are the modules we will need to import "
   ]
  },
  {
   "cell_type": "code",
   "execution_count": 1,
   "metadata": {},
   "outputs": [
    {
     "name": "stderr",
     "output_type": "stream",
     "text": [
      "2022-08-27 16:03:55,396 [line 135] mth5.setup_logger - INFO: Logging file can be found /home/kkappler/software/irismt/mth5/logs/mth5_debug.log\n"
     ]
    }
   ],
   "source": [
    "import pathlib\n",
    "import warnings\n",
    "\n",
    "from aurora.config.config_creator import ConfigCreator\n",
    "from aurora.pipelines.process_mth5 import process_mth5\n",
    "from aurora.pipelines.run_summary import RunSummary\n",
    "from aurora.test_utils.synthetic.make_mth5_from_asc import create_test12rr_h5\n",
    "from aurora.test_utils.synthetic.paths import DATA_PATH\n",
    "from aurora.transfer_function.kernel_dataset import KernelDataset\n",
    "\n",
    "warnings.filterwarnings('ignore')"
   ]
  },
  {
   "cell_type": "markdown",
   "metadata": {
    "tags": []
   },
   "source": [
    "## Define mth5 file\n",
    "\n",
    "The synthetic mth5 file is used for testing in `aurora/tests/synthetic/` and probably already exists on your system"
   ]
  },
  {
   "cell_type": "code",
   "execution_count": 2,
   "metadata": {},
   "outputs": [],
   "source": [
    "mth5_path = DATA_PATH.joinpath(\"test12rr.h5\")"
   ]
  },
  {
   "cell_type": "markdown",
   "metadata": {},
   "source": [
    "But, if it doesn't or you want to re-make it, call `create_test12rr_h5()`"
   ]
  },
  {
   "cell_type": "code",
   "execution_count": 3,
   "metadata": {},
   "outputs": [
    {
     "name": "stderr",
     "output_type": "stream",
     "text": [
      "2022-08-27 16:03:55,441 [line 597] mth5.mth5.MTH5.open_mth5 - WARNING: test12rr.h5 will be overwritten in 'w' mode\n",
      "2022-08-27 16:03:55,876 [line 664] mth5.mth5.MTH5._initialize_file - INFO: Initialized MTH5 0.1.0 file /home/kkappler/software/irismt/aurora/tests/synthetic/data/test12rr.h5 in mode w\n",
      "2022-08-27 16:03:57,642 [line 739] mth5.mth5.MTH5.close_mth5 - INFO: Flushing and closing /home/kkappler/software/irismt/aurora/tests/synthetic/data/test12rr.h5\n"
     ]
    },
    {
     "data": {
      "text/plain": [
       "'/home/kkappler/software/irismt/aurora/tests/synthetic/data/test12rr.h5'"
      ]
     },
     "execution_count": 3,
     "metadata": {},
     "output_type": "execute_result"
    }
   ],
   "source": [
    "#if not mth5_path.exists():\n",
    "create_test12rr_h5()   "
   ]
  },
  {
   "cell_type": "markdown",
   "metadata": {
    "tags": []
   },
   "source": [
    "## Get a Run Summary\n",
    "\n",
    "Note that we didn't need to explicitly open the mth5 to do that, we can pass the path if we want"
   ]
  },
  {
   "cell_type": "code",
   "execution_count": 4,
   "metadata": {},
   "outputs": [
    {
     "name": "stderr",
     "output_type": "stream",
     "text": [
      "2022-08-27 16:03:57,713 [line 739] mth5.mth5.MTH5.close_mth5 - INFO: Flushing and closing /home/kkappler/software/irismt/aurora/tests/synthetic/data/test12rr.h5\n"
     ]
    },
    {
     "data": {
      "text/html": [
       "<div>\n",
       "<style scoped>\n",
       "    .dataframe tbody tr th:only-of-type {\n",
       "        vertical-align: middle;\n",
       "    }\n",
       "\n",
       "    .dataframe tbody tr th {\n",
       "        vertical-align: top;\n",
       "    }\n",
       "\n",
       "    .dataframe thead th {\n",
       "        text-align: right;\n",
       "    }\n",
       "</style>\n",
       "<table border=\"1\" class=\"dataframe\">\n",
       "  <thead>\n",
       "    <tr style=\"text-align: right;\">\n",
       "      <th></th>\n",
       "      <th>survey</th>\n",
       "      <th>station_id</th>\n",
       "      <th>run_id</th>\n",
       "      <th>start</th>\n",
       "      <th>end</th>\n",
       "    </tr>\n",
       "  </thead>\n",
       "  <tbody>\n",
       "    <tr>\n",
       "      <th>0</th>\n",
       "      <td>none</td>\n",
       "      <td>test1</td>\n",
       "      <td>001</td>\n",
       "      <td>1980-01-01 00:00:00+00:00</td>\n",
       "      <td>1980-01-01 11:06:39+00:00</td>\n",
       "    </tr>\n",
       "    <tr>\n",
       "      <th>1</th>\n",
       "      <td>none</td>\n",
       "      <td>test2</td>\n",
       "      <td>001</td>\n",
       "      <td>1980-01-01 00:00:00+00:00</td>\n",
       "      <td>1980-01-01 11:06:39+00:00</td>\n",
       "    </tr>\n",
       "  </tbody>\n",
       "</table>\n",
       "</div>"
      ],
      "text/plain": [
       "  survey station_id run_id                     start                       end\n",
       "0   none      test1    001 1980-01-01 00:00:00+00:00 1980-01-01 11:06:39+00:00\n",
       "1   none      test2    001 1980-01-01 00:00:00+00:00 1980-01-01 11:06:39+00:00"
      ]
     },
     "execution_count": 4,
     "metadata": {},
     "output_type": "execute_result"
    }
   ],
   "source": [
    "mth5_run_summary = RunSummary()\n",
    "mth5_run_summary.from_mth5s([mth5_path,])\n",
    "run_summary = mth5_run_summary.clone()\n",
    "run_summary.mini_summary"
   ]
  },
  {
   "cell_type": "markdown",
   "metadata": {},
   "source": [
    "## Define a Kernel Dataset\n"
   ]
  },
  {
   "cell_type": "code",
   "execution_count": 5,
   "metadata": {},
   "outputs": [
    {
     "data": {
      "text/html": [
       "<div>\n",
       "<style scoped>\n",
       "    .dataframe tbody tr th:only-of-type {\n",
       "        vertical-align: middle;\n",
       "    }\n",
       "\n",
       "    .dataframe tbody tr th {\n",
       "        vertical-align: top;\n",
       "    }\n",
       "\n",
       "    .dataframe thead th {\n",
       "        text-align: right;\n",
       "    }\n",
       "</style>\n",
       "<table border=\"1\" class=\"dataframe\">\n",
       "  <thead>\n",
       "    <tr style=\"text-align: right;\">\n",
       "      <th></th>\n",
       "      <th>survey</th>\n",
       "      <th>station_id</th>\n",
       "      <th>run_id</th>\n",
       "      <th>start</th>\n",
       "      <th>end</th>\n",
       "    </tr>\n",
       "  </thead>\n",
       "  <tbody>\n",
       "    <tr>\n",
       "      <th>0</th>\n",
       "      <td>none</td>\n",
       "      <td>test1</td>\n",
       "      <td>001</td>\n",
       "      <td>1980-01-01 00:00:00+00:00</td>\n",
       "      <td>1980-01-01 11:06:39+00:00</td>\n",
       "    </tr>\n",
       "    <tr>\n",
       "      <th>1</th>\n",
       "      <td>none</td>\n",
       "      <td>test2</td>\n",
       "      <td>001</td>\n",
       "      <td>1980-01-01 00:00:00+00:00</td>\n",
       "      <td>1980-01-01 11:06:39+00:00</td>\n",
       "    </tr>\n",
       "  </tbody>\n",
       "</table>\n",
       "</div>"
      ],
      "text/plain": [
       "  survey station_id run_id                     start                       end\n",
       "0   none      test1    001 1980-01-01 00:00:00+00:00 1980-01-01 11:06:39+00:00\n",
       "1   none      test2    001 1980-01-01 00:00:00+00:00 1980-01-01 11:06:39+00:00"
      ]
     },
     "execution_count": 5,
     "metadata": {},
     "output_type": "execute_result"
    }
   ],
   "source": [
    "kernel_dataset = KernelDataset()\n",
    "kernel_dataset.from_run_summary(run_summary, \"test1\", \"test2\")\n",
    "kernel_dataset.mini_summary"
   ]
  },
  {
   "cell_type": "markdown",
   "metadata": {},
   "source": [
    "## Now define the processing Configuration\n",
    "\n",
    "The only things we need to provide are our band processing scheme, and the data sample rate to generate a default processing configuration.\n",
    "\n",
    "The config is then told about the stations via the kernel dataset.\n",
    "\n",
    "**When doing only single station processing you need to specify RME processing (rather than remote reference processing which expects extra time series from another station)"
   ]
  },
  {
   "cell_type": "code",
   "execution_count": 6,
   "metadata": {},
   "outputs": [],
   "source": [
    "cc = ConfigCreator()\n",
    "config = cc.create_from_kernel_dataset(kernel_dataset)"
   ]
  },
  {
   "cell_type": "markdown",
   "metadata": {},
   "source": [
    "## Call process_mth5"
   ]
  },
  {
   "cell_type": "code",
   "execution_count": 7,
   "metadata": {},
   "outputs": [
    {
     "name": "stdout",
     "output_type": "stream",
     "text": [
      "Processing config indicates 4 decimation levels \n",
      "Processing band 25.728968s\n",
      "Processing band 19.929573s\n",
      "Processing band 15.164131s\n",
      "Processing band 11.746086s\n",
      "Processing band 9.195791s\n",
      "Processing band 7.362526s\n",
      "Processing band 5.856115s\n",
      "Processing band 4.682492s\n"
     ]
    },
    {
     "data": {
      "image/png": "[encoded data removed]",
      "text/plain": [
       "<Figure size 432x288 with 2 Axes>"
      ]
     },
     "metadata": {
      "needs_background": "light"
     },
     "output_type": "display_data"
    },
    {
     "name": "stdout",
     "output_type": "stream",
     "text": [
      "Processing band 102.915872s\n",
      "Processing band 85.631182s\n",
      "Processing band 68.881694s\n",
      "Processing band 54.195827s\n",
      "Processing band 43.003958s\n",
      "Processing band 33.310722s\n"
     ]
    },
    {
     "data": {
      "image/png": "[encoded data removed]",
      "text/plain": [
       "<Figure size 432x288 with 2 Axes>"
      ]
     },
     "metadata": {
      "needs_background": "light"
     },
     "output_type": "display_data"
    },
    {
     "name": "stdout",
     "output_type": "stream",
     "text": [
      "Processing band 411.663489s\n",
      "Processing band 342.524727s\n",
      "Processing band 275.526776s\n",
      "Processing band 216.783308s\n",
      "Processing band 172.015831s\n",
      "Processing band 133.242890s\n"
     ]
    },
    {
     "data": {
      "image/png": "[encoded data removed]",
      "text/plain": [
       "<Figure size 432x288 with 2 Axes>"
      ]
     },
     "metadata": {
      "needs_background": "light"
     },
     "output_type": "display_data"
    },
    {
     "name": "stdout",
     "output_type": "stream",
     "text": [
      "Processing band 1514.701336s\n",
      "Processing band 1042.488956s\n",
      "Processing band 723.371271s\n",
      "Processing band 532.971560s\n",
      "Processing band 412.837995s\n"
     ]
    },
    {
     "data": {
      "image/png": "[encoded data removed]",
      "text/plain": [
       "<Figure size 432x288 with 2 Axes>"
      ]
     },
     "metadata": {
      "needs_background": "light"
     },
     "output_type": "display_data"
    },
    {
     "name": "stderr",
     "output_type": "stream",
     "text": [
      "2022-08-27 16:04:07,744 [line 739] mth5.mth5.MTH5.close_mth5 - INFO: Flushing and closing /home/kkappler/software/irismt/aurora/tests/synthetic/data/test12rr.h5\n",
      "2022-08-27 16:04:07,745 [line 739] mth5.mth5.MTH5.close_mth5 - INFO: Flushing and closing /home/kkappler/software/irismt/aurora/tests/synthetic/data/test12rr.h5\n"
     ]
    },
    {
     "name": "stdout",
     "output_type": "stream",
     "text": [
      "WARN: Need test for multiple mth5 objs for non-tf_collection output\n",
      "WARN: Also need to add handling of 0.1.0 vs 0.2.0 mth5 file_version\n"
     ]
    }
   ],
   "source": [
    "show_plot = True\n",
    "tf_cls = process_mth5(config,\n",
    "                    kernel_dataset,\n",
    "                    units=\"MT\",\n",
    "                    show_plot=show_plot,\n",
    "                    z_file_path=None,\n",
    "                )"
   ]
  },
  {
   "cell_type": "code",
   "execution_count": 8,
   "metadata": {},
   "outputs": [
    {
     "name": "stderr",
     "output_type": "stream",
     "text": [
      "2022-08-27 16:04:07,827 [line 197] mt_metadata.transfer_functions.io.readwrite.write_file - INFO: Wrote synthetic_test1.xml\n"
     ]
    },
    {
     "data": {
      "text/plain": [
       "EMTFXML(station='test1', latitude=0.00, longitude=0.00, elevation=0.00)"
      ]
     },
     "execution_count": 8,
     "metadata": {},
     "output_type": "execute_result"
    }
   ],
   "source": [
    "xml_file_base = f\"synthetic_test1.xml\"\n",
    "tf_cls.write_tf_file(fn=xml_file_base, file_type=\"emtfxml\")\n"
   ]
  }
 ],
 "metadata": {
  "kernelspec": {
   "display_name": "py37",
   "language": "python",
   "name": "py37"
  },
  "language_info": {
   "codemirror_mode": {
    "name": "ipython",
    "version": 3
   },
   "file_extension": ".py",
   "mimetype": "text/x-python",
   "name": "python",
   "nbconvert_exporter": "python",
   "pygments_lexer": "ipython3",
   "version": "3.7.10"
  }
 },
 "nbformat": 4,
 "nbformat_minor": 4
}
